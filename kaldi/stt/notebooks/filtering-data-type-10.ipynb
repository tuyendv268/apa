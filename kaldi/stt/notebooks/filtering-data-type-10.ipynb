{
 "cells": [
  {
   "cell_type": "code",
   "execution_count": 1,
   "metadata": {},
   "outputs": [
    {
     "name": "stdout",
     "output_type": "stream",
     "text": [
      "INFO: Pandarallel will run on 8 workers.\n",
      "INFO: Pandarallel will use Memory file system to transfer data between the main process and workers.\n"
     ]
    }
   ],
   "source": [
    "import pandas as pd\n",
    "import soundfile as sf\n",
    "from jiwer import wer\n",
    "import librosa\n",
    "import json\n",
    "import os\n",
    "import re\n",
    "from pandarallel import pandarallel\n",
    "from glob import glob\n",
    "\n",
    "pandarallel.initialize(nb_workers=8, progress_bar=True)"
   ]
  },
  {
   "cell_type": "code",
   "execution_count": 2,
   "metadata": {},
   "outputs": [],
   "source": [
    "def load_jsonl(path):\n",
    "    with open(path, \"r\", encoding=\"utf-8\") as f:\n",
    "        lines = f.readlines()\n",
    "        lines = [json.loads(line.strip()) for line in lines]\n",
    "\n",
    "    return lines"
   ]
  },
  {
   "cell_type": "code",
   "execution_count": 3,
   "metadata": {},
   "outputs": [],
   "source": [
    "path = \"/data/codes/apa/kaldi/stt/data/stt-data/infer/info_question_type-10_01082022_18092023.jsonl\"\n",
    "metadata = load_jsonl(path)"
   ]
  },
  {
   "cell_type": "code",
   "execution_count": 4,
   "metadata": {},
   "outputs": [],
   "source": [
    "def normalize(text):\n",
    "    text = re.sub(\"[!?,.\\\"-]\", \" \", text)\n",
    "    text = text.upper().strip()\n",
    "\n",
    "    text = re.sub('\\s+', ' ', text)\n",
    "\n",
    "    return text\n",
    "\n",
    "def calculate_wer(reference, hypothesis):\n",
    "    # try:\n",
    "    word_error_rate = wer(\n",
    "        reference,\n",
    "        hypothesis)\n",
    "    # except:\n",
    "    #     word_error_rate = 1\n",
    "    return word_error_rate"
   ]
  },
  {
   "cell_type": "code",
   "execution_count": 5,
   "metadata": {},
   "outputs": [
    {
     "data": {
      "application/vnd.jupyter.widget-view+json": {
       "model_id": "3b020879d9924974be356df94d39a438",
       "version_major": 2,
       "version_minor": 0
      },
      "text/plain": [
       "VBox(children=(HBox(children=(IntProgress(value=0, description='0.00%', max=25806), Label(value='0 / 25806')))…"
      ]
     },
     "metadata": {},
     "output_type": "display_data"
    },
    {
     "data": {
      "application/vnd.jupyter.widget-view+json": {
       "model_id": "b8e51c35da3148698f6142c798ae9122",
       "version_major": 2,
       "version_minor": 0
      },
      "text/plain": [
       "VBox(children=(HBox(children=(IntProgress(value=0, description='0.00%', max=25806), Label(value='0 / 25806')))…"
      ]
     },
     "metadata": {},
     "output_type": "display_data"
    },
    {
     "data": {
      "text/html": [
       "<div>\n",
       "<style scoped>\n",
       "    .dataframe tbody tr th:only-of-type {\n",
       "        vertical-align: middle;\n",
       "    }\n",
       "\n",
       "    .dataframe tbody tr th {\n",
       "        vertical-align: top;\n",
       "    }\n",
       "\n",
       "    .dataframe thead th {\n",
       "        text-align: right;\n",
       "    }\n",
       "</style>\n",
       "<table border=\"1\" class=\"dataframe\">\n",
       "  <thead>\n",
       "    <tr style=\"text-align: right;\">\n",
       "      <th></th>\n",
       "      <th>sid</th>\n",
       "      <th>start_time</th>\n",
       "      <th>end_time</th>\n",
       "      <th>audio_path</th>\n",
       "      <th>elsa</th>\n",
       "      <th>prep</th>\n",
       "      <th>utt_id</th>\n",
       "    </tr>\n",
       "  </thead>\n",
       "  <tbody>\n",
       "    <tr>\n",
       "      <th>0</th>\n",
       "      <td>1177329</td>\n",
       "      <td>0</td>\n",
       "      <td>7.594625</td>\n",
       "      <td>/data/audio_data/prep_submission_audio/10/1177...</td>\n",
       "      <td>EMMA TOOK ME TO MANY FAMOUS TOURIST ATTRACTION...</td>\n",
       "      <td>AND IT TO ME TOO MANY FAMOUS TOURIST ATTRACTIO...</td>\n",
       "      <td>None</td>\n",
       "    </tr>\n",
       "    <tr>\n",
       "      <th>1</th>\n",
       "      <td>4580473</td>\n",
       "      <td>0</td>\n",
       "      <td>11.776000</td>\n",
       "      <td>/data/audio_data/prep_submission_audio/10/4580...</td>\n",
       "      <td>EMMA TOOK ME TO MANY FAMOUS TOURIST ATTRACTION...</td>\n",
       "      <td>AMMER TOOK ME TO MANY FAMOUS TOURIST ATTRACTIO...</td>\n",
       "      <td>None</td>\n",
       "    </tr>\n",
       "    <tr>\n",
       "      <th>2</th>\n",
       "      <td>1422856</td>\n",
       "      <td>0</td>\n",
       "      <td>6.656000</td>\n",
       "      <td>/data/audio_data/prep_submission_audio/10/1422...</td>\n",
       "      <td>EMMA TOOK ME TO MANY FAMOUS TOURIST ATTRACTION...</td>\n",
       "      <td>AND MY TOOK ME TO MANY FAMOUS TOURIST ATTRACTI...</td>\n",
       "      <td>None</td>\n",
       "    </tr>\n",
       "    <tr>\n",
       "      <th>3</th>\n",
       "      <td>2150677</td>\n",
       "      <td>0</td>\n",
       "      <td>6.912000</td>\n",
       "      <td>/data/audio_data/prep_submission_audio/10/2150...</td>\n",
       "      <td>EMMA TOOK ME TO MANY FAMOUS TOURIST ATTRACTION...</td>\n",
       "      <td>AND TOOK ME TO ANY FAMOUS TOURIST ATTRACTION OF</td>\n",
       "      <td>None</td>\n",
       "    </tr>\n",
       "    <tr>\n",
       "      <th>4</th>\n",
       "      <td>1465808</td>\n",
       "      <td>0</td>\n",
       "      <td>8.106625</td>\n",
       "      <td>/data/audio_data/prep_submission_audio/10/1465...</td>\n",
       "      <td>EMMA TOOK ME TO MANY FAMOUS TOURIST ATTRACTION...</td>\n",
       "      <td>I TOOK ME TO MANY FAMOUS TOURIST ATTRACTIONS AT</td>\n",
       "      <td>None</td>\n",
       "    </tr>\n",
       "  </tbody>\n",
       "</table>\n",
       "</div>"
      ],
      "text/plain": [
       "       sid  start_time   end_time  \\\n",
       "0  1177329           0   7.594625   \n",
       "1  4580473           0  11.776000   \n",
       "2  1422856           0   6.656000   \n",
       "3  2150677           0   6.912000   \n",
       "4  1465808           0   8.106625   \n",
       "\n",
       "                                          audio_path  \\\n",
       "0  /data/audio_data/prep_submission_audio/10/1177...   \n",
       "1  /data/audio_data/prep_submission_audio/10/4580...   \n",
       "2  /data/audio_data/prep_submission_audio/10/1422...   \n",
       "3  /data/audio_data/prep_submission_audio/10/2150...   \n",
       "4  /data/audio_data/prep_submission_audio/10/1465...   \n",
       "\n",
       "                                                elsa  \\\n",
       "0  EMMA TOOK ME TO MANY FAMOUS TOURIST ATTRACTION...   \n",
       "1  EMMA TOOK ME TO MANY FAMOUS TOURIST ATTRACTION...   \n",
       "2  EMMA TOOK ME TO MANY FAMOUS TOURIST ATTRACTION...   \n",
       "3  EMMA TOOK ME TO MANY FAMOUS TOURIST ATTRACTION...   \n",
       "4  EMMA TOOK ME TO MANY FAMOUS TOURIST ATTRACTION...   \n",
       "\n",
       "                                                prep utt_id  \n",
       "0  AND IT TO ME TOO MANY FAMOUS TOURIST ATTRACTIO...   None  \n",
       "1  AMMER TOOK ME TO MANY FAMOUS TOURIST ATTRACTIO...   None  \n",
       "2  AND MY TOOK ME TO MANY FAMOUS TOURIST ATTRACTI...   None  \n",
       "3    AND TOOK ME TO ANY FAMOUS TOURIST ATTRACTION OF   None  \n",
       "4    I TOOK ME TO MANY FAMOUS TOURIST ATTRACTIONS AT   None  "
      ]
     },
     "execution_count": 5,
     "metadata": {},
     "output_type": "execute_result"
    }
   ],
   "source": [
    "metadata = pd.DataFrame(metadata)\n",
    "metadata[\"prep\"] = metadata.prep.parallel_apply(lambda x: normalize(x))\n",
    "metadata[\"elsa\"] = metadata.elsa.parallel_apply(lambda x: normalize(x))\n",
    "metadata.head()"
   ]
  },
  {
   "cell_type": "code",
   "execution_count": 6,
   "metadata": {},
   "outputs": [
    {
     "data": {
      "application/vnd.jupyter.widget-view+json": {
       "model_id": "db3bc3a8973b40dd8ea5cebfe9d599a8",
       "version_major": 2,
       "version_minor": 0
      },
      "text/plain": [
       "VBox(children=(HBox(children=(IntProgress(value=0, description='0.00%', max=25806), Label(value='0 / 25806')))…"
      ]
     },
     "metadata": {},
     "output_type": "display_data"
    }
   ],
   "source": [
    "metadata[\"wer\"] = metadata.parallel_apply(lambda x: calculate_wer(reference=x[\"elsa\"], hypothesis=x[\"prep\"]), axis=1)"
   ]
  },
  {
   "cell_type": "code",
   "execution_count": 7,
   "metadata": {},
   "outputs": [
    {
     "data": {
      "application/vnd.jupyter.widget-view+json": {
       "model_id": "8a89dc1b86dd4efa8dc10771f0a6ece2",
       "version_major": 2,
       "version_minor": 0
      },
      "text/plain": [
       "VBox(children=(HBox(children=(IntProgress(value=0, description='0.00%', max=25806), Label(value='0 / 25806')))…"
      ]
     },
     "metadata": {},
     "output_type": "display_data"
    }
   ],
   "source": [
    "metadata[\"duration\"] = metadata.parallel_apply(lambda x: x[\"end_time\"] - x[\"start_time\"], axis=1)"
   ]
  },
  {
   "cell_type": "code",
   "execution_count": 8,
   "metadata": {},
   "outputs": [
    {
     "data": {
      "text/plain": [
       "146.65267564236115"
      ]
     },
     "execution_count": 8,
     "metadata": {},
     "output_type": "execute_result"
    }
   ],
   "source": [
    "metadata.duration.sum() / 3600"
   ]
  },
  {
   "cell_type": "code",
   "execution_count": 12,
   "metadata": {},
   "outputs": [
    {
     "data": {
      "text/plain": [
       "59.144882326388895"
      ]
     },
     "execution_count": 12,
     "metadata": {},
     "output_type": "execute_result"
    }
   ],
   "source": [
    "metadata[metadata.wer==0].duration.sum() /  3600"
   ]
  },
  {
   "cell_type": "code",
   "execution_count": 13,
   "metadata": {},
   "outputs": [],
   "source": [
    "filtered_data = metadata[metadata.wer==0]"
   ]
  },
  {
   "cell_type": "code",
   "execution_count": 14,
   "metadata": {},
   "outputs": [],
   "source": [
    "filtered_data.reset_index(inplace=True)"
   ]
  },
  {
   "cell_type": "code",
   "execution_count": 16,
   "metadata": {},
   "outputs": [
    {
     "name": "stderr",
     "output_type": "stream",
     "text": [
      "100%|██████████| 86522/86522 [00:03<00:00, 24294.09it/s]\n"
     ]
    }
   ],
   "source": [
    "import librosa\n",
    "import soundfile as sf\n",
    "from tqdm import tqdm\n",
    "\n",
    "filtered_datas = []\n",
    "for index in tqdm(filtered_data[['sid', 'utt_id', 'elsa', 'prep', 'audio_path', 'start_time', 'end_time', 'duration']].index):\n",
    "    row = filtered_data.iloc[index].to_dict()\n",
    "    \n",
    "    sample = {\n",
    "        \"sid\": row[\"sid\"],\n",
    "        \"utt_id\": row[\"utt_id\"],\n",
    "        \"elsa\": row[\"elsa\"],\n",
    "        \"prep\": row[\"prep\"],\n",
    "        \"start_time\": row[\"start_time\"],\n",
    "        \"end_time\": row[\"end_time\"],\n",
    "        \"audio_path\": row[\"audio_path\"],\n",
    "    }\n",
    "\n",
    "    filtered_datas.append(sample)"
   ]
  },
  {
   "cell_type": "code",
   "execution_count": 17,
   "metadata": {},
   "outputs": [],
   "source": [
    "path = \"/data/codes/apa/kaldi/stt/data/stt-data/final/info_question_type-10_01082022_18092023.jsonl\"\n",
    "with open(path, \"w\", encoding=\"utf-8\") as f:\n",
    "    for line in filtered_datas:\n",
    "        json_obj = json.dumps(line)\n",
    "        f.write(f'{json_obj}\\n')"
   ]
  }
 ],
 "metadata": {
  "kernelspec": {
   "display_name": "ps",
   "language": "python",
   "name": "python3"
  },
  "language_info": {
   "codemirror_mode": {
    "name": "ipython",
    "version": 3
   },
   "file_extension": ".py",
   "mimetype": "text/x-python",
   "name": "python",
   "nbconvert_exporter": "python",
   "pygments_lexer": "ipython3",
   "version": "3.8.17"
  }
 },
 "nbformat": 4,
 "nbformat_minor": 2
}
