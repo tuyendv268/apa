{
 "cells": [
  {
   "cell_type": "code",
   "execution_count": 44,
   "metadata": {},
   "outputs": [
    {
     "name": "stdout",
     "output_type": "stream",
     "text": [
      "INFO: Pandarallel will run on 16 workers.\n",
      "INFO: Pandarallel will use Memory file system to transfer data between the main process and workers.\n"
     ]
    }
   ],
   "source": [
    "import pandas as pd\n",
    "import numpy as np\n",
    "import librosa\n",
    "import json\n",
    "import os\n",
    "\n",
    "from pandarallel import pandarallel\n",
    "\n",
    "pandarallel.initialize(nb_workers=16, progress_bar=16)"
   ]
  },
  {
   "cell_type": "code",
   "execution_count": 45,
   "metadata": {},
   "outputs": [],
   "source": [
    "def load_jsonl(path):\n",
    "    with open(path, \"r\", encoding=\"utf-8\") as f:\n",
    "        lines = f.readlines()\n",
    "        lines = [json.loads(line.strip()) for line in lines]\n",
    "\n",
    "    return lines"
   ]
  },
  {
   "cell_type": "code",
   "execution_count": 46,
   "metadata": {},
   "outputs": [
    {
     "data": {
      "text/html": [
       "<div>\n",
       "<style scoped>\n",
       "    .dataframe tbody tr th:only-of-type {\n",
       "        vertical-align: middle;\n",
       "    }\n",
       "\n",
       "    .dataframe tbody tr th {\n",
       "        vertical-align: top;\n",
       "    }\n",
       "\n",
       "    .dataframe thead th {\n",
       "        text-align: right;\n",
       "    }\n",
       "</style>\n",
       "<table border=\"1\" class=\"dataframe\">\n",
       "  <thead>\n",
       "    <tr style=\"text-align: right;\">\n",
       "      <th></th>\n",
       "      <th>sid</th>\n",
       "      <th>utt_id</th>\n",
       "      <th>elsa</th>\n",
       "      <th>prep</th>\n",
       "      <th>start_time</th>\n",
       "      <th>end_time</th>\n",
       "      <th>audio_path</th>\n",
       "    </tr>\n",
       "  </thead>\n",
       "  <tbody>\n",
       "    <tr>\n",
       "      <th>0</th>\n",
       "      <td>3276751</td>\n",
       "      <td>None</td>\n",
       "      <td>DOG</td>\n",
       "      <td>DOG</td>\n",
       "      <td>0</td>\n",
       "      <td>1.536000</td>\n",
       "      <td>/data/audio_data/prep_submission_audio/10/3276...</td>\n",
       "    </tr>\n",
       "    <tr>\n",
       "      <th>1</th>\n",
       "      <td>3376542</td>\n",
       "      <td>None</td>\n",
       "      <td>DOG</td>\n",
       "      <td>DOG</td>\n",
       "      <td>0</td>\n",
       "      <td>1.760000</td>\n",
       "      <td>/data/audio_data/prep_submission_audio/10/3376...</td>\n",
       "    </tr>\n",
       "    <tr>\n",
       "      <th>2</th>\n",
       "      <td>2548703</td>\n",
       "      <td>None</td>\n",
       "      <td>DOG</td>\n",
       "      <td>DOG</td>\n",
       "      <td>0</td>\n",
       "      <td>2.218625</td>\n",
       "      <td>/data/audio_data/prep_submission_audio/10/2548...</td>\n",
       "    </tr>\n",
       "    <tr>\n",
       "      <th>3</th>\n",
       "      <td>4985757</td>\n",
       "      <td>None</td>\n",
       "      <td>DOG</td>\n",
       "      <td>DOG</td>\n",
       "      <td>0</td>\n",
       "      <td>1.962625</td>\n",
       "      <td>/data/audio_data/prep_submission_audio/10/4985...</td>\n",
       "    </tr>\n",
       "    <tr>\n",
       "      <th>4</th>\n",
       "      <td>3922824</td>\n",
       "      <td>None</td>\n",
       "      <td>DOG</td>\n",
       "      <td>DOG</td>\n",
       "      <td>0</td>\n",
       "      <td>1.877312</td>\n",
       "      <td>/data/audio_data/prep_submission_audio/10/3922...</td>\n",
       "    </tr>\n",
       "  </tbody>\n",
       "</table>\n",
       "</div>"
      ],
      "text/plain": [
       "       sid utt_id elsa prep  start_time  end_time  \\\n",
       "0  3276751   None  DOG  DOG           0  1.536000   \n",
       "1  3376542   None  DOG  DOG           0  1.760000   \n",
       "2  2548703   None  DOG  DOG           0  2.218625   \n",
       "3  4985757   None  DOG  DOG           0  1.962625   \n",
       "4  3922824   None  DOG  DOG           0  1.877312   \n",
       "\n",
       "                                          audio_path  \n",
       "0  /data/audio_data/prep_submission_audio/10/3276...  \n",
       "1  /data/audio_data/prep_submission_audio/10/3376...  \n",
       "2  /data/audio_data/prep_submission_audio/10/2548...  \n",
       "3  /data/audio_data/prep_submission_audio/10/4985...  \n",
       "4  /data/audio_data/prep_submission_audio/10/3922...  "
      ]
     },
     "execution_count": 46,
     "metadata": {},
     "output_type": "execute_result"
    }
   ],
   "source": [
    "train_dir = \"/data/codes/apa/kaldi/stt/data/stt-data/kaldi/prep_data_type_10\"\n",
    "test_dir = \"/data/codes/apa/kaldi/stt/data/stt-data/kaldi/test_type_10\"\n",
    "\n",
    "path = \"/data/codes/apa/kaldi/stt/data/stt-data/final/info_question_type-10_01082022_18092023.jsonl\"\n",
    "metadata_v1 = load_jsonl(path)\n",
    "metadata = pd.DataFrame(metadata_v1)\n",
    "metadata.head()"
   ]
  },
  {
   "cell_type": "code",
   "execution_count": 47,
   "metadata": {},
   "outputs": [],
   "source": [
    "# train_dir = \"/data/codes/apa/kaldi/stt/data/stt-data/kaldi/prep_data_type_9\"\n",
    "# test_dir = \"/data/codes/apa/kaldi/stt/data/stt-data/kaldi/test_type_9\"\n",
    "\n",
    "# path = \"/data/codes/apa/kaldi/stt/data/stt-data/final/info_question_type-9_01082022_18092023.jsonl\"\n",
    "# metadata_v1 = load_jsonl(path)\n",
    "# path = \"/data/codes/apa/kaldi/stt/data/stt-data/final/info_question_type-9_19092023_21122023.jsonl\"\n",
    "# metadata_v2 = load_jsonl(path)\n",
    "\n",
    "# metadata = metadata_v1 + metadata_v2\n",
    "# metadata = pd.DataFrame(metadata)\n",
    "# metadata.head()"
   ]
  },
  {
   "cell_type": "code",
   "execution_count": 48,
   "metadata": {},
   "outputs": [
    {
     "data": {
      "application/vnd.jupyter.widget-view+json": {
       "model_id": "1016aec4990c4f028fc27f7ec345a8ef",
       "version_major": 2,
       "version_minor": 0
      },
      "text/plain": [
       "VBox(children=(HBox(children=(IntProgress(value=0, description='0.00%', max=5408), Label(value='0 / 5408'))), …"
      ]
     },
     "metadata": {},
     "output_type": "display_data"
    },
    {
     "name": "stdout",
     "output_type": "stream",
     "text": [
      "59.144882326388895\n"
     ]
    }
   ],
   "source": [
    "def get_duration(path):\n",
    "    wav, sr = librosa.load(path, sr=16000)\n",
    "\n",
    "    return wav.shape[0]/sr\n",
    "\n",
    "duration = metadata.audio_path.parallel_apply(get_duration)\n",
    "print(duration.sum()/3600)"
   ]
  },
  {
   "cell_type": "code",
   "execution_count": 49,
   "metadata": {},
   "outputs": [
    {
     "name": "stdout",
     "output_type": "stream",
     "text": [
      "59.144882326388895\n"
     ]
    }
   ],
   "source": [
    "duration = metadata.apply(lambda x: x[\"end_time\"] - x[\"start_time\"], axis=1)\n",
    "print(duration.sum()/3600)"
   ]
  },
  {
   "cell_type": "code",
   "execution_count": 50,
   "metadata": {},
   "outputs": [],
   "source": [
    "from sklearn.model_selection import train_test_split\n",
    "\n",
    "train_data, test_data = train_test_split(metadata, test_size=0.05, random_state=42)"
   ]
  },
  {
   "cell_type": "code",
   "execution_count": 51,
   "metadata": {},
   "outputs": [],
   "source": [
    "if not os.path.exists(train_dir):\n",
    "    os.mkdir(train_dir)\n",
    "\n",
    "if not os.path.exists(test_dir):\n",
    "    os.mkdir(test_dir)\n",
    "\n",
    "train_data[\"id\"] = train_data.audio_path.apply(lambda x: os.path.basename(x).split(\".wav\")[0])\n",
    "train_data = train_data.sort_values(\"id\")\n",
    "\n",
    "test_data[\"id\"] = test_data.audio_path.apply(lambda x: os.path.basename(x).split(\".wav\")[0])\n",
    "test_data = test_data.sort_values(\"id\")"
   ]
  },
  {
   "cell_type": "code",
   "execution_count": 52,
   "metadata": {},
   "outputs": [],
   "source": [
    "def create_text_file(f, first_column, second_column):\n",
    "    line = f'{first_column}\\t{second_column}'\n",
    "    f.write(line + \"\\n\")\n",
    "\n",
    "wavscp_path = f'{train_dir}/wav.scp'\n",
    "text_path = f'{train_dir}/text'\n",
    "spk2utt_path = f'{train_dir}/spk2utt'\n",
    "utt2spk_path = f'{train_dir}/utt2spk'\n",
    "\n",
    "with open(wavscp_path, \"w\", encoding=\"utf-8\") as f:\n",
    "    train_data.apply(lambda x: create_text_file(f, x[\"id\"], x[\"audio_path\"]), axis=1)\n",
    "    \n",
    "with open(text_path, \"w\", encoding=\"utf-8\") as f:\n",
    "    train_data.apply(lambda x: create_text_file(f, x[\"id\"], x[\"elsa\"]), axis=1)\n",
    "    \n",
    "with open(spk2utt_path, \"w\", encoding=\"utf-8\") as f:\n",
    "    train_data.apply(lambda x: create_text_file(f, x[\"id\"], x[\"id\"]), axis=1)\n",
    "    \n",
    "with open(utt2spk_path, \"w\", encoding=\"utf-8\") as f:\n",
    "    train_data.apply(lambda x: create_text_file(f, x[\"id\"], x[\"id\"]), axis=1)"
   ]
  },
  {
   "cell_type": "code",
   "execution_count": null,
   "metadata": {},
   "outputs": [],
   "source": [
    "def create_text_file(f, first_column, second_column):\n",
    "    line = f'{first_column}\\t{second_column}'\n",
    "    f.write(line + \"\\n\")\n",
    "\n",
    "wavscp_path = f'{test_dir}/wav.scp'\n",
    "text_path = f'{test_dir}/text'\n",
    "spk2utt_path = f'{test_dir}/spk2utt'\n",
    "utt2spk_path = f'{test_dir}/utt2spk'\n",
    "\n",
    "with open(wavscp_path, \"w\", encoding=\"utf-8\") as f:\n",
    "    test_data.apply(lambda x: create_text_file(f, x[\"id\"], x[\"audio_path\"]), axis=1)\n",
    "    \n",
    "with open(text_path, \"w\", encoding=\"utf-8\") as f:\n",
    "    test_data.apply(lambda x: create_text_file(f, x[\"id\"], x[\"elsa\"]), axis=1)\n",
    "    \n",
    "with open(spk2utt_path, \"w\", encoding=\"utf-8\") as f:\n",
    "    test_data.apply(lambda x: create_text_file(f, x[\"id\"], x[\"id\"]), axis=1)\n",
    "    \n",
    "with open(utt2spk_path, \"w\", encoding=\"utf-8\") as f:\n",
    "    test_data.apply(lambda x: create_text_file(f, x[\"id\"], x[\"id\"]), axis=1)"
   ]
  },
  {
   "cell_type": "code",
   "execution_count": null,
   "metadata": {},
   "outputs": [],
   "source": []
  }
 ],
 "metadata": {
  "kernelspec": {
   "display_name": "ps",
   "language": "python",
   "name": "python3"
  },
  "language_info": {
   "codemirror_mode": {
    "name": "ipython",
    "version": 3
   },
   "file_extension": ".py",
   "mimetype": "text/x-python",
   "name": "python",
   "nbconvert_exporter": "python",
   "pygments_lexer": "ipython3",
   "version": "3.8.17"
  }
 },
 "nbformat": 4,
 "nbformat_minor": 2
}
