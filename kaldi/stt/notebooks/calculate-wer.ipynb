{
 "cells": [
  {
   "cell_type": "code",
   "execution_count": 17,
   "metadata": {},
   "outputs": [
    {
     "name": "stdout",
     "output_type": "stream",
     "text": [
      "INFO: Pandarallel will run on 4 workers.\n",
      "INFO: Pandarallel will use Memory file system to transfer data between the main process and workers.\n"
     ]
    }
   ],
   "source": [
    "import pandas as pd\n",
    "import soundfile as sf\n",
    "from jiwer import wer\n",
    "import librosa\n",
    "import json\n",
    "import os\n",
    "import re\n",
    "from pandarallel import pandarallel\n",
    "from glob import glob\n",
    "\n",
    "pandarallel.initialize(nb_workers=4, progress_bar=True)"
   ]
  },
  {
   "cell_type": "code",
   "execution_count": 19,
   "metadata": {},
   "outputs": [],
   "source": [
    "def load_jsonl(path):\n",
    "    # path = \"/data/codes/apa/kaldi/stt/logs/4133769.jsonl\"\n",
    "\n",
    "    with open(path, \"r\", encoding=\"utf-8\") as f:\n",
    "        lines = f.readlines()\n",
    "        lines = [json.loads(line.strip()) for line in lines]\n",
    "    \n",
    "    return lines\n",
    "\n",
    "jsonl_dir = \"/data/codes/apa/kaldi/stt/logs\"\n",
    "files = glob(f'{jsonl_dir}/*jsonl')\n",
    "metadata = []\n",
    "for file in files:\n",
    "    metadata += load_jsonl(file)"
   ]
  },
  {
   "cell_type": "code",
   "execution_count": 13,
   "metadata": {},
   "outputs": [],
   "source": [
    "def normalize(text):\n",
    "    text = re.sub('[\\!@#$%^&*\\(\\)\\\\\\.\\\"\\,\\?\\;\\:\\+\\-\\_\\/\\|~`]', ' ', text)\n",
    "    text = re.sub('\\s+', ' ', text)\n",
    "    text = text.upper().strip()\n",
    "    return text\n",
    "\n",
    "def calculate_wer(reference, hypothesis):\n",
    "    try:\n",
    "        word_error_rate = wer(\n",
    "            reference,\n",
    "            hypothesis)\n",
    "    except:\n",
    "        word_error_rate = 1\n",
    "    return word_error_rate\n"
   ]
  },
  {
   "cell_type": "code",
   "execution_count": 14,
   "metadata": {},
   "outputs": [
    {
     "data": {
      "text/html": [
       "<div>\n",
       "<style scoped>\n",
       "    .dataframe tbody tr th:only-of-type {\n",
       "        vertical-align: middle;\n",
       "    }\n",
       "\n",
       "    .dataframe tbody tr th {\n",
       "        vertical-align: top;\n",
       "    }\n",
       "\n",
       "    .dataframe thead th {\n",
       "        text-align: right;\n",
       "    }\n",
       "</style>\n",
       "<table border=\"1\" class=\"dataframe\">\n",
       "  <thead>\n",
       "    <tr style=\"text-align: right;\">\n",
       "      <th></th>\n",
       "      <th>sid</th>\n",
       "      <th>utt_id</th>\n",
       "      <th>elsa</th>\n",
       "      <th>prep</th>\n",
       "      <th>audio_path</th>\n",
       "    </tr>\n",
       "  </thead>\n",
       "  <tbody>\n",
       "    <tr>\n",
       "      <th>0</th>\n",
       "      <td>5581470</td>\n",
       "      <td>6</td>\n",
       "      <td>UH ALSO SOME OF THE MIXTURE THAT WE NEED TO PU...</td>\n",
       "      <td>ALSO SOME OF THE MIXTURE THAT WE NEED TO PUT ON</td>\n",
       "      <td>/data/codes/apa/kaldi/stt/data/stt-data/wav/55...</td>\n",
       "    </tr>\n",
       "    <tr>\n",
       "      <th>1</th>\n",
       "      <td>5581471</td>\n",
       "      <td>0</td>\n",
       "      <td>COOKING IN THE PAST IS KIND OF HARD BECAUSE SO...</td>\n",
       "      <td>COOKING IN THE PAST IS KIND OF HARD BECAUSE SO...</td>\n",
       "      <td>/data/codes/apa/kaldi/stt/data/stt-data/wav/55...</td>\n",
       "    </tr>\n",
       "    <tr>\n",
       "      <th>2</th>\n",
       "      <td>5581471</td>\n",
       "      <td>1</td>\n",
       "      <td>DIDN'T HAVE ENOUGH UH INGREDIENTS AND UM THE T...</td>\n",
       "      <td>DIDN'T HAVE ENOUGH INGREDIENTS AND THE TOOLS F...</td>\n",
       "      <td>/data/codes/apa/kaldi/stt/data/stt-data/wav/55...</td>\n",
       "    </tr>\n",
       "    <tr>\n",
       "      <th>3</th>\n",
       "      <td>5581471</td>\n",
       "      <td>3</td>\n",
       "      <td>AND ANOTHER TOOL FOR COOKING AND ALSO INGREDIE...</td>\n",
       "      <td>AND ANOTHER TUNE FOR COOKING AND ALSO IN RED I...</td>\n",
       "      <td>/data/codes/apa/kaldi/stt/data/stt-data/wav/55...</td>\n",
       "    </tr>\n",
       "    <tr>\n",
       "      <th>4</th>\n",
       "      <td>5581471</td>\n",
       "      <td>4</td>\n",
       "      <td>THEY ONLY HAVE LIKE TRADITIONAL NATURAL MIXTUR...</td>\n",
       "      <td>THEY ONLY HAVE LIKE TRADITIONAL NATURAL MIXTUR...</td>\n",
       "      <td>/data/codes/apa/kaldi/stt/data/stt-data/wav/55...</td>\n",
       "    </tr>\n",
       "  </tbody>\n",
       "</table>\n",
       "</div>"
      ],
      "text/plain": [
       "       sid  utt_id                                               elsa  \\\n",
       "0  5581470       6  UH ALSO SOME OF THE MIXTURE THAT WE NEED TO PU...   \n",
       "1  5581471       0  COOKING IN THE PAST IS KIND OF HARD BECAUSE SO...   \n",
       "2  5581471       1  DIDN'T HAVE ENOUGH UH INGREDIENTS AND UM THE T...   \n",
       "3  5581471       3  AND ANOTHER TOOL FOR COOKING AND ALSO INGREDIE...   \n",
       "4  5581471       4  THEY ONLY HAVE LIKE TRADITIONAL NATURAL MIXTUR...   \n",
       "\n",
       "                                                prep  \\\n",
       "0    ALSO SOME OF THE MIXTURE THAT WE NEED TO PUT ON   \n",
       "1  COOKING IN THE PAST IS KIND OF HARD BECAUSE SO...   \n",
       "2  DIDN'T HAVE ENOUGH INGREDIENTS AND THE TOOLS F...   \n",
       "3  AND ANOTHER TUNE FOR COOKING AND ALSO IN RED I...   \n",
       "4  THEY ONLY HAVE LIKE TRADITIONAL NATURAL MIXTUR...   \n",
       "\n",
       "                                          audio_path  \n",
       "0  /data/codes/apa/kaldi/stt/data/stt-data/wav/55...  \n",
       "1  /data/codes/apa/kaldi/stt/data/stt-data/wav/55...  \n",
       "2  /data/codes/apa/kaldi/stt/data/stt-data/wav/55...  \n",
       "3  /data/codes/apa/kaldi/stt/data/stt-data/wav/55...  \n",
       "4  /data/codes/apa/kaldi/stt/data/stt-data/wav/55...  "
      ]
     },
     "execution_count": 14,
     "metadata": {},
     "output_type": "execute_result"
    }
   ],
   "source": [
    "metadata = pd.DataFrame(metadata)\n",
    "metadata[\"prep\"] = metadata.prep.apply(lambda x: normalize(x))\n",
    "metadata[\"elsa\"] = metadata.elsa.apply(lambda x: normalize(x))\n",
    "metadata.head()"
   ]
  },
  {
   "cell_type": "code",
   "execution_count": 15,
   "metadata": {},
   "outputs": [],
   "source": [
    "metadata[\"wer\"] = metadata.apply(lambda x: calculate_wer(reference=x[\"elsa\"], hypothesis=x[\"prep\"]), axis=1)\n"
   ]
  },
  {
   "cell_type": "code",
   "execution_count": 16,
   "metadata": {},
   "outputs": [
    {
     "data": {
      "text/plain": [
       "0.1758958911771171"
      ]
     },
     "execution_count": 16,
     "metadata": {},
     "output_type": "execute_result"
    }
   ],
   "source": [
    "metadata.wer.mean()"
   ]
  },
  {
   "cell_type": "code",
   "execution_count": null,
   "metadata": {},
   "outputs": [],
   "source": []
  }
 ],
 "metadata": {
  "kernelspec": {
   "display_name": "ps",
   "language": "python",
   "name": "python3"
  },
  "language_info": {
   "codemirror_mode": {
    "name": "ipython",
    "version": 3
   },
   "file_extension": ".py",
   "mimetype": "text/x-python",
   "name": "python",
   "nbconvert_exporter": "python",
   "pygments_lexer": "ipython3",
   "version": "3.8.17"
  }
 },
 "nbformat": 4,
 "nbformat_minor": 2
}
