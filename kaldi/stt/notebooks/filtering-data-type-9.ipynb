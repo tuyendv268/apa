{
 "cells": [
  {
   "cell_type": "code",
   "execution_count": 29,
   "metadata": {},
   "outputs": [
    {
     "name": "stdout",
     "output_type": "stream",
     "text": [
      "INFO: Pandarallel will run on 8 workers.\n",
      "INFO: Pandarallel will use Memory file system to transfer data between the main process and workers.\n"
     ]
    }
   ],
   "source": [
    "import pandas as pd\n",
    "import soundfile as sf\n",
    "from jiwer import wer\n",
    "import librosa\n",
    "import json\n",
    "import os\n",
    "import re\n",
    "from pandarallel import pandarallel\n",
    "from glob import glob\n",
    "\n",
    "pandarallel.initialize(nb_workers=8, progress_bar=False)"
   ]
  },
  {
   "cell_type": "code",
   "execution_count": 30,
   "metadata": {},
   "outputs": [],
   "source": [
    "def load_jsonl(path):\n",
    "    with open(path, \"r\", encoding=\"utf-8\") as f:\n",
    "        lines = f.readlines()\n",
    "        lines = [json.loads(line.strip()) for line in lines]\n",
    "\n",
    "    return lines"
   ]
  },
  {
   "cell_type": "code",
   "execution_count": 31,
   "metadata": {},
   "outputs": [
    {
     "data": {
      "text/plain": [
       "313973"
      ]
     },
     "execution_count": 31,
     "metadata": {},
     "output_type": "execute_result"
    }
   ],
   "source": [
    "lexicon_path = \"/data/codes/apa/kaldi/g2p/resources/lexicon\"\n",
    "\n",
    "lexicon = pd.read_csv(lexicon_path, names=[\"word\", \"arpa\"], sep=\"\\t\")\n",
    "vocab = set(lexicon[\"word\"].tolist())\n",
    "len(vocab)"
   ]
  },
  {
   "cell_type": "code",
   "execution_count": 32,
   "metadata": {},
   "outputs": [],
   "source": [
    "path = \"/data/codes/apa/kaldi/stt/data/stt-data/infer/info_question_type-9_19092023_21122023.jsonl\"\n",
    "\n",
    "metadata = load_jsonl(path)"
   ]
  },
  {
   "cell_type": "code",
   "execution_count": 33,
   "metadata": {},
   "outputs": [],
   "source": [
    "def normalize(text):\n",
    "    text = re.sub(\"[!?,.\\\"-]\", \" \", text)\n",
    "    text = text.upper().strip()\n",
    "\n",
    "    text = re.sub('\\s+', ' ', text)\n",
    "\n",
    "    # for word in text.split():\n",
    "    #     if not (word.isalpha() or \"'\" in word):\n",
    "    #         print(word)\n",
    "\n",
    "    return text\n",
    "\n",
    "def wer_normalize(text):\n",
    "    text = normalize(text)\n",
    "\n",
    "    text = text.replace(\" UM \", \" \")\n",
    "    text = text.replace(\" UH \", \" \")\n",
    "    text = text.replace(\" UHM \", \" \")\n",
    "    text = text.replace(\" AH \", \" \")\n",
    "\n",
    "    if text.startswith(\"UM \"):\n",
    "        text = text.replace(\"UM \", \" \")\n",
    "    if text.startswith(\"UH \"):\n",
    "        text = text.replace(\"UH \", \" \")\n",
    "    if text.startswith(\"UHM \"):\n",
    "        text = text.replace(\"UHM \", \" \")\n",
    "    if text.startswith(\"AH \"):\n",
    "        text = text.replace(\"AH \", \" \")\n",
    "\n",
    "    return text\n",
    "\n",
    "def calculate_wer(reference, hypothesis):\n",
    "    # try:\n",
    "    word_error_rate = wer(\n",
    "        reference,\n",
    "        hypothesis)\n",
    "    # except:\n",
    "    #     word_error_rate = 1\n",
    "    return word_error_rate"
   ]
  },
  {
   "cell_type": "code",
   "execution_count": 34,
   "metadata": {},
   "outputs": [
    {
     "data": {
      "text/html": [
       "<div>\n",
       "<style scoped>\n",
       "    .dataframe tbody tr th:only-of-type {\n",
       "        vertical-align: middle;\n",
       "    }\n",
       "\n",
       "    .dataframe tbody tr th {\n",
       "        vertical-align: top;\n",
       "    }\n",
       "\n",
       "    .dataframe thead th {\n",
       "        text-align: right;\n",
       "    }\n",
       "</style>\n",
       "<table border=\"1\" class=\"dataframe\">\n",
       "  <thead>\n",
       "    <tr style=\"text-align: right;\">\n",
       "      <th></th>\n",
       "      <th>sid</th>\n",
       "      <th>utt_id</th>\n",
       "      <th>elsa</th>\n",
       "      <th>prep</th>\n",
       "      <th>audio_path</th>\n",
       "      <th>start_time</th>\n",
       "      <th>end_time</th>\n",
       "    </tr>\n",
       "  </thead>\n",
       "  <tbody>\n",
       "    <tr>\n",
       "      <th>0</th>\n",
       "      <td>6392867</td>\n",
       "      <td>2</td>\n",
       "      <td>Absolutely to are among my favorite closing p...</td>\n",
       "      <td>A slowly t shirt are among my favorite closing...</td>\n",
       "      <td>/data/codes/apa/kaldi/stt/data/stt-data/wav/63...</td>\n",
       "      <td>18.75</td>\n",
       "      <td>29.93</td>\n",
       "    </tr>\n",
       "  </tbody>\n",
       "</table>\n",
       "</div>"
      ],
      "text/plain": [
       "       sid  utt_id                                               elsa  \\\n",
       "0  6392867       2   Absolutely to are among my favorite closing p...   \n",
       "\n",
       "                                                prep  \\\n",
       "0  A slowly t shirt are among my favorite closing...   \n",
       "\n",
       "                                          audio_path  start_time  end_time  \n",
       "0  /data/codes/apa/kaldi/stt/data/stt-data/wav/63...       18.75     29.93  "
      ]
     },
     "execution_count": 34,
     "metadata": {},
     "output_type": "execute_result"
    }
   ],
   "source": [
    "metadata = pd.DataFrame(metadata)\n",
    "metadata.head(1)"
   ]
  },
  {
   "cell_type": "code",
   "execution_count": 35,
   "metadata": {},
   "outputs": [
    {
     "data": {
      "text/html": [
       "<div>\n",
       "<style scoped>\n",
       "    .dataframe tbody tr th:only-of-type {\n",
       "        vertical-align: middle;\n",
       "    }\n",
       "\n",
       "    .dataframe tbody tr th {\n",
       "        vertical-align: top;\n",
       "    }\n",
       "\n",
       "    .dataframe thead th {\n",
       "        text-align: right;\n",
       "    }\n",
       "</style>\n",
       "<table border=\"1\" class=\"dataframe\">\n",
       "  <thead>\n",
       "    <tr style=\"text-align: right;\">\n",
       "      <th></th>\n",
       "      <th>wer_prep</th>\n",
       "      <th>wer_elsa</th>\n",
       "    </tr>\n",
       "  </thead>\n",
       "  <tbody>\n",
       "    <tr>\n",
       "      <th>0</th>\n",
       "      <td>A SLOWLY T SHIRT ARE AMONG MY FAVORITE CLOSING...</td>\n",
       "      <td>ABSOLUTELY TO ARE AMONG MY FAVORITE CLOSING PI...</td>\n",
       "    </tr>\n",
       "    <tr>\n",
       "      <th>1</th>\n",
       "      <td>NO BECAUSE MY FAMILY DON'T AFFORD WITH</td>\n",
       "      <td>NO BECAUSE MY FAMILY DON'T AFFORD WITH</td>\n",
       "    </tr>\n",
       "    <tr>\n",
       "      <th>2</th>\n",
       "      <td>THE FEES OF LEARNING</td>\n",
       "      <td>THE THE PHASE OF LEARNING</td>\n",
       "    </tr>\n",
       "  </tbody>\n",
       "</table>\n",
       "</div>"
      ],
      "text/plain": [
       "                                            wer_prep  \\\n",
       "0  A SLOWLY T SHIRT ARE AMONG MY FAVORITE CLOSING...   \n",
       "1             NO BECAUSE MY FAMILY DON'T AFFORD WITH   \n",
       "2                               THE FEES OF LEARNING   \n",
       "\n",
       "                                            wer_elsa  \n",
       "0  ABSOLUTELY TO ARE AMONG MY FAVORITE CLOSING PI...  \n",
       "1             NO BECAUSE MY FAMILY DON'T AFFORD WITH  \n",
       "2                          THE THE PHASE OF LEARNING  "
      ]
     },
     "execution_count": 35,
     "metadata": {},
     "output_type": "execute_result"
    }
   ],
   "source": [
    "metadata[\"wer_prep\"] = metadata.prep.parallel_apply(lambda x: wer_normalize(x))\n",
    "metadata[\"wer_elsa\"] = metadata.elsa.parallel_apply(lambda x: wer_normalize(x))\n",
    "\n",
    "metadata.head(3)[[\"wer_prep\", \"wer_elsa\"]]"
   ]
  },
  {
   "cell_type": "code",
   "execution_count": 36,
   "metadata": {},
   "outputs": [],
   "source": [
    "metadata[\"wer\"] = metadata.parallel_apply(lambda x: calculate_wer(reference=x[\"wer_elsa\"], hypothesis=x[\"wer_prep\"]), axis=1)"
   ]
  },
  {
   "cell_type": "code",
   "execution_count": 37,
   "metadata": {},
   "outputs": [],
   "source": [
    "metadata[\"prep\"] = metadata.prep.parallel_apply(lambda x: normalize(x))\n",
    "metadata[\"elsa\"] = metadata.elsa.parallel_apply(lambda x: normalize(x))"
   ]
  },
  {
   "cell_type": "code",
   "execution_count": 38,
   "metadata": {},
   "outputs": [],
   "source": [
    "metadata[\"duration\"] = metadata.parallel_apply(lambda x: x[\"end_time\"] - x[\"start_time\"], axis=1)"
   ]
  },
  {
   "cell_type": "code",
   "execution_count": 39,
   "metadata": {},
   "outputs": [
    {
     "name": "stdout",
     "output_type": "stream",
     "text": [
      "715.9134638888889\n"
     ]
    }
   ],
   "source": [
    "print(metadata.duration.sum() / 3600)"
   ]
  },
  {
   "cell_type": "code",
   "execution_count": 40,
   "metadata": {},
   "outputs": [
    {
     "name": "stdout",
     "output_type": "stream",
     "text": [
      "32.003302777777776\n"
     ]
    }
   ],
   "source": [
    "def check_vocab(text):\n",
    "    for word in text.split():\n",
    "        if word not in vocab:\n",
    "            return False\n",
    "        \n",
    "    return True\n",
    "\n",
    "is_valid = metadata.elsa.parallel_apply(check_vocab)\n",
    "print(metadata[is_valid==False].duration.sum() / 3600)"
   ]
  },
  {
   "cell_type": "code",
   "execution_count": 41,
   "metadata": {},
   "outputs": [],
   "source": [
    "metadata = metadata[is_valid==True]"
   ]
  },
  {
   "cell_type": "code",
   "execution_count": 42,
   "metadata": {},
   "outputs": [
    {
     "data": {
      "text/plain": [
       "304.25403611111113"
      ]
     },
     "execution_count": 42,
     "metadata": {},
     "output_type": "execute_result"
    }
   ],
   "source": [
    "metadata[metadata.wer<0.1].duration.sum() /  3600"
   ]
  },
  {
   "cell_type": "code",
   "execution_count": 43,
   "metadata": {},
   "outputs": [],
   "source": [
    "filtered_data = metadata[metadata.wer<0.1]"
   ]
  },
  {
   "cell_type": "code",
   "execution_count": 44,
   "metadata": {},
   "outputs": [
    {
     "name": "stdout",
     "output_type": "stream",
     "text": [
      "INFO: Pandarallel will run on 16 workers.\n",
      "INFO: Pandarallel will use Memory file system to transfer data between the main process and workers.\n"
     ]
    }
   ],
   "source": [
    "import librosa\n",
    "import soundfile as sf\n",
    "from tqdm import tqdm\n",
    "from pandarallel import pandarallel\n",
    "import os\n",
    "\n",
    "pandarallel.initialize(nb_workers=16, progress_bar=True)\n",
    "\n",
    "out_dir = \"/data/codes/apa/kaldi/stt/data/stt-data/audio\"\n",
    "wav_files = os.listdir(out_dir)\n",
    "wav_files = set(wav_files)"
   ]
  },
  {
   "cell_type": "code",
   "execution_count": 45,
   "metadata": {},
   "outputs": [
    {
     "data": {
      "application/vnd.jupyter.widget-view+json": {
       "model_id": "86c2237970854323a24d72d7249a0b63",
       "version_major": 2,
       "version_minor": 0
      },
      "text/plain": [
       "VBox(children=(HBox(children=(IntProgress(value=0, description='0.00%', max=7331), Label(value='0 / 7331'))), …"
      ]
     },
     "metadata": {},
     "output_type": "display_data"
    },
    {
     "data": {
      "text/plain": [
       "1         None\n",
       "3         None\n",
       "5         None\n",
       "6         None\n",
       "16        None\n",
       "          ... \n",
       "274306    None\n",
       "274310    None\n",
       "274312    None\n",
       "274316    None\n",
       "274317    None\n",
       "Length: 117290, dtype: object"
      ]
     },
     "execution_count": 45,
     "metadata": {},
     "output_type": "execute_result"
    }
   ],
   "source": [
    "def copy_audio(row):\n",
    "    in_dir = \"/data/audio_data/prep_submission_audio/9\"\n",
    "\n",
    "    row = row.to_dict()\n",
    "\n",
    "    in_path = f'{in_dir}/{row[\"sid\"]}.wav'\n",
    "    out_path = f'{out_dir}/{row[\"sid\"]}{row[\"utt_id\"]}.wav'\n",
    "    \n",
    "    filename = os.path.basename(out_path)\n",
    "    \n",
    "    assert filename not in wav_files\n",
    "    assert \"prep_submission_audio\" not in out_path\n",
    "\n",
    "    wav, sr = librosa.load(in_path, sr=16000)\n",
    "\n",
    "    start_time = int(sr * row[\"start_time\"])\n",
    "    end_time = int(sr * row[\"end_time\"])\n",
    "\n",
    "    assert end_time < wav.shape[0]\n",
    "    sf.write(out_path, wav[start_time:end_time], samplerate=sr)\n",
    "\n",
    "filtered_data.parallel_apply(lambda x: copy_audio(x), axis=1)"
   ]
  },
  {
   "cell_type": "code",
   "execution_count": 46,
   "metadata": {},
   "outputs": [],
   "source": [
    "filtered_data.reset_index(inplace=True)"
   ]
  },
  {
   "cell_type": "code",
   "execution_count": 47,
   "metadata": {},
   "outputs": [
    {
     "name": "stderr",
     "output_type": "stream",
     "text": [
      "100%|██████████| 117290/117290 [00:04<00:00, 23544.19it/s]\n"
     ]
    }
   ],
   "source": [
    "import librosa\n",
    "import soundfile as sf\n",
    "from tqdm import tqdm\n",
    "\n",
    "out_dir = \"/data/codes/apa/kaldi/stt/data/stt-data/audio\"\n",
    "\n",
    "filtered_datas = []\n",
    "for index in tqdm(filtered_data[['sid', 'utt_id', 'elsa', 'prep', 'audio_path', 'start_time', 'end_time', 'wer', 'duration']].index):\n",
    "    row = filtered_data.iloc[index].to_dict()\n",
    "\n",
    "    out_path = f'{out_dir}/{row[\"sid\"]}{row[\"utt_id\"]}.wav'\n",
    "    \n",
    "    sample = {\n",
    "        \"sid\": row[\"sid\"],\n",
    "        \"utt_id\": row[\"utt_id\"],\n",
    "        \"elsa\": row[\"elsa\"],\n",
    "        \"prep\": row[\"prep\"],\n",
    "        \"start_time\": row[\"start_time\"],\n",
    "        \"end_time\": row[\"end_time\"],\n",
    "        \"audio_path\": out_path,\n",
    "    }\n",
    "\n",
    "    filtered_datas.append(sample)"
   ]
  },
  {
   "cell_type": "code",
   "execution_count": 48,
   "metadata": {},
   "outputs": [],
   "source": [
    "path = \"/data/codes/apa/kaldi/stt/data/stt-data/final/info_question_type-9_19092023_21122023.jsonl\"\n",
    "with open(path, \"w\", encoding=\"utf-8\") as f:\n",
    "    for line in filtered_datas:\n",
    "        json_obj = json.dumps(line)\n",
    "        f.write(f'{json_obj}\\n')"
   ]
  }
 ],
 "metadata": {
  "kernelspec": {
   "display_name": "ps",
   "language": "python",
   "name": "python3"
  },
  "language_info": {
   "codemirror_mode": {
    "name": "ipython",
    "version": 3
   },
   "file_extension": ".py",
   "mimetype": "text/x-python",
   "name": "python",
   "nbconvert_exporter": "python",
   "pygments_lexer": "ipython3",
   "version": "3.8.17"
  }
 },
 "nbformat": 4,
 "nbformat_minor": 2
}
