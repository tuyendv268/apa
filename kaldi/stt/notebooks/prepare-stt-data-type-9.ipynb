{
 "cells": [
  {
   "cell_type": "code",
   "execution_count": null,
   "metadata": {},
   "outputs": [],
   "source": [
    "from pandarallel import pandarallel\n",
    "from glob import glob\n",
    "import soundfile as sf\n",
    "import pandas as pd\n",
    "import librosa\n",
    "import random\n",
    "import json\n",
    "import re\n",
    "import os\n",
    "\n",
    "pandarallel.initialize(nb_workers=10, progress_bar=True)"
   ]
  },
  {
   "cell_type": "code",
   "execution_count": null,
   "metadata": {},
   "outputs": [],
   "source": [
    "audio_dir = \"/data/audio_data/prep_submission_audio/9\"\n",
    "json_dir = \"/data/audio_data/pronunciation_scoring_result/marking_data/9\"\n",
    "metadata_path=\"/data/audio_data/pronunciation_scoring_result/merged_info/info_question_type-9_19092023_21122023.csv\"\n",
    "metadata = pd.read_csv(metadata_path)\n",
    "metadata.head(2)"
   ]
  },
  {
   "cell_type": "code",
   "execution_count": null,
   "metadata": {},
   "outputs": [],
   "source": [
    "def check_audio_is_exist(audio_id):\n",
    "    abs_path = os.path.join(audio_dir, f'{audio_id}.wav')\n",
    "    if os.path.exists(abs_path):\n",
    "        return True\n",
    "    return False\n",
    "\n",
    "metadata[\"is_exist\"] =  metadata.id.parallel_apply(check_audio_is_exist)\n",
    "print(metadata.shape)\n",
    "metadata = metadata[metadata[\"is_exist\"] == True]\n",
    "metadata.reset_index(inplace=True)\n",
    "print(metadata.shape)"
   ]
  },
  {
   "cell_type": "code",
   "execution_count": null,
   "metadata": {},
   "outputs": [],
   "source": [
    "def normalize(text):\n",
    "    text = re.sub('[\\!@#$%^&*\\(\\)\\\\\\.\\'\\\"\\,\\?\\;\\:\\+\\-\\_\\/\\|~`]', ' ', text)\n",
    "    text = re.sub('\\s+', ' ', text)\n",
    "    text = text.upper().strip()\n",
    "    return text"
   ]
  },
  {
   "cell_type": "code",
   "execution_count": null,
   "metadata": {},
   "outputs": [],
   "source": [
    "def preprocess_data(json_path):\n",
    "    try:\n",
    "        with open(json_path, \"r\") as f:\n",
    "            raw_sample = json.load(f)\n",
    "        \n",
    "        sentences = []\n",
    "        sample_id = os.path.basename(json_path).split(\".\")[0]\n",
    "        for index, utterance in enumerate(raw_sample[\"utterances\"]):\n",
    "            if utterance[\"result\"] is None:\n",
    "                continue\n",
    "\n",
    "            utt_text = utterance[\"text\"]\n",
    "            utt_start_time = utterance[\"start_time\"]\n",
    "            utt_end_time = utterance[\"end_time\"]\n",
    "            utt_id = utterance[\"utterance_id\"]\n",
    "\n",
    "            sentence = {\n",
    "                \"text\": utt_text,\n",
    "                \"start_time\": utt_start_time,\n",
    "                \"end_time\": utt_end_time,\n",
    "                \"utt_id\": utt_id,\n",
    "                \"sid\": sample_id\n",
    "            }\n",
    "\n",
    "            sentences.append(sentence)\n",
    "        return sentences\n",
    "    except:\n",
    "        return []\n",
    "\n",
    "tmp = metadata.id.parallel_apply(lambda x: preprocess_data(os.path.join(json_dir, f'{x}.json')))\n",
    "# tmp = metadata.id.apply(lambda x: preprocess_data(os.path.join(json_dir, f'{x}.json')))\n"
   ]
  },
  {
   "cell_type": "code",
   "execution_count": null,
   "metadata": {},
   "outputs": [],
   "source": [
    "tmp_metadata = tmp.explode()\n",
    "\n",
    "tmp_metadata = pd.DataFrame(tmp_metadata.values, columns=['sent'])\n",
    "tmp_metadata.dropna(inplace=True)\n",
    "tmp_metadata[\"start_time\"] = tmp_metadata.sent.apply(lambda x: x[\"start_time\"])\n",
    "tmp_metadata[\"end_time\"] = tmp_metadata.sent.apply(lambda x: x[\"end_time\"]) \n",
    "tmp_metadata[\"duration\"] = tmp_metadata[\"end_time\"] - tmp_metadata[\"start_time\"]\n",
    "tmp_metadata = tmp_metadata[tmp_metadata.duration > 2.0]\n",
    "tmp_metadata.head()"
   ]
  },
  {
   "cell_type": "code",
   "execution_count": null,
   "metadata": {},
   "outputs": [],
   "source": [
    "tmp_metadata[\"sent\"][0]"
   ]
  },
  {
   "cell_type": "code",
   "execution_count": null,
   "metadata": {},
   "outputs": [],
   "source": [
    "tmp_metadata.duration.sum() / 3600"
   ]
  },
  {
   "cell_type": "code",
   "execution_count": null,
   "metadata": {},
   "outputs": [],
   "source": [
    "import torchaudio\n",
    "import numpy as np"
   ]
  },
  {
   "cell_type": "code",
   "execution_count": null,
   "metadata": {},
   "outputs": [],
   "source": [
    "in_dir = '/data/audio_data/prep_submission_audio/9'\n",
    "out_dir = '/data/codes/apa/kaldi/stt/data/stt-data/wav'\n",
    "def get_audio(sent):\n",
    "    utt_id = sent[\"utt_id\"]\n",
    "    sid = sent[\"sid\"]\n",
    "\n",
    "    in_path = f'{in_dir}/{sid}.wav'\n",
    "    out_path = f'{out_dir}/{sid}-{utt_id}.wav'\n",
    "\n",
    "    # waveform, sr = librosa.load(in_path, sr=16000)\n",
    "    waveform, sr = torchaudio.load(in_path)\n",
    "    if sr != 16000:\n",
    "        return False\n",
    "        \n",
    "    start_time = int(sent[\"start_time\"] * sr)\n",
    "    end_time = int(sent[\"end_time\"] * sr)\n",
    "    if end_time - waveform.shape[1] > 100:\n",
    "        return False\n",
    "\n",
    "    assert \"prep_submission_audio\" not in out_path\n",
    "    sf.write(out_path, waveform[0].numpy()[start_time: end_time], samplerate=sr)\n",
    "\n",
    "    return True\n",
    "\n",
    "is_success = tmp_metadata.sent.parallel_apply(get_audio)"
   ]
  },
  {
   "cell_type": "code",
   "execution_count": null,
   "metadata": {},
   "outputs": [],
   "source": [
    "jsonl_data = tmp_metadata[is_success][\"sent\"].tolist()\n",
    "\n",
    "path = \"/data/codes/apa/kaldi/stt/data/stt-data/jsonl/info_question_type-9_19092023_21122023.jsonl\"\n",
    "with open(path, \"w\", encoding=\"utf-8\") as f:\n",
    "    for line in jsonl_data:\n",
    "        json_obj = json.dumps(line)\n",
    "        f.write(f'{json_obj}\\n')"
   ]
  }
 ],
 "metadata": {
  "kernelspec": {
   "display_name": "ps",
   "language": "python",
   "name": "python3"
  },
  "language_info": {
   "codemirror_mode": {
    "name": "ipython",
    "version": 3
   },
   "file_extension": ".py",
   "mimetype": "text/x-python",
   "name": "python",
   "nbconvert_exporter": "python",
   "pygments_lexer": "ipython3",
   "version": "3.8.17"
  },
  "orig_nbformat": 4
 },
 "nbformat": 4,
 "nbformat_minor": 2
}
