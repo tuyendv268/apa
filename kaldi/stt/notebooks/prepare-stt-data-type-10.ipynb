{
 "cells": [
  {
   "cell_type": "code",
   "execution_count": null,
   "metadata": {},
   "outputs": [],
   "source": [
    "from pandarallel import pandarallel\n",
    "from glob import glob\n",
    "import soundfile as sf\n",
    "import pandas as pd\n",
    "import librosa\n",
    "import random\n",
    "import json\n",
    "import re\n",
    "import os\n",
    "\n",
    "pandarallel.initialize(nb_workers=10, progress_bar=True)"
   ]
  },
  {
   "cell_type": "code",
   "execution_count": null,
   "metadata": {},
   "outputs": [],
   "source": [
    "audio_dir = \"/data/audio_data/prep_submission_audio/10\"\n",
    "json_dir = \"/data/audio_data/pronunciation_scoring_result/marking_data/10\"\n",
    "path = \"/data/audio_data/pronunciation_scoring_result/merged_info/info_question_type-10_01082022_18092023.csv\"\n",
    "metadata = pd.read_csv(path)\n",
    "metadata.head()"
   ]
  },
  {
   "cell_type": "code",
   "execution_count": null,
   "metadata": {},
   "outputs": [],
   "source": [
    "import torchaudio\n",
    "\n",
    "def check_audio_is_exist(audio_id):\n",
    "    abs_path = os.path.join(audio_dir, f'{audio_id}.wav')\n",
    "    if os.path.exists(abs_path):\n",
    "        try:\n",
    "            wav, sr = torchaudio.load(abs_path)\n",
    "        except:\n",
    "            return False\n",
    "\n",
    "        if sr != 16000:\n",
    "            return False\n",
    "        \n",
    "        return True\n",
    "    return False\n",
    "\n",
    "is_valid =  metadata.id.parallel_apply(check_audio_is_exist)\n",
    "print(metadata.shape)\n",
    "metadata = metadata[is_valid == True]\n",
    "metadata.reset_index(inplace=True)\n",
    "print(metadata.shape)"
   ]
  },
  {
   "cell_type": "code",
   "execution_count": null,
   "metadata": {},
   "outputs": [],
   "source": [
    "filtered_data = []\n",
    "for name, group in metadata.groupby(\"question_id\"):\n",
    "    if group.shape[0] > 500:\n",
    "        filtered_data.append(group.sample(500))\n",
    "    else:\n",
    "        filtered_data.append(group)\n",
    "\n",
    "filtered_data = pd.concat(filtered_data)\n",
    "filtered_data.shape"
   ]
  },
  {
   "cell_type": "code",
   "execution_count": null,
   "metadata": {},
   "outputs": [],
   "source": [
    "filtered_data.total_time.sum() / 3600"
   ]
  },
  {
   "cell_type": "code",
   "execution_count": null,
   "metadata": {},
   "outputs": [],
   "source": [
    "def normalize(text):\n",
    "    # text = re.sub('[\\!@#$%^&*\\(\\)\\\\\\.\\,\\?\\;\\:\\+\\-\\_\\/\\|~`]', ' ', text)\n",
    "    text = re.sub('\\s+', ' ', text)\n",
    "    text = text.upper().strip()\n",
    "    return text"
   ]
  },
  {
   "cell_type": "code",
   "execution_count": null,
   "metadata": {},
   "outputs": [],
   "source": [
    "filtered_data.reset_index(inplace=True)\n",
    "filtered_data = filtered_data[['id', 'is_deleted', 'user_id', 'question_id', 'question_type', 'question_content', 'url', 'score', 'fidelity_class', 'created_at', 'total_time', 'word_count']]"
   ]
  },
  {
   "cell_type": "code",
   "execution_count": null,
   "metadata": {},
   "outputs": [],
   "source": [
    "def check(text):\n",
    "    text = re.sub(\"\\s+\", \" \", text)\n",
    "    for word in text.split():\n",
    "        if not (word.isalpha() or \"'\" in word):\n",
    "            return False\n",
    "\n",
    "    return True"
   ]
  },
  {
   "cell_type": "code",
   "execution_count": null,
   "metadata": {},
   "outputs": [],
   "source": [
    "from tqdm import tqdm\n",
    "\n",
    "data = []\n",
    "for index in tqdm(filtered_data.index):\n",
    "    row = filtered_data.iloc[index].to_dict()\n",
    "    \n",
    "    id = row[\"id\"]\n",
    "\n",
    "    text = row[\"question_content\"]\n",
    "    if check(text) == False:\n",
    "        continue\n",
    "    text = normalize(text)\n",
    "\n",
    "\n",
    "    total_time = row[\"total_time\"]\n",
    "    audio_path = f'{audio_dir}/{id}.wav'\n",
    "\n",
    "    sample = {\n",
    "        \"id\": id,\n",
    "        \"text\": text,\n",
    "        \"total_time\": total_time,\n",
    "        \"audio_path\": audio_path\n",
    "    }\n",
    "\n",
    "    data.append(sample)"
   ]
  },
  {
   "cell_type": "code",
   "execution_count": null,
   "metadata": {},
   "outputs": [],
   "source": [
    "path = \"/data/codes/apa/kaldi/stt/data/stt-data/jsonl/info_question_type-10_01082022_18092023.jsonl\"\n",
    "with open(path, \"w\", encoding=\"utf-8\") as f:\n",
    "    for line in data:\n",
    "        json_obj = json.dumps(line)\n",
    "        f.write(f'{json_obj}\\n')"
   ]
  }
 ],
 "metadata": {
  "kernelspec": {
   "display_name": "ps",
   "language": "python",
   "name": "python3"
  },
  "language_info": {
   "codemirror_mode": {
    "name": "ipython",
    "version": 3
   },
   "file_extension": ".py",
   "mimetype": "text/x-python",
   "name": "python",
   "nbconvert_exporter": "python",
   "pygments_lexer": "ipython3",
   "version": "3.8.17"
  },
  "orig_nbformat": 4
 },
 "nbformat": 4,
 "nbformat_minor": 2
}
