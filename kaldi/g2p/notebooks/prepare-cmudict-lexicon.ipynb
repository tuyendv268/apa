{
 "cells": [
  {
   "cell_type": "code",
   "execution_count": 1,
   "metadata": {},
   "outputs": [],
   "source": [
    "from glob import glob\n",
    "from tqdm import tqdm\n",
    "import pandas as pd\n",
    "import json\n",
    "import re\n",
    "import os\n",
    "\n",
    "from arpa_to_ipa import arpa_to_ipa"
   ]
  },
  {
   "cell_type": "code",
   "execution_count": 2,
   "metadata": {},
   "outputs": [],
   "source": [
    "def load_cmu_lexicon(path):\n",
    "    with open(path, \"r\", encoding=\"utf-8\") as f:\n",
    "        lines = f.readlines()\n",
    "\n",
    "    lexicon = []\n",
    "    for line in lines:\n",
    "        word = line.split()[0].upper()\n",
    "        arpa = \" \".join(line.strip().split()[1:])\n",
    "        if len(arpa.strip()) == 0:\n",
    "            continue\n",
    "        lexicon.append([word, arpa])\n",
    "\n",
    "    lexicon = pd.DataFrame(lexicon, columns=[\"word\", \"arpa\"])\n",
    "    lexicon[\"ipa\"] = lexicon.arpa.apply(lambda arpa: arpa_to_ipa(arpa).replace(\" \", \"\"))\n",
    "\n",
    "    return lexicon\n",
    "\n",
    "def load_cam_lexicon(path):\n",
    "    lexicon = json.load(open(path, \"r\", encoding=\"utf-8\"))\n",
    "\n",
    "    for key, value in lexicon.items():\n",
    "        ipa = set(value[\"us\"] + value[\"uk\"])\n",
    "        lexicon[key] = ipa\n",
    "    return lexicon"
   ]
  },
  {
   "cell_type": "code",
   "execution_count": 3,
   "metadata": {},
   "outputs": [],
   "source": [
    "path = \"/data/codes/apa/kaldi/g2p/data/output.txt\"\n",
    "cmu_lexicon = load_cmu_lexicon(path)\n",
    "\n",
    "path = \"/data/codes/apa/kaldi/g2p/lexicon/processed/cambridge-lexicon.json\"\n",
    "cam_lexicon = load_cam_lexicon(path)"
   ]
  },
  {
   "cell_type": "code",
   "execution_count": 4,
   "metadata": {},
   "outputs": [
    {
     "name": "stderr",
     "output_type": "stream",
     "text": [
      " 16%|█▌        | 15134/96197 [00:00<00:00, 151331.85it/s]"
     ]
    },
    {
     "name": "stderr",
     "output_type": "stream",
     "text": [
      "100%|██████████| 96197/96197 [00:00<00:00, 173289.94it/s]"
     ]
    },
    {
     "name": "stdout",
     "output_type": "stream",
     "text": [
      "35945\n",
      "52507 96117 80\n"
     ]
    },
    {
     "name": "stderr",
     "output_type": "stream",
     "text": [
      "\n"
     ]
    }
   ],
   "source": [
    "words = []\n",
    "valid_lexicon = []\n",
    "\n",
    "oov, count, total = 0, 0, 0\n",
    "for index in tqdm(cmu_lexicon.index):\n",
    "    word = cmu_lexicon[\"word\"][index]\n",
    "    ipa = cmu_lexicon[\"ipa\"][index]\n",
    "    arpa = cmu_lexicon[\"arpa\"][index]\n",
    "\n",
    "    if word.lower() not in cam_lexicon:\n",
    "        oov += 1\n",
    "        continue\n",
    "\n",
    "    total += 1\n",
    "    if ipa not in cam_lexicon[word.lower()]:\n",
    "        count += 1\n",
    "        continue\n",
    "\n",
    "    valid_lexicon.append([word, arpa])\n",
    "    words.append(word)\n",
    "\n",
    "print(len(set(words)))\n",
    "print(count, total, oov)"
   ]
  },
  {
   "cell_type": "code",
   "execution_count": 38,
   "metadata": {},
   "outputs": [],
   "source": [
    "lexicon = pd.DataFrame(valid_lexicon, columns=[\"word\", \"arpa\"])"
   ]
  },
  {
   "cell_type": "code",
   "execution_count": 39,
   "metadata": {},
   "outputs": [],
   "source": [
    "lexicon = lexicon.sort_values(\"word\").reset_index()\n",
    "lexicon = lexicon[[\"word\", \"arpa\"]]"
   ]
  },
  {
   "cell_type": "code",
   "execution_count": 40,
   "metadata": {},
   "outputs": [],
   "source": [
    "path = \"/data/codes/apa/kaldi/g2p/lexicon/cambridge-lexicon.txt\"\n",
    "with open(path, \"w\", encoding=\"utf-8\") as f:\n",
    "    for index in lexicon.index:\n",
    "        word = lexicon[\"word\"][index]\n",
    "        arpa = lexicon[\"arpa\"][index]\n",
    "        f.write(f'{word}\\t{arpa}\\n')"
   ]
  }
 ],
 "metadata": {
  "kernelspec": {
   "display_name": "ps",
   "language": "python",
   "name": "python3"
  },
  "language_info": {
   "codemirror_mode": {
    "name": "ipython",
    "version": 3
   },
   "file_extension": ".py",
   "mimetype": "text/x-python",
   "name": "python",
   "nbconvert_exporter": "python",
   "pygments_lexer": "ipython3",
   "version": "3.8.17"
  }
 },
 "nbformat": 4,
 "nbformat_minor": 2
}
