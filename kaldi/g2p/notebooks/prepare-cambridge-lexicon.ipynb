{
 "cells": [
  {
   "cell_type": "code",
   "execution_count": null,
   "metadata": {},
   "outputs": [],
   "source": [
    "import json\n",
    "import os\n",
    "import pandas as pd\n",
    "from glob import glob\n",
    "from tqdm import tqdm\n",
    "import re"
   ]
  },
  {
   "cell_type": "code",
   "execution_count": null,
   "metadata": {},
   "outputs": [],
   "source": [
    "root_path = \"/data/codes/apa/kaldi/g2p/lexicon/raw/cambridge-dictionary\"\n",
    "\n",
    "files = glob(f'{root_path}/*.json')\n"
   ]
  },
  {
   "cell_type": "code",
   "execution_count": null,
   "metadata": {},
   "outputs": [],
   "source": [
    "cam2prep = {\n",
    "    \"ɔ\": \"ɔ\",\n",
    "    \"ɑ\": \"ɑ\",\n",
    "    \"i\": \"i\",\n",
    "    \"u\": \"u\",\n",
    "    \"e\": \"e\",\n",
    "    \"ɪ\": \"ɪ\",\n",
    "    \"ʊ\": \"ʊ\",\n",
    "    \"ʌ\": \"ʌ\",\n",
    "    \"ə\": \"ə\",\n",
    "    \"æ\": \"æ\",\n",
    "    \"eɪ\": \"eɪ\",\n",
    "    \"aɪ\": \"aɪ\",\n",
    "    \"oʊ\": \"oʊ\",\n",
    "    \"aʊ\": \"aʊ\",\n",
    "    \"ɔɪ\": \"ɔɪ\",\n",
    "    \"ɝ\": \"ɜr\",\n",
    "    \"ɚ\": \"ər\",\n",
    "    \"p\": \"p\",\n",
    "    \"b\": \"b\",\n",
    "    \"t\": \"t\",\n",
    "    \"d\": \"d\",\n",
    "    \"k\": \"k\",\n",
    "    \"g\": \"g\",\n",
    "    \"tʃ\": \"tʃ\",\n",
    "\t\"dʒ\": \"dʒ\",\n",
    "    \"f\": \"f\",\n",
    "    \"v\": \"v\",\n",
    "    \"θ\": \"θ\",\n",
    "\t\"ð\": \"ð\",\n",
    "\t\"s\": \"s\",\n",
    "\t\"z\": \"z\",\n",
    "\t\"ʃ\": \"ʃ\",\n",
    "    \"ʒ\": \"ʒ\",\n",
    "    \"h\": \"h\",\n",
    "\t\"m\": \"m\",\n",
    "    \"n\": \"n\",\n",
    "    \"ŋ\": \"ŋ\",\n",
    "    \"l\": \"l\",\n",
    "    \"t̬\": \"ɾ\",\n",
    "    \"j\": \"j\",\n",
    "    \"w\": \"w\",\n",
    "    \"ʔ\": \"ʔ\"\n",
    "}\n",
    "\n",
    "def convert2prep(ipa):\n",
    "    for key, value in cam2prep.items():\n",
    "        ipa = ipa.replace(key, value)\n",
    "\n",
    "    return ipa"
   ]
  },
  {
   "cell_type": "code",
   "execution_count": null,
   "metadata": {},
   "outputs": [],
   "source": [
    "camdict = {\n",
    "    \"ɒ\": \"ɑ\",\n",
    "    \"ɚ\": \"ɝ\",\n",
    "    \"ər\": \"ɝ\",\n",
    "    \"t̬\": \"ɾ\",\n",
    "    \"ɹ\": \"r\"\n",
    "}\n",
    "\n",
    "def norm_us_uk(ipa):\n",
    "    for key, value in camdict.items():\n",
    "        ipa = ipa.replace(key, value)\n",
    "    return ipa"
   ]
  },
  {
   "cell_type": "code",
   "execution_count": null,
   "metadata": {},
   "outputs": [],
   "source": [
    "cambridge_characters = \"a b d e f h i j k l m n o p r ɾ s t u v w x z æ ð ŋ ɑ ɒ ɔ ə ɚ ɜ ɡ ɪ ʃ ʊ ʌ ʒ ʔ ʤ θ ɝ\"\n",
    "\n",
    "def norm(ipa):\n",
    "    ipa = norm_us_uk(ipa)\n",
    "    \n",
    "    processed_ipa = []\n",
    "    for char in ipa:\n",
    "        if char not in cambridge_characters:\n",
    "            continue\n",
    "        processed_ipa.append(char)\n",
    "\n",
    "    processed_ipa = \"\".join(processed_ipa)\n",
    "    processed_ipa = convert2prep(processed_ipa)\n",
    "    return processed_ipa"
   ]
  },
  {
   "cell_type": "code",
   "execution_count": null,
   "metadata": {},
   "outputs": [],
   "source": [
    "lexicon = {}\n",
    "\n",
    "for file in tqdm(files):\n",
    "    word = json.load(open(file, \"r\", encoding=\"utf-8\"))\n",
    "    \n",
    "    text = word[\"word\"]\n",
    "    if len(text.split(\" \")) > 1:\n",
    "        continue\n",
    "    uk_ipas, us_ipas = [], []\n",
    "    is_valid = True\n",
    "    for meaning_case in word[\"meaning_cases\"]:\n",
    "        for word_type_case in meaning_case[\"word_type_cases\"]:\n",
    "            head_content = word_type_case[\"head_content\"]\n",
    "\n",
    "            if head_content[\"word_type\"] == \"_\":\n",
    "                is_valid = False\n",
    "                break\n",
    "            uk_ipa = head_content[\"ipa\"][\"uk\"]\n",
    "            us_ipa = head_content[\"ipa\"][\"us\"]\n",
    "\n",
    "            uk_ipa = [norm(ipa) for ipa in uk_ipa]\n",
    "            us_ipa = [norm(ipa) for ipa in us_ipa]\n",
    "\n",
    "            uk_ipas += uk_ipa\n",
    "            us_ipas += us_ipa\n",
    "\n",
    "    if is_valid == True:\n",
    "        lexicon[text] = {\n",
    "            \"us\": us_ipas,\n",
    "            \"uk\": uk_ipas\n",
    "        }\n",
    "len(lexicon)"
   ]
  },
  {
   "cell_type": "code",
   "execution_count": null,
   "metadata": {},
   "outputs": [],
   "source": [
    "path = \"/data/codes/apa/kaldi/g2p/lexicon/processed/cambridge-lexicon.json\"\n",
    "with open(path, \"w\", encoding=\"utf-8\") as f:\n",
    "    json_obj = json.dumps(lexicon, indent=4, ensure_ascii=False)\n",
    "    f.write(json_obj)"
   ]
  },
  {
   "cell_type": "code",
   "execution_count": null,
   "metadata": {},
   "outputs": [],
   "source": [
    "new_lexicon = {}\n",
    "for key, value in lexicon.items():    \n",
    "    new_lexicon[key] = value[\"us\"] + value[\"uk\"]"
   ]
  },
  {
   "cell_type": "code",
   "execution_count": null,
   "metadata": {},
   "outputs": [],
   "source": [
    "path = \"/data/codes/apa/kaldi/g2p/lexicon/processed/cambridge-words.txt\"\n",
    "with open(path, \"w\", encoding=\"utf-8\") as f:\n",
    "    f.write(\"\\n\".join(new_lexicon.keys()))"
   ]
  }
 ],
 "metadata": {
  "kernelspec": {
   "display_name": "ps",
   "language": "python",
   "name": "python3"
  },
  "language_info": {
   "codemirror_mode": {
    "name": "ipython",
    "version": 3
   },
   "file_extension": ".py",
   "mimetype": "text/x-python",
   "name": "python",
   "nbconvert_exporter": "python",
   "pygments_lexer": "ipython3",
   "version": "3.8.17"
  }
 },
 "nbformat": 4,
 "nbformat_minor": 2
}
