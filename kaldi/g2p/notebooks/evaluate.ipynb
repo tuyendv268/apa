{
 "cells": [
  {
   "cell_type": "code",
   "execution_count": 7,
   "metadata": {},
   "outputs": [],
   "source": [
    "import pandas as pd\n",
    "from jiwer import wer"
   ]
  },
  {
   "cell_type": "code",
   "execution_count": 9,
   "metadata": {},
   "outputs": [
    {
     "data": {
      "text/html": [
       "<div>\n",
       "<style scoped>\n",
       "    .dataframe tbody tr th:only-of-type {\n",
       "        vertical-align: middle;\n",
       "    }\n",
       "\n",
       "    .dataframe tbody tr th {\n",
       "        vertical-align: top;\n",
       "    }\n",
       "\n",
       "    .dataframe thead th {\n",
       "        text-align: right;\n",
       "    }\n",
       "</style>\n",
       "<table border=\"1\" class=\"dataframe\">\n",
       "  <thead>\n",
       "    <tr style=\"text-align: right;\">\n",
       "      <th></th>\n",
       "      <th>word</th>\n",
       "      <th>cmu</th>\n",
       "    </tr>\n",
       "  </thead>\n",
       "  <tbody>\n",
       "    <tr>\n",
       "      <th>0</th>\n",
       "      <td>mangle</td>\n",
       "      <td>M AE1 NG G AH0 L</td>\n",
       "    </tr>\n",
       "    <tr>\n",
       "      <th>1</th>\n",
       "      <td>force</td>\n",
       "      <td>F AO1 R S</td>\n",
       "    </tr>\n",
       "    <tr>\n",
       "      <th>2</th>\n",
       "      <td>cava</td>\n",
       "      <td>K AA1 V AH0</td>\n",
       "    </tr>\n",
       "    <tr>\n",
       "      <th>3</th>\n",
       "      <td>singe</td>\n",
       "      <td>S IH1 N JH</td>\n",
       "    </tr>\n",
       "    <tr>\n",
       "      <th>4</th>\n",
       "      <td>hesitantly</td>\n",
       "      <td>HH EH1 Z IH0 T AH0 N T L IY0</td>\n",
       "    </tr>\n",
       "  </tbody>\n",
       "</table>\n",
       "</div>"
      ],
      "text/plain": [
       "         word                           cmu\n",
       "0      mangle              M AE1 NG G AH0 L\n",
       "1       force                     F AO1 R S\n",
       "2        cava                   K AA1 V AH0\n",
       "3       singe                    S IH1 N JH\n",
       "4  hesitantly  HH EH1 Z IH0 T AH0 N T L IY0"
      ]
     },
     "execution_count": 9,
     "metadata": {},
     "output_type": "execute_result"
    }
   ],
   "source": [
    "cmu_path = \"/data/codes/apa/kaldi/g2p/data/cmu-output.txt\"\n",
    "\n",
    "cmu_output = pd.read_csv(cmu_path, names=[\"word\", \"cmu\"], sep=\"\\t\")\n",
    "cmu_output.head()"
   ]
  },
  {
   "cell_type": "code",
   "execution_count": 10,
   "metadata": {},
   "outputs": [
    {
     "data": {
      "text/html": [
       "<div>\n",
       "<style scoped>\n",
       "    .dataframe tbody tr th:only-of-type {\n",
       "        vertical-align: middle;\n",
       "    }\n",
       "\n",
       "    .dataframe tbody tr th {\n",
       "        vertical-align: top;\n",
       "    }\n",
       "\n",
       "    .dataframe thead th {\n",
       "        text-align: right;\n",
       "    }\n",
       "</style>\n",
       "<table border=\"1\" class=\"dataframe\">\n",
       "  <thead>\n",
       "    <tr style=\"text-align: right;\">\n",
       "      <th></th>\n",
       "      <th>word</th>\n",
       "      <th>cmu_cam</th>\n",
       "    </tr>\n",
       "  </thead>\n",
       "  <tbody>\n",
       "    <tr>\n",
       "      <th>0</th>\n",
       "      <td>mangle</td>\n",
       "      <td>M AE1 NG G AH0 L</td>\n",
       "    </tr>\n",
       "    <tr>\n",
       "      <th>1</th>\n",
       "      <td>force</td>\n",
       "      <td>F AO1 R S</td>\n",
       "    </tr>\n",
       "    <tr>\n",
       "      <th>2</th>\n",
       "      <td>cava</td>\n",
       "      <td>K AE2 V AH0</td>\n",
       "    </tr>\n",
       "    <tr>\n",
       "      <th>3</th>\n",
       "      <td>hesitantly</td>\n",
       "      <td>HH EH1 Z IH0 T AH0 N T L IY0</td>\n",
       "    </tr>\n",
       "    <tr>\n",
       "      <th>4</th>\n",
       "      <td>baptismal</td>\n",
       "      <td>B AE1 P T IH0 Z AH0 M AH0 L</td>\n",
       "    </tr>\n",
       "  </tbody>\n",
       "</table>\n",
       "</div>"
      ],
      "text/plain": [
       "         word                       cmu_cam\n",
       "0      mangle              M AE1 NG G AH0 L\n",
       "1       force                     F AO1 R S\n",
       "2        cava                   K AE2 V AH0\n",
       "3  hesitantly  HH EH1 Z IH0 T AH0 N T L IY0\n",
       "4   baptismal   B AE1 P T IH0 Z AH0 M AH0 L"
      ]
     },
     "execution_count": 10,
     "metadata": {},
     "output_type": "execute_result"
    }
   ],
   "source": [
    "cmu_cam_path = \"/data/codes/apa/kaldi/g2p/data/cmu-cam-output.txt\"\n",
    "\n",
    "cmu_cam_output = pd.read_csv(cmu_cam_path, names=[\"word\", \"cmu_cam\"], sep=\"\\t\")\n",
    "cmu_cam_output.head()"
   ]
  },
  {
   "cell_type": "code",
   "execution_count": 11,
   "metadata": {},
   "outputs": [
    {
     "data": {
      "text/html": [
       "<div>\n",
       "<style scoped>\n",
       "    .dataframe tbody tr th:only-of-type {\n",
       "        vertical-align: middle;\n",
       "    }\n",
       "\n",
       "    .dataframe tbody tr th {\n",
       "        vertical-align: top;\n",
       "    }\n",
       "\n",
       "    .dataframe thead th {\n",
       "        text-align: right;\n",
       "    }\n",
       "</style>\n",
       "<table border=\"1\" class=\"dataframe\">\n",
       "  <thead>\n",
       "    <tr style=\"text-align: right;\">\n",
       "      <th></th>\n",
       "      <th>word</th>\n",
       "      <th>label</th>\n",
       "    </tr>\n",
       "  </thead>\n",
       "  <tbody>\n",
       "    <tr>\n",
       "      <th>0</th>\n",
       "      <td>mangle</td>\n",
       "      <td>M AE1 NG G AH0 L</td>\n",
       "    </tr>\n",
       "    <tr>\n",
       "      <th>1</th>\n",
       "      <td>force</td>\n",
       "      <td>F AO1 R S</td>\n",
       "    </tr>\n",
       "    <tr>\n",
       "      <th>2</th>\n",
       "      <td>hesitantly</td>\n",
       "      <td>HH EH1 Z IH0 T AH0 N T L IY0</td>\n",
       "    </tr>\n",
       "    <tr>\n",
       "      <th>3</th>\n",
       "      <td>cava</td>\n",
       "      <td>K AA1 V AH0</td>\n",
       "    </tr>\n",
       "    <tr>\n",
       "      <th>4</th>\n",
       "      <td>baptismal</td>\n",
       "      <td>B AE0 P T IH1 Z M AH0 L</td>\n",
       "    </tr>\n",
       "  </tbody>\n",
       "</table>\n",
       "</div>"
      ],
      "text/plain": [
       "         word                         label\n",
       "0      mangle              M AE1 NG G AH0 L\n",
       "1       force                     F AO1 R S\n",
       "2  hesitantly  HH EH1 Z IH0 T AH0 N T L IY0\n",
       "3        cava                   K AA1 V AH0\n",
       "4   baptismal       B AE0 P T IH1 Z M AH0 L"
      ]
     },
     "execution_count": 11,
     "metadata": {},
     "output_type": "execute_result"
    }
   ],
   "source": [
    "label_path = \"/data/codes/apa/kaldi/g2p/data/test\"\n",
    "\n",
    "label = pd.read_csv(label_path, names=[\"word\", \"label\"], sep=\"\\t\")\n",
    "label[\"word\"] = label.word.apply(lambda x: x.lower())\n",
    "label.head()"
   ]
  },
  {
   "cell_type": "code",
   "execution_count": 16,
   "metadata": {},
   "outputs": [],
   "source": [
    "def cal_ler(pred, label):\n",
    "    error = wer(label, pred)\n",
    "\n",
    "    return error"
   ]
  },
  {
   "cell_type": "code",
   "execution_count": 18,
   "metadata": {},
   "outputs": [
    {
     "name": "stdout",
     "output_type": "stream",
     "text": [
      "0.11178380016791334\n"
     ]
    }
   ],
   "source": [
    "result = pd.merge(label, cmu_cam_output, on=\"word\", how=\"inner\")\n",
    "result[\"ler\"] = result.apply(lambda x: cal_ler(pred=x[\"cmu_cam\"], label=x[\"label\"]), axis=1)\n",
    "print(result.ler.mean())"
   ]
  },
  {
   "cell_type": "code",
   "execution_count": 20,
   "metadata": {},
   "outputs": [
    {
     "name": "stdout",
     "output_type": "stream",
     "text": [
      "0.01831786729773672\n"
     ]
    }
   ],
   "source": [
    "result = pd.merge(label, cmu_output, on=\"word\", how=\"inner\")\n",
    "result[\"ler\"] = result.apply(lambda x: cal_ler(pred=x[\"cmu\"], label=x[\"label\"]), axis=1)\n",
    "print(result.ler.mean())"
   ]
  }
 ],
 "metadata": {
  "kernelspec": {
   "display_name": "ps",
   "language": "python",
   "name": "python3"
  },
  "language_info": {
   "codemirror_mode": {
    "name": "ipython",
    "version": 3
   },
   "file_extension": ".py",
   "mimetype": "text/x-python",
   "name": "python",
   "nbconvert_exporter": "python",
   "pygments_lexer": "ipython3",
   "version": "3.8.17"
  }
 },
 "nbformat": 4,
 "nbformat_minor": 2
}
