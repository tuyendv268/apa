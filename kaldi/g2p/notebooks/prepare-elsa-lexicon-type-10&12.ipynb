{
 "cells": [
  {
   "cell_type": "code",
   "execution_count": 14,
   "metadata": {},
   "outputs": [
    {
     "name": "stdout",
     "output_type": "stream",
     "text": [
      "/data/codes/apa/kaldi/g2p\n",
      "INFO: Pandarallel will run on 10 workers.\n",
      "INFO: Pandarallel will use Memory file system to transfer data between the main process and workers.\n"
     ]
    }
   ],
   "source": [
    "%cd /data/codes/apa/kaldi/g2p\n",
    "\n",
    "import pandas as pd\n",
    "import os\n",
    "from glob import glob\n",
    "import json\n",
    "from pandarallel import pandarallel\n",
    "import random\n",
    "import re\n",
    "\n",
    "pandarallel.initialize(nb_workers=10, progress_bar=True)"
   ]
  },
  {
   "cell_type": "code",
   "execution_count": 15,
   "metadata": {},
   "outputs": [
    {
     "name": "stdout",
     "output_type": "stream",
     "text": [
      "(1509318, 12)\n",
      "(1481822, 12)\n"
     ]
    },
    {
     "data": {
      "text/html": [
       "<div>\n",
       "<style scoped>\n",
       "    .dataframe tbody tr th:only-of-type {\n",
       "        vertical-align: middle;\n",
       "    }\n",
       "\n",
       "    .dataframe tbody tr th {\n",
       "        vertical-align: top;\n",
       "    }\n",
       "\n",
       "    .dataframe thead th {\n",
       "        text-align: right;\n",
       "    }\n",
       "</style>\n",
       "<table border=\"1\" class=\"dataframe\">\n",
       "  <thead>\n",
       "    <tr style=\"text-align: right;\">\n",
       "      <th></th>\n",
       "      <th>id</th>\n",
       "      <th>is_deleted</th>\n",
       "      <th>user_id</th>\n",
       "      <th>question_id</th>\n",
       "      <th>question_type</th>\n",
       "      <th>question_content</th>\n",
       "      <th>url</th>\n",
       "      <th>score</th>\n",
       "      <th>fidelity_class</th>\n",
       "      <th>created_at</th>\n",
       "      <th>total_time</th>\n",
       "      <th>word_count</th>\n",
       "    </tr>\n",
       "  </thead>\n",
       "  <tbody>\n",
       "    <tr>\n",
       "      <th>0</th>\n",
       "      <td>5580001</td>\n",
       "      <td>0</td>\n",
       "      <td>88226.0</td>\n",
       "      <td>26144</td>\n",
       "      <td>10</td>\n",
       "      <td>Seat</td>\n",
       "      <td>https://storage.googleapis.com/materials-eleme...</td>\n",
       "      <td>53.00</td>\n",
       "      <td>RELEVANT</td>\n",
       "      <td>2023-09-18 21:17:11</td>\n",
       "      <td>2.45</td>\n",
       "      <td>1.0</td>\n",
       "    </tr>\n",
       "    <tr>\n",
       "      <th>1</th>\n",
       "      <td>5580002</td>\n",
       "      <td>0</td>\n",
       "      <td>63452.0</td>\n",
       "      <td>107048</td>\n",
       "      <td>10</td>\n",
       "      <td>Keep your body in shape</td>\n",
       "      <td>https://storage.googleapis.com/materials-eleme...</td>\n",
       "      <td>67.46</td>\n",
       "      <td>RELEVANT</td>\n",
       "      <td>2023-09-18 21:17:12</td>\n",
       "      <td>3.05</td>\n",
       "      <td>5.0</td>\n",
       "    </tr>\n",
       "  </tbody>\n",
       "</table>\n",
       "</div>"
      ],
      "text/plain": [
       "        id  is_deleted  user_id  question_id  question_type  \\\n",
       "0  5580001           0  88226.0        26144             10   \n",
       "1  5580002           0  63452.0       107048             10   \n",
       "\n",
       "          question_content                                                url  \\\n",
       "0                     Seat  https://storage.googleapis.com/materials-eleme...   \n",
       "1  Keep your body in shape  https://storage.googleapis.com/materials-eleme...   \n",
       "\n",
       "   score fidelity_class           created_at  total_time  word_count  \n",
       "0  53.00       RELEVANT  2023-09-18 21:17:11        2.45         1.0  \n",
       "1  67.46       RELEVANT  2023-09-18 21:17:12        3.05         5.0  "
      ]
     },
     "execution_count": 15,
     "metadata": {},
     "output_type": "execute_result"
    }
   ],
   "source": [
    "json_dir = \"/data/audio_data/pronunciation_scoring_result/marking_data/10\"\n",
    "audio_dir = \"/data/audio_data/prep_submission_audio/10\"\n",
    "metadata_path=\"/data/audio_data/pronunciation_scoring_result/dataset/info_qt_10_trainset.csv\"\n",
    "\n",
    "# json_dir = \"/data/audio_data/pronunciation_scoring_result/marking_data/12\"\n",
    "# audio_dir = \"/data/audio_data/prep_submission_audio/12\"\n",
    "# metadata_path=\"/data/codes/pronunciation-scoring-evaluate/data/raw/train-data-type-12-v2.csv\"\n",
    "\n",
    "metadata = pd.read_csv(metadata_path)\n",
    "print(metadata.shape)\n",
    "metadata = metadata[metadata.total_time > 1.0]\n",
    "print(metadata.shape)\n",
    "metadata.head(2)"
   ]
  },
  {
   "cell_type": "code",
   "execution_count": 16,
   "metadata": {},
   "outputs": [
    {
     "data": {
      "application/vnd.jupyter.widget-view+json": {
       "model_id": "875c8831de4146e3affba0fff5a1d7ab",
       "version_major": 2,
       "version_minor": 0
      },
      "text/plain": [
       "VBox(children=(HBox(children=(IntProgress(value=0, description='0.00%', max=148183), Label(value='0 / 148183')…"
      ]
     },
     "metadata": {},
     "output_type": "display_data"
    },
    {
     "data": {
      "text/plain": [
       "0                                    [[SEAT, S IY1 T]]\n",
       "1    [[KEEP, K IY1 P], [YOUR, Y UH1 R], [BODY, B AA...\n",
       "2                                [[SCHOOL, S K UW1 L]]\n",
       "3    [[THIS, DH IH1 S], [IS, IH1 Z], [A, AH0], [GOO...\n",
       "5                [[PRECISION, P R IH0 S IH1 ZH AH0 N]]\n",
       "Name: id, dtype: object"
      ]
     },
     "execution_count": 16,
     "metadata": {},
     "output_type": "execute_result"
    }
   ],
   "source": [
    "def parse_metadata_data(json_path):\n",
    "    try: \n",
    "        with open(json_path, \"r\") as f:\n",
    "            content = json.load(f)\n",
    "        id = os.path.basename(json_path).split(\".\")[0]\n",
    "\n",
    "        utterances = []\n",
    "        for raw_utterance in content[\"utterance\"]:\n",
    "            \n",
    "            for word_id, word in enumerate(raw_utterance[\"words\"]):\n",
    "                \n",
    "                trans_arpabet = word[\"trans_arpabet\"]\n",
    "                text = word[\"text\"]\n",
    "\n",
    "                utterances.append([text, trans_arpabet])\n",
    "        \n",
    "        return utterances\n",
    "    except:\n",
    "        return []\n",
    "\n",
    "extracted_data = metadata.id.parallel_apply(lambda x: parse_metadata_data(os.path.join(json_dir, f'{x}.json')))\n",
    "extracted_data.head()\n",
    "# metadata.id.head(100).apply(lambda x: parse_metadata_data(os.path.join(json_dir, f'{x}.json')))"
   ]
  },
  {
   "cell_type": "code",
   "execution_count": 17,
   "metadata": {},
   "outputs": [],
   "source": [
    "lexicon = extracted_data.explode().reset_index()\n",
    "lexicon.dropna(inplace=True)\n"
   ]
  },
  {
   "cell_type": "code",
   "execution_count": 18,
   "metadata": {},
   "outputs": [],
   "source": [
    "lexicon = extracted_data.explode().reset_index()\n",
    "lexicon.dropna(inplace=True)\n",
    "\n",
    "lexicon[\"word\"] = lexicon[\"id\"].apply(lambda x: x[0])\n",
    "lexicon[\"arpa\"] = lexicon[\"id\"].apply(lambda x: x[1])"
   ]
  },
  {
   "cell_type": "code",
   "execution_count": 19,
   "metadata": {},
   "outputs": [
    {
     "name": "stderr",
     "output_type": "stream",
     "text": [
      "  0%|          | 0/5399442 [00:00<?, ?it/s]"
     ]
    },
    {
     "name": "stderr",
     "output_type": "stream",
     "text": [
      "100%|██████████| 5399442/5399442 [00:30<00:00, 175659.47it/s]\n"
     ]
    }
   ],
   "source": [
    "from tqdm import tqdm\n",
    "\n",
    "count = {}\n",
    "vocab = {}\n",
    "for index in tqdm(lexicon.index):\n",
    "    word = lexicon[\"word\"][index].upper()\n",
    "    arpa = lexicon[\"arpa\"][index]\n",
    "    key = f'{word}-{arpa}'\n",
    "\n",
    "    if key not in count:\n",
    "        count[key] = 1\n",
    "    else:\n",
    "        count[key] += 1\n",
    "\n",
    "    if word not in vocab:\n",
    "        vocab[word] = [arpa, ]\n",
    "    else:\n",
    "        if arpa not in vocab[word]:\n",
    "            vocab[word].append(arpa)\n",
    "    "
   ]
  },
  {
   "cell_type": "code",
   "execution_count": 20,
   "metadata": {},
   "outputs": [
    {
     "data": {
      "text/plain": [
       "3667"
      ]
     },
     "execution_count": 20,
     "metadata": {},
     "output_type": "execute_result"
    }
   ],
   "source": [
    "lexicon = []\n",
    "for key, value in vocab.items():\n",
    "    if len(key.split()) > 1:\n",
    "        continue\n",
    "    \n",
    "    for arpa in value:\n",
    "        tmp = f'{key}-{arpa}'\n",
    "        # if count[tmp] < 2:\n",
    "        #     continue\n",
    "        lexicon.append([key, arpa])\n",
    "        \n",
    "len(lexicon)"
   ]
  },
  {
   "cell_type": "code",
   "execution_count": 21,
   "metadata": {},
   "outputs": [],
   "source": [
    "path = \"/data/codes/apa/kaldi/g2p/lexicon/processed/elsa-lexicon-10.txt\"\n",
    "with open(path, \"w\", encoding=\"utf-8\") as f:\n",
    "    for line in lexicon:\n",
    "        f.write(\"\\t\".join(line))\n",
    "        f.write(\"\\n\")"
   ]
  }
 ],
 "metadata": {
  "kernelspec": {
   "display_name": "ps",
   "language": "python",
   "name": "python3"
  },
  "language_info": {
   "codemirror_mode": {
    "name": "ipython",
    "version": 3
   },
   "file_extension": ".py",
   "mimetype": "text/x-python",
   "name": "python",
   "nbconvert_exporter": "python",
   "pygments_lexer": "ipython3",
   "version": "3.8.17"
  }
 },
 "nbformat": 4,
 "nbformat_minor": 2
}
