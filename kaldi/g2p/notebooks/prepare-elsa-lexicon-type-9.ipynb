{
 "cells": [
  {
   "cell_type": "code",
   "execution_count": 1,
   "metadata": {},
   "outputs": [
    {
     "name": "stdout",
     "output_type": "stream",
     "text": [
      "INFO: Pandarallel will run on 10 workers.\n",
      "INFO: Pandarallel will use Memory file system to transfer data between the main process and workers.\n"
     ]
    }
   ],
   "source": [
    "import pandas as pd\n",
    "import os\n",
    "from glob import glob\n",
    "import json\n",
    "from pandarallel import pandarallel\n",
    "import random\n",
    "import re\n",
    "\n",
    "pandarallel.initialize(nb_workers=10, progress_bar=True)"
   ]
  },
  {
   "cell_type": "code",
   "execution_count": 2,
   "metadata": {},
   "outputs": [
    {
     "data": {
      "text/html": [
       "<div>\n",
       "<style scoped>\n",
       "    .dataframe tbody tr th:only-of-type {\n",
       "        vertical-align: middle;\n",
       "    }\n",
       "\n",
       "    .dataframe tbody tr th {\n",
       "        vertical-align: top;\n",
       "    }\n",
       "\n",
       "    .dataframe thead th {\n",
       "        text-align: right;\n",
       "    }\n",
       "</style>\n",
       "<table border=\"1\" class=\"dataframe\">\n",
       "  <thead>\n",
       "    <tr style=\"text-align: right;\">\n",
       "      <th></th>\n",
       "      <th>id</th>\n",
       "      <th>is_deleted</th>\n",
       "      <th>user_id</th>\n",
       "      <th>question_id</th>\n",
       "      <th>question_type</th>\n",
       "      <th>question_content</th>\n",
       "      <th>url</th>\n",
       "      <th>score</th>\n",
       "      <th>fidelity_class</th>\n",
       "      <th>created_at</th>\n",
       "      <th>total_time</th>\n",
       "      <th>word_count</th>\n",
       "    </tr>\n",
       "  </thead>\n",
       "  <tbody>\n",
       "    <tr>\n",
       "      <th>0</th>\n",
       "      <td>5580125</td>\n",
       "      <td>0</td>\n",
       "      <td>105954.0</td>\n",
       "      <td>224272</td>\n",
       "      <td>9</td>\n",
       "      <td>To be honest with you, I have never watched a ...</td>\n",
       "      <td>https://storage.googleapis.com/materials-eleme...</td>\n",
       "      <td>NaN</td>\n",
       "      <td>NaN</td>\n",
       "      <td>2023-09-18 21:18:30</td>\n",
       "      <td>23.66</td>\n",
       "      <td>62.0</td>\n",
       "    </tr>\n",
       "    <tr>\n",
       "      <th>1</th>\n",
       "      <td>5580126</td>\n",
       "      <td>0</td>\n",
       "      <td>105954.0</td>\n",
       "      <td>224271</td>\n",
       "      <td>9</td>\n",
       "      <td>Definitely yes. When you have been robot aroun...</td>\n",
       "      <td>https://storage.googleapis.com/materials-eleme...</td>\n",
       "      <td>NaN</td>\n",
       "      <td>NaN</td>\n",
       "      <td>2023-09-18 21:18:30</td>\n",
       "      <td>23.37</td>\n",
       "      <td>66.0</td>\n",
       "    </tr>\n",
       "  </tbody>\n",
       "</table>\n",
       "</div>"
      ],
      "text/plain": [
       "        id  is_deleted   user_id  question_id  question_type  \\\n",
       "0  5580125           0  105954.0       224272              9   \n",
       "1  5580126           0  105954.0       224271              9   \n",
       "\n",
       "                                    question_content  \\\n",
       "0  To be honest with you, I have never watched a ...   \n",
       "1  Definitely yes. When you have been robot aroun...   \n",
       "\n",
       "                                                 url  score  fidelity_class  \\\n",
       "0  https://storage.googleapis.com/materials-eleme...    NaN             NaN   \n",
       "1  https://storage.googleapis.com/materials-eleme...    NaN             NaN   \n",
       "\n",
       "            created_at  total_time  word_count  \n",
       "0  2023-09-18 21:18:30       23.66        62.0  \n",
       "1  2023-09-18 21:18:30       23.37        66.0  "
      ]
     },
     "execution_count": 2,
     "metadata": {},
     "output_type": "execute_result"
    }
   ],
   "source": [
    "json_dir = \"/data/audio_data/pronunciation_scoring_result/marking_data/9\"\n",
    "metadata_path=\"/data/audio_data/pronunciation_scoring_result/merged_info/info_question_type-9_01082022_18092023.csv\"\n",
    "metadata = pd.read_csv(metadata_path)\n",
    "metadata.head(2)"
   ]
  },
  {
   "cell_type": "code",
   "execution_count": 3,
   "metadata": {},
   "outputs": [
    {
     "data": {
      "application/vnd.jupyter.widget-view+json": {
       "model_id": "4a41a5d65be94850b5243c4ae531fca1",
       "version_major": 2,
       "version_minor": 0
      },
      "text/plain": [
       "VBox(children=(HBox(children=(IntProgress(value=0, description='0.00%', max=23806), Label(value='0 / 23806')))…"
      ]
     },
     "metadata": {},
     "output_type": "display_data"
    },
    {
     "data": {
      "text/plain": [
       "0    [[To, T AH0], [be, B IY0], [honest, AA1 N AH0 ...\n",
       "1    [[Definitely, D EH1 F AH0 N AH0 T L IY0], [yes...\n",
       "2    [[In, AH0 N], [my, M AY1], [opinion, AH0 P IH1...\n",
       "3    [[Apart, AH0 P AA1 R T], [from, F R AH1 M], [t...\n",
       "4    [[Considering, K AH0 N S IH1 DX ER0 IH0 NG], [...\n",
       "dtype: object"
      ]
     },
     "execution_count": 3,
     "metadata": {},
     "output_type": "execute_result"
    }
   ],
   "source": [
    "def parse_metadata_data(json_path, user_id):\n",
    "        try:\n",
    "            with open(json_path, \"r\") as f:\n",
    "                content = json.load(f)\n",
    "\n",
    "            utterances = []\n",
    "            for raw_utterance in content[\"utterances\"]:\n",
    "                for word_id, word in enumerate(raw_utterance[\"result\"][\"words\"]):\n",
    "                    trans_arpabet = word[\"trans_arpabet\"]\n",
    "                    text = word[\"text\"]\n",
    "\n",
    "                    utterances.append([text, trans_arpabet])\n",
    "            return utterances\n",
    "        except:\n",
    "             return []\n",
    "\n",
    "extracted_data = metadata.parallel_apply(lambda x: parse_metadata_data(json_path=os.path.join(json_dir, f'{x[\"id\"]}.json'), user_id=x[\"user_id\"] ), axis=1)\n",
    "extracted_data.head()"
   ]
  },
  {
   "cell_type": "code",
   "execution_count": 4,
   "metadata": {},
   "outputs": [],
   "source": [
    "lexicon = extracted_data.explode().reset_index()\n",
    "lexicon.dropna(inplace=True)\n",
    "\n",
    "lexicon[\"word\"] = lexicon[0].apply(lambda x: x[0])\n",
    "lexicon[\"arpa\"] = lexicon[0].apply(lambda x: x[1])"
   ]
  },
  {
   "cell_type": "code",
   "execution_count": 5,
   "metadata": {},
   "outputs": [
    {
     "name": "stderr",
     "output_type": "stream",
     "text": [
      "  0%|          | 0/12547683 [00:00<?, ?it/s]"
     ]
    },
    {
     "name": "stderr",
     "output_type": "stream",
     "text": [
      "100%|██████████| 12547683/12547683 [01:06<00:00, 188550.62it/s]\n"
     ]
    }
   ],
   "source": [
    "from tqdm import tqdm\n",
    "\n",
    "count = {}\n",
    "vocab = {}\n",
    "for index in tqdm(lexicon.index):\n",
    "    word = lexicon[\"word\"][index].upper()\n",
    "    arpa = lexicon[\"arpa\"][index]\n",
    "    key = f'{word}-{arpa}'\n",
    "\n",
    "    if key not in count:\n",
    "        count[key] = 1\n",
    "    else:\n",
    "        count[key] += 1\n",
    "\n",
    "    if word not in vocab:\n",
    "        vocab[word] = [arpa, ]\n",
    "    else:\n",
    "        if arpa not in vocab[word]:\n",
    "            vocab[word].append(arpa)\n",
    "    "
   ]
  },
  {
   "cell_type": "code",
   "execution_count": 6,
   "metadata": {},
   "outputs": [],
   "source": [
    "lexicon = []\n",
    "for key, value in vocab.items():\n",
    "    if len(key.split()) > 1:\n",
    "        continue\n",
    "    \n",
    "    for arpa in value:\n",
    "        tmp = f'{key}-{arpa}'\n",
    "        # if count[tmp] < 2:\n",
    "        #     continue\n",
    "        lexicon.append([key, arpa])"
   ]
  },
  {
   "cell_type": "code",
   "execution_count": 7,
   "metadata": {},
   "outputs": [],
   "source": [
    "path = \"/data/codes/apa/kaldi/g2p/lexicon/processed/elsa-lexicon.txt\"\n",
    "with open(path, \"w\", encoding=\"utf-8\") as f:\n",
    "    for line in lexicon:\n",
    "        f.write(\"\\t\".join(line))\n",
    "        f.write(\"\\n\")"
   ]
  }
 ],
 "metadata": {
  "kernelspec": {
   "display_name": "ps",
   "language": "python",
   "name": "python3"
  },
  "language_info": {
   "codemirror_mode": {
    "name": "ipython",
    "version": 3
   },
   "file_extension": ".py",
   "mimetype": "text/x-python",
   "name": "python",
   "nbconvert_exporter": "python",
   "pygments_lexer": "ipython3",
   "version": "3.8.17"
  }
 },
 "nbformat": 4,
 "nbformat_minor": 2
}
