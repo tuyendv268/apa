{
 "cells": [
  {
   "cell_type": "code",
   "execution_count": 1,
   "metadata": {},
   "outputs": [
    {
     "name": "stdout",
     "output_type": "stream",
     "text": [
      "/data/codes/prep_gopt/egs/librispeech/s5\n",
      "INFO: Pandarallel will run on 5 workers.\n",
      "INFO: Pandarallel will use Memory file system to transfer data between the main process and workers.\n"
     ]
    }
   ],
   "source": [
    "%cd /data/codes/prep_gopt/egs/librispeech/s5/\n",
    "\n",
    "from pandarallel import pandarallel\n",
    "from asr import Whisper_STT\n",
    "from glob import glob\n",
    "import soundfile as sf\n",
    "import pandas as pd\n",
    "import librosa\n",
    "import random\n",
    "import json\n",
    "import re\n",
    "import os\n",
    "\n",
    "pandarallel.initialize(nb_workers=5, progress_bar=True)"
   ]
  },
  {
   "cell_type": "code",
   "execution_count": 2,
   "metadata": {},
   "outputs": [
    {
     "data": {
      "text/html": [
       "<div>\n",
       "<style scoped>\n",
       "    .dataframe tbody tr th:only-of-type {\n",
       "        vertical-align: middle;\n",
       "    }\n",
       "\n",
       "    .dataframe tbody tr th {\n",
       "        vertical-align: top;\n",
       "    }\n",
       "\n",
       "    .dataframe thead th {\n",
       "        text-align: right;\n",
       "    }\n",
       "</style>\n",
       "<table border=\"1\" class=\"dataframe\">\n",
       "  <thead>\n",
       "    <tr style=\"text-align: right;\">\n",
       "      <th></th>\n",
       "      <th>sent</th>\n",
       "    </tr>\n",
       "  </thead>\n",
       "  <tbody>\n",
       "    <tr>\n",
       "      <th>0</th>\n",
       "      <td>{\"start_time\": 14.415, \"end_time\": 20.945, \"te...</td>\n",
       "    </tr>\n",
       "    <tr>\n",
       "      <th>1</th>\n",
       "      <td>{\"start_time\": 7.08, \"end_time\": 15.23, \"text\"...</td>\n",
       "    </tr>\n",
       "    <tr>\n",
       "      <th>2</th>\n",
       "      <td>{\"start_time\": 12.4, \"end_time\": 19.71, \"text\"...</td>\n",
       "    </tr>\n",
       "    <tr>\n",
       "      <th>3</th>\n",
       "      <td>{\"start_time\": 28.11, \"end_time\": 29.35, \"text...</td>\n",
       "    </tr>\n",
       "    <tr>\n",
       "      <th>4</th>\n",
       "      <td>{\"start_time\": 6.175, \"end_time\": 11.620000000...</td>\n",
       "    </tr>\n",
       "  </tbody>\n",
       "</table>\n",
       "</div>"
      ],
      "text/plain": [
       "                                                sent\n",
       "0  {\"start_time\": 14.415, \"end_time\": 20.945, \"te...\n",
       "1  {\"start_time\": 7.08, \"end_time\": 15.23, \"text\"...\n",
       "2  {\"start_time\": 12.4, \"end_time\": 19.71, \"text\"...\n",
       "3  {\"start_time\": 28.11, \"end_time\": 29.35, \"text...\n",
       "4  {\"start_time\": 6.175, \"end_time\": 11.620000000..."
      ]
     },
     "execution_count": 2,
     "metadata": {},
     "output_type": "execute_result"
    }
   ],
   "source": [
    "path = \"/data/codes/prep_gopt/egs/librispeech/s5/data/stt/processed/filtered_sents_type_9.csv\"\n",
    "df = pd.read_csv(path, index_col=0)\n",
    "df.head()"
   ]
  },
  {
   "cell_type": "code",
   "execution_count": 3,
   "metadata": {},
   "outputs": [
    {
     "data": {
      "text/plain": [
       "(96840, 1)"
      ]
     },
     "execution_count": 3,
     "metadata": {},
     "output_type": "execute_result"
    }
   ],
   "source": [
    "df.shape"
   ]
  },
  {
   "cell_type": "code",
   "execution_count": 22,
   "metadata": {},
   "outputs": [
    {
     "data": {
      "text/plain": [
       "0        {'start_time': 14.415, 'end_time': 20.945, 'te...\n",
       "1        {'start_time': 7.08, 'end_time': 15.23, 'text'...\n",
       "2        {'start_time': 12.4, 'end_time': 19.71, 'text'...\n",
       "3        {'start_time': 28.11, 'end_time': 29.35, 'text...\n",
       "4        {'start_time': 6.175, 'end_time': 11.620000000...\n",
       "                               ...                        \n",
       "96835    {'start_time': 119.66, 'end_time': 120.49, 'te...\n",
       "96836    {'start_time': 43.75, 'end_time': 49.57, 'text...\n",
       "96837    {'start_time': 109.99, 'end_time': 111.31, 'te...\n",
       "96838    {'start_time': 9.565000000000001, 'end_time': ...\n",
       "96839    {'start_time': 22.71, 'end_time': 26.9, 'text'...\n",
       "Name: sent, Length: 96840, dtype: object"
      ]
     },
     "execution_count": 22,
     "metadata": {},
     "output_type": "execute_result"
    }
   ],
   "source": [
    "in_dir = \"/data/audio_data/prep_submission_audio/9\"\n",
    "out_dir = \"/data/codes/prep_gopt/egs/librispeech/s5/data/prep/wavs\"\n",
    "\n",
    "def extract_audio(sent):\n",
    "    sent = json.loads(sent)\n",
    "    in_wav = f'{in_dir}/{sent[\"id\"]}.wav'\n",
    "    out_wav = f'{out_dir}/{sent[\"utt_id\"]}.wav'\n",
    "    \n",
    "    start_indice = int(sent[\"start_time\"] * 16000)\n",
    "    end_indice = int(sent[\"end_time\"] * 16000)\n",
    "    \n",
    "    waveform, sr = librosa.load(in_wav, sr=16000)\n",
    "    sf.write(out_wav, data=waveform[start_indice:end_indice], samplerate=sr)\n",
    "    return sent\n",
    "\n",
    "df.sent.apply(extract_audio)"
   ]
  },
  {
   "cell_type": "code",
   "execution_count": 24,
   "metadata": {},
   "outputs": [
    {
     "name": "stdout",
     "output_type": "stream",
     "text": [
      "154.9592986111111\n"
     ]
    },
    {
     "data": {
      "text/plain": [
       "<Axes: >"
      ]
     },
     "execution_count": 24,
     "metadata": {},
     "output_type": "execute_result"
    },
    {
     "data": {
      "image/png": "[encoded data removed]",
      "text/plain": [
       "<Figure size 640x480 with 1 Axes>"
      ]
     },
     "metadata": {},
     "output_type": "display_data"
    }
   ],
   "source": [
    "duration = df.sent.apply(lambda x: json.loads(x)[\"end_time\"] - json.loads(x)[\"start_time\"])\n",
    "print(duration.sum()/3600)\n",
    "duration.hist(bins=100)"
   ]
  },
  {
   "cell_type": "code",
   "execution_count": 25,
   "metadata": {},
   "outputs": [],
   "source": [
    "seleted_data = df[(duration > 1) & (duration < 20)].reset_index()\n",
    "seleted_data[\"sent\"] = seleted_data.sent.apply(lambda x: json.loads(x))"
   ]
  },
  {
   "cell_type": "code",
   "execution_count": 16,
   "metadata": {},
   "outputs": [],
   "source": [
    "def normalize(text):\n",
    "    text = re.sub('[\\!@#$%^&*\\(\\)\\\\\\.\\'\\\"\\,\\?\\;\\:\\+\\-\\_\\/\\|~`]', ' ', text)\n",
    "    text = re.sub('\\s+', ' ', text)\n",
    "    text = text.upper().strip()\n",
    "    return text"
   ]
  },
  {
   "cell_type": "code",
   "execution_count": 28,
   "metadata": {},
   "outputs": [
    {
     "data": {
      "application/vnd.jupyter.widget-view+json": {
       "model_id": "d24cce9633b54246a3fe1ae4d8b2907f",
       "version_major": 2,
       "version_minor": 0
      },
      "text/plain": [
       "VBox(children=(HBox(children=(IntProgress(value=0, description='0.00%', max=18577), Label(value='0 / 18577')))…"
      ]
     },
     "metadata": {},
     "output_type": "display_data"
    },
    {
     "data": {
      "application/vnd.jupyter.widget-view+json": {
       "model_id": "f5eeb9079f954eeb8e2c1e99be7bbe3d",
       "version_major": 2,
       "version_minor": 0
      },
      "text/plain": [
       "VBox(children=(HBox(children=(IntProgress(value=0, description='0.00%', max=18577), Label(value='0 / 18577')))…"
      ]
     },
     "metadata": {},
     "output_type": "display_data"
    },
    {
     "data": {
      "application/vnd.jupyter.widget-view+json": {
       "model_id": "31f2bafe5cb5406597a0af183ccbc357",
       "version_major": 2,
       "version_minor": 0
      },
      "text/plain": [
       "VBox(children=(HBox(children=(IntProgress(value=0, description='0.00%', max=18577), Label(value='0 / 18577')))…"
      ]
     },
     "metadata": {},
     "output_type": "display_data"
    }
   ],
   "source": [
    "wav_dir = \"/data/codes/prep_gopt/egs/librispeech/s5/data/prep/wavs\"\n",
    "\n",
    "seleted_data[\"text\"] = seleted_data.sent.parallel_apply(lambda x: normalize(x[\"text\"]))\n",
    "seleted_data[\"wav_path\"] = seleted_data.sent.parallel_apply(lambda x: os.path.join(wav_dir, f'{x[\"utt_id\"]}.wav'))\n",
    "seleted_data[\"utt_id\"] = seleted_data.sent.parallel_apply(lambda x: x[\"utt_id\"])\n",
    "seleted_data[\"spk_id\"] = ['0'*(8-len(str(spk_id))) + f'{spk_id}' for spk_id in range(seleted_data.shape[0])]\n",
    "\n",
    "seleted_data.sort_values(\"utt_id\", inplace=True)"
   ]
  },
  {
   "cell_type": "code",
   "execution_count": 32,
   "metadata": {},
   "outputs": [
    {
     "data": {
      "text/plain": [
       "<Axes: >"
      ]
     },
     "execution_count": 32,
     "metadata": {},
     "output_type": "execute_result"
    },
    {
     "data": {
      "image/png": "[encoded data removed]",
      "text/plain": [
       "<Figure size 640x480 with 1 Axes>"
      ]
     },
     "metadata": {},
     "output_type": "display_data"
    }
   ],
   "source": [
    "duration[(duration > 1) & (duration < 20)].hist(bins=100)"
   ]
  },
  {
   "cell_type": "code",
   "execution_count": 33,
   "metadata": {},
   "outputs": [
    {
     "data": {
      "application/vnd.jupyter.widget-view+json": {
       "model_id": "50042d6de2b148648ba9ae6164273f84",
       "version_major": 2,
       "version_minor": 0
      },
      "text/plain": [
       "VBox(children=(HBox(children=(IntProgress(value=0, description='0.00%', max=18577), Label(value='0 / 18577')))…"
      ]
     },
     "metadata": {},
     "output_type": "display_data"
    }
   ],
   "source": [
    "def check_audio(path):\n",
    "    wav, sr = librosa.load(path, sr=16000)\n",
    "    return wav.shape[0]/sr\n",
    "\n",
    "duration_1 = seleted_data[\"wav_path\"].parallel_apply(lambda x: check_audio(x))\n",
    "seleted_data = seleted_data[(duration_1>1)]"
   ]
  },
  {
   "cell_type": "code",
   "execution_count": 18,
   "metadata": {},
   "outputs": [],
   "source": [
    "seleted_data[90000:][[\"wav_path\", \"text\"]].to_csv(\"/home/tuyendv/projects/speech_to_text/data/test.csv\", index=None, header=None, sep=\"|\")\n",
    "seleted_data[:90000][[\"wav_path\", \"text\"]].to_csv(\"/home/tuyendv/projects/speech_to_text/data/train.csv\", index=None, header=None, sep=\"|\")"
   ]
  },
  {
   "cell_type": "code",
   "execution_count": 32,
   "metadata": {},
   "outputs": [],
   "source": [
    "def create_text_file(f, first_column, second_column):\n",
    "    line = f'{first_column}\\t{second_column}'\n",
    "    f.write(line + \"\\n\")\n",
    "\n",
    "data_dir = \"/data/codes/prep_gopt/egs/librispeech/s5/data/prep/train_processed_type_10\"\n",
    "# os.mkdir(data_dir)\n",
    "wavscp_path = f'{data_dir}/wav.scp'\n",
    "text_path = f'{data_dir}/text'\n",
    "spk2utt_path = f'{data_dir}/spk2utt'\n",
    "utt2spk_path = f'{data_dir}/utt2spk'\n",
    "\n",
    "with open(wavscp_path, \"w\", encoding=\"utf-8\") as f:\n",
    "    seleted_data[0:90000].apply(lambda x: create_text_file(f, x[\"utt_id\"], x[\"wav_path\"]), axis=1)\n",
    "    \n",
    "with open(text_path, \"w\", encoding=\"utf-8\") as f:\n",
    "    seleted_data[0:90000].apply(lambda x: create_text_file(f, x[\"utt_id\"], x[\"text\"]), axis=1)\n",
    "    \n",
    "with open(spk2utt_path, \"w\", encoding=\"utf-8\") as f:\n",
    "    seleted_data[0:90000].apply(lambda x: create_text_file(f, x[\"utt_id\"], x[\"utt_id\"]), axis=1)\n",
    "    \n",
    "with open(utt2spk_path, \"w\", encoding=\"utf-8\") as f:\n",
    "    seleted_data[0:90000].apply(lambda x: create_text_file(f, x[\"utt_id\"], x[\"utt_id\"]), axis=1)"
   ]
  },
  {
   "cell_type": "code",
   "execution_count": 33,
   "metadata": {},
   "outputs": [],
   "source": [
    "def create_text_file(f, first_column, second_column):\n",
    "    line = f'{first_column}\\t{second_column}'\n",
    "    f.write(line + \"\\n\")\n",
    "\n",
    "\n",
    "data_dir = \"/data/codes/prep_gopt/egs/librispeech/s5/data/prep/test_processed_type_10\"\n",
    "os.mkdir(data_dir)\n",
    "wavscp_path = f'{data_dir}/wav.scp'\n",
    "text_path = f'{data_dir}/text'\n",
    "spk2utt_path = f'{data_dir}/spk2utt'\n",
    "utt2spk_path = f'{data_dir}/utt2spk'\n",
    "\n",
    "with open(wavscp_path, \"w\", encoding=\"utf-8\") as f:\n",
    "    seleted_data[90000:].apply(lambda x: create_text_file(f, x[\"utt_id\"], x[\"wav_path\"]), axis=1)\n",
    "    \n",
    "with open(text_path, \"w\", encoding=\"utf-8\") as f:\n",
    "    seleted_data[90000:].apply(lambda x: create_text_file(f, x[\"utt_id\"], x[\"text\"]), axis=1)\n",
    "    \n",
    "with open(spk2utt_path, \"w\", encoding=\"utf-8\") as f:\n",
    "    seleted_data[90000:].apply(lambda x: create_text_file(f, x[\"utt_id\"], x[\"utt_id\"]), axis=1)\n",
    "    \n",
    "with open(utt2spk_path, \"w\", encoding=\"utf-8\") as f:\n",
    "    seleted_data[90000:].apply(lambda x: create_text_file(f, x[\"utt_id\"], x[\"utt_id\"]), axis=1)"
   ]
  },
  {
   "cell_type": "code",
   "execution_count": null,
   "metadata": {},
   "outputs": [],
   "source": []
  }
 ],
 "metadata": {
  "kernelspec": {
   "display_name": "ps",
   "language": "python",
   "name": "python3"
  },
  "language_info": {
   "codemirror_mode": {
    "name": "ipython",
    "version": 3
   },
   "file_extension": ".py",
   "mimetype": "text/x-python",
   "name": "python",
   "nbconvert_exporter": "python",
   "pygments_lexer": "ipython3",
   "version": "3.8.17"
  },
  "orig_nbformat": 4
 },
 "nbformat": 4,
 "nbformat_minor": 2
}
