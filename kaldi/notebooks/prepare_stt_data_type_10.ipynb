{
 "cells": [
  {
   "cell_type": "code",
   "execution_count": 9,
   "metadata": {},
   "outputs": [
    {
     "name": "stdout",
     "output_type": "stream",
     "text": [
      "/data/codes/prep_gopt/egs/librispeech/s5\n",
      "INFO: Pandarallel will run on 5 workers.\n",
      "INFO: Pandarallel will use Memory file system to transfer data between the main process and workers.\n"
     ]
    }
   ],
   "source": [
    "%cd /data/codes/prep_gopt/egs/librispeech/s5/\n",
    "\n",
    "from pandarallel import pandarallel\n",
    "from asr import Whisper_STT\n",
    "from glob import glob\n",
    "import soundfile as sf\n",
    "import pandas as pd\n",
    "import librosa\n",
    "import random\n",
    "import json\n",
    "import re\n",
    "import os\n",
    "\n",
    "pandarallel.initialize(nb_workers=5, progress_bar=True)"
   ]
  },
  {
   "cell_type": "code",
   "execution_count": 10,
   "metadata": {},
   "outputs": [
    {
     "data": {
      "text/html": [
       "<div>\n",
       "<style scoped>\n",
       "    .dataframe tbody tr th:only-of-type {\n",
       "        vertical-align: middle;\n",
       "    }\n",
       "\n",
       "    .dataframe tbody tr th {\n",
       "        vertical-align: top;\n",
       "    }\n",
       "\n",
       "    .dataframe thead th {\n",
       "        text-align: right;\n",
       "    }\n",
       "</style>\n",
       "<table border=\"1\" class=\"dataframe\">\n",
       "  <thead>\n",
       "    <tr style=\"text-align: right;\">\n",
       "      <th></th>\n",
       "      <th>sent</th>\n",
       "    </tr>\n",
       "  </thead>\n",
       "  <tbody>\n",
       "    <tr>\n",
       "      <th>0</th>\n",
       "      <td>{\"start_time\": 0.37, \"end_time\": 1.32, \"text\":...</td>\n",
       "    </tr>\n",
       "    <tr>\n",
       "      <th>1</th>\n",
       "      <td>{\"start_time\": 0.23, \"end_time\": 0.66, \"text\":...</td>\n",
       "    </tr>\n",
       "    <tr>\n",
       "      <th>2</th>\n",
       "      <td>{\"start_time\": 0.53, \"end_time\": 1.67, \"text\":...</td>\n",
       "    </tr>\n",
       "    <tr>\n",
       "      <th>3</th>\n",
       "      <td>{\"start_time\": 0.51, \"end_time\": 1.63, \"text\":...</td>\n",
       "    </tr>\n",
       "    <tr>\n",
       "      <th>4</th>\n",
       "      <td>{\"start_time\": 0.48, \"end_time\": 1.31, \"text\":...</td>\n",
       "    </tr>\n",
       "  </tbody>\n",
       "</table>\n",
       "</div>"
      ],
      "text/plain": [
       "                                                sent\n",
       "0  {\"start_time\": 0.37, \"end_time\": 1.32, \"text\":...\n",
       "1  {\"start_time\": 0.23, \"end_time\": 0.66, \"text\":...\n",
       "2  {\"start_time\": 0.53, \"end_time\": 1.67, \"text\":...\n",
       "3  {\"start_time\": 0.51, \"end_time\": 1.63, \"text\":...\n",
       "4  {\"start_time\": 0.48, \"end_time\": 1.31, \"text\":..."
      ]
     },
     "execution_count": 10,
     "metadata": {},
     "output_type": "execute_result"
    }
   ],
   "source": [
    "audio_dir = \"/data/audio_data/prep_submission_audio/10\"\n",
    "path = \"/data/codes/prep_gopt/egs/librispeech/s5/data/stt/processed/filtered_sents_type_10.csv\"\n",
    "metadata = pd.read_csv(path, index_col=0)\n",
    "metadata.head()"
   ]
  },
  {
   "cell_type": "code",
   "execution_count": 11,
   "metadata": {},
   "outputs": [
    {
     "name": "stdout",
     "output_type": "stream",
     "text": [
      "21.70541944444444\n"
     ]
    },
    {
     "data": {
      "text/plain": [
       "<Axes: >"
      ]
     },
     "execution_count": 11,
     "metadata": {},
     "output_type": "execute_result"
    },
    {
     "data": {
      "image/png": "[encoded data removed]",
      "text/plain": [
       "<Figure size 640x480 with 1 Axes>"
      ]
     },
     "metadata": {},
     "output_type": "display_data"
    }
   ],
   "source": [
    "duration = metadata.sent.apply(lambda x: json.loads(x)[\"end_time\"] - json.loads(x)[\"start_time\"])\n",
    "print(duration.sum()/3600)\n",
    "duration.hist(bins=100)"
   ]
  },
  {
   "cell_type": "code",
   "execution_count": 12,
   "metadata": {},
   "outputs": [],
   "source": [
    "seleted_data = metadata[(duration > 0.5) & (duration < 20)].reset_index()\n",
    "seleted_data[\"sent\"] = seleted_data.sent.apply(lambda x: json.loads(x))"
   ]
  },
  {
   "cell_type": "code",
   "execution_count": 13,
   "metadata": {},
   "outputs": [],
   "source": [
    "def normalize(text):\n",
    "    text = re.sub('[\\!@#$%^&*\\(\\)\\\\\\.\\'\\\"\\,\\?\\;\\:\\+\\-\\_\\/\\|~`]', ' ', text)\n",
    "    text = re.sub('\\s+', ' ', text)\n",
    "    text = text.upper().strip()\n",
    "    return text"
   ]
  },
  {
   "cell_type": "code",
   "execution_count": 14,
   "metadata": {},
   "outputs": [
    {
     "data": {
      "application/vnd.jupyter.widget-view+json": {
       "model_id": "5ebfc0da1d0d49feb9d2a29bbc5a6950",
       "version_major": 2,
       "version_minor": 0
      },
      "text/plain": [
       "VBox(children=(HBox(children=(IntProgress(value=0, description='0.00%', max=8370), Label(value='0 / 8370'))), …"
      ]
     },
     "metadata": {},
     "output_type": "display_data"
    },
    {
     "data": {
      "application/vnd.jupyter.widget-view+json": {
       "model_id": "5e19adce59d2464da95035d7ee49d189",
       "version_major": 2,
       "version_minor": 0
      },
      "text/plain": [
       "VBox(children=(HBox(children=(IntProgress(value=0, description='0.00%', max=8370), Label(value='0 / 8370'))), …"
      ]
     },
     "metadata": {},
     "output_type": "display_data"
    },
    {
     "data": {
      "application/vnd.jupyter.widget-view+json": {
       "model_id": "f42b9b443f5040e29f134cbd8afbece8",
       "version_major": 2,
       "version_minor": 0
      },
      "text/plain": [
       "VBox(children=(HBox(children=(IntProgress(value=0, description='0.00%', max=8370), Label(value='0 / 8370'))), …"
      ]
     },
     "metadata": {},
     "output_type": "display_data"
    }
   ],
   "source": [
    "wav_dir = \"/data/audio_data/prep_submission_audio/10\"\n",
    "\n",
    "seleted_data[\"text\"] = seleted_data.sent.parallel_apply(lambda x: normalize(x[\"text\"]))\n",
    "seleted_data[\"wav_path\"] = seleted_data.sent.parallel_apply(lambda x: os.path.join(wav_dir, f'{x[\"utt_id\"]}.wav'))\n",
    "seleted_data[\"utt_id\"] = seleted_data.sent.parallel_apply(lambda x: x[\"utt_id\"])\n",
    "seleted_data[\"spk_id\"] = ['0'*(8-len(str(spk_id))) + f'{spk_id}' for spk_id in range(seleted_data.shape[0])]\n",
    "\n",
    "seleted_data.sort_values(\"utt_id\", inplace=True)"
   ]
  },
  {
   "cell_type": "code",
   "execution_count": 15,
   "metadata": {},
   "outputs": [],
   "source": [
    "def create_text_file(f, first_column, second_column):\n",
    "    line = f'{first_column}\\t{second_column}'\n",
    "    f.write(line + \"\\n\")\n",
    "\n",
    "data_dir = \"/data/codes/prep_gopt/egs/librispeech/s5/data/prep/train_processed_type_9\"\n",
    "os.mkdir(data_dir)\n",
    "wavscp_path = f'{data_dir}/wav.scp'\n",
    "text_path = f'{data_dir}/text'\n",
    "spk2utt_path = f'{data_dir}/spk2utt'\n",
    "utt2spk_path = f'{data_dir}/utt2spk'\n",
    "\n",
    "with open(wavscp_path, \"w\", encoding=\"utf-8\") as f:\n",
    "    seleted_data[0:35000].apply(lambda x: create_text_file(f, x[\"utt_id\"], x[\"wav_path\"]), axis=1)\n",
    "    \n",
    "with open(text_path, \"w\", encoding=\"utf-8\") as f:\n",
    "    seleted_data[0:35000].apply(lambda x: create_text_file(f, x[\"utt_id\"], x[\"text\"]), axis=1)\n",
    "    \n",
    "with open(spk2utt_path, \"w\", encoding=\"utf-8\") as f:\n",
    "    seleted_data[0:35000].apply(lambda x: create_text_file(f, x[\"utt_id\"], x[\"utt_id\"]), axis=1)\n",
    "    \n",
    "with open(utt2spk_path, \"w\", encoding=\"utf-8\") as f:\n",
    "    seleted_data[0:35000].apply(lambda x: create_text_file(f, x[\"utt_id\"], x[\"utt_id\"]), axis=1)"
   ]
  },
  {
   "cell_type": "code",
   "execution_count": 16,
   "metadata": {},
   "outputs": [],
   "source": [
    "def create_text_file(f, first_column, second_column):\n",
    "    line = f'{first_column}\\t{second_column}'\n",
    "    f.write(line + \"\\n\")\n",
    "\n",
    "\n",
    "data_dir = \"/data/codes/prep_gopt/egs/librispeech/s5/data/prep/test_processed_type_9\"\n",
    "os.mkdir(data_dir)\n",
    "wavscp_path = f'{data_dir}/wav.scp'\n",
    "text_path = f'{data_dir}/text'\n",
    "spk2utt_path = f'{data_dir}/spk2utt'\n",
    "utt2spk_path = f'{data_dir}/utt2spk'\n",
    "\n",
    "with open(wavscp_path, \"w\", encoding=\"utf-8\") as f:\n",
    "    seleted_data[35000:].apply(lambda x: create_text_file(f, x[\"utt_id\"], x[\"wav_path\"]), axis=1)\n",
    "    \n",
    "with open(text_path, \"w\", encoding=\"utf-8\") as f:\n",
    "    seleted_data[35000:].apply(lambda x: create_text_file(f, x[\"utt_id\"], x[\"text\"]), axis=1)\n",
    "    \n",
    "with open(spk2utt_path, \"w\", encoding=\"utf-8\") as f:\n",
    "    seleted_data[35000:].apply(lambda x: create_text_file(f, x[\"utt_id\"], x[\"utt_id\"]), axis=1)\n",
    "    \n",
    "with open(utt2spk_path, \"w\", encoding=\"utf-8\") as f:\n",
    "    seleted_data[35000:].apply(lambda x: create_text_file(f, x[\"utt_id\"], x[\"utt_id\"]), axis=1)"
   ]
  }
 ],
 "metadata": {
  "kernelspec": {
   "display_name": "ps",
   "language": "python",
   "name": "python3"
  },
  "language_info": {
   "codemirror_mode": {
    "name": "ipython",
    "version": 3
   },
   "file_extension": ".py",
   "mimetype": "text/x-python",
   "name": "python",
   "nbconvert_exporter": "python",
   "pygments_lexer": "ipython3",
   "version": "3.8.17"
  },
  "orig_nbformat": 4
 },
 "nbformat": 4,
 "nbformat_minor": 2
}
