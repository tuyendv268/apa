{
 "cells": [
  {
   "cell_type": "code",
   "execution_count": 1,
   "metadata": {},
   "outputs": [
    {
     "name": "stdout",
     "output_type": "stream",
     "text": [
      "INFO: Pandarallel will run on 5 workers.\n",
      "INFO: Pandarallel will use Memory file system to transfer data between the main process and workers.\n"
     ]
    }
   ],
   "source": [
    "from pandarallel import pandarallel\n",
    "from glob import glob\n",
    "import soundfile as sf\n",
    "import pandas as pd\n",
    "import librosa\n",
    "import random\n",
    "import json\n",
    "import re\n",
    "import os\n",
    "\n",
    "pandarallel.initialize(nb_workers=5, progress_bar=True)"
   ]
  },
  {
   "cell_type": "code",
   "execution_count": 24,
   "metadata": {},
   "outputs": [
    {
     "data": {
      "text/html": [
       "<div>\n",
       "<style scoped>\n",
       "    .dataframe tbody tr th:only-of-type {\n",
       "        vertical-align: middle;\n",
       "    }\n",
       "\n",
       "    .dataframe tbody tr th {\n",
       "        vertical-align: top;\n",
       "    }\n",
       "\n",
       "    .dataframe thead th {\n",
       "        text-align: right;\n",
       "    }\n",
       "</style>\n",
       "<table border=\"1\" class=\"dataframe\">\n",
       "  <thead>\n",
       "    <tr style=\"text-align: right;\">\n",
       "      <th></th>\n",
       "      <th>id</th>\n",
       "      <th>is_deleted</th>\n",
       "      <th>user_id</th>\n",
       "      <th>question_id</th>\n",
       "      <th>question_type</th>\n",
       "      <th>question_content</th>\n",
       "      <th>url</th>\n",
       "      <th>score</th>\n",
       "      <th>fidelity_class</th>\n",
       "      <th>created_at</th>\n",
       "      <th>total_time</th>\n",
       "      <th>word_count</th>\n",
       "    </tr>\n",
       "  </thead>\n",
       "  <tbody>\n",
       "    <tr>\n",
       "      <th>0</th>\n",
       "      <td>5580125</td>\n",
       "      <td>0</td>\n",
       "      <td>105954.0</td>\n",
       "      <td>224272</td>\n",
       "      <td>9</td>\n",
       "      <td>To be honest with you, I have never watched a ...</td>\n",
       "      <td>https://storage.googleapis.com/materials-eleme...</td>\n",
       "      <td>NaN</td>\n",
       "      <td>NaN</td>\n",
       "      <td>2023-09-18 21:18:30</td>\n",
       "      <td>23.66</td>\n",
       "      <td>62.0</td>\n",
       "    </tr>\n",
       "    <tr>\n",
       "      <th>1</th>\n",
       "      <td>5580126</td>\n",
       "      <td>0</td>\n",
       "      <td>105954.0</td>\n",
       "      <td>224271</td>\n",
       "      <td>9</td>\n",
       "      <td>Definitely yes. When you have been robot aroun...</td>\n",
       "      <td>https://storage.googleapis.com/materials-eleme...</td>\n",
       "      <td>NaN</td>\n",
       "      <td>NaN</td>\n",
       "      <td>2023-09-18 21:18:30</td>\n",
       "      <td>23.37</td>\n",
       "      <td>66.0</td>\n",
       "    </tr>\n",
       "  </tbody>\n",
       "</table>\n",
       "</div>"
      ],
      "text/plain": [
       "        id  is_deleted   user_id  question_id  question_type  \\\n",
       "0  5580125           0  105954.0       224272              9   \n",
       "1  5580126           0  105954.0       224271              9   \n",
       "\n",
       "                                    question_content  \\\n",
       "0  To be honest with you, I have never watched a ...   \n",
       "1  Definitely yes. When you have been robot aroun...   \n",
       "\n",
       "                                                 url  score  fidelity_class  \\\n",
       "0  https://storage.googleapis.com/materials-eleme...    NaN             NaN   \n",
       "1  https://storage.googleapis.com/materials-eleme...    NaN             NaN   \n",
       "\n",
       "            created_at  total_time  word_count  \n",
       "0  2023-09-18 21:18:30       23.66        62.0  \n",
       "1  2023-09-18 21:18:30       23.37        66.0  "
      ]
     },
     "execution_count": 24,
     "metadata": {},
     "output_type": "execute_result"
    }
   ],
   "source": [
    "audio_dir = \"/data/audio_data/prep_submission_audio/9\"\n",
    "metadata_path=\"/data/audio_data/pronunciation_scoring_result/info_question_type-9_01082022_18092023.csv\"\n",
    "metadata = pd.read_csv(metadata_path)\n",
    "metadata.head(2)"
   ]
  },
  {
   "cell_type": "code",
   "execution_count": 25,
   "metadata": {},
   "outputs": [
    {
     "data": {
      "application/vnd.jupyter.widget-view+json": {
       "model_id": "279e89477ab24759911bac4f024103ac",
       "version_major": 2,
       "version_minor": 0
      },
      "text/plain": [
       "VBox(children=(HBox(children=(IntProgress(value=0, description='0.00%', max=47612), Label(value='0 / 47612')))…"
      ]
     },
     "metadata": {},
     "output_type": "display_data"
    },
    {
     "name": "stdout",
     "output_type": "stream",
     "text": [
      "(238057, 13)\n",
      "(237992, 14)\n"
     ]
    }
   ],
   "source": [
    "def check_audio_is_exist(audio_id):\n",
    "    abs_path = os.path.join(audio_dir, f'{audio_id}.wav')\n",
    "    if os.path.exists(abs_path):\n",
    "        return True\n",
    "    return False\n",
    "\n",
    "metadata[\"is_exist\"] =  metadata.id.parallel_apply(check_audio_is_exist)\n",
    "print(metadata.shape)\n",
    "metadata = metadata[metadata[\"is_exist\"] == True]\n",
    "metadata.reset_index(inplace=True)\n",
    "print(metadata.shape)"
   ]
  },
  {
   "cell_type": "code",
   "execution_count": 26,
   "metadata": {},
   "outputs": [],
   "source": [
    "def normalize(text):\n",
    "    text = re.sub('[\\!@#$%^&*\\(\\)\\\\\\.\\'\\\"\\,\\?\\;\\:\\+\\-\\_\\/\\|~`]', ' ', text)\n",
    "    text = re.sub('\\s+', ' ', text)\n",
    "    text = text.upper().strip()\n",
    "    return text\n",
    "\n",
    "def load_lexicon(path=\"resources/lexicon.txt\"):\n",
    "    with open(path, \"r\", encoding=\"utf-8\") as f:\n",
    "        content = f.readlines()\n",
    "        lines = [line.strip() for line in content]\n",
    "    lexicon = {}\n",
    "    for line in lines:\n",
    "        tmp = line.split()\n",
    "        word, arpabet = tmp[0], \" \".join(tmp[1:])\n",
    "\n",
    "        if word not in lexicon:\n",
    "            lexicon[word] = [arpabet, ]\n",
    "        else:\n",
    "            lexicon[word].append(arpabet)\n",
    "\n",
    "    for key in lexicon.keys():\n",
    "        lexicon[key] = set(lexicon[key])\n",
    "    \n",
    "    return lexicon\n"
   ]
  },
  {
   "cell_type": "code",
   "execution_count": 27,
   "metadata": {},
   "outputs": [],
   "source": [
    "lexicon = load_lexicon(path=\"/data/codes/prep_gopt/egs/librispeech/s5/data/lexicon.txt\")"
   ]
  },
  {
   "cell_type": "code",
   "execution_count": 28,
   "metadata": {},
   "outputs": [],
   "source": [
    "def is_selected_word(word, phoneme_score=40, decision=[\"correct\", \"warning\"], phoneme_error=\"normal\"):\n",
    "    text = normalize(word[\"text\"])\n",
    "\n",
    "    if text not in lexicon:\n",
    "        return False\n",
    "    else:\n",
    "        if word[\"trans_arpabet\"] not in lexicon[text]:\n",
    "            return False\n",
    "        \n",
    "    if phoneme_score is not None:\n",
    "        for phoneme in word[\"phonemes\"]:\n",
    "            if phoneme[\"nativeness_score\"] < phoneme_score:\n",
    "                return False\n",
    "            \n",
    "    if decision is not None:\n",
    "        for phoneme in word[\"phonemes\"]:\n",
    "            if phoneme[\"decision\"] not in decision:\n",
    "                return False\n",
    "            \n",
    "    if phoneme_error is not None:\n",
    "        for phoneme in word[\"phonemes\"]:\n",
    "            if phoneme[\"phoneme_error\"] != phoneme_error:\n",
    "                return False\n",
    "        \n",
    "    return True"
   ]
  },
  {
   "cell_type": "code",
   "execution_count": 29,
   "metadata": {},
   "outputs": [],
   "source": [
    "def segment_sentence(sentence, min_num_word=5, phoneme_score=40, decision=[\"correct\", \"warning\"], phoneme_error=\"normal\"):\n",
    "    count = 0\n",
    "    segmented_sentence, tmp_words = [], []\n",
    "    for word in sentence[\"words\"]:\n",
    "        assert count == len(tmp_words)\n",
    "        if is_selected_word(word, phoneme_score, decision, phoneme_error):\n",
    "            count += 1\n",
    "            tmp_words.append(word)\n",
    "        else:\n",
    "            if len(tmp_words) >= min_num_word:\n",
    "                segmented_sentence.append(tmp_words)\n",
    "            count = 0\n",
    "            tmp_words = []\n",
    "    return segmented_sentence\n",
    "\n",
    "def parse_segmented_sentence(selected_words):\n",
    "    words, text = [], []\n",
    "    start_time, end_time = selected_words[0][\"start_time\"], selected_words[-1][\"end_time\"]\n",
    "    for word in selected_words:\n",
    "        text.append(word[\"text\"])\n",
    "        words.append(\n",
    "            {\n",
    "                'text': word[\"text\"],\n",
    "                'arpabet': word[\"trans_arpabet\"],\n",
    "                'start_time': word[\"start_time\"],\n",
    "                'end_time': word[\"end_time\"],\n",
    "                'score': word[\"nativeness_score\"]\n",
    "            }\n",
    "        )\n",
    "\n",
    "    sentence = {\n",
    "            \"start_time\": start_time,\n",
    "            \"end_time\": end_time,\n",
    "            \"text\": \" \".join(text),\n",
    "            \"words\": words,\n",
    "        }\n",
    "    \n",
    "    return sentence"
   ]
  },
  {
   "cell_type": "code",
   "execution_count": 30,
   "metadata": {},
   "outputs": [
    {
     "data": {
      "application/vnd.jupyter.widget-view+json": {
       "model_id": "a609b31eb0b34c78a6e7e43fbf7c637f",
       "version_major": 2,
       "version_minor": 0
      },
      "text/plain": [
       "VBox(children=(HBox(children=(IntProgress(value=0, description='0.00%', max=47599), Label(value='0 / 47599')))…"
      ]
     },
     "metadata": {},
     "output_type": "display_data"
    }
   ],
   "source": [
    "def preprocess_data(json_path):\n",
    "    with open(json_path, \"r\") as f:\n",
    "        raw_sample = json.load(f)\n",
    "        \n",
    "    spk_id = raw_sample[\"speaker_id\"]\n",
    "\n",
    "    sentences = []\n",
    "    sample_id = os.path.basename(json_path).split(\".json\")[0]\n",
    "    for index_1, utterance in enumerate(raw_sample[\"utterances\"]):\n",
    "        if utterance[\"result\"] is None:\n",
    "            continue\n",
    "        segmented_sentences = segment_sentence(utterance[\"result\"], min_num_word=4, phoneme_score=None, decision=[\"correct\", \"warning\"], phoneme_error=\"normal\")\n",
    "        \n",
    "        parsed_sentences = []\n",
    "        for sentence in segmented_sentences:\n",
    "            parsed_sentence = parse_segmented_sentence(sentence)\n",
    "            parsed_sentences.append(parsed_sentence)\n",
    "\n",
    "        for index, sent in enumerate(parsed_sentences):\n",
    "            sent[\"utt_id\"] = f'{sample_id}{index_1}{index}'\n",
    "            sent[\"id\"] = f'{sample_id}'\n",
    "            sent[\"spk_id\"] = spk_id\n",
    "            sentences.append(sent)\n",
    "\n",
    "    return sentences\n",
    "\n",
    "json_dir = \"/data/audio_data/pronunciation_scoring_result/marking_data/9\"\n",
    "tmp = metadata.id.parallel_apply(lambda x: preprocess_data(os.path.join(json_dir, f'{x}.json')))\n"
   ]
  },
  {
   "cell_type": "code",
   "execution_count": 31,
   "metadata": {},
   "outputs": [
    {
     "name": "stdout",
     "output_type": "stream",
     "text": [
      "{'speaker_id': 0, 'total_time': 41.49999999999999, 'metrics': {'general_scores': {'elsa': {'eps_score': 62.16, 'eps_decision': 'warning', 'pronunciation_score': 72.45, 'pronunciation_decision': 'warning', 'intonation_score': 62.91, 'intonation_decision': 'warning', 'fluency_score': 44.83, 'fluency_decision': 'incorrect', 'grammar_score': 58.17, 'grammar_decision': 'warning', 'vocabulary_score': None, 'vocabulary_decision': None}, 'cefr': {'overall_cefr': 'B1', 'pronunciation_cefr': 'B2', 'intonation_cefr': 'B2', 'fluency_cefr': 'A2', 'grammar_cefr': 'B1', 'vocabulary_cefr': 'B2'}, 'other_scores': {'ielts_score': 5, 'toefl_score': 15, 'toeic_score': 150, 'pte_score': 30}}, 'other_metrics': {'fluency': {'words_per_minute': 86, 'words_per_minute_min': 75, 'words_per_minute_max': 102}, 'pronunciation': {'advanced_pronunciation_score': 38.46}, 'vocabulary': {'total_words_count': 75, 'unique_words_count': 47, 'uncommon_words_count': 4, 'cefr_distribution': [{'cefr_level': 'A1', 'percentage': 67}, {'cefr_level': 'A2', 'percentage': 19}, {'cefr_level': 'B1', 'percentage': 14}, {'cefr_level': 'B2', 'percentage': 0}, {'cefr_level': 'C1', 'percentage': 0}, {'cefr_level': 'C2', 'percentage': 0}]}}}, 'feedbacks': {'show_transcript': True, 'pronunciation': {'top_errors': [{'phoneme': 'ʊ', 'count': 4, 'errors': [{'type': 'deletion', 'count': 2, 'examples': [{'text': 'cooking', 'start_index': 119, 'end_index': 120}, {'text': 'cooking', 'start_index': 383, 'end_index': 384}]}, {'type': 'substitution', 'error_phoneme': 'ə', 'count': 1, 'examples': [{'text': 'Cooking', 'start_index': 1, 'end_index': 2}]}, {'type': 'substitution', 'error_phoneme': 'm', 'count': 1, 'examples': [{'text': 'cooking', 'start_index': 216, 'end_index': 217}]}]}, {'phoneme': 'i', 'count': 3, 'errors': [{'type': 'substitution', 'error_phoneme': 'ɛ', 'count': 2, 'examples': [{'text': 'ingredients', 'start_index': 87, 'end_index': 87}, {'text': 'Ingredien', 'start_index': 236, 'end_index': 236}]}, {'type': 'substitution', 'error_phoneme': 'ɪ', 'count': 1, 'examples': [{'text': 'Ingredien', 'start_index': 238, 'end_index': 238}]}]}, {'phoneme': 'd', 'count': 2, 'errors': [{'type': 'deletion', 'count': 2, 'examples': [{'text': \"didn't\", 'start_index': 59, 'end_index': 59}, {'text': 'traditional', 'start_index': 277, 'end_index': 277}]}]}, {'phoneme': 't', 'count': 2, 'errors': [{'type': 'insertion', 'count': 1, 'examples': [{'text': 'past', 'start_index': 252, 'end_index': 252}]}, {'type': 'deletion', 'count': 1, 'examples': [{'text': 'traditional', 'start_index': 274, 'end_index': 274}]}]}, {'phoneme': 'k', 'count': 2, 'errors': [{'type': 'substitution', 'error_phoneme': 'dʒ', 'count': 1, 'examples': [{'text': 'like', 'start_index': 271, 'end_index': 272}]}, {'type': 'deletion', 'count': 1, 'examples': [{'text': 'think', 'start_index': 366, 'end_index': 366}]}]}]}, 'grammar': {'items': [{'start_index': 20, 'end_index': 21, 'original': 'is', 'suggestion': 'was'}, {'start_index': 184, 'end_index': 192, 'original': 'have team', 'suggestion': 'have a team'}, {'start_index': 312, 'end_index': 314, 'original': 'the', 'suggestion': ''}, {'start_index': 172, 'end_index': 175, 'original': 'have', 'suggestion': ''}, {'start_index': 337, 'end_index': 338, 'original': 'is', 'suggestion': 'has'}]}, 'vocabulary': {'top_cefr_words': []}}, 'utterances': [{'utterance_id': 0, 'start_time': 2.84, 'end_time': 9.28, 'start_index': 0, 'end_index': 57, 'text': 'Cooking in the past is kind of hard because sometimes they', 'result': {'speed_metrics': {'words_per_minute': 94.56, 'syllables_per_minute': 120.34, 'phones_per_minute': 326.65, 'articulated_words_per_minute': 141.63, 'articulated_syllables_per_minute': 180.26, 'articulated_phones_per_minute': 489.27}, 'pronunciation_rate_metrics': {'correct_words_per_minute': 94.56, 'correct_syllables_per_minute': 111.75, 'correct_phones_per_minute': 292.26, 'correct_words_ratio': 1, 'correct_syllables_ratio': 0.929, 'correct_phones_ratio': 0.895}, 'pausing_metrics': {'pause_ratio': 0.332, 'pause_ratio_without_initial_sil': 0.255, 'pausing_score_percentage': 25}, 'initial_silence': True, 'total_time': 7.47, 'has_speech': True, 'decision': 'correct', 'nativeness_score': 90.24, 'nativeness_score_partial': 90.24, 'ipa': 'ˈkʊ.kɪŋ ɪn ðə pæst ɪz kaɪnd ə hɑrd bɪˈkʌz ˈsʌmˌtaɪmz ðeɪ', 'intonation_score': 62.099999999999994, 'fluency_score': 60.599999999999994, 'ielts_score': 6.5, 'words': [{'start_index': 0, 'end_index': 6, 'start_time': 2.84, 'end_time': 3.42, 'word': 'COOKING', 'text': 'Cooking', 'ipa': 'ˈkʊ.kɪŋ', 'trans_arpabet': 'K UH1 K IH0 NG', 'nativeness_score': 54, 'decision': 'warning', 'phonemes': [{'text': 'C', 'start_index': 0, 'end_index': 0, 'start_time': 2.84, 'end_time': 2.9299999999999997, 'ipa': 'k', 'trans_arpabet': 'K', 'decision': 'correct', 'nativeness_score': 100, 'phoneme_error': 'normal', 'phoneme_error_arpabet': 'normal'}, {'text': 'OO', 'start_index': 1, 'end_index': 2, 'start_time': 2.9299999999999997, 'end_time': 3.01, 'ipa': 'ʊ', 'trans_arpabet': 'UH', 'decision': 'incorrect', 'nativeness_score': 0, 'phoneme_error': 'ʊ - ə', 'phoneme_error_arpabet': 'UH - SCHWA', 'feedback': [{'id': 280, 'language': 'en', 'text': \"Pronounce 'oo' here with the vowel /ʊ/, as in 'good' and 'should.' Your lips and tongue should be pretty relaxed.\", 'audio_link': 'https://feedback.elsanow.co/5c802cb0d8a08a7cb1fd0e8d308b158c60bba9c86c5bd5bcb14b48ad71b77cff_female.mp3'}]}, {'text': 'K', 'start_index': 3, 'end_index': 3, 'start_time': 3.01, 'end_time': 3.1199999999999997, 'ipa': 'k', 'trans_arpabet': 'K', 'decision': 'correct', 'nativeness_score': 100, 'phoneme_error': 'normal', 'phoneme_error_arpabet': 'normal'}, {'text': 'I', 'start_index': 4, 'end_index': 4, 'start_time': 3.1199999999999997, 'end_time': 3.17, 'ipa': 'ɪ', 'trans_arpabet': 'IH', 'decision': 'correct', 'nativeness_score': 98, 'phoneme_error': 'normal', 'phoneme_error_arpabet': 'normal'}, {'text': 'NG', 'start_index': 5, 'end_index': 6, 'start_time': 3.17, 'end_time': 3.42, 'ipa': 'ŋ', 'trans_arpabet': 'NG', 'decision': 'correct', 'nativeness_score': 95, 'phoneme_error': 'normal', 'phoneme_error_arpabet': 'normal'}], 'word_stress': []}, {'start_index': 8, 'end_index': 9, 'start_time': 3.4499999999999997, 'end_time': 3.61, 'word': 'IN', 'text': 'in', 'ipa': 'ɪn', 'trans_arpabet': 'IH1 N', 'nativeness_score': 100, 'decision': 'correct', 'phonemes': [{'text': 'I', 'start_index': 8, 'end_index': 8, 'start_time': 3.4499999999999997, 'end_time': 3.54, 'ipa': 'ɪ', 'trans_arpabet': 'IH', 'decision': 'correct', 'nativeness_score': 100, 'phoneme_error': 'normal', 'phoneme_error_arpabet': 'normal'}, {'text': 'N', 'start_index': 9, 'end_index': 9, 'start_time': 3.54, 'end_time': 3.61, 'ipa': 'n', 'trans_arpabet': 'N', 'decision': 'correct', 'nativeness_score': 100, 'phoneme_error': 'normal', 'phoneme_error_arpabet': 'normal'}], 'word_stress': []}, {'start_index': 11, 'end_index': 13, 'start_time': 3.61, 'end_time': 3.71, 'word': 'THE', 'text': 'the', 'ipa': 'ðə', 'trans_arpabet': 'DH AH0', 'nativeness_score': 100, 'decision': 'correct', 'phonemes': [{'text': 'TH', 'start_index': 11, 'end_index': 12, 'start_time': 3.61, 'end_time': 3.65, 'ipa': 'ð', 'trans_arpabet': 'DH', 'decision': 'correct', 'nativeness_score': 99, 'phoneme_error': 'normal', 'phoneme_error_arpabet': 'normal'}, {'text': 'E', 'start_index': 13, 'end_index': 13, 'start_time': 3.65, 'end_time': 3.71, 'ipa': 'ə', 'trans_arpabet': 'SCHWA', 'decision': 'correct', 'nativeness_score': 100, 'phoneme_error': 'normal', 'phoneme_error_arpabet': 'normal'}], 'word_stress': []}, {'start_index': 15, 'end_index': 18, 'start_time': 3.71, 'end_time': 4.199999999999999, 'word': 'PAST', 'text': 'past', 'ipa': 'pæst', 'trans_arpabet': 'P AE1 S T', 'nativeness_score': 96, 'decision': 'correct', 'phonemes': [{'text': 'P', 'start_index': 15, 'end_index': 15, 'start_time': 3.71, 'end_time': 3.87, 'ipa': 'p', 'trans_arpabet': 'P', 'decision': 'correct', 'nativeness_score': 99, 'phoneme_error': 'normal', 'phoneme_error_arpabet': 'normal'}, {'text': 'A', 'start_index': 16, 'end_index': 16, 'start_time': 3.87, 'end_time': 3.9799999999999995, 'ipa': 'æ', 'trans_arpabet': 'AE', 'decision': 'correct', 'nativeness_score': 99, 'phoneme_error': 'normal', 'phoneme_error_arpabet': 'normal'}, {'text': 'S', 'start_index': 17, 'end_index': 17, 'start_time': 3.9799999999999995, 'end_time': 4.15, 'ipa': 's', 'trans_arpabet': 'S', 'decision': 'correct', 'nativeness_score': 99, 'phoneme_error': 'normal', 'phoneme_error_arpabet': 'normal'}, {'text': 'T', 'start_index': 18, 'end_index': 18, 'start_time': 4.15, 'end_time': 4.199999999999999, 'ipa': 't', 'trans_arpabet': 'T', 'decision': 'correct', 'nativeness_score': 87, 'phoneme_error': 'normal', 'phoneme_error_arpabet': 'normal'}], 'word_stress': []}, {'start_index': 20, 'end_index': 21, 'start_time': 4.199999999999999, 'end_time': 4.71, 'word': 'IS', 'text': 'is', 'ipa': 'ɪz', 'trans_arpabet': 'IH1 Z', 'nativeness_score': 88, 'decision': 'correct', 'phonemes': [{'text': 'I', 'start_index': 20, 'end_index': 20, 'start_time': 4.199999999999999, 'end_time': 4.33, 'ipa': 'ɪ', 'trans_arpabet': 'IH', 'decision': 'correct', 'nativeness_score': 91, 'phoneme_error': 'normal', 'phoneme_error_arpabet': 'normal'}, {'text': 'S', 'start_index': 21, 'end_index': 21, 'start_time': 4.33, 'end_time': 4.71, 'ipa': 'z', 'trans_arpabet': 'Z', 'decision': 'correct', 'nativeness_score': 85, 'phoneme_error': 'normal', 'phoneme_error_arpabet': 'normal'}], 'word_stress': []}, {'start_index': 23, 'end_index': 26, 'start_time': 5.25, 'end_time': 5.529999999999999, 'word': 'KIND', 'text': 'kind', 'ipa': 'kaɪnd', 'trans_arpabet': 'K AY1 N D', 'nativeness_score': 89, 'decision': 'correct', 'phonemes': [{'text': 'K', 'start_index': 23, 'end_index': 23, 'start_time': 5.25, 'end_time': 5.359999999999999, 'ipa': 'k', 'trans_arpabet': 'K', 'decision': 'correct', 'nativeness_score': 83, 'phoneme_error': 'normal', 'phoneme_error_arpabet': 'normal'}, {'text': 'I', 'start_index': 24, 'end_index': 24, 'start_time': 5.359999999999999, 'end_time': 5.449999999999999, 'ipa': 'aɪ', 'trans_arpabet': 'AY', 'decision': 'correct', 'nativeness_score': 100, 'phoneme_error': 'normal', 'phoneme_error_arpabet': 'normal'}, {'text': 'N', 'start_index': 25, 'end_index': 25, 'start_time': 5.449999999999999, 'end_time': 5.49, 'ipa': 'n', 'trans_arpabet': 'N', 'decision': 'correct', 'nativeness_score': 98, 'phoneme_error': 'normal', 'phoneme_error_arpabet': 'normal'}, {'text': 'D', 'start_index': 26, 'end_index': 26, 'start_time': 5.49, 'end_time': 5.529999999999999, 'ipa': 'd', 'trans_arpabet': 'D', 'decision': 'warning', 'nativeness_score': 72, 'phoneme_error': 'd - —', 'phoneme_error_arpabet': 'D - <eps>', 'feedback': [{'id': 544, 'language': 'en', 'text': 'This is a /d/ sound. Press your tongue against your upper gums to stop the air flow. You can also release the air if you want to, but this is optional at the end of a word.', 'audio_link': 'https://feedback.elsanow.co/b668e858b1e4698397b3d399c146f5b13e7fb282f8589cd5efe2c6e57ba254c6_female.mp3'}]}], 'word_stress': []}, {'start_index': 28, 'end_index': 29, 'start_time': 5.529999999999999, 'end_time': 5.59, 'word': 'OF', 'text': 'of', 'ipa': 'ə', 'trans_arpabet': 'AH0', 'nativeness_score': 99, 'decision': 'correct', 'phonemes': [{'text': 'OF', 'start_index': 28, 'end_index': 29, 'start_time': 5.529999999999999, 'end_time': 5.59, 'ipa': 'ə', 'trans_arpabet': 'SCHWA', 'decision': 'correct', 'nativeness_score': 99, 'phoneme_error': 'normal', 'phoneme_error_arpabet': 'normal'}], 'word_stress': []}, {'start_index': 31, 'end_index': 34, 'start_time': 5.59, 'end_time': 6.04, 'word': 'HARD', 'text': 'hard', 'ipa': 'hɑrd', 'trans_arpabet': 'HH AA1 R D', 'nativeness_score': 98, 'decision': 'correct', 'phonemes': [{'text': 'H', 'start_index': 31, 'end_index': 31, 'start_time': 5.59, 'end_time': 5.73, 'ipa': 'h', 'trans_arpabet': 'HH', 'decision': 'correct', 'nativeness_score': 100, 'phoneme_error': 'normal', 'phoneme_error_arpabet': 'normal'}, {'text': 'A', 'start_index': 32, 'end_index': 32, 'start_time': 5.73, 'end_time': 5.83, 'ipa': 'ɑ', 'trans_arpabet': 'AA', 'decision': 'correct', 'nativeness_score': 100, 'phoneme_error': 'normal', 'phoneme_error_arpabet': 'normal'}, {'text': 'R', 'start_index': 33, 'end_index': 33, 'start_time': 5.83, 'end_time': 5.93, 'ipa': 'r', 'trans_arpabet': 'R', 'decision': 'correct', 'nativeness_score': 99, 'phoneme_error': 'normal', 'phoneme_error_arpabet': 'normal'}, {'text': 'D', 'start_index': 34, 'end_index': 34, 'start_time': 5.93, 'end_time': 6.04, 'ipa': 'd', 'trans_arpabet': 'D', 'decision': 'correct', 'nativeness_score': 92, 'phoneme_error': 'normal', 'phoneme_error_arpabet': 'normal'}], 'word_stress': []}, {'start_index': 36, 'end_index': 42, 'start_time': 6.04, 'end_time': 6.67, 'word': 'BECAUSE', 'text': 'because', 'ipa': 'bɪˈkʌz', 'trans_arpabet': 'B IH0 K AH1 Z', 'nativeness_score': 92, 'decision': 'correct', 'phonemes': [{'text': 'B', 'start_index': 36, 'end_index': 36, 'start_time': 6.04, 'end_time': 6.09, 'ipa': 'b', 'trans_arpabet': 'B', 'decision': 'correct', 'nativeness_score': 84, 'phoneme_error': 'normal', 'phoneme_error_arpabet': 'normal'}, {'text': 'E', 'start_index': 37, 'end_index': 37, 'start_time': 6.09, 'end_time': 6.14, 'ipa': 'ɪ', 'trans_arpabet': 'IH', 'decision': 'correct', 'nativeness_score': 89, 'phoneme_error': 'normal', 'phoneme_error_arpabet': 'normal'}, {'text': 'C', 'start_index': 38, 'end_index': 38, 'start_time': 6.14, 'end_time': 6.24, 'ipa': 'k', 'trans_arpabet': 'K', 'decision': 'correct', 'nativeness_score': 96, 'phoneme_error': 'normal', 'phoneme_error_arpabet': 'normal'}, {'text': 'AU', 'start_index': 39, 'end_index': 40, 'start_time': 6.24, 'end_time': 6.359999999999999, 'ipa': 'ʌ', 'trans_arpabet': 'AH', 'decision': 'correct', 'nativeness_score': 94, 'phoneme_error': 'normal', 'phoneme_error_arpabet': 'normal'}, {'text': 'SE', 'start_index': 41, 'end_index': 42, 'start_time': 6.359999999999999, 'end_time': 6.67, 'ipa': 'z', 'trans_arpabet': 'Z', 'decision': 'correct', 'nativeness_score': 97, 'phoneme_error': 'normal', 'phoneme_error_arpabet': 'normal'}], 'word_stress': []}, {'start_index': 44, 'end_index': 52, 'start_time': 7.59, 'end_time': 8.41, 'word': 'SOMETIMES', 'text': 'sometimes', 'ipa': 'ˈsʌmˌtaɪmz', 'trans_arpabet': 'S AH1 M T AY2 M Z', 'nativeness_score': 96, 'decision': 'correct', 'phonemes': [{'text': 'S', 'start_index': 44, 'end_index': 44, 'start_time': 7.59, 'end_time': 7.74, 'ipa': 's', 'trans_arpabet': 'S', 'decision': 'correct', 'nativeness_score': 88, 'phoneme_error': 'normal', 'phoneme_error_arpabet': 'normal'}, {'text': 'O', 'start_index': 45, 'end_index': 45, 'start_time': 7.74, 'end_time': 7.79, 'ipa': 'ʌ', 'trans_arpabet': 'AH', 'decision': 'correct', 'nativeness_score': 100, 'phoneme_error': 'normal', 'phoneme_error_arpabet': 'normal'}, {'text': 'ME', 'start_index': 46, 'end_index': 47, 'start_time': 7.79, 'end_time': 7.88, 'ipa': 'm', 'trans_arpabet': 'M', 'decision': 'correct', 'nativeness_score': 99, 'phoneme_error': 'normal', 'phoneme_error_arpabet': 'normal'}, {'text': 'T', 'start_index': 48, 'end_index': 48, 'start_time': 7.88, 'end_time': 7.99, 'ipa': 't', 'trans_arpabet': 'T', 'decision': 'correct', 'nativeness_score': 100, 'phoneme_error': 'normal', 'phoneme_error_arpabet': 'normal'}, {'text': 'I', 'start_index': 49, 'end_index': 49, 'start_time': 7.99, 'end_time': 8.059999999999999, 'ipa': 'aɪ', 'trans_arpabet': 'AY', 'decision': 'correct', 'nativeness_score': 85, 'phoneme_error': 'normal', 'phoneme_error_arpabet': 'normal'}, {'text': 'ME', 'start_index': 50, 'end_index': 51, 'start_time': 8.059999999999999, 'end_time': 8.19, 'ipa': 'm', 'trans_arpabet': 'M', 'decision': 'correct', 'nativeness_score': 100, 'phoneme_error': 'normal', 'phoneme_error_arpabet': 'normal'}, {'text': 'S', 'start_index': 52, 'end_index': 52, 'start_time': 8.19, 'end_time': 8.41, 'ipa': 'z', 'trans_arpabet': 'Z', 'decision': 'correct', 'nativeness_score': 97, 'phoneme_error': 'normal', 'phoneme_error_arpabet': 'normal'}], 'word_stress': []}, {'start_index': 54, 'end_index': 57, 'start_time': 8.7, 'end_time': 9.280000000000001, 'word': 'THEY', 'text': 'they', 'ipa': 'ðeɪ', 'trans_arpabet': 'DH EY1', 'nativeness_score': 94, 'decision': 'correct', 'phonemes': [{'text': 'TH', 'start_index': 54, 'end_index': 55, 'start_time': 8.7, 'end_time': 8.84, 'ipa': 'ð', 'trans_arpabet': 'DH', 'decision': 'correct', 'nativeness_score': 98, 'phoneme_error': 'normal', 'phoneme_error_arpabet': 'normal'}, {'text': 'EY', 'start_index': 56, 'end_index': 57, 'start_time': 8.84, 'end_time': 9.280000000000001, 'ipa': 'eɪ', 'trans_arpabet': 'EY', 'decision': 'correct', 'nativeness_score': 89, 'phoneme_error': 'normal', 'phoneme_error_arpabet': 'normal'}], 'word_stress': []}]}}, {'utterance_id': 1, 'start_time': 9.82, 'end_time': 16.86, 'start_index': 58, 'end_index': 130, 'text': \" didn't have enough, uh, ingredients and, um, the tools for cooking also.\", 'result': {'speed_metrics': {'words_per_minute': 101.84, 'syllables_per_minute': 161.24, 'phones_per_minute': 381.9, 'articulated_words_per_minute': 129.03, 'articulated_syllables_per_minute': 204.3, 'articulated_phones_per_minute': 483.87}, 'pronunciation_rate_metrics': {'correct_words_per_minute': 84.87, 'correct_syllables_per_minute': 127.3, 'correct_phones_per_minute': 305.52, 'correct_words_ratio': 0.833, 'correct_syllables_ratio': 0.789, 'correct_phones_ratio': 0.8}, 'pausing_metrics': {'pause_ratio': 0.211, 'pause_ratio_without_initial_sil': 0.207, 'pausing_score_percentage': 100}, 'initial_silence': True, 'total_time': 7.47, 'has_speech': True, 'decision': 'correct', 'nativeness_score': 82.23, 'nativeness_score_partial': 82.23, 'ipa': 'ˈdɪ.dən hæv ɪˈnʌf ʌ ɪnˈgri.di.əns æn ʌm ðə tulz fɔr ˈkʊ.kɪŋ ˈɔl.soʊ', 'intonation_score': 77.929, 'fluency_score': 100, 'ielts_score': 7.5, 'words': [{'start_index': 59, 'end_index': 64, 'start_time': 9.819999999999999, 'end_time': 10.01, 'word': \"DIDN'T\", 'text': \"didn't\", 'ipa': 'ˈdɪ.dən', 'trans_arpabet': 'D IH1 D AH0 N', 'nativeness_score': 54, 'decision': 'warning', 'phonemes': [{'text': 'D', 'start_index': 59, 'end_index': 59, 'start_time': 9.819999999999999, 'end_time': 9.85, 'ipa': 'd', 'trans_arpabet': 'D', 'decision': 'incorrect', 'nativeness_score': 2, 'phoneme_error': 'normal', 'phoneme_error_arpabet': 'normal', 'feedback': [{'id': 58, 'language': 'en', 'text': 'This is a /d/ sound. Press your tongue against your upper gums to stop the air from coming out of your mouth, and then release it, while vibrating your vocal cords.', 'audio_link': 'https://feedback.elsanow.co/b18eb9557505517184d4dcd754ab6b7d6e13529755cd6d50abb9bb4c397c2385_female.mp3'}]}, {'text': 'I', 'start_index': 60, 'end_index': 60, 'start_time': 9.85, 'end_time': 9.879999999999999, 'ipa': 'ɪ', 'trans_arpabet': 'IH', 'decision': 'correct', 'nativeness_score': 88, 'phoneme_error': 'normal', 'phoneme_error_arpabet': 'normal'}, {'text': 'D', 'start_index': 61, 'end_index': 61, 'start_time': 9.879999999999999, 'end_time': 9.909999999999998, 'ipa': 'd', 'trans_arpabet': 'D', 'decision': 'warning', 'nativeness_score': 55.00000000000001, 'phoneme_error': 'normal', 'phoneme_error_arpabet': 'normal', 'feedback': [{'id': 352, 'language': 'en', 'text': 'You can use a normal /d/ or a sound called a flap here. For both sounds, your tongue should touch your upper gums.', 'audio_link': 'https://feedback.elsanow.co/fe1add15f9a776285382a68589305297f4e90861bcfeae96123b1f812afebfce_female.mp3'}]}, {'text': \"N'T\", 'start_index': 62, 'end_index': 64, 'start_time': 9.909999999999998, 'end_time': 10.01, 'ipa': 'ə n', 'trans_arpabet': 'SCHWA N', 'decision': 'correct', 'nativeness_score': 97, 'phoneme_error': 'normal', 'phoneme_error_arpabet': 'normal'}], 'word_stress': []}, {'start_index': 66, 'end_index': 69, 'start_time': 10.01, 'end_time': 10.319999999999999, 'word': 'HAVE', 'text': 'have', 'ipa': 'hæv', 'trans_arpabet': 'HH AE1 V', 'nativeness_score': 98, 'decision': 'correct', 'phonemes': [{'text': 'H', 'start_index': 66, 'end_index': 66, 'start_time': 10.01, 'end_time': 10.139999999999999, 'ipa': 'h', 'trans_arpabet': 'HH', 'decision': 'correct', 'nativeness_score': 99, 'phoneme_error': 'normal', 'phoneme_error_arpabet': 'normal'}, {'text': 'A', 'start_index': 67, 'end_index': 67, 'start_time': 10.139999999999999, 'end_time': 10.239999999999998, 'ipa': 'æ', 'trans_arpabet': 'AE', 'decision': 'correct', 'nativeness_score': 100, 'phoneme_error': 'normal', 'phoneme_error_arpabet': 'normal'}, {'text': 'VE', 'start_index': 68, 'end_index': 69, 'start_time': 10.239999999999998, 'end_time': 10.319999999999999, 'ipa': 'v', 'trans_arpabet': 'V', 'decision': 'correct', 'nativeness_score': 95, 'phoneme_error': 'normal', 'phoneme_error_arpabet': 'normal'}], 'word_stress': []}, {'start_index': 71, 'end_index': 76, 'start_time': 10.319999999999999, 'end_time': 10.91, 'word': 'ENOUGH', 'text': 'enough', 'ipa': 'ɪˈnʌf', 'trans_arpabet': 'IH0 N AH1 F', 'nativeness_score': 99, 'decision': 'correct', 'phonemes': [{'text': 'E', 'start_index': 71, 'end_index': 71, 'start_time': 10.319999999999999, 'end_time': 10.409999999999998, 'ipa': 'ɪ', 'trans_arpabet': 'IH', 'decision': 'correct', 'nativeness_score': 100, 'phoneme_error': 'normal', 'phoneme_error_arpabet': 'normal'}, {'text': 'N', 'start_index': 72, 'end_index': 72, 'start_time': 10.409999999999998, 'end_time': 10.51, 'ipa': 'n', 'trans_arpabet': 'N', 'decision': 'correct', 'nativeness_score': 100, 'phoneme_error': 'normal', 'phoneme_error_arpabet': 'normal'}, {'text': 'OU', 'start_index': 73, 'end_index': 74, 'start_time': 10.51, 'end_time': 10.67, 'ipa': 'ʌ', 'trans_arpabet': 'AH', 'decision': 'correct', 'nativeness_score': 99, 'phoneme_error': 'normal', 'phoneme_error_arpabet': 'normal'}, {'text': 'GH', 'start_index': 75, 'end_index': 76, 'start_time': 10.67, 'end_time': 10.91, 'ipa': 'f', 'trans_arpabet': 'F', 'decision': 'correct', 'nativeness_score': 97, 'phoneme_error': 'normal', 'phoneme_error_arpabet': 'normal'}], 'word_stress': []}, {'start_index': 83, 'end_index': 93, 'start_time': 12.219999999999999, 'end_time': 13.209999999999999, 'word': 'INGREDIENTS', 'text': 'ingredients', 'ipa': 'ɪnˈgri.di.əns', 'trans_arpabet': 'IH0 N G R IY1 D IY0 AH0 N S', 'nativeness_score': 76, 'decision': 'warning', 'phonemes': [{'text': 'I', 'start_index': 83, 'end_index': 83, 'start_time': 12.219999999999999, 'end_time': 12.319999999999999, 'ipa': 'ɪ', 'trans_arpabet': 'IH', 'decision': 'correct', 'nativeness_score': 97, 'phoneme_error': 'normal', 'phoneme_error_arpabet': 'normal'}, {'text': 'N', 'start_index': 84, 'end_index': 84, 'start_time': 12.319999999999999, 'end_time': 12.43, 'ipa': 'n', 'trans_arpabet': 'N', 'decision': 'correct', 'nativeness_score': 92, 'phoneme_error': 'normal', 'phoneme_error_arpabet': 'normal'}, {'text': 'G', 'start_index': 85, 'end_index': 85, 'start_time': 12.43, 'end_time': 12.5, 'ipa': 'g', 'trans_arpabet': 'G', 'decision': 'correct', 'nativeness_score': 85, 'phoneme_error': 'normal', 'phoneme_error_arpabet': 'normal'}, {'text': 'R', 'start_index': 86, 'end_index': 86, 'start_time': 12.5, 'end_time': 12.559999999999999, 'ipa': 'r', 'trans_arpabet': 'R', 'decision': 'correct', 'nativeness_score': 98, 'phoneme_error': 'normal', 'phoneme_error_arpabet': 'normal'}, {'text': 'E', 'start_index': 87, 'end_index': 87, 'start_time': 12.559999999999999, 'end_time': 12.629999999999999, 'ipa': 'i', 'trans_arpabet': 'IY', 'decision': 'incorrect', 'nativeness_score': 0, 'phoneme_error': 'i - ɛ', 'phoneme_error_arpabet': 'IY - EH', 'feedback': [{'id': 124, 'language': 'en', 'text': \"Pronounce 'e' here with the vowel /i/ (ee), as in 'see' and 'eat.' Your tongue should be high, near the roof of your mouth, and forward, right behind your front teeth.\", 'audio_link': 'https://feedback.elsanow.co/72dafb91c919b1cb9fb06bb47395f560d6ab47a3cd9d9693e7bb370e1917edef_female.mp3'}]}, {'text': 'D', 'start_index': 88, 'end_index': 88, 'start_time': 12.629999999999999, 'end_time': 12.7, 'ipa': 'd', 'trans_arpabet': 'D', 'decision': 'correct', 'nativeness_score': 98, 'phoneme_error': 'normal', 'phoneme_error_arpabet': 'normal'}, {'text': 'I', 'start_index': 89, 'end_index': 89, 'start_time': 12.7, 'end_time': 12.79, 'ipa': 'i', 'trans_arpabet': 'IY', 'decision': 'correct', 'nativeness_score': 94, 'phoneme_error': 'normal', 'phoneme_error_arpabet': 'normal'}, {'text': 'E', 'start_index': 90, 'end_index': 90, 'start_time': 12.79, 'end_time': 12.879999999999999, 'ipa': 'ə', 'trans_arpabet': 'SCHWA', 'decision': 'correct', 'nativeness_score': 96, 'phoneme_error': 'normal', 'phoneme_error_arpabet': 'normal'}, {'text': 'NT', 'start_index': 91, 'end_index': 92, 'start_time': 12.879999999999999, 'end_time': 13.04, 'ipa': 'n', 'trans_arpabet': 'N', 'decision': 'correct', 'nativeness_score': 98, 'phoneme_error': 'normal', 'phoneme_error_arpabet': 'normal'}, {'text': 'S', 'start_index': 93, 'end_index': 93, 'start_time': 13.04, 'end_time': 13.209999999999999, 'ipa': 's', 'trans_arpabet': 'S', 'decision': 'correct', 'nativeness_score': 97, 'phoneme_error': 'normal', 'phoneme_error_arpabet': 'normal'}], 'word_stress': []}, {'start_index': 95, 'end_index': 97, 'start_time': 13.209999999999999, 'end_time': 13.77, 'word': 'AND', 'text': 'and', 'ipa': 'æn', 'trans_arpabet': 'AE1 N', 'nativeness_score': 96, 'decision': 'correct', 'phonemes': [{'text': 'A', 'start_index': 95, 'end_index': 95, 'start_time': 13.209999999999999, 'end_time': 13.379999999999999, 'ipa': 'æ', 'trans_arpabet': 'AE', 'decision': 'correct', 'nativeness_score': 94, 'phoneme_error': 'normal', 'phoneme_error_arpabet': 'normal'}, {'text': 'ND', 'start_index': 96, 'end_index': 97, 'start_time': 13.379999999999999, 'end_time': 13.77, 'ipa': 'n', 'trans_arpabet': 'N', 'decision': 'correct', 'nativeness_score': 97, 'phoneme_error': 'normal', 'phoneme_error_arpabet': 'normal'}], 'word_stress': []}, {'start_index': 104, 'end_index': 106, 'start_time': 15.139999999999999, 'end_time': 15.27, 'word': 'THE', 'text': 'the', 'ipa': 'ðə', 'trans_arpabet': 'DH AH0', 'nativeness_score': 99, 'decision': 'correct', 'phonemes': [{'text': 'TH', 'start_index': 104, 'end_index': 105, 'start_time': 15.139999999999999, 'end_time': 15.209999999999999, 'ipa': 'ð', 'trans_arpabet': 'DH', 'decision': 'correct', 'nativeness_score': 98, 'phoneme_error': 'normal', 'phoneme_error_arpabet': 'normal'}, {'text': 'E', 'start_index': 106, 'end_index': 106, 'start_time': 15.209999999999999, 'end_time': 15.27, 'ipa': 'ə', 'trans_arpabet': 'SCHWA', 'decision': 'correct', 'nativeness_score': 100, 'phoneme_error': 'normal', 'phoneme_error_arpabet': 'normal'}], 'word_stress': []}, {'start_index': 108, 'end_index': 112, 'start_time': 15.27, 'end_time': 15.719999999999999, 'word': 'TOOLS', 'text': 'tools', 'ipa': 'tulz', 'trans_arpabet': 'T UW1 L Z', 'nativeness_score': 93, 'decision': 'correct', 'phonemes': [{'text': 'T', 'start_index': 108, 'end_index': 108, 'start_time': 15.27, 'end_time': 15.389999999999999, 'ipa': 't', 'trans_arpabet': 'T', 'decision': 'correct', 'nativeness_score': 100, 'phoneme_error': 'normal', 'phoneme_error_arpabet': 'normal'}, {'text': 'OO', 'start_index': 109, 'end_index': 110, 'start_time': 15.389999999999999, 'end_time': 15.489999999999998, 'ipa': 'u', 'trans_arpabet': 'UW', 'decision': 'correct', 'nativeness_score': 87, 'phoneme_error': 'normal', 'phoneme_error_arpabet': 'normal'}, {'text': 'L', 'start_index': 111, 'end_index': 111, 'start_time': 15.489999999999998, 'end_time': 15.66, 'ipa': 'l', 'trans_arpabet': 'L', 'decision': 'correct', 'nativeness_score': 84, 'phoneme_error': 'normal', 'phoneme_error_arpabet': 'normal'}, {'text': 'S', 'start_index': 112, 'end_index': 112, 'start_time': 15.66, 'end_time': 15.719999999999999, 'ipa': 'z', 'trans_arpabet': 'Z', 'decision': 'correct', 'nativeness_score': 99, 'phoneme_error': 'normal', 'phoneme_error_arpabet': 'normal'}], 'word_stress': []}, {'start_index': 114, 'end_index': 116, 'start_time': 15.719999999999999, 'end_time': 15.879999999999999, 'word': 'FOR', 'text': 'for', 'ipa': 'fɔr', 'trans_arpabet': 'F AO1 R', 'nativeness_score': 98, 'decision': 'correct', 'phonemes': [{'text': 'F', 'start_index': 114, 'end_index': 114, 'start_time': 15.719999999999999, 'end_time': 15.79, 'ipa': 'f', 'trans_arpabet': 'F', 'decision': 'correct', 'nativeness_score': 97, 'phoneme_error': 'normal', 'phoneme_error_arpabet': 'normal'}, {'text': 'O', 'start_index': 115, 'end_index': 115, 'start_time': 15.79, 'end_time': 15.82, 'ipa': 'ɔ', 'trans_arpabet': 'AO', 'decision': 'correct', 'nativeness_score': 98, 'phoneme_error': 'normal', 'phoneme_error_arpabet': 'normal'}, {'text': 'R', 'start_index': 116, 'end_index': 116, 'start_time': 15.82, 'end_time': 15.879999999999999, 'ipa': 'r', 'trans_arpabet': 'R', 'decision': 'correct', 'nativeness_score': 98, 'phoneme_error': 'normal', 'phoneme_error_arpabet': 'normal'}], 'word_stress': []}, {'start_index': 118, 'end_index': 124, 'start_time': 15.879999999999999, 'end_time': 16.32, 'word': 'COOKING', 'text': 'cooking', 'ipa': 'ˈkʊ.kɪŋ', 'trans_arpabet': 'K UH1 K IH0 NG', 'nativeness_score': 64, 'decision': 'warning', 'phonemes': [{'text': 'C', 'start_index': 118, 'end_index': 118, 'start_time': 15.879999999999999, 'end_time': 15.98, 'ipa': 'k', 'trans_arpabet': 'K', 'decision': 'correct', 'nativeness_score': 100, 'phoneme_error': 'normal', 'phoneme_error_arpabet': 'normal'}, {'text': 'OO', 'start_index': 119, 'end_index': 120, 'start_time': 15.98, 'end_time': 16.049999999999997, 'ipa': 'ʊ', 'trans_arpabet': 'UH', 'decision': 'incorrect', 'nativeness_score': 20, 'phoneme_error': 'normal', 'phoneme_error_arpabet': 'normal', 'feedback': [{'id': 280, 'language': 'en', 'text': \"Pronounce 'oo' here with the vowel /ʊ/, as in 'good' and 'should.' Your lips and tongue should be pretty relaxed.\", 'audio_link': 'https://feedback.elsanow.co/5c802cb0d8a08a7cb1fd0e8d308b158c60bba9c86c5bd5bcb14b48ad71b77cff_female.mp3'}]}, {'text': 'K', 'start_index': 121, 'end_index': 121, 'start_time': 16.049999999999997, 'end_time': 16.16, 'ipa': 'k', 'trans_arpabet': 'K', 'decision': 'correct', 'nativeness_score': 91, 'phoneme_error': 'normal', 'phoneme_error_arpabet': 'normal'}, {'text': 'I', 'start_index': 122, 'end_index': 122, 'start_time': 16.16, 'end_time': 16.21, 'ipa': 'ɪ', 'trans_arpabet': 'IH', 'decision': 'correct', 'nativeness_score': 97, 'phoneme_error': 'normal', 'phoneme_error_arpabet': 'normal'}, {'text': 'NG', 'start_index': 123, 'end_index': 124, 'start_time': 16.21, 'end_time': 16.32, 'ipa': 'ŋ', 'trans_arpabet': 'NG', 'decision': 'correct', 'nativeness_score': 92, 'phoneme_error': 'normal', 'phoneme_error_arpabet': 'normal'}], 'word_stress': []}, {'start_index': 126, 'end_index': 129, 'start_time': 16.32, 'end_time': 16.86, 'word': 'ALSO', 'text': 'also', 'ipa': 'ˈɔl.soʊ', 'trans_arpabet': 'AO1 L S OW0', 'nativeness_score': 93, 'decision': 'correct', 'phonemes': [{'text': 'A', 'start_index': 126, 'end_index': 126, 'start_time': 16.32, 'end_time': 16.4, 'ipa': 'ɔ', 'trans_arpabet': 'AO', 'decision': 'correct', 'nativeness_score': 96, 'phoneme_error': 'normal', 'phoneme_error_arpabet': 'normal'}, {'text': 'L', 'start_index': 127, 'end_index': 127, 'start_time': 16.4, 'end_time': 16.47, 'ipa': 'l', 'trans_arpabet': 'L', 'decision': 'correct', 'nativeness_score': 84, 'phoneme_error': 'normal', 'phoneme_error_arpabet': 'normal'}, {'text': 'S', 'start_index': 128, 'end_index': 128, 'start_time': 16.47, 'end_time': 16.599999999999998, 'ipa': 's', 'trans_arpabet': 'S', 'decision': 'correct', 'nativeness_score': 92, 'phoneme_error': 'normal', 'phoneme_error_arpabet': 'normal'}, {'text': 'O', 'start_index': 129, 'end_index': 129, 'start_time': 16.599999999999998, 'end_time': 16.86, 'ipa': 'oʊ', 'trans_arpabet': 'OW', 'decision': 'correct', 'nativeness_score': 99, 'phoneme_error': 'normal', 'phoneme_error_arpabet': 'normal'}], 'word_stress': []}]}}, {'utterance_id': 2, 'start_time': 17.28, 'end_time': 23.04, 'start_index': 131, 'end_index': 192, 'text': \" For example, they didn't have ten. They have didn't have team\", 'result': None}, {'utterance_id': 3, 'start_time': 23.37, 'end_time': 29.07, 'start_index': 193, 'end_index': 252, 'text': ' and another tool for cooking and also Ingredien in the past', 'result': {'speed_metrics': {'words_per_minute': 114.98, 'syllables_per_minute': 188.15, 'phones_per_minute': 439.02, 'articulated_words_per_minute': 159.04, 'articulated_syllables_per_minute': 260.24, 'articulated_phones_per_minute': 607.23}, 'pronunciation_rate_metrics': {'correct_words_per_minute': 73.17, 'correct_syllables_per_minute': 94.08, 'correct_phones_per_minute': 303.14, 'correct_words_ratio': 0.636, 'correct_syllables_ratio': 0.5, 'correct_phones_ratio': 0.69}, 'pausing_metrics': {'pause_ratio': 0.277, 'pause_ratio_without_initial_sil': 0.27, 'pausing_score_percentage': 50}, 'initial_silence': True, 'total_time': 6.31, 'has_speech': True, 'decision': 'warning', 'nativeness_score': 65.33, 'nativeness_score_partial': 65.33, 'ipa': 'æn əˈnʌ.ðɚ tul fɔr ˈkʊ.kɪŋ ænd ˈɔl.soʊ ɪnˈgri.di.ən ɪn ðʌ pæst', 'intonation_score': 63.447, 'fluency_score': 64.703, 'ielts_score': 6, 'words': [{'start_index': 194, 'end_index': 196, 'start_time': 23.369999999999997, 'end_time': 23.83, 'word': 'AND', 'text': 'and', 'ipa': 'æn', 'trans_arpabet': 'AE1 N', 'nativeness_score': 94, 'decision': 'correct', 'phonemes': [{'text': 'A', 'start_index': 194, 'end_index': 194, 'start_time': 23.369999999999997, 'end_time': 23.7, 'ipa': 'æ', 'trans_arpabet': 'AE', 'decision': 'correct', 'nativeness_score': 97, 'phoneme_error': 'normal', 'phoneme_error_arpabet': 'normal'}, {'text': 'ND', 'start_index': 195, 'end_index': 196, 'start_time': 23.7, 'end_time': 23.83, 'ipa': 'n', 'trans_arpabet': 'N', 'decision': 'correct', 'nativeness_score': 97, 'phoneme_error': 'normal', 'phoneme_error_arpabet': 'normal'}], 'word_stress': []}, {'start_index': 198, 'end_index': 204, 'start_time': 23.86, 'end_time': 24.29, 'word': 'ANOTHER', 'text': 'another', 'ipa': 'əˈnʌ.ðɚ', 'trans_arpabet': 'AH0 N AH1 DH ER0', 'nativeness_score': 92, 'decision': 'correct', 'phonemes': [{'text': 'A', 'start_index': 198, 'end_index': 198, 'start_time': 23.86, 'end_time': 23.889999999999997, 'ipa': 'ə', 'trans_arpabet': 'SCHWA', 'decision': 'correct', 'nativeness_score': 96, 'phoneme_error': 'normal', 'phoneme_error_arpabet': 'normal'}, {'text': 'N', 'start_index': 199, 'end_index': 199, 'start_time': 23.889999999999997, 'end_time': 24, 'ipa': 'n', 'trans_arpabet': 'N', 'decision': 'correct', 'nativeness_score': 92, 'phoneme_error': 'normal', 'phoneme_error_arpabet': 'normal'}, {'text': 'O', 'start_index': 200, 'end_index': 200, 'start_time': 24, 'end_time': 24.08, 'ipa': 'ʌ', 'trans_arpabet': 'AH', 'decision': 'correct', 'nativeness_score': 98, 'phoneme_error': 'normal', 'phoneme_error_arpabet': 'normal'}, {'text': 'TH', 'start_index': 201, 'end_index': 202, 'start_time': 24.08, 'end_time': 24.2, 'ipa': 'ð', 'trans_arpabet': 'DH', 'decision': 'correct', 'nativeness_score': 97, 'phoneme_error': 'normal', 'phoneme_error_arpabet': 'normal'}, {'text': 'ER', 'start_index': 203, 'end_index': 204, 'start_time': 24.2, 'end_time': 24.29, 'ipa': 'ɚ', 'trans_arpabet': 'ER', 'decision': 'correct', 'nativeness_score': 82, 'phoneme_error': 'normal', 'phoneme_error_arpabet': 'normal'}], 'word_stress': []}, {'start_index': 206, 'end_index': 209, 'start_time': 24.29, 'end_time': 24.65, 'word': 'TOOL', 'text': 'tool', 'ipa': 'tul', 'trans_arpabet': 'T UW1 L', 'nativeness_score': 40, 'decision': 'warning', 'phonemes': [{'text': 'T', 'start_index': 206, 'end_index': 206, 'start_time': 24.29, 'end_time': 24.409999999999997, 'ipa': 't', 'trans_arpabet': 'T', 'decision': 'correct', 'nativeness_score': 99, 'phoneme_error': 'normal', 'phoneme_error_arpabet': 'normal'}, {'text': 'OO', 'start_index': 207, 'end_index': 208, 'start_time': 24.409999999999997, 'end_time': 24.49, 'ipa': 'u', 'trans_arpabet': 'UW', 'decision': 'correct', 'nativeness_score': 82, 'phoneme_error': 'normal', 'phoneme_error_arpabet': 'normal'}, {'text': 'L', 'start_index': 209, 'end_index': 209, 'start_time': 24.49, 'end_time': 24.65, 'ipa': 'l', 'trans_arpabet': 'L', 'decision': 'incorrect', 'nativeness_score': 0, 'phoneme_error': 'l - n', 'phoneme_error_arpabet': 'L - N', 'feedback': [{'id': 589, 'language': 'en', 'text': 'This is a /l/ sound. Press the tip of your tongue against your upper gums, behind your front teeth.', 'audio_link': 'https://feedback.elsanow.co/0f664a88894ce52a79747283f03f5e78273539081c8ecdfae0a8d685948f4cee_female.mp3'}]}], 'word_stress': []}, {'start_index': 211, 'end_index': 213, 'start_time': 24.65, 'end_time': 24.819999999999997, 'word': 'FOR', 'text': 'for', 'ipa': 'fɔr', 'trans_arpabet': 'F AO1 R', 'nativeness_score': 93, 'decision': 'correct', 'phonemes': [{'text': 'F', 'start_index': 211, 'end_index': 211, 'start_time': 24.65, 'end_time': 24.729999999999997, 'ipa': 'f', 'trans_arpabet': 'F', 'decision': 'correct', 'nativeness_score': 95, 'phoneme_error': 'normal', 'phoneme_error_arpabet': 'normal'}, {'text': 'O', 'start_index': 212, 'end_index': 212, 'start_time': 24.729999999999997, 'end_time': 24.759999999999998, 'ipa': 'ɔ', 'trans_arpabet': 'AO', 'decision': 'correct', 'nativeness_score': 91, 'phoneme_error': 'normal', 'phoneme_error_arpabet': 'normal'}, {'text': 'R', 'start_index': 213, 'end_index': 213, 'start_time': 24.759999999999998, 'end_time': 24.819999999999997, 'ipa': 'r', 'trans_arpabet': 'R', 'decision': 'correct', 'nativeness_score': 95, 'phoneme_error': 'normal', 'phoneme_error_arpabet': 'normal'}], 'word_stress': []}, {'start_index': 215, 'end_index': 221, 'start_time': 24.819999999999997, 'end_time': 25.389999999999997, 'word': 'COOKING', 'text': 'cooking', 'ipa': 'ˈkʊ.kɪŋ', 'trans_arpabet': 'K UH1 K IH0 NG', 'nativeness_score': 52, 'decision': 'warning', 'phonemes': [{'text': 'C', 'start_index': 215, 'end_index': 215, 'start_time': 24.819999999999997, 'end_time': 24.919999999999998, 'ipa': 'k', 'trans_arpabet': 'K', 'decision': 'correct', 'nativeness_score': 99, 'phoneme_error': 'normal', 'phoneme_error_arpabet': 'normal'}, {'text': 'OO', 'start_index': 216, 'end_index': 217, 'start_time': 24.919999999999998, 'end_time': 25.009999999999998, 'ipa': 'ʊ', 'trans_arpabet': 'UH', 'decision': 'incorrect', 'nativeness_score': 0, 'phoneme_error': 'ʊ - ə m', 'phoneme_error_arpabet': 'UH - SCHWA M', 'feedback': [{'id': 280, 'language': 'en', 'text': \"Pronounce 'oo' here with the vowel /ʊ/, as in 'good' and 'should.' Your lips and tongue should be pretty relaxed.\", 'audio_link': 'https://feedback.elsanow.co/5c802cb0d8a08a7cb1fd0e8d308b158c60bba9c86c5bd5bcb14b48ad71b77cff_female.mp3'}]}, {'text': 'K', 'start_index': 218, 'end_index': 218, 'start_time': 25.009999999999998, 'end_time': 25.11, 'ipa': 'k', 'trans_arpabet': 'K', 'decision': 'correct', 'nativeness_score': 99, 'phoneme_error': 'normal', 'phoneme_error_arpabet': 'normal'}, {'text': 'I', 'start_index': 219, 'end_index': 219, 'start_time': 25.11, 'end_time': 25.169999999999998, 'ipa': 'ɪ', 'trans_arpabet': 'IH', 'decision': 'correct', 'nativeness_score': 99, 'phoneme_error': 'normal', 'phoneme_error_arpabet': 'normal'}, {'text': 'NG', 'start_index': 220, 'end_index': 221, 'start_time': 25.169999999999998, 'end_time': 25.389999999999997, 'ipa': 'ŋ', 'trans_arpabet': 'NG', 'decision': 'correct', 'nativeness_score': 98, 'phoneme_error': 'normal', 'phoneme_error_arpabet': 'normal'}], 'word_stress': []}, {'start_index': 223, 'end_index': 225, 'start_time': 26.4, 'end_time': 26.68, 'word': 'AND', 'text': 'and', 'ipa': 'ænd', 'trans_arpabet': 'AE1 N D', 'nativeness_score': 91, 'decision': 'correct', 'phonemes': [{'text': 'A', 'start_index': 223, 'end_index': 223, 'start_time': 26.4, 'end_time': 26.57, 'ipa': 'æ', 'trans_arpabet': 'AE', 'decision': 'correct', 'nativeness_score': 100, 'phoneme_error': 'normal', 'phoneme_error_arpabet': 'normal'}, {'text': 'N', 'start_index': 224, 'end_index': 224, 'start_time': 26.57, 'end_time': 26.61, 'ipa': 'n', 'trans_arpabet': 'N', 'decision': 'correct', 'nativeness_score': 100, 'phoneme_error': 'normal', 'phoneme_error_arpabet': 'normal'}, {'text': 'D', 'start_index': 225, 'end_index': 225, 'start_time': 26.61, 'end_time': 26.68, 'ipa': 'd', 'trans_arpabet': 'D', 'decision': 'correct', 'nativeness_score': 86, 'phoneme_error': 'normal', 'phoneme_error_arpabet': 'normal'}], 'word_stress': []}, {'start_index': 227, 'end_index': 230, 'start_time': 26.68, 'end_time': 26.99, 'word': 'ALSO', 'text': 'also', 'ipa': 'ˈɔl.soʊ', 'trans_arpabet': 'AO1 L S OW0', 'nativeness_score': 52, 'decision': 'warning', 'phonemes': [{'text': 'A', 'start_index': 227, 'end_index': 227, 'start_time': 26.68, 'end_time': 26.729999999999997, 'ipa': 'ɔ', 'trans_arpabet': 'AO', 'decision': 'incorrect', 'nativeness_score': 40, 'phoneme_error': 'normal', 'phoneme_error_arpabet': 'normal', 'feedback': [{'id': 22, 'language': 'en', 'text': \"You can pronounce 'a' here with the vowel /ɔ/ (aw), as in 'walk' or the vowel /ɑ/, as in 'hot.' For both versions, open your mouth and keep your tongue pulled back toward your throat.\", 'audio_link': 'https://feedback.elsanow.co/e90ea2f59cb70ab195e6e5f22fa370aa3de612a9dfb30af796c2a6b126104854_female.mp3'}]}, {'text': 'L', 'start_index': 228, 'end_index': 228, 'start_time': 26.729999999999997, 'end_time': 26.799999999999997, 'ipa': 'l', 'trans_arpabet': 'L', 'decision': 'warning', 'nativeness_score': 64, 'phoneme_error': 'l - ə', 'phoneme_error_arpabet': 'L - SCHWA', 'feedback': [{'id': 589, 'language': 'en', 'text': 'This is a /l/ sound. Press the tip of your tongue against your upper gums, behind your front teeth.', 'audio_link': 'https://feedback.elsanow.co/0f664a88894ce52a79747283f03f5e78273539081c8ecdfae0a8d685948f4cee_female.mp3'}]}, {'text': 'S', 'start_index': 229, 'end_index': 229, 'start_time': 26.799999999999997, 'end_time': 26.889999999999997, 'ipa': 's', 'trans_arpabet': 'S', 'decision': 'warning', 'nativeness_score': 54, 'phoneme_error': 's - z', 'phoneme_error_arpabet': 'S - Z', 'feedback': [{'id': 220, 'language': 'en', 'text': \"Pronounce 's' here with a /s/ sound, as in 'so' and 'see.' Let the air flow out smoothly without stopping it.\", 'audio_link': 'https://feedback.elsanow.co/cd96525bebeca1b27beeb81b744c9abd3300853a138b2da121221f6193911c66_female.mp3'}]}, {'text': 'O', 'start_index': 230, 'end_index': 230, 'start_time': 26.889999999999997, 'end_time': 26.99, 'ipa': 'oʊ', 'trans_arpabet': 'OW', 'decision': 'correct', 'nativeness_score': 97, 'phoneme_error': 'normal', 'phoneme_error_arpabet': 'normal'}], 'word_stress': []}, {'start_index': 232, 'end_index': 240, 'start_time': 26.99, 'end_time': 27.759999999999998, 'word': 'INGREDIEN', 'text': 'Ingredien', 'ipa': 'ɪnˈgri.di.ən', 'trans_arpabet': 'IH0 N G R IY1 D IY0 AH0 N', 'nativeness_score': 45, 'decision': 'warning', 'phonemes': [{'text': 'I', 'start_index': 232, 'end_index': 232, 'start_time': 26.99, 'end_time': 27.04, 'ipa': 'ɪ', 'trans_arpabet': 'IH', 'decision': 'correct', 'nativeness_score': 96, 'phoneme_error': 'normal', 'phoneme_error_arpabet': 'normal'}, {'text': 'N', 'start_index': 233, 'end_index': 233, 'start_time': 27.04, 'end_time': 27.15, 'ipa': 'n', 'trans_arpabet': 'N', 'decision': 'incorrect', 'nativeness_score': 32, 'phoneme_error': 'n - ŋ', 'phoneme_error_arpabet': 'N - NG', 'feedback': [{'id': 181, 'language': 'en', 'text': 'This is a /n/ sound. Press your tongue against you upper gums and teeth and vibrate your vocal cords.', 'audio_link': 'https://feedback.elsanow.co/aea3da54bf7dcc0b9ad5fe0c31ae19aeef99729401362387e810ab13ede2aa4b_female.mp3'}]}, {'text': 'G', 'start_index': 234, 'end_index': 234, 'start_time': 27.15, 'end_time': 27.209999999999997, 'ipa': 'g', 'trans_arpabet': 'G', 'decision': 'incorrect', 'nativeness_score': 13, 'phoneme_error': 'normal', 'phoneme_error_arpabet': 'normal', 'feedback': [{'id': 100, 'language': 'en', 'text': 'This is a /g/ sound. Raise the back of your tongue up to the roof of your mouth to stop the air from coming out, and then release it, while vibrating your vocal cords.', 'audio_link': 'https://feedback.elsanow.co/79266cf757aef6e01a8cd17f1c4b4033d0783c7b22eb781ca0c2209a2cd54bf0_female.mp3'}]}, {'text': 'R', 'start_index': 235, 'end_index': 235, 'start_time': 27.209999999999997, 'end_time': 27.27, 'ipa': 'r', 'trans_arpabet': 'R', 'decision': 'correct', 'nativeness_score': 97, 'phoneme_error': 'normal', 'phoneme_error_arpabet': 'normal'}, {'text': 'E', 'start_index': 236, 'end_index': 236, 'start_time': 27.27, 'end_time': 27.32, 'ipa': 'i', 'trans_arpabet': 'IY', 'decision': 'incorrect', 'nativeness_score': 0, 'phoneme_error': 'i - ɛ', 'phoneme_error_arpabet': 'IY - EH', 'feedback': [{'id': 124, 'language': 'en', 'text': \"Pronounce 'e' here with the vowel /i/ (ee), as in 'see' and 'eat.' Your tongue should be high, near the roof of your mouth, and forward, right behind your front teeth.\", 'audio_link': 'https://feedback.elsanow.co/72dafb91c919b1cb9fb06bb47395f560d6ab47a3cd9d9693e7bb370e1917edef_female.mp3'}]}, {'text': 'D', 'start_index': 237, 'end_index': 237, 'start_time': 27.32, 'end_time': 27.369999999999997, 'ipa': 'd', 'trans_arpabet': 'D', 'decision': 'correct', 'nativeness_score': 99, 'phoneme_error': 'normal', 'phoneme_error_arpabet': 'normal'}, {'text': 'I', 'start_index': 238, 'end_index': 238, 'start_time': 27.369999999999997, 'end_time': 27.439999999999998, 'ipa': 'i', 'trans_arpabet': 'IY', 'decision': 'incorrect', 'nativeness_score': 34, 'phoneme_error': 'i - ɪ', 'phoneme_error_arpabet': 'IY - IH', 'feedback': [{'id': 124, 'language': 'en', 'text': \"Pronounce 'i' here with the vowel /i/ (ee), as in 'see' and 'eat.' Your tongue should be high, near the roof of your mouth, and forward, right behind your front teeth.\", 'audio_link': 'https://feedback.elsanow.co/f2f14fc9458db6dc64df774eaed9744e3d5ad21eaf532e934356e9cec7669bbb_female.mp3'}]}, {'text': 'E', 'start_index': 239, 'end_index': 239, 'start_time': 27.439999999999998, 'end_time': 27.49, 'ipa': 'ə', 'trans_arpabet': 'SCHWA', 'decision': 'correct', 'nativeness_score': 87, 'phoneme_error': 'normal', 'phoneme_error_arpabet': 'normal'}, {'text': 'N', 'start_index': 240, 'end_index': 240, 'start_time': 27.49, 'end_time': 27.759999999999998, 'ipa': 'n', 'trans_arpabet': 'N', 'decision': 'correct', 'nativeness_score': 97, 'phoneme_error': 'normal', 'phoneme_error_arpabet': 'normal'}], 'word_stress': []}, {'start_index': 242, 'end_index': 243, 'start_time': 28.27, 'end_time': 28.4, 'word': 'IN', 'text': 'in', 'ipa': 'ɪn', 'trans_arpabet': 'IH1 N', 'nativeness_score': 94, 'decision': 'correct', 'phonemes': [{'text': 'I', 'start_index': 242, 'end_index': 242, 'start_time': 28.27, 'end_time': 28.369999999999997, 'ipa': 'ɪ', 'trans_arpabet': 'IH', 'decision': 'correct', 'nativeness_score': 100, 'phoneme_error': 'normal', 'phoneme_error_arpabet': 'normal'}, {'text': 'N', 'start_index': 243, 'end_index': 243, 'start_time': 28.369999999999997, 'end_time': 28.4, 'ipa': 'n', 'trans_arpabet': 'N', 'decision': 'correct', 'nativeness_score': 100, 'phoneme_error': 'normal', 'phoneme_error_arpabet': 'normal'}], 'word_stress': []}, {'start_index': 245, 'end_index': 247, 'start_time': 28.4, 'end_time': 28.479999999999997, 'word': 'THE', 'text': 'the', 'ipa': 'ðʌ', 'trans_arpabet': 'DH AH1', 'nativeness_score': 71, 'decision': 'warning', 'phonemes': [{'text': 'TH', 'start_index': 245, 'end_index': 246, 'start_time': 28.4, 'end_time': 28.43, 'ipa': 'ð', 'trans_arpabet': 'DH', 'decision': 'warning', 'nativeness_score': 56.99999999999999, 'phoneme_error': 'normal', 'phoneme_error_arpabet': 'normal', 'feedback': [{'id': 64, 'language': 'en', 'text': \"To make the 'th' sounds, put the tip of your tongue between your teeth and let the air flow out. /ð/ is a voiced 'th' sound, which means your vocal cords vibrate, like in the words 'that' and 'this.'\", 'audio_link': 'https://feedback.elsanow.co/028dafc22c8d6c2a562cf58ad6effbb69244c00ca3edd112497209651d60c097_female.mp3'}]}, {'text': 'E', 'start_index': 247, 'end_index': 247, 'start_time': 28.43, 'end_time': 28.479999999999997, 'ipa': 'ʌ', 'trans_arpabet': 'AH', 'decision': 'correct', 'nativeness_score': 99, 'phoneme_error': 'normal', 'phoneme_error_arpabet': 'normal'}], 'word_stress': []}, {'start_index': 249, 'end_index': 252, 'start_time': 28.479999999999997, 'end_time': 29.07, 'word': 'PAST', 'text': 'past', 'ipa': 'pæst', 'trans_arpabet': 'P AE1 S T', 'nativeness_score': 67, 'decision': 'warning', 'phonemes': [{'text': 'P', 'start_index': 249, 'end_index': 249, 'start_time': 28.479999999999997, 'end_time': 28.589999999999996, 'ipa': 'p', 'trans_arpabet': 'P', 'decision': 'correct', 'nativeness_score': 87, 'phoneme_error': 'normal', 'phoneme_error_arpabet': 'normal'}, {'text': 'A', 'start_index': 250, 'end_index': 250, 'start_time': 28.589999999999996, 'end_time': 28.669999999999998, 'ipa': 'æ', 'trans_arpabet': 'AE', 'decision': 'correct', 'nativeness_score': 99, 'phoneme_error': 'normal', 'phoneme_error_arpabet': 'normal'}, {'text': 'S', 'start_index': 251, 'end_index': 251, 'start_time': 28.669999999999998, 'end_time': 28.79, 'ipa': 's', 'trans_arpabet': 'S', 'decision': 'correct', 'nativeness_score': 90, 'phoneme_error': 'normal', 'phoneme_error_arpabet': 'normal'}, {'text': 'T', 'start_index': 252, 'end_index': 252, 'start_time': 28.79, 'end_time': 29.07, 'ipa': 't', 'trans_arpabet': 'T', 'decision': 'incorrect', 'nativeness_score': 16, 'phoneme_error': 't - t eɪ', 'phoneme_error_arpabet': 'T - T EY', 'feedback': [{'id': 262, 'language': 'en', 'text': 'This is a /t/ sound. Press your tongue against your upper gums behind your front teeth to stop the air from coming out, and then release it.', 'audio_link': 'https://feedback.elsanow.co/d5dbb9aadff2be7e7a099fc16d546c352c7599648ba9cfb8770979dec37bb3fe_female.mp3'}]}], 'word_stress': []}]}}, {'utterance_id': 4, 'start_time': 30.03, 'end_time': 35.65, 'start_index': 253, 'end_index': 305, 'text': ' they only have like traditional natural mixture from', 'result': {'speed_metrics': {'words_per_minute': 80.13, 'syllables_per_minute': 150.25, 'phones_per_minute': 380.63, 'articulated_words_per_minute': 108.84, 'articulated_syllables_per_minute': 204.08, 'articulated_phones_per_minute': 517.01}, 'pronunciation_rate_metrics': {'correct_words_per_minute': 20.03, 'correct_syllables_per_minute': 50.08, 'correct_phones_per_minute': 190.32, 'correct_words_ratio': 0.25, 'correct_syllables_ratio': 0.333, 'correct_phones_ratio': 0.5}, 'pausing_metrics': {'pause_ratio': 0.264, 'pause_ratio_without_initial_sil': 0.202, 'pausing_score_percentage': 16}, 'initial_silence': True, 'total_time': 6.42, 'has_speech': True, 'decision': 'incorrect', 'nativeness_score': 35.65, 'nativeness_score_partial': 39.04, 'ipa': 'ðeɪ ˈoʊn.li hæv laɪk trəˈdɪ.ʃə.nəl ˈnætʃ.ɚ.əl ˈmɪks.tʃɚ frʌm', 'intonation_score': 43.244, 'fluency_score': 39.541, 'ielts_score': 3.5, 'words': [{'start_index': 254, 'end_index': 257, 'start_time': 30.03, 'end_time': 30.19, 'word': 'THEY', 'text': 'they', 'ipa': 'ðeɪ', 'trans_arpabet': 'DH EY1', 'nativeness_score': 20, 'decision': 'incorrect', 'phonemes': [{'text': 'TH', 'start_index': 254, 'end_index': 255, 'start_time': 30.03, 'end_time': 30.09, 'ipa': 'ð', 'trans_arpabet': 'DH', 'decision': 'correct', 'nativeness_score': 98, 'phoneme_error': 'normal', 'phoneme_error_arpabet': 'normal'}, {'text': 'EY', 'start_index': 256, 'end_index': 257, 'start_time': 30.09, 'end_time': 30.19, 'ipa': 'eɪ', 'trans_arpabet': 'EY', 'decision': 'incorrect', 'nativeness_score': 0, 'phoneme_error': 'eɪ - i', 'phoneme_error_arpabet': 'EY - IY', 'feedback': [{'id': 82, 'language': 'en', 'text': \"Pronounce 'ey' here with the diphthong /eɪ/, as in 'say.' For diphthongs, you move from one vowel position to another. Make sure you move your mouth for sounds like this!\", 'audio_link': 'https://feedback.elsanow.co/bf690353351dbbf7c2dca3ce84dcffbab9d06827d46f1917fb0c7d4f5b7ff625_female.mp3'}]}], 'word_stress': []}, {'start_index': 259, 'end_index': 262, 'start_time': 30.19, 'end_time': 30.73, 'word': 'ONLY', 'text': 'only', 'ipa': 'ˈoʊn.li', 'trans_arpabet': 'OW1 N L IY0', 'nativeness_score': 24, 'decision': 'incorrect', 'phonemes': [{'text': 'O', 'start_index': 259, 'end_index': 259, 'start_time': 30.19, 'end_time': 30.46, 'ipa': 'oʊ', 'trans_arpabet': 'OW', 'decision': 'incorrect', 'nativeness_score': 32, 'phoneme_error': 'oʊ - ɔ', 'phoneme_error_arpabet': 'OW - AO', 'feedback': [{'id': 193, 'language': 'en', 'text': \"Pronounce 'o' here with the diphthong /oʊ/, as in 'go.' For diphthongs, you move from one vowel position to another. Make sure you move your mouth for sounds like this!\", 'audio_link': 'https://feedback.elsanow.co/f4ccc89090fb3a2e11c864608c79a226026d90a6760fbc676d8af67023c91b33_female.mp3'}]}, {'text': 'N', 'start_index': 260, 'end_index': 260, 'start_time': 30.46, 'end_time': 30.5, 'ipa': 'n', 'trans_arpabet': 'N', 'decision': 'incorrect', 'nativeness_score': 25, 'phoneme_error': 'normal', 'phoneme_error_arpabet': 'normal', 'feedback': [{'id': 181, 'language': 'en', 'text': 'This is a /n/ sound. Press your tongue against you upper gums and teeth and vibrate your vocal cords.', 'audio_link': 'https://feedback.elsanow.co/aea3da54bf7dcc0b9ad5fe0c31ae19aeef99729401362387e810ab13ede2aa4b_female.mp3'}]}, {'text': 'L', 'start_index': 261, 'end_index': 261, 'start_time': 30.5, 'end_time': 30.53, 'ipa': 'l', 'trans_arpabet': 'L', 'decision': 'correct', 'nativeness_score': 86, 'phoneme_error': 'normal', 'phoneme_error_arpabet': 'normal'}, {'text': 'Y', 'start_index': 262, 'end_index': 262, 'start_time': 30.53, 'end_time': 30.73, 'ipa': 'i', 'trans_arpabet': 'IY', 'decision': 'correct', 'nativeness_score': 86, 'phoneme_error': 'normal', 'phoneme_error_arpabet': 'normal'}], 'word_stress': []}, {'start_index': 264, 'end_index': 267, 'start_time': 30.73, 'end_time': 31.11, 'word': 'HAVE', 'text': 'have', 'ipa': 'hæv', 'trans_arpabet': 'HH AE1 V', 'nativeness_score': 39, 'decision': 'warning', 'phonemes': [{'text': 'H', 'start_index': 264, 'end_index': 264, 'start_time': 30.73, 'end_time': 30.9, 'ipa': 'h', 'trans_arpabet': 'HH', 'decision': 'correct', 'nativeness_score': 100, 'phoneme_error': 'normal', 'phoneme_error_arpabet': 'normal'}, {'text': 'A', 'start_index': 265, 'end_index': 265, 'start_time': 30.9, 'end_time': 30.990000000000002, 'ipa': 'æ', 'trans_arpabet': 'AE', 'decision': 'correct', 'nativeness_score': 98, 'phoneme_error': 'normal', 'phoneme_error_arpabet': 'normal'}, {'text': 'VE', 'start_index': 266, 'end_index': 267, 'start_time': 30.990000000000002, 'end_time': 31.11, 'ipa': 'v', 'trans_arpabet': 'V', 'decision': 'incorrect', 'nativeness_score': 33, 'phoneme_error': 'v - —', 'phoneme_error_arpabet': 'V - <eps>', 'feedback': [{'id': 559, 'language': 'en', 'text': 'This is a /v/ sound. Rest your upper teeth on your lower lip and blow air out smoothly, without stopping it. Your teeth and lips should be just like they are for /f/.', 'audio_link': 'https://feedback.elsanow.co/bf92316036ace80f5212b137f87bc131287009c02525236a7207e70fb9d85e7f_female.mp3'}]}], 'word_stress': []}, {'start_index': 269, 'end_index': 272, 'start_time': 31.31, 'end_time': 31.61, 'word': 'LIKE', 'text': 'like', 'ipa': 'laɪk', 'trans_arpabet': 'L AY1 K', 'nativeness_score': 37, 'decision': 'warning', 'phonemes': [{'text': 'L', 'start_index': 269, 'end_index': 269, 'start_time': 31.31, 'end_time': 31.42, 'ipa': 'l', 'trans_arpabet': 'L', 'decision': 'correct', 'nativeness_score': 97, 'phoneme_error': 'normal', 'phoneme_error_arpabet': 'normal'}, {'text': 'I', 'start_index': 270, 'end_index': 270, 'start_time': 31.42, 'end_time': 31.54, 'ipa': 'aɪ', 'trans_arpabet': 'AY', 'decision': 'correct', 'nativeness_score': 92, 'phoneme_error': 'normal', 'phoneme_error_arpabet': 'normal'}, {'text': 'KE', 'start_index': 271, 'end_index': 272, 'start_time': 31.54, 'end_time': 31.61, 'ipa': 'k', 'trans_arpabet': 'K', 'decision': 'incorrect', 'nativeness_score': 0, 'phoneme_error': 'k - dʒ', 'phoneme_error_arpabet': 'K - JH', 'feedback': [{'id': 136, 'language': 'en', 'text': 'This is a /k/ sound. Raise the back of your tongue up against the roof of your mouth to stop the air from coming out, and then release it.', 'audio_link': 'https://feedback.elsanow.co/5f1b24db7fb9eb53afa5c2e7ccc749410de56bc60bf50e1ac6a6e0557049ac0e_female.mp3'}]}], 'word_stress': []}, {'start_index': 274, 'end_index': 284, 'start_time': 31.61, 'end_time': 32.41, 'word': 'TRADITIONAL', 'text': 'traditional', 'ipa': 'trəˈdɪ.ʃə.nəl', 'trans_arpabet': 'T R AH0 D IH1 SH AH0 N AH0 L', 'nativeness_score': 34, 'decision': 'warning', 'phonemes': [{'text': 'T', 'start_index': 274, 'end_index': 274, 'start_time': 31.61, 'end_time': 31.66, 'ipa': 't', 'trans_arpabet': 'T', 'decision': 'incorrect', 'nativeness_score': 34, 'phoneme_error': 'normal', 'phoneme_error_arpabet': 'normal', 'feedback': [{'id': 262, 'language': 'en', 'text': 'This is a /t/ sound. Press your tongue against your upper gums behind your front teeth to stop the air from coming out, and then release it.', 'audio_link': 'https://feedback.elsanow.co/d5dbb9aadff2be7e7a099fc16d546c352c7599648ba9cfb8770979dec37bb3fe_female.mp3'}]}, {'text': 'R', 'start_index': 275, 'end_index': 275, 'start_time': 31.66, 'end_time': 31.7, 'ipa': 'r', 'trans_arpabet': 'R', 'decision': 'incorrect', 'nativeness_score': 0, 'phoneme_error': 'r - dʒ', 'phoneme_error_arpabet': 'R - JH', 'feedback': [{'id': 217, 'language': 'en', 'text': 'This is a /r/ sound. Raise your tongue so that its sides touch your upper back teeth or gums.', 'audio_link': 'https://feedback.elsanow.co/1bfab3cb6b198eda5f5c45ac018d1342f2409b16fd68f4d6fc7cd940c82dd66a_female.mp3'}]}, {'text': 'A', 'start_index': 276, 'end_index': 276, 'start_time': 31.7, 'end_time': 31.73, 'ipa': 'ə', 'trans_arpabet': 'SCHWA', 'decision': 'warning', 'nativeness_score': 46, 'phoneme_error': 'normal', 'phoneme_error_arpabet': 'normal', 'feedback': [{'id': 13, 'language': 'en', 'text': \"Pronounce the 'a' here with the relaxed vowel /ə/ (uh) like the first vowel in 'about.' This relaxed vowel has a special name: schwa.\", 'audio_link': 'https://feedback.elsanow.co/a2b193fb3ac23b2113f59c7e8932a009f280f5b04a4a4c12f6be296f40886624_female.mp3'}]}, {'text': 'D', 'start_index': 277, 'end_index': 277, 'start_time': 31.73, 'end_time': 31.78, 'ipa': 'd', 'trans_arpabet': 'D', 'decision': 'incorrect', 'nativeness_score': 30, 'phoneme_error': 'normal', 'phoneme_error_arpabet': 'normal', 'feedback': [{'id': 58, 'language': 'en', 'text': 'This is a /d/ sound. Press your tongue against your upper gums to stop the air from coming out of your mouth, and then release it, while vibrating your vocal cords.', 'audio_link': 'https://feedback.elsanow.co/b18eb9557505517184d4dcd754ab6b7d6e13529755cd6d50abb9bb4c397c2385_female.mp3'}]}, {'text': 'I', 'start_index': 278, 'end_index': 278, 'start_time': 31.78, 'end_time': 31.85, 'ipa': 'ɪ', 'trans_arpabet': 'IH', 'decision': 'warning', 'nativeness_score': 43, 'phoneme_error': 'ɪ - i', 'phoneme_error_arpabet': 'IH - IY', 'feedback': [{'id': 115, 'language': 'en', 'text': \"Pronounce 'i' here with the vowel /ɪ/, as in 'it' and 'did.' Your lips and tongue should be pretty relaxed.\", 'audio_link': 'https://feedback.elsanow.co/fb49ba1dc4345537ed52fc0dc78da8c9b8ee006121c31004cdd0df57912889f7_female.mp3'}]}, {'text': 'T', 'start_index': 279, 'end_index': 279, 'start_time': 31.85, 'end_time': 31.93, 'ipa': 'ʃ', 'trans_arpabet': 'SH', 'decision': 'correct', 'nativeness_score': 93, 'phoneme_error': 'normal', 'phoneme_error_arpabet': 'normal'}, {'text': 'IO', 'start_index': 280, 'end_index': 281, 'start_time': 31.93, 'end_time': 32.01, 'ipa': 'ə', 'trans_arpabet': 'SCHWA', 'decision': 'correct', 'nativeness_score': 98, 'phoneme_error': 'normal', 'phoneme_error_arpabet': 'normal'}, {'text': 'N', 'start_index': 282, 'end_index': 282, 'start_time': 32.01, 'end_time': 32.06, 'ipa': 'n', 'trans_arpabet': 'N', 'decision': 'correct', 'nativeness_score': 99, 'phoneme_error': 'normal', 'phoneme_error_arpabet': 'normal'}, {'text': 'A', 'start_index': 283, 'end_index': 283, 'start_time': 32.06, 'end_time': 32.2, 'ipa': 'ə', 'trans_arpabet': 'SCHWA', 'decision': 'incorrect', 'nativeness_score': 32, 'phoneme_error': 'ə - oʊ', 'phoneme_error_arpabet': 'SCHWA - OW', 'feedback': [{'id': 13, 'language': 'en', 'text': \"Pronounce the 'a' here with the relaxed vowel /ə/ (uh) like the first vowel in 'about.' This relaxed vowel has a special name: schwa.\", 'audio_link': 'https://feedback.elsanow.co/a2b193fb3ac23b2113f59c7e8932a009f280f5b04a4a4c12f6be296f40886624_female.mp3'}]}, {'text': 'L', 'start_index': 284, 'end_index': 284, 'start_time': 32.2, 'end_time': 32.41, 'ipa': 'l', 'trans_arpabet': 'L', 'decision': 'correct', 'nativeness_score': 95, 'phoneme_error': 'normal', 'phoneme_error_arpabet': 'normal'}], 'word_stress': []}, {'start_index': 286, 'end_index': 292, 'start_time': 32.8, 'end_time': 33.71, 'word': 'NATURAL', 'text': 'natural', 'ipa': 'ˈnætʃ.ɚ.əl', 'trans_arpabet': 'N AE1 CH ER0 AH0 L', 'nativeness_score': 37, 'decision': 'warning', 'phonemes': [{'text': 'N', 'start_index': 286, 'end_index': 286, 'start_time': 32.8, 'end_time': 32.91, 'ipa': 'n', 'trans_arpabet': 'N', 'decision': 'correct', 'nativeness_score': 82, 'phoneme_error': 'normal', 'phoneme_error_arpabet': 'normal'}, {'text': 'A', 'start_index': 287, 'end_index': 287, 'start_time': 32.91, 'end_time': 32.98, 'ipa': 'æ', 'trans_arpabet': 'AE', 'decision': 'incorrect', 'nativeness_score': 0, 'phoneme_error': 'æ - eɪ', 'phoneme_error_arpabet': 'AE - EY', 'feedback': [{'id': 7, 'language': 'en', 'text': \"Pronounce 'a' here with the vowel /æ/, as in 'last' and 'bad.' Open your mouth and keep your tongue low. If your tongue and jaw are too high, it might sound like /ɛ/ (eh), as in 'bed.'\", 'audio_link': 'https://feedback.elsanow.co/39bacb5dd546abe7ebe98c6955ead94f7ceb189290fb7f54a300e09642157bf8_female.mp3'}]}, {'text': 'T', 'start_index': 288, 'end_index': 288, 'start_time': 32.98, 'end_time': 33.16, 'ipa': 'tʃ', 'trans_arpabet': 'CH', 'decision': 'correct', 'nativeness_score': 96, 'phoneme_error': 'normal', 'phoneme_error_arpabet': 'normal'}, {'text': 'UR', 'start_index': 289, 'end_index': 290, 'start_time': 33.16, 'end_time': 33.2, 'ipa': 'ɚ', 'trans_arpabet': 'ER', 'decision': 'correct', 'nativeness_score': 99, 'phoneme_error': 'normal', 'phoneme_error_arpabet': 'normal'}, {'text': 'A', 'start_index': 291, 'end_index': 291, 'start_time': 33.2, 'end_time': 33.29, 'ipa': 'ə', 'trans_arpabet': 'SCHWA', 'decision': 'incorrect', 'nativeness_score': 0, 'phoneme_error': 'ə - oʊ', 'phoneme_error_arpabet': 'SCHWA - OW', 'feedback': [{'id': 13, 'language': 'en', 'text': \"Pronounce the 'a' here with the relaxed vowel /ə/ (uh) like the first vowel in 'about.' This relaxed vowel has a special name: schwa.\", 'audio_link': 'https://feedback.elsanow.co/a2b193fb3ac23b2113f59c7e8932a009f280f5b04a4a4c12f6be296f40886624_female.mp3'}]}, {'text': 'L', 'start_index': 292, 'end_index': 292, 'start_time': 33.29, 'end_time': 33.71, 'ipa': 'l', 'trans_arpabet': 'L', 'decision': 'correct', 'nativeness_score': 82, 'phoneme_error': 'normal', 'phoneme_error_arpabet': 'normal'}], 'word_stress': []}, {'start_index': 294, 'end_index': 300, 'start_time': 34.3, 'end_time': 35.05, 'word': 'MIXTURE', 'text': 'mixture', 'ipa': 'ˈmɪks.tʃɚ', 'trans_arpabet': 'M IH1 K S CH ER0', 'nativeness_score': 42, 'decision': 'warning', 'phonemes': [{'text': 'M', 'start_index': 294, 'end_index': 294, 'start_time': 34.3, 'end_time': 34.39, 'ipa': 'm', 'trans_arpabet': 'M', 'decision': 'incorrect', 'nativeness_score': 34, 'phoneme_error': 'm - b', 'phoneme_error_arpabet': 'M - B', 'feedback': [{'id': 178, 'language': 'en', 'text': 'This is a /m/ sound. Press your lips together and vibrate your vocal cords to produce this consonant.', 'audio_link': 'https://feedback.elsanow.co/fc93f1e4c027d29c480667f6fa9bf21b181c5eddf4e4cdd4dec1c00e25b525fd_female.mp3'}]}, {'text': 'I', 'start_index': 295, 'end_index': 295, 'start_time': 34.39, 'end_time': 34.44, 'ipa': 'ɪ', 'trans_arpabet': 'IH', 'decision': 'correct', 'nativeness_score': 98, 'phoneme_error': 'normal', 'phoneme_error_arpabet': 'normal'}, {'text': 'X', 'start_index': 296, 'end_index': 296, 'start_time': 34.44, 'end_time': 34.63, 'ipa': 'k s', 'trans_arpabet': 'K S', 'decision': 'correct', 'nativeness_score': 99, 'phoneme_error': 'normal', 'phoneme_error_arpabet': 'normal'}, {'text': 'T', 'start_index': 297, 'end_index': 297, 'start_time': 34.63, 'end_time': 34.71, 'ipa': 'tʃ', 'trans_arpabet': 'CH', 'decision': 'incorrect', 'nativeness_score': 0, 'phoneme_error': 'tʃ - s', 'phoneme_error_arpabet': 'CH - S', 'feedback': [{'id': 55, 'language': 'en', 'text': \"Pronounce 't' here with a /tʃ/ (ch) sound, as in 'choose' and 'much.' This consonant is basically a combination of /t/, as in 'two,' and /ʃ/ (sh), as in 'shoes.'\", 'audio_link': 'https://feedback.elsanow.co/3781b69ba6ffb25892b9466b948223c997834477a5872216d191ab695939ee9a_female.mp3'}]}, {'text': 'URE', 'start_index': 298, 'end_index': 300, 'start_time': 34.71, 'end_time': 35.05, 'ipa': 'ɚ', 'trans_arpabet': 'ER', 'decision': 'correct', 'nativeness_score': 97, 'phoneme_error': 'normal', 'phoneme_error_arpabet': 'normal'}], 'word_stress': []}, {'start_index': 302, 'end_index': 305, 'start_time': 35.08, 'end_time': 35.65, 'word': 'FROM', 'text': 'from', 'ipa': 'frʌm', 'trans_arpabet': 'F R AH1 M', 'nativeness_score': 56.00000000000001, 'decision': 'warning', 'phonemes': [{'text': 'F', 'start_index': 302, 'end_index': 302, 'start_time': 35.08, 'end_time': 35.19, 'ipa': 'f', 'trans_arpabet': 'F', 'decision': 'correct', 'nativeness_score': 100, 'phoneme_error': 'normal', 'phoneme_error_arpabet': 'normal'}, {'text': 'R', 'start_index': 303, 'end_index': 303, 'start_time': 35.19, 'end_time': 35.22, 'ipa': 'r', 'trans_arpabet': 'R', 'decision': 'warning', 'nativeness_score': 79, 'phoneme_error': 'normal', 'phoneme_error_arpabet': 'normal', 'feedback': [{'id': 217, 'language': 'en', 'text': 'This is a /r/ sound. Raise your tongue so that its sides touch your upper back teeth or gums.', 'audio_link': 'https://feedback.elsanow.co/1bfab3cb6b198eda5f5c45ac018d1342f2409b16fd68f4d6fc7cd940c82dd66a_female.mp3'}]}, {'text': 'O', 'start_index': 304, 'end_index': 304, 'start_time': 35.22, 'end_time': 35.29, 'ipa': 'ʌ', 'trans_arpabet': 'AH', 'decision': 'correct', 'nativeness_score': 94, 'phoneme_error': 'normal', 'phoneme_error_arpabet': 'normal'}, {'text': 'M', 'start_index': 305, 'end_index': 305, 'start_time': 35.29, 'end_time': 35.59, 'ipa': 'm', 'trans_arpabet': 'M', 'decision': 'warning', 'nativeness_score': 65, 'phoneme_error': 'm - n', 'phoneme_error_arpabet': 'M - N', 'feedback': [{'id': 178, 'language': 'en', 'text': 'This is a /m/ sound. Press your lips together and vibrate your vocal cords to produce this consonant.', 'audio_link': 'https://feedback.elsanow.co/fc93f1e4c027d29c480667f6fa9bf21b181c5eddf4e4cdd4dec1c00e25b525fd_female.mp3'}]}], 'word_stress': []}]}}, {'utterance_id': 5, 'start_time': 36.78, 'end_time': 42.48, 'start_index': 306, 'end_index': 354, 'text': ', uh, the nature. So, today it is developed a lot', 'result': {'speed_metrics': {'words_per_minute': 84.64, 'syllables_per_minute': 131.66, 'phones_per_minute': 272.73, 'articulated_words_per_minute': 127.96, 'articulated_syllables_per_minute': 199.05, 'articulated_phones_per_minute': 412.32}, 'pronunciation_rate_metrics': {'correct_words_per_minute': 75.24, 'correct_syllables_per_minute': 103.45, 'correct_phones_per_minute': 244.51, 'correct_words_ratio': 0.889, 'correct_syllables_ratio': 0.786, 'correct_phones_ratio': 0.897}, 'pausing_metrics': {'pause_ratio': 0.339, 'pause_ratio_without_initial_sil': 0.317, 'pausing_score_percentage': 39.13}, 'initial_silence': True, 'total_time': 6.89, 'has_speech': True, 'decision': 'warning', 'nativeness_score': 79.74, 'nativeness_score_partial': 79.74, 'ipa': 'ʌ ðə ˈneɪ.tʃɚ soʊ təˈɾeɪ ˈɪˈɾɪz dɪˈvɛ.ləpt ə lɑt', 'intonation_score': 65.096, 'fluency_score': 67.024, 'ielts_score': 6.5, 'words': [{'start_index': 312, 'end_index': 314, 'start_time': 36.78, 'end_time': 36.910000000000004, 'word': 'THE', 'text': 'the', 'ipa': 'ðə', 'trans_arpabet': 'DH AH0', 'nativeness_score': 97, 'decision': 'correct', 'phonemes': [{'text': 'TH', 'start_index': 312, 'end_index': 313, 'start_time': 36.78, 'end_time': 36.870000000000005, 'ipa': 'ð', 'trans_arpabet': 'DH', 'decision': 'correct', 'nativeness_score': 99, 'phoneme_error': 'normal', 'phoneme_error_arpabet': 'normal'}, {'text': 'E', 'start_index': 314, 'end_index': 314, 'start_time': 36.870000000000005, 'end_time': 36.910000000000004, 'ipa': 'ə', 'trans_arpabet': 'SCHWA', 'decision': 'correct', 'nativeness_score': 95, 'phoneme_error': 'normal', 'phoneme_error_arpabet': 'normal'}], 'word_stress': []}, {'start_index': 316, 'end_index': 321, 'start_time': 36.910000000000004, 'end_time': 37.64, 'word': 'NATURE', 'text': 'nature', 'ipa': 'ˈneɪ.tʃɚ', 'trans_arpabet': 'N EY1 CH ER0', 'nativeness_score': 62, 'decision': 'warning', 'phonemes': [{'text': 'N', 'start_index': 316, 'end_index': 316, 'start_time': 36.910000000000004, 'end_time': 37.15, 'ipa': 'n', 'trans_arpabet': 'N', 'decision': 'correct', 'nativeness_score': 90, 'phoneme_error': 'normal', 'phoneme_error_arpabet': 'normal'}, {'text': 'A', 'start_index': 317, 'end_index': 317, 'start_time': 37.15, 'end_time': 37.230000000000004, 'ipa': 'eɪ', 'trans_arpabet': 'EY', 'decision': 'incorrect', 'nativeness_score': 27, 'phoneme_error': 'eɪ - ɛ n', 'phoneme_error_arpabet': 'EY - EH N', 'feedback': [{'id': 82, 'language': 'en', 'text': \"Pronounce 'a' here with the diphthong /eɪ/, as in 'say.' For diphthongs, you move from one vowel position to another. Make sure you move your mouth for sounds like this!\", 'audio_link': 'https://feedback.elsanow.co/a84b22909011f997064e6c68a76a3f19212dfdddc7878e902cb9a4afd61836f3_female.mp3'}]}, {'text': 'T', 'start_index': 318, 'end_index': 318, 'start_time': 37.230000000000004, 'end_time': 37.36, 'ipa': 'tʃ', 'trans_arpabet': 'CH', 'decision': 'correct', 'nativeness_score': 94, 'phoneme_error': 'normal', 'phoneme_error_arpabet': 'normal'}, {'text': 'URE', 'start_index': 319, 'end_index': 321, 'start_time': 37.36, 'end_time': 37.64, 'ipa': 'ɚ', 'trans_arpabet': 'ER', 'decision': 'correct', 'nativeness_score': 99, 'phoneme_error': 'normal', 'phoneme_error_arpabet': 'normal'}], 'word_stress': []}, {'start_index': 324, 'end_index': 325, 'start_time': 38.88, 'end_time': 39.46, 'word': 'SO', 'text': 'So', 'ipa': 'soʊ', 'trans_arpabet': 'S OW1', 'nativeness_score': 97, 'decision': 'correct', 'phonemes': [{'text': 'S', 'start_index': 324, 'end_index': 324, 'start_time': 38.88, 'end_time': 39.08, 'ipa': 's', 'trans_arpabet': 'S', 'decision': 'correct', 'nativeness_score': 100, 'phoneme_error': 'normal', 'phoneme_error_arpabet': 'normal'}, {'text': 'O', 'start_index': 325, 'end_index': 325, 'start_time': 39.08, 'end_time': 39.46, 'ipa': 'oʊ', 'trans_arpabet': 'OW', 'decision': 'correct', 'nativeness_score': 94, 'phoneme_error': 'normal', 'phoneme_error_arpabet': 'normal'}], 'word_stress': []}, {'start_index': 328, 'end_index': 332, 'start_time': 39.83, 'end_time': 40.33, 'word': 'TODAY', 'text': 'today', 'ipa': 'təˈɾeɪ', 'trans_arpabet': 'T AH0 DX EY1', 'nativeness_score': 94, 'decision': 'correct', 'phonemes': [{'text': 'T', 'start_index': 328, 'end_index': 328, 'start_time': 39.83, 'end_time': 39.93, 'ipa': 't', 'trans_arpabet': 'T', 'decision': 'correct', 'nativeness_score': 96, 'phoneme_error': 'normal', 'phoneme_error_arpabet': 'normal'}, {'text': 'O', 'start_index': 329, 'end_index': 329, 'start_time': 39.93, 'end_time': 39.97, 'ipa': 'ə', 'trans_arpabet': 'SCHWA', 'decision': 'correct', 'nativeness_score': 93, 'phoneme_error': 'normal', 'phoneme_error_arpabet': 'normal'}, {'text': 'D', 'start_index': 330, 'end_index': 330, 'start_time': 39.97, 'end_time': 40.010000000000005, 'ipa': 'ɾ', 'trans_arpabet': 'DX', 'decision': 'correct', 'nativeness_score': 93, 'phoneme_error': 'normal', 'phoneme_error_arpabet': 'normal'}, {'text': 'AY', 'start_index': 331, 'end_index': 332, 'start_time': 40.010000000000005, 'end_time': 40.33, 'ipa': 'eɪ', 'trans_arpabet': 'EY', 'decision': 'correct', 'nativeness_score': 95, 'phoneme_error': 'normal', 'phoneme_error_arpabet': 'normal'}], 'word_stress': []}, {'start_index': 334, 'end_index': 338, 'start_time': 40.33, 'end_time': 40.93, 'word': 'IT-IS', 'text': 'it is', 'ipa': 'ˈɪˈɾɪz', 'trans_arpabet': 'IH1 DX IH1 Z', 'nativeness_score': 97, 'decision': 'correct', 'phonemes': [{'text': 'I', 'start_index': 334, 'end_index': 334, 'start_time': 40.33, 'end_time': 40.39, 'ipa': 'ɪ', 'trans_arpabet': 'IH', 'decision': 'correct', 'nativeness_score': 98, 'phoneme_error': 'normal', 'phoneme_error_arpabet': 'normal'}, {'text': 'T-', 'start_index': 335, 'end_index': 336, 'start_time': 40.39, 'end_time': 40.43, 'ipa': 'ɾ', 'trans_arpabet': 'DX', 'decision': 'correct', 'nativeness_score': 99, 'phoneme_error': 'normal', 'phoneme_error_arpabet': 'normal'}, {'text': 'I', 'start_index': 337, 'end_index': 337, 'start_time': 40.43, 'end_time': 40.56, 'ipa': 'ɪ', 'trans_arpabet': 'IH', 'decision': 'correct', 'nativeness_score': 99, 'phoneme_error': 'normal', 'phoneme_error_arpabet': 'normal'}, {'text': 'S', 'start_index': 338, 'end_index': 338, 'start_time': 40.56, 'end_time': 40.93, 'ipa': 'z', 'trans_arpabet': 'Z', 'decision': 'correct', 'nativeness_score': 94, 'phoneme_error': 'normal', 'phoneme_error_arpabet': 'normal'}], 'word_stress': []}, {'start_index': 340, 'end_index': 348, 'start_time': 40.96, 'end_time': 41.75, 'word': 'DEVELOPED', 'text': 'developed', 'ipa': 'dɪˈvɛ.ləpt', 'trans_arpabet': 'D IH0 V EH1 L AH0 P T', 'nativeness_score': 69, 'decision': 'warning', 'phonemes': [{'text': 'D', 'start_index': 340, 'end_index': 340, 'start_time': 40.96, 'end_time': 41.14, 'ipa': 'd', 'trans_arpabet': 'D', 'decision': 'correct', 'nativeness_score': 99, 'phoneme_error': 'normal', 'phoneme_error_arpabet': 'normal'}, {'text': 'E', 'start_index': 341, 'end_index': 341, 'start_time': 41.14, 'end_time': 41.2, 'ipa': 'ɪ', 'trans_arpabet': 'IH', 'decision': 'correct', 'nativeness_score': 97, 'phoneme_error': 'normal', 'phoneme_error_arpabet': 'normal'}, {'text': 'V', 'start_index': 342, 'end_index': 342, 'start_time': 41.2, 'end_time': 41.260000000000005, 'ipa': 'v', 'trans_arpabet': 'V', 'decision': 'correct', 'nativeness_score': 98, 'phoneme_error': 'normal', 'phoneme_error_arpabet': 'normal'}, {'text': 'E', 'start_index': 343, 'end_index': 343, 'start_time': 41.260000000000005, 'end_time': 41.300000000000004, 'ipa': 'ɛ', 'trans_arpabet': 'EH', 'decision': 'incorrect', 'nativeness_score': 0, 'phoneme_error': 'ɛ - ə', 'phoneme_error_arpabet': 'EH - SCHWA', 'feedback': [{'id': 67, 'language': 'en', 'text': \"Pronounce 'e' here with the vowel /ɛ/ (eh), as in 'bed' and 'get.' Your mouth should be a little open.\", 'audio_link': 'https://feedback.elsanow.co/81e6a16732813de47d465d95d4c92e2eec259a04f9373b4e1a512183b38af522_female.mp3'}]}, {'text': 'L', 'start_index': 344, 'end_index': 344, 'start_time': 41.300000000000004, 'end_time': 41.410000000000004, 'ipa': 'l', 'trans_arpabet': 'L', 'decision': 'correct', 'nativeness_score': 97, 'phoneme_error': 'normal', 'phoneme_error_arpabet': 'normal'}, {'text': 'O', 'start_index': 345, 'end_index': 345, 'start_time': 41.410000000000004, 'end_time': 41.5, 'ipa': 'ə', 'trans_arpabet': 'SCHWA', 'decision': 'correct', 'nativeness_score': 100, 'phoneme_error': 'normal', 'phoneme_error_arpabet': 'normal'}, {'text': 'P', 'start_index': 346, 'end_index': 346, 'start_time': 41.5, 'end_time': 41.56, 'ipa': 'p', 'trans_arpabet': 'P', 'decision': 'correct', 'nativeness_score': 86, 'phoneme_error': 'normal', 'phoneme_error_arpabet': 'normal'}, {'text': 'ED', 'start_index': 347, 'end_index': 348, 'start_time': 41.56, 'end_time': 41.75, 'ipa': 't', 'trans_arpabet': 'T', 'decision': 'correct', 'nativeness_score': 85, 'phoneme_error': 'normal', 'phoneme_error_arpabet': 'normal'}], 'word_stress': []}, {'start_index': 350, 'end_index': 350, 'start_time': 42, 'end_time': 42.15, 'word': 'A', 'text': 'a', 'ipa': 'ə', 'trans_arpabet': 'AH0', 'nativeness_score': 99, 'decision': 'correct', 'phonemes': [{'text': 'A', 'start_index': 350, 'end_index': 350, 'start_time': 42, 'end_time': 42.15, 'ipa': 'ə', 'trans_arpabet': 'SCHWA', 'decision': 'correct', 'nativeness_score': 99, 'phoneme_error': 'normal', 'phoneme_error_arpabet': 'normal'}], 'word_stress': []}, {'start_index': 352, 'end_index': 354, 'start_time': 42.15, 'end_time': 42.480000000000004, 'word': 'LOT', 'text': 'lot', 'ipa': 'lɑt', 'trans_arpabet': 'L AA1 T', 'nativeness_score': 45, 'decision': 'warning', 'phonemes': [{'text': 'L', 'start_index': 352, 'end_index': 352, 'start_time': 42.15, 'end_time': 42.24, 'ipa': 'l', 'trans_arpabet': 'L', 'decision': 'correct', 'nativeness_score': 98, 'phoneme_error': 'normal', 'phoneme_error_arpabet': 'normal'}, {'text': 'O', 'start_index': 353, 'end_index': 353, 'start_time': 42.24, 'end_time': 42.36, 'ipa': 'ɑ', 'trans_arpabet': 'AA', 'decision': 'incorrect', 'nativeness_score': 12, 'phoneme_error': 'ɑ - æ', 'phoneme_error_arpabet': 'AA - AE', 'feedback': [{'id': 1, 'language': 'en', 'text': \"Pronounce 'o' here with the vowel /ɑ/, as in 'got' and 'top.' Open your mouth wide and keep your tongue low.\", 'audio_link': 'https://feedback.elsanow.co/7612d237cbc466dccb89e0e8b36928c0f0616be12082d36ac5455167345c0f29_female.mp3'}]}, {'text': 'T', 'start_index': 354, 'end_index': 354, 'start_time': 42.36, 'end_time': 42.480000000000004, 'ipa': 't', 'trans_arpabet': 'T', 'decision': 'correct', 'nativeness_score': 95, 'phoneme_error': 'normal', 'phoneme_error_arpabet': 'normal'}], 'word_stress': []}]}}, {'utterance_id': 6, 'start_time': 43.15, 'end_time': 48.39, 'start_index': 355, 'end_index': 404, 'text': ' and I think that nowadays cooking is much better.', 'result': {'speed_metrics': {'words_per_minute': 100.37, 'syllables_per_minute': 144.98, 'phones_per_minute': 345.72, 'articulated_words_per_minute': 147.95, 'articulated_syllables_per_minute': 213.7, 'articulated_phones_per_minute': 509.59}, 'pronunciation_rate_metrics': {'correct_words_per_minute': 78.07, 'correct_syllables_per_minute': 100.37, 'correct_phones_per_minute': 289.96, 'correct_words_ratio': 0.778, 'correct_syllables_ratio': 0.692, 'correct_phones_ratio': 0.839}, 'pausing_metrics': {'pause_ratio': 0.322, 'pause_ratio_without_initial_sil': 0.296, 'pausing_score_percentage': 16}, 'initial_silence': True, 'total_time': 5.74, 'has_speech': True, 'decision': 'warning', 'nativeness_score': 77.94, 'nativeness_score_partial': 79.43, 'ipa': 'ænd aɪ θɪŋk ðæt ˈnaʊ.əˌdeɪz ˈkʊ.kɪŋ ɪz mʌtʃ ˈbɛ.ɾɚ', 'intonation_score': 50.83, 'fluency_score': 49.33, 'ielts_score': 6, 'words': [{'start_index': 356, 'end_index': 358, 'start_time': 43.15, 'end_time': 43.33, 'word': 'AND', 'text': 'and', 'ipa': 'ænd', 'trans_arpabet': 'AE1 N D', 'nativeness_score': 99, 'decision': 'correct', 'phonemes': [{'text': 'A', 'start_index': 356, 'end_index': 356, 'start_time': 43.15, 'end_time': 43.239999999999995, 'ipa': 'æ', 'trans_arpabet': 'AE', 'decision': 'correct', 'nativeness_score': 99, 'phoneme_error': 'normal', 'phoneme_error_arpabet': 'normal'}, {'text': 'N', 'start_index': 357, 'end_index': 357, 'start_time': 43.239999999999995, 'end_time': 43.28, 'ipa': 'n', 'trans_arpabet': 'N', 'decision': 'correct', 'nativeness_score': 100, 'phoneme_error': 'normal', 'phoneme_error_arpabet': 'normal'}, {'text': 'D', 'start_index': 358, 'end_index': 358, 'start_time': 43.28, 'end_time': 43.33, 'ipa': 'd', 'trans_arpabet': 'D', 'decision': 'correct', 'nativeness_score': 98, 'phoneme_error': 'normal', 'phoneme_error_arpabet': 'normal'}], 'word_stress': []}, {'start_index': 360, 'end_index': 360, 'start_time': 43.33, 'end_time': 43.4, 'word': 'I', 'text': 'I', 'ipa': 'aɪ', 'trans_arpabet': 'AY1', 'nativeness_score': 20, 'decision': 'incorrect', 'phonemes': [{'text': 'I', 'start_index': 360, 'end_index': 360, 'start_time': 43.33, 'end_time': 43.4, 'ipa': 'aɪ', 'trans_arpabet': 'AY', 'decision': 'incorrect', 'nativeness_score': 20, 'phoneme_error': 'aɪ - ɪ', 'phoneme_error_arpabet': 'AY - IH', 'feedback': [{'id': 34, 'language': 'en', 'text': \"Pronounce 'I' here with the diphthong /aɪ/, as in 'my.' For diphthongs, you move from one vowel position to another. Make sure you move your mouth for sounds like this!\", 'audio_link': 'https://feedback.elsanow.co/be01d963e8e229b6ac0957895bec233be73c14a78bb3798963305cd5ec0c0e8a_female.mp3'}]}], 'word_stress': []}, {'start_index': 362, 'end_index': 366, 'start_time': 43.4, 'end_time': 43.76, 'word': 'THINK', 'text': 'think', 'ipa': 'θɪŋk', 'trans_arpabet': 'TH IH1 NG K', 'nativeness_score': 64, 'decision': 'warning', 'phonemes': [{'text': 'TH', 'start_index': 362, 'end_index': 363, 'start_time': 43.4, 'end_time': 43.54, 'ipa': 'θ', 'trans_arpabet': 'TH', 'decision': 'correct', 'nativeness_score': 97, 'phoneme_error': 'normal', 'phoneme_error_arpabet': 'normal'}, {'text': 'I', 'start_index': 364, 'end_index': 364, 'start_time': 43.54, 'end_time': 43.6, 'ipa': 'ɪ', 'trans_arpabet': 'IH', 'decision': 'correct', 'nativeness_score': 98, 'phoneme_error': 'normal', 'phoneme_error_arpabet': 'normal'}, {'text': 'N', 'start_index': 365, 'end_index': 365, 'start_time': 43.6, 'end_time': 43.73, 'ipa': 'ŋ', 'trans_arpabet': 'NG', 'decision': 'correct', 'nativeness_score': 91, 'phoneme_error': 'normal', 'phoneme_error_arpabet': 'normal'}, {'text': 'K', 'start_index': 366, 'end_index': 366, 'start_time': 43.73, 'end_time': 43.76, 'ipa': 'k', 'trans_arpabet': 'K', 'decision': 'incorrect', 'nativeness_score': 0, 'phoneme_error': 'k - —', 'phoneme_error_arpabet': 'K - <eps>', 'feedback': [{'id': 136, 'language': 'en', 'text': 'This is a /k/ sound. Raise the back of your tongue up against the roof of your mouth to stop the air from coming out, and then release it.', 'audio_link': 'https://feedback.elsanow.co/5f1b24db7fb9eb53afa5c2e7ccc749410de56bc60bf50e1ac6a6e0557049ac0e_female.mp3'}]}], 'word_stress': []}, {'start_index': 368, 'end_index': 371, 'start_time': 43.76, 'end_time': 44.11, 'word': 'THAT', 'text': 'that', 'ipa': 'ðæt', 'trans_arpabet': 'DH AE1 T', 'nativeness_score': 93, 'decision': 'correct', 'phonemes': [{'text': 'TH', 'start_index': 368, 'end_index': 369, 'start_time': 43.76, 'end_time': 43.809999999999995, 'ipa': 'ð', 'trans_arpabet': 'DH', 'decision': 'correct', 'nativeness_score': 92, 'phoneme_error': 'normal', 'phoneme_error_arpabet': 'normal'}, {'text': 'A', 'start_index': 370, 'end_index': 370, 'start_time': 43.809999999999995, 'end_time': 43.97, 'ipa': 'æ', 'trans_arpabet': 'AE', 'decision': 'correct', 'nativeness_score': 98, 'phoneme_error': 'normal', 'phoneme_error_arpabet': 'normal'}, {'text': 'T', 'start_index': 371, 'end_index': 371, 'start_time': 43.97, 'end_time': 44.11, 'ipa': 't', 'trans_arpabet': 'T', 'decision': 'correct', 'nativeness_score': 88, 'phoneme_error': 'normal', 'phoneme_error_arpabet': 'normal'}], 'word_stress': []}, {'start_index': 373, 'end_index': 380, 'start_time': 45.16, 'end_time': 45.76, 'word': 'NOWADAYS', 'text': 'nowadays', 'ipa': 'ˈnaʊ.əˌdeɪz', 'trans_arpabet': 'N AW1 AH0 D EY2 Z', 'nativeness_score': 94, 'decision': 'correct', 'phonemes': [{'text': 'N', 'start_index': 373, 'end_index': 373, 'start_time': 45.16, 'end_time': 45.28, 'ipa': 'n', 'trans_arpabet': 'N', 'decision': 'correct', 'nativeness_score': 99, 'phoneme_error': 'normal', 'phoneme_error_arpabet': 'normal'}, {'text': 'OW', 'start_index': 374, 'end_index': 375, 'start_time': 45.28, 'end_time': 45.39, 'ipa': 'aʊ', 'trans_arpabet': 'AW', 'decision': 'correct', 'nativeness_score': 100, 'phoneme_error': 'normal', 'phoneme_error_arpabet': 'normal'}, {'text': 'A', 'start_index': 376, 'end_index': 376, 'start_time': 45.39, 'end_time': 45.44, 'ipa': 'ə', 'trans_arpabet': 'SCHWA', 'decision': 'correct', 'nativeness_score': 82, 'phoneme_error': 'normal', 'phoneme_error_arpabet': 'normal'}, {'text': 'D', 'start_index': 377, 'end_index': 377, 'start_time': 45.44, 'end_time': 45.5, 'ipa': 'd', 'trans_arpabet': 'D', 'decision': 'correct', 'nativeness_score': 96, 'phoneme_error': 'normal', 'phoneme_error_arpabet': 'normal'}, {'text': 'AY', 'start_index': 378, 'end_index': 379, 'start_time': 45.5, 'end_time': 45.64, 'ipa': 'eɪ', 'trans_arpabet': 'EY', 'decision': 'correct', 'nativeness_score': 88, 'phoneme_error': 'normal', 'phoneme_error_arpabet': 'normal'}, {'text': 'S', 'start_index': 380, 'end_index': 380, 'start_time': 45.64, 'end_time': 45.76, 'ipa': 'z', 'trans_arpabet': 'Z', 'decision': 'correct', 'nativeness_score': 99, 'phoneme_error': 'normal', 'phoneme_error_arpabet': 'normal'}], 'word_stress': []}, {'start_index': 382, 'end_index': 388, 'start_time': 45.76, 'end_time': 46.17, 'word': 'COOKING', 'text': 'cooking', 'ipa': 'ˈkʊ.kɪŋ', 'trans_arpabet': 'K UH1 K IH0 NG', 'nativeness_score': 52, 'decision': 'warning', 'phonemes': [{'text': 'C', 'start_index': 382, 'end_index': 382, 'start_time': 45.76, 'end_time': 45.849999999999994, 'ipa': 'k', 'trans_arpabet': 'K', 'decision': 'correct', 'nativeness_score': 99, 'phoneme_error': 'normal', 'phoneme_error_arpabet': 'normal'}, {'text': 'OO', 'start_index': 383, 'end_index': 384, 'start_time': 45.849999999999994, 'end_time': 45.879999999999995, 'ipa': 'ʊ', 'trans_arpabet': 'UH', 'decision': 'incorrect', 'nativeness_score': 0, 'phoneme_error': 'normal', 'phoneme_error_arpabet': 'normal', 'feedback': [{'id': 280, 'language': 'en', 'text': \"Pronounce 'oo' here with the vowel /ʊ/, as in 'good' and 'should.' Your lips and tongue should be pretty relaxed.\", 'audio_link': 'https://feedback.elsanow.co/5c802cb0d8a08a7cb1fd0e8d308b158c60bba9c86c5bd5bcb14b48ad71b77cff_female.mp3'}]}, {'text': 'K', 'start_index': 385, 'end_index': 385, 'start_time': 45.879999999999995, 'end_time': 45.98, 'ipa': 'k', 'trans_arpabet': 'K', 'decision': 'correct', 'nativeness_score': 93, 'phoneme_error': 'normal', 'phoneme_error_arpabet': 'normal'}, {'text': 'I', 'start_index': 386, 'end_index': 386, 'start_time': 45.98, 'end_time': 46.03, 'ipa': 'ɪ', 'trans_arpabet': 'IH', 'decision': 'correct', 'nativeness_score': 94, 'phoneme_error': 'normal', 'phoneme_error_arpabet': 'normal'}, {'text': 'NG', 'start_index': 387, 'end_index': 388, 'start_time': 46.03, 'end_time': 46.17, 'ipa': 'ŋ', 'trans_arpabet': 'NG', 'decision': 'correct', 'nativeness_score': 94, 'phoneme_error': 'normal', 'phoneme_error_arpabet': 'normal'}], 'word_stress': []}, {'start_index': 390, 'end_index': 391, 'start_time': 46.17, 'end_time': 46.62, 'word': 'IS', 'text': 'is', 'ipa': 'ɪz', 'trans_arpabet': 'IH1 Z', 'nativeness_score': 99, 'decision': 'correct', 'phonemes': [{'text': 'I', 'start_index': 390, 'end_index': 390, 'start_time': 46.17, 'end_time': 46.32, 'ipa': 'ɪ', 'trans_arpabet': 'IH', 'decision': 'correct', 'nativeness_score': 100, 'phoneme_error': 'normal', 'phoneme_error_arpabet': 'normal'}, {'text': 'S', 'start_index': 391, 'end_index': 391, 'start_time': 46.32, 'end_time': 46.62, 'ipa': 'z', 'trans_arpabet': 'Z', 'decision': 'correct', 'nativeness_score': 98, 'phoneme_error': 'normal', 'phoneme_error_arpabet': 'normal'}], 'word_stress': []}, {'start_index': 393, 'end_index': 396, 'start_time': 46.92, 'end_time': 47.67, 'word': 'MUCH', 'text': 'much', 'ipa': 'mʌtʃ', 'trans_arpabet': 'M AH1 CH', 'nativeness_score': 97, 'decision': 'correct', 'phonemes': [{'text': 'M', 'start_index': 393, 'end_index': 393, 'start_time': 46.92, 'end_time': 47.11, 'ipa': 'm', 'trans_arpabet': 'M', 'decision': 'correct', 'nativeness_score': 93, 'phoneme_error': 'normal', 'phoneme_error_arpabet': 'normal'}, {'text': 'U', 'start_index': 394, 'end_index': 394, 'start_time': 47.11, 'end_time': 47.23, 'ipa': 'ʌ', 'trans_arpabet': 'AH', 'decision': 'correct', 'nativeness_score': 99, 'phoneme_error': 'normal', 'phoneme_error_arpabet': 'normal'}, {'text': 'CH', 'start_index': 395, 'end_index': 396, 'start_time': 47.23, 'end_time': 47.67, 'ipa': 'tʃ', 'trans_arpabet': 'CH', 'decision': 'correct', 'nativeness_score': 99, 'phoneme_error': 'normal', 'phoneme_error_arpabet': 'normal'}], 'word_stress': []}, {'start_index': 398, 'end_index': 403, 'start_time': 47.91, 'end_time': 48.39, 'word': 'BETTER', 'text': 'better', 'ipa': 'ˈbɛ.ɾɚ', 'trans_arpabet': 'B EH1 DX ER0', 'nativeness_score': 68, 'decision': 'warning', 'phonemes': [{'text': 'B', 'start_index': 398, 'end_index': 398, 'start_time': 47.91, 'end_time': 47.96, 'ipa': 'b', 'trans_arpabet': 'B', 'decision': 'incorrect', 'nativeness_score': 21, 'phoneme_error': 'normal', 'phoneme_error_arpabet': 'normal', 'feedback': [{'id': 46, 'language': 'en', 'text': 'This is a /b/ sound. Close your lips to stop the air from coming out, and then release it, while vibrating your vocal cords.', 'audio_link': 'https://feedback.elsanow.co/6232222451e9434dfd0373b830340dd7b2034c37e314f16829e562a7585426a7_female.mp3'}]}, {'text': 'E', 'start_index': 399, 'end_index': 399, 'start_time': 47.96, 'end_time': 48.05, 'ipa': 'ɛ', 'trans_arpabet': 'EH', 'decision': 'correct', 'nativeness_score': 99, 'phoneme_error': 'normal', 'phoneme_error_arpabet': 'normal'}, {'text': 'TT', 'start_index': 400, 'end_index': 401, 'start_time': 48.05, 'end_time': 48.11, 'ipa': 'ɾ', 'trans_arpabet': 'DX', 'decision': 'correct', 'nativeness_score': 99, 'phoneme_error': 'normal', 'phoneme_error_arpabet': 'normal'}, {'text': 'ER', 'start_index': 402, 'end_index': 403, 'start_time': 48.11, 'end_time': 48.39, 'ipa': 'ɚ', 'trans_arpabet': 'ER', 'decision': 'correct', 'nativeness_score': 98, 'phoneme_error': 'normal', 'phoneme_error_arpabet': 'normal'}], 'word_stress': []}]}}]}\n"
     ]
    }
   ],
   "source": [
    "_id = 5581471\n",
    "json_path = f'/data/audio_data/pronunciation_scoring_result/marking_data/9/{_id}.json'\n",
    "with open(json_path, \"r\", encoding=\"utf-8\") as f:\n",
    "    content = json.load(f)\n",
    "    print(content)"
   ]
  },
  {
   "cell_type": "code",
   "execution_count": 32,
   "metadata": {},
   "outputs": [
    {
     "data": {
      "text/plain": [
       "185.54153888889007"
      ]
     },
     "execution_count": 32,
     "metadata": {},
     "output_type": "execute_result"
    }
   ],
   "source": [
    "total_time = 0\n",
    "for index in tmp.index:\n",
    "    for sent in tmp.iloc[index]:\n",
    "        total_time += (sent[\"end_time\"] - sent[\"start_time\"])\n",
    "\n",
    "total_time / 3600"
   ]
  },
  {
   "cell_type": "code",
   "execution_count": 33,
   "metadata": {},
   "outputs": [],
   "source": [
    "tmp_metadata = tmp.explode()\n",
    "\n",
    "df = pd.DataFrame(tmp_metadata.values, columns=['sent'])\n",
    "df.dropna(inplace=True)\n",
    "\n",
    "df = df[0:10000]"
   ]
  },
  {
   "cell_type": "code",
   "execution_count": 34,
   "metadata": {},
   "outputs": [
    {
     "data": {
      "application/vnd.jupyter.widget-view+json": {
       "model_id": "c3413ef5a24d476c8fa0ae133aaa008d",
       "version_major": 2,
       "version_minor": 0
      },
      "text/plain": [
       "VBox(children=(HBox(children=(IntProgress(value=0, description='0.00%', max=2000), Label(value='0 / 2000'))), …"
      ]
     },
     "metadata": {},
     "output_type": "display_data"
    },
    {
     "data": {
      "text/plain": [
       "0        None\n",
       "1        None\n",
       "2        None\n",
       "3        None\n",
       "4        None\n",
       "         ... \n",
       "12864    None\n",
       "12865    None\n",
       "12866    None\n",
       "12867    None\n",
       "12869    None\n",
       "Name: sent, Length: 10000, dtype: object"
      ]
     },
     "execution_count": 34,
     "metadata": {},
     "output_type": "execute_result"
    }
   ],
   "source": [
    "in_dir = '/data/audio_data/prep_submission_audio/9'\n",
    "out_dir = '/data/codes/prep_gopt/egs/librispeech/s5/data/prep/wav'\n",
    "def get_audio(sent):\n",
    "    utt_id = sent[\"utt_id\"]\n",
    "\n",
    "    in_path = f'{in_dir}/{sent[\"id\"]}.wav'\n",
    "    out_path = f'{out_dir}/{utt_id}.wav'\n",
    "\n",
    "    waveform, sr = librosa.load(in_path, sr=16000)\n",
    "    start_time = int(sent[\"start_time\"] * sr)\n",
    "    end_time = int(sent[\"end_time\"] * sr)\n",
    "\n",
    "    sf.write(out_path, waveform[start_time: end_time], samplerate=sr)\n",
    "\n",
    "df.sent.parallel_apply(get_audio)"
   ]
  },
  {
   "cell_type": "code",
   "execution_count": 35,
   "metadata": {},
   "outputs": [
    {
     "data": {
      "application/vnd.jupyter.widget-view+json": {
       "model_id": "40c81d72e62c4744b6e285c2952ed70d",
       "version_major": 2,
       "version_minor": 0
      },
      "text/plain": [
       "VBox(children=(HBox(children=(IntProgress(value=0, description='0.00%', max=2000), Label(value='0 / 2000'))), …"
      ]
     },
     "metadata": {},
     "output_type": "display_data"
    },
    {
     "data": {
      "application/vnd.jupyter.widget-view+json": {
       "model_id": "1d8a65a0ef454217a560c3358a64cad9",
       "version_major": 2,
       "version_minor": 0
      },
      "text/plain": [
       "VBox(children=(HBox(children=(IntProgress(value=0, description='0.00%', max=2000), Label(value='0 / 2000'))), …"
      ]
     },
     "metadata": {},
     "output_type": "display_data"
    },
    {
     "data": {
      "application/vnd.jupyter.widget-view+json": {
       "model_id": "7af38349862b4d23a0f445c919695270",
       "version_major": 2,
       "version_minor": 0
      },
      "text/plain": [
       "VBox(children=(HBox(children=(IntProgress(value=0, description='0.00%', max=2000), Label(value='0 / 2000'))), …"
      ]
     },
     "metadata": {},
     "output_type": "display_data"
    }
   ],
   "source": [
    "wav_dir = \"/data/codes/prep_gopt/egs/librispeech/s5/data/prep/wav/\"\n",
    "\n",
    "df[\"text\"] = df.sent.parallel_apply(lambda x: normalize(x[\"text\"]))\n",
    "df[\"wav_path\"] = df.sent.parallel_apply(lambda x: os.path.join(wav_dir, f'{x[\"utt_id\"]}.wav'))\n",
    "df[\"utt_id\"] = df.sent.parallel_apply(lambda x: x[\"utt_id\"])\n",
    "df[\"spk_id\"] = ['0'*(8-len(str(spk_id))) + f'{spk_id}' for spk_id in range(df.shape[0])]"
   ]
  },
  {
   "cell_type": "code",
   "execution_count": 44,
   "metadata": {},
   "outputs": [
    {
     "data": {
      "application/vnd.jupyter.widget-view+json": {
       "model_id": "bda5901003ff47869beda7fff13eb36a",
       "version_major": 2,
       "version_minor": 0
      },
      "text/plain": [
       "VBox(children=(HBox(children=(IntProgress(value=0, description='0.00%', max=200), Label(value='0 / 200'))), HB…"
      ]
     },
     "metadata": {},
     "output_type": "display_data"
    }
   ],
   "source": [
    "def get_duration(path):\n",
    "    wav, sr =librosa.load(path)\n",
    "\n",
    "    return wav.shape[0]/sr\n",
    "duration = df[9000:].wav_path.parallel_apply(get_duration)"
   ]
  },
  {
   "cell_type": "code",
   "execution_count": 45,
   "metadata": {},
   "outputs": [],
   "source": [
    "def create_text_file(f, first_column, second_column):\n",
    "    line = f'{first_column}\\t{second_column}'\n",
    "    f.write(line + \"\\n\")\n",
    "\n",
    "\n",
    "data_dir = \"/data/codes/prep_gopt/egs/librispeech/s5/data/prep/test\"\n",
    "\n",
    "wavscp_path = f'{data_dir}/wav.scp'\n",
    "text_path = f'{data_dir}/text'\n",
    "spk2utt_path = f'{data_dir}/spk2utt'\n",
    "utt2spk_path = f'{data_dir}/utt2spk'\n",
    "\n",
    "with open(wavscp_path, \"w\", encoding=\"utf-8\") as f:\n",
    "    df[9000:][(duration > 1) & (duration < 8)].sort_values(\"utt_id\").apply(lambda x: create_text_file(f, x[\"utt_id\"], x[\"wav_path\"]), axis=1)\n",
    "    \n",
    "with open(text_path, \"w\", encoding=\"utf-8\") as f:\n",
    "    df[9000:][(duration > 1) & (duration < 8)].sort_values(\"utt_id\").apply(lambda x: create_text_file(f, x[\"utt_id\"], x[\"text\"]), axis=1)\n",
    "    \n",
    "with open(spk2utt_path, \"w\", encoding=\"utf-8\") as f:\n",
    "    df[9000:][(duration > 1) & (duration < 8)].sort_values(\"utt_id\").apply(lambda x: create_text_file(f, x[\"utt_id\"], x[\"utt_id\"]), axis=1)\n",
    "    \n",
    "with open(utt2spk_path, \"w\", encoding=\"utf-8\") as f:\n",
    "    df[9000:][(duration > 1) & (duration < 8)].sort_values(\"utt_id\").apply(lambda x: create_text_file(f, x[\"utt_id\"], x[\"utt_id\"]), axis=1)"
   ]
  },
  {
   "cell_type": "code",
   "execution_count": 42,
   "metadata": {},
   "outputs": [
    {
     "data": {
      "application/vnd.jupyter.widget-view+json": {
       "model_id": "620ea0680b6d4a45a678e8d6c73eeb36",
       "version_major": 2,
       "version_minor": 0
      },
      "text/plain": [
       "VBox(children=(HBox(children=(IntProgress(value=0, description='0.00%', max=1800), Label(value='0 / 1800'))), …"
      ]
     },
     "metadata": {},
     "output_type": "display_data"
    }
   ],
   "source": [
    "def get_duration(path):\n",
    "    wav, sr =librosa.load(path)\n",
    "\n",
    "    return wav.shape[0]/sr\n",
    "duration = df[0:9000].wav_path.parallel_apply(get_duration)"
   ]
  },
  {
   "cell_type": "code",
   "execution_count": 43,
   "metadata": {},
   "outputs": [],
   "source": [
    "def create_text_file(f, first_column, second_column):\n",
    "    line = f'{first_column}\\t{second_column}'\n",
    "    f.write(line + \"\\n\")\n",
    "\n",
    "\n",
    "data_dir = \"/data/codes/prep_gopt/egs/librispeech/s5/data/prep/train\"\n",
    "\n",
    "wavscp_path = f'{data_dir}/wav.scp'\n",
    "text_path = f'{data_dir}/text'\n",
    "spk2utt_path = f'{data_dir}/spk2utt'\n",
    "utt2spk_path = f'{data_dir}/utt2spk'\n",
    "\n",
    "with open(wavscp_path, \"w\", encoding=\"utf-8\") as f:\n",
    "    df[0:9000][(duration > 1) & (duration < 8)].sort_values(\"utt_id\").apply(lambda x: create_text_file(f, x[\"utt_id\"], x[\"wav_path\"]), axis=1)\n",
    "    \n",
    "with open(text_path, \"w\", encoding=\"utf-8\") as f:\n",
    "    df[0:9000][(duration > 1) & (duration < 8)].sort_values(\"utt_id\").apply(lambda x: create_text_file(f, x[\"utt_id\"], x[\"text\"]), axis=1)\n",
    "    \n",
    "with open(spk2utt_path, \"w\", encoding=\"utf-8\") as f:\n",
    "    df[0:9000][(duration > 1) & (duration < 8)].sort_values(\"utt_id\").apply(lambda x: create_text_file(f, x[\"utt_id\"], x[\"utt_id\"]), axis=1)\n",
    "    \n",
    "with open(utt2spk_path, \"w\", encoding=\"utf-8\") as f:\n",
    "    df[0:9000][(duration > 1) & (duration < 8)].sort_values(\"utt_id\").apply(lambda x: create_text_file(f, x[\"utt_id\"], x[\"utt_id\"]), axis=1)"
   ]
  }
 ],
 "metadata": {
  "kernelspec": {
   "display_name": "ps",
   "language": "python",
   "name": "python3"
  },
  "language_info": {
   "codemirror_mode": {
    "name": "ipython",
    "version": 3
   },
   "file_extension": ".py",
   "mimetype": "text/x-python",
   "name": "python",
   "nbconvert_exporter": "python",
   "pygments_lexer": "ipython3",
   "version": "3.8.17"
  },
  "orig_nbformat": 4
 },
 "nbformat": 4,
 "nbformat_minor": 2
}
