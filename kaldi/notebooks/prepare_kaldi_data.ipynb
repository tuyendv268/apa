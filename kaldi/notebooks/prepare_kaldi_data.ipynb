{
 "cells": [
  {
   "cell_type": "code",
   "execution_count": 26,
   "metadata": {},
   "outputs": [
    {
     "name": "stdout",
     "output_type": "stream",
     "text": [
      "INFO: Pandarallel will run on 4 workers.\n",
      "INFO: Pandarallel will use Memory file system to transfer data between the main process and workers.\n"
     ]
    }
   ],
   "source": [
    "import re\n",
    "import os\n",
    "import pandas as pd\n",
    "import librosa\n",
    "from pandarallel import pandarallel\n",
    "\n",
    "pandarallel.initialize(nb_workers=4, progress_bar=True)"
   ]
  },
  {
   "cell_type": "code",
   "execution_count": 31,
   "metadata": {},
   "outputs": [
    {
     "data": {
      "text/html": [
       "<div>\n",
       "<style scoped>\n",
       "    .dataframe tbody tr th:only-of-type {\n",
       "        vertical-align: middle;\n",
       "    }\n",
       "\n",
       "    .dataframe tbody tr th {\n",
       "        vertical-align: top;\n",
       "    }\n",
       "\n",
       "    .dataframe thead th {\n",
       "        text-align: right;\n",
       "    }\n",
       "</style>\n",
       "<table border=\"1\" class=\"dataframe\">\n",
       "  <thead>\n",
       "    <tr style=\"text-align: right;\">\n",
       "      <th></th>\n",
       "      <th>path</th>\n",
       "      <th>text</th>\n",
       "    </tr>\n",
       "  </thead>\n",
       "  <tbody>\n",
       "    <tr>\n",
       "      <th>0</th>\n",
       "      <td>/data/codes/gopt/egs/librispeech/s5/data/metad...</td>\n",
       "      <td>I THINK I WILL LIVE IN A IS A CAPITAL OF IN BE...</td>\n",
       "    </tr>\n",
       "    <tr>\n",
       "      <th>1</th>\n",
       "      <td>/data/codes/gopt/egs/librispeech/s5/data/metad...</td>\n",
       "      <td>IT'S LIKE IT NOT FAR AWAY FROM THE THE CENTER ...</td>\n",
       "    </tr>\n",
       "    <tr>\n",
       "      <th>2</th>\n",
       "      <td>/data/codes/gopt/egs/librispeech/s5/data/metad...</td>\n",
       "      <td>DEFINITELY YES BECAUSE LIKE MY HOUSE NEAR TO N...</td>\n",
       "    </tr>\n",
       "    <tr>\n",
       "      <th>3</th>\n",
       "      <td>/data/codes/gopt/egs/librispeech/s5/data/metad...</td>\n",
       "      <td>MANY SUPERMARKET MANY GROCERY STORE AND SOME E...</td>\n",
       "    </tr>\n",
       "    <tr>\n",
       "      <th>4</th>\n",
       "      <td>/data/codes/gopt/egs/librispeech/s5/data/metad...</td>\n",
       "      <td>AND SO ON</td>\n",
       "    </tr>\n",
       "  </tbody>\n",
       "</table>\n",
       "</div>"
      ],
      "text/plain": [
       "                                                path  \\\n",
       "0  /data/codes/gopt/egs/librispeech/s5/data/metad...   \n",
       "1  /data/codes/gopt/egs/librispeech/s5/data/metad...   \n",
       "2  /data/codes/gopt/egs/librispeech/s5/data/metad...   \n",
       "3  /data/codes/gopt/egs/librispeech/s5/data/metad...   \n",
       "4  /data/codes/gopt/egs/librispeech/s5/data/metad...   \n",
       "\n",
       "                                                text  \n",
       "0  I THINK I WILL LIVE IN A IS A CAPITAL OF IN BE...  \n",
       "1  IT'S LIKE IT NOT FAR AWAY FROM THE THE CENTER ...  \n",
       "2  DEFINITELY YES BECAUSE LIKE MY HOUSE NEAR TO N...  \n",
       "3  MANY SUPERMARKET MANY GROCERY STORE AND SOME E...  \n",
       "4                                          AND SO ON  "
      ]
     },
     "execution_count": 31,
     "metadata": {},
     "output_type": "execute_result"
    }
   ],
   "source": [
    "path = \"/data/codes/gopt/egs/librispeech/s5/data/metadata/elsa-train.csv\"\n",
    "df = pd.read_csv(path, names=[\"path\", \"text\"], sep=\"|\")\n",
    "df.head()"
   ]
  },
  {
   "cell_type": "code",
   "execution_count": 32,
   "metadata": {},
   "outputs": [
    {
     "data": {
      "application/vnd.jupyter.widget-view+json": {
       "model_id": "bd57918194c54cf496576f299e113783",
       "version_major": 2,
       "version_minor": 0
      },
      "text/plain": [
       "VBox(children=(HBox(children=(IntProgress(value=0, description='0.00%', max=65000), Label(value='0 / 65000')))…"
      ]
     },
     "metadata": {},
     "output_type": "display_data"
    },
    {
     "data": {
      "text/plain": [
       "605.0858940277778"
      ]
     },
     "execution_count": 32,
     "metadata": {},
     "output_type": "execute_result"
    }
   ],
   "source": [
    "def get_duration(path):\n",
    "    wave, sr = librosa.load(path, sr=16000)\n",
    "\n",
    "    return wave.shape[0] / sr\n",
    "\n",
    "duration = df.path.parallel_apply(get_duration)\n",
    "duration.sum()/3600"
   ]
  },
  {
   "cell_type": "code",
   "execution_count": 23,
   "metadata": {},
   "outputs": [],
   "source": [
    "df[\"utt_id\"] = df.path.apply(lambda x: os.path.basename(x).split(\".wav\")[0])\n",
    "df[\"spk_id\"] = ['0'*(8-len(str(spk_id))) + f'{spk_id}' for spk_id in range(df.shape[0])]"
   ]
  },
  {
   "cell_type": "code",
   "execution_count": 24,
   "metadata": {},
   "outputs": [],
   "source": [
    "def create_text_file(f, first_column, second_column):\n",
    "    line = f'{first_column}\\t{second_column}'\n",
    "    f.write(line + \"\\n\")\n",
    "\n",
    "data_dir = \"/data/codes/gopt/egs/librispeech/s5/data/prep/test_deepgram\"\n",
    "\n",
    "wavscp_path = f'{data_dir}/wav.scp'\n",
    "text_path = f'{data_dir}/text'\n",
    "spk2utt_path = f'{data_dir}/spk2utt'\n",
    "utt2spk_path = f'{data_dir}/utt2spk'\n",
    "\n",
    "with open(wavscp_path, \"w\", encoding=\"utf-8\") as f:\n",
    "    df.sort_values(\"utt_id\").apply(lambda x: create_text_file(f, x[\"utt_id\"], x[\"path\"]), axis=1)\n",
    "    \n",
    "with open(text_path, \"w\", encoding=\"utf-8\") as f:\n",
    "    df.sort_values(\"utt_id\").apply(lambda x: create_text_file(f, x[\"utt_id\"], x[\"text\"]), axis=1)\n",
    "    \n",
    "with open(spk2utt_path, \"w\", encoding=\"utf-8\") as f:\n",
    "    df.sort_values(\"utt_id\").apply(lambda x: create_text_file(f, x[\"utt_id\"], x[\"utt_id\"]), axis=1)\n",
    "    \n",
    "with open(utt2spk_path, \"w\", encoding=\"utf-8\") as f:\n",
    "    df.sort_values(\"utt_id\").apply(lambda x: create_text_file(f, x[\"utt_id\"], x[\"utt_id\"]), axis=1)"
   ]
  }
 ],
 "metadata": {
  "kernelspec": {
   "display_name": "ps",
   "language": "python",
   "name": "python3"
  },
  "language_info": {
   "codemirror_mode": {
    "name": "ipython",
    "version": 3
   },
   "file_extension": ".py",
   "mimetype": "text/x-python",
   "name": "python",
   "nbconvert_exporter": "python",
   "pygments_lexer": "ipython3",
   "version": "3.8.17"
  },
  "orig_nbformat": 4
 },
 "nbformat": 4,
 "nbformat_minor": 2
}
