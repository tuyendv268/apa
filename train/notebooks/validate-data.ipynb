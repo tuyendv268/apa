{
 "cells": [
  {
   "cell_type": "code",
   "execution_count": 5,
   "metadata": {},
   "outputs": [],
   "source": [
    "import pandas as pd\n",
    "import numpy as np\n",
    "import json\n",
    "import os"
   ]
  },
  {
   "cell_type": "code",
   "execution_count": 6,
   "metadata": {},
   "outputs": [
    {
     "data": {
      "text/plain": [
       "(114151, 12)"
      ]
     },
     "execution_count": 6,
     "metadata": {},
     "output_type": "execute_result"
    }
   ],
   "source": [
    "def load_data(path):\n",
    "    with open(path, \"r\", encoding=\"utf-8\") as f:\n",
    "        content = f.readlines()\n",
    "        lines = [json.loads(line.strip()) for line in content]\n",
    "    data = pd.DataFrame(lines)\n",
    "\n",
    "    return data\n",
    "\n",
    "metadata_path = \"../prep_data/raw_jsonl/info_in_domain_long_sentence_testset.jsonl\"\n",
    "test_1 = load_data(metadata_path)\n",
    "metadata_path = \"../prep_data/raw_jsonl/info_out_domain_long_sentence_testset.jsonl\"\n",
    "test_2 = load_data(metadata_path)\n",
    "metadata_path = \"../prep_data/raw_jsonl/info_in_domain_short_sentence_testset.jsonl\"\n",
    "test_3 = load_data(metadata_path)\n",
    "metadata_path = \"../prep_data/raw_jsonl/info_out_domain_short_sentence_testset.jsonl\"\n",
    "test_4 = load_data(metadata_path)\n",
    "\n",
    "test = pd.concat([test_1, test_2, test_3, test_4])\n",
    "test.shape"
   ]
  },
  {
   "cell_type": "code",
   "execution_count": 7,
   "metadata": {},
   "outputs": [
    {
     "data": {
      "text/plain": [
       "(286898, 14)"
      ]
     },
     "execution_count": 7,
     "metadata": {},
     "output_type": "execute_result"
    }
   ],
   "source": [
    "metadata_path = \"../prep_data/jsonl/train-data-type-12-v2.jsonl\"\n",
    "train_1 = load_data(metadata_path)\n",
    "metadata_path = \"../prep_data/jsonl/info_qt_10_trainset.jsonl\"\n",
    "train_2 = load_data(metadata_path)\n",
    "\n",
    "train = pd.concat([train_1, train_2])\n",
    "train.shape"
   ]
  },
  {
   "cell_type": "code",
   "execution_count": 8,
   "metadata": {},
   "outputs": [
    {
     "data": {
      "text/html": [
       "<div>\n",
       "<style scoped>\n",
       "    .dataframe tbody tr th:only-of-type {\n",
       "        vertical-align: middle;\n",
       "    }\n",
       "\n",
       "    .dataframe tbody tr th {\n",
       "        vertical-align: top;\n",
       "    }\n",
       "\n",
       "    .dataframe thead th {\n",
       "        text-align: right;\n",
       "    }\n",
       "</style>\n",
       "<table border=\"1\" class=\"dataframe\">\n",
       "  <thead>\n",
       "    <tr style=\"text-align: right;\">\n",
       "      <th></th>\n",
       "      <th>id</th>\n",
       "      <th>raw_x</th>\n",
       "      <th>text_x</th>\n",
       "      <th>utt_id_x</th>\n",
       "      <th>start_time_x</th>\n",
       "      <th>end_time_x</th>\n",
       "      <th>arpas_x</th>\n",
       "      <th>trans_x</th>\n",
       "      <th>phone_scores_x</th>\n",
       "      <th>word_scores_x</th>\n",
       "      <th>...</th>\n",
       "      <th>text_y</th>\n",
       "      <th>utt_id_y</th>\n",
       "      <th>start_time_y</th>\n",
       "      <th>end_time_y</th>\n",
       "      <th>arpas_y</th>\n",
       "      <th>trans_y</th>\n",
       "      <th>phone_scores_y</th>\n",
       "      <th>word_scores_y</th>\n",
       "      <th>word_ids_y</th>\n",
       "      <th>utterance_scores_y</th>\n",
       "    </tr>\n",
       "  </thead>\n",
       "  <tbody>\n",
       "  </tbody>\n",
       "</table>\n",
       "<p>0 rows × 25 columns</p>\n",
       "</div>"
      ],
      "text/plain": [
       "Empty DataFrame\n",
       "Columns: [id, raw_x, text_x, utt_id_x, start_time_x, end_time_x, arpas_x, trans_x, phone_scores_x, word_scores_x, decisions, word_ids_x, utterance_scores_x, audio_path, raw_y, text_y, utt_id_y, start_time_y, end_time_y, arpas_y, trans_y, phone_scores_y, word_scores_y, word_ids_y, utterance_scores_y]\n",
       "Index: []\n",
       "\n",
       "[0 rows x 25 columns]"
      ]
     },
     "execution_count": 8,
     "metadata": {},
     "output_type": "execute_result"
    }
   ],
   "source": [
    "pd.merge(train, test, on=\"id\", how=\"inner\")"
   ]
  },
  {
   "cell_type": "code",
   "execution_count": null,
   "metadata": {},
   "outputs": [],
   "source": []
  }
 ],
 "metadata": {
  "kernelspec": {
   "display_name": "ps",
   "language": "python",
   "name": "python3"
  },
  "language_info": {
   "codemirror_mode": {
    "name": "ipython",
    "version": 3
   },
   "file_extension": ".py",
   "mimetype": "text/x-python",
   "name": "python",
   "nbconvert_exporter": "python",
   "pygments_lexer": "ipython3",
   "version": "3.8.17"
  }
 },
 "nbformat": 4,
 "nbformat_minor": 2
}
