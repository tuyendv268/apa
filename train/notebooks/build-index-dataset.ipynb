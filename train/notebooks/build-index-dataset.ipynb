{
 "cells": [
  {
   "cell_type": "code",
   "execution_count": 3,
   "metadata": {},
   "outputs": [
    {
     "name": "stdout",
     "output_type": "stream",
     "text": [
      "/data/codes/apa/train\n"
     ]
    }
   ],
   "source": [
    "%cd /data/codes/apa/train/\n",
    "from tqdm import tqdm\n",
    "import numpy as np\n",
    "import pickle\n",
    "import os\n",
    "\n",
    "from src.indexed_dataset import (\n",
    "    IndexedDataset,\n",
    "    IndexedDatasetBuilder\n",
    ")"
   ]
  },
  {
   "cell_type": "code",
   "execution_count": 7,
   "metadata": {},
   "outputs": [],
   "source": [
    "# data_dir = \"/data/codes/apa/train/exps/features/train-10\" \n",
    "# npy_path = f\"{data_dir}/wavlm_features.npy\"\n",
    "# indexed_path = f'{data_dir}/wavlm_features'"
   ]
  },
  {
   "cell_type": "code",
   "execution_count": 8,
   "metadata": {},
   "outputs": [],
   "source": [
    "# data = np.load(npy_path)\n",
    "\n",
    "# builder = IndexedDatasetBuilder(indexed_path)\n",
    "\n",
    "# for index in tqdm(range(data.shape[0])):\n",
    "#     sample = data[index]\n",
    "#     builder.add_item(item=sample)\n",
    "\n",
    "# builder.finalize()"
   ]
  },
  {
   "cell_type": "code",
   "execution_count": 4,
   "metadata": {},
   "outputs": [],
   "source": [
    "data_dir = \"/data/codes/apa/train/exps/features/train/merged-v2\" \n",
    "npy_path = f\"{data_dir}/wavlm_features.npy\"\n",
    "indexed_path = f'{data_dir}/wavlm_features'"
   ]
  },
  {
   "cell_type": "code",
   "execution_count": 5,
   "metadata": {},
   "outputs": [
    {
     "name": "stderr",
     "output_type": "stream",
     "text": [
      "100%|██████████| 246252/246252 [00:09<00:00, 25327.34it/s]\n"
     ]
    }
   ],
   "source": [
    "data = np.load(npy_path)\n",
    "\n",
    "builder = IndexedDatasetBuilder(indexed_path)\n",
    "\n",
    "for index in tqdm(range(data.shape[0])):\n",
    "    sample = data[index]\n",
    "    builder.add_item(item=sample)\n",
    "\n",
    "builder.finalize()"
   ]
  },
  {
   "cell_type": "code",
   "execution_count": 1,
   "metadata": {},
   "outputs": [],
   "source": [
    "import numpy as np\n",
    "from glob import glob\n",
    "from tqdm import tqdm\n",
    "import os\n",
    "\n",
    "data_dir_1 = \"/data/codes/apa/train/exps/features/train/train-12-v2\"\n",
    "data_dir_2 = \"/data/codes/apa/train/exps/features/train/train-10\"\n",
    "\n",
    "out_dir = \"/data/codes/apa/train/exps/features/train/merged-v2\"\n",
    "\n",
    "files = glob(f'{data_dir_1}/*.npy')\n",
    "files = [os.path.basename(path) for path in files]"
   ]
  },
  {
   "cell_type": "code",
   "execution_count": 2,
   "metadata": {},
   "outputs": [
    {
     "name": "stderr",
     "output_type": "stream",
     "text": [
      " 33%|███▎      | 3/9 [00:00<00:00, 24.85it/s]"
     ]
    },
    {
     "name": "stderr",
     "output_type": "stream",
     "text": [
      "100%|██████████| 9/9 [01:23<00:00,  9.32s/it]\n"
     ]
    }
   ],
   "source": [
    "for file in tqdm(files):\n",
    "    data_1 = np.load(f'{data_dir_1}/{file}')\n",
    "    data_2 = np.load(f'{data_dir_2}/{file}')\n",
    "    \n",
    "    data = np.concatenate([data_1, data_2])\n",
    "    data_1 = None\n",
    "    data_2 = None\n",
    "    \n",
    "    np.save(f'{out_dir}/{file}', data)"
   ]
  },
  {
   "cell_type": "code",
   "execution_count": null,
   "metadata": {},
   "outputs": [],
   "source": []
  }
 ],
 "metadata": {
  "kernelspec": {
   "display_name": "ps",
   "language": "python",
   "name": "python3"
  },
  "language_info": {
   "codemirror_mode": {
    "name": "ipython",
    "version": 3
   },
   "file_extension": ".py",
   "mimetype": "text/x-python",
   "name": "python",
   "nbconvert_exporter": "python",
   "pygments_lexer": "ipython3",
   "version": "3.8.17"
  }
 },
 "nbformat": 4,
 "nbformat_minor": 2
}
