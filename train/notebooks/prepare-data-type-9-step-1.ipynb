{
 "cells": [
  {
   "cell_type": "code",
   "execution_count": 15,
   "metadata": {},
   "outputs": [
    {
     "name": "stdout",
     "output_type": "stream",
     "text": [
      "/data/codes/apa/train\n",
      "INFO: Pandarallel will run on 8 workers.\n",
      "INFO: Pandarallel will use Memory file system to transfer data between the main process and workers.\n"
     ]
    }
   ],
   "source": [
    "%cd /data/codes/apa/train/\n",
    "\n",
    "import pandas as pd\n",
    "import os\n",
    "from glob import glob\n",
    "import json\n",
    "from pandarallel import pandarallel\n",
    "from tqdm import tqdm\n",
    "import random\n",
    "import re\n",
    "\n",
    "pandarallel.initialize(nb_workers=8, progress_bar=True)"
   ]
  },
  {
   "cell_type": "code",
   "execution_count": 16,
   "metadata": {},
   "outputs": [
    {
     "data": {
      "text/html": [
       "<div>\n",
       "<style scoped>\n",
       "    .dataframe tbody tr th:only-of-type {\n",
       "        vertical-align: middle;\n",
       "    }\n",
       "\n",
       "    .dataframe tbody tr th {\n",
       "        vertical-align: top;\n",
       "    }\n",
       "\n",
       "    .dataframe thead th {\n",
       "        text-align: right;\n",
       "    }\n",
       "</style>\n",
       "<table border=\"1\" class=\"dataframe\">\n",
       "  <thead>\n",
       "    <tr style=\"text-align: right;\">\n",
       "      <th></th>\n",
       "      <th>id</th>\n",
       "      <th>is_deleted</th>\n",
       "      <th>user_id</th>\n",
       "      <th>question_id</th>\n",
       "      <th>question_type</th>\n",
       "      <th>question_content</th>\n",
       "      <th>url</th>\n",
       "      <th>score</th>\n",
       "      <th>fidelity_class</th>\n",
       "      <th>created_at</th>\n",
       "      <th>total_time</th>\n",
       "      <th>word_count</th>\n",
       "    </tr>\n",
       "  </thead>\n",
       "  <tbody>\n",
       "    <tr>\n",
       "      <th>0</th>\n",
       "      <td>5850056</td>\n",
       "      <td>0</td>\n",
       "      <td>92302</td>\n",
       "      <td>224243</td>\n",
       "      <td>9</td>\n",
       "      <td>I like, uh, prefer to communicate face to face...</td>\n",
       "      <td>https://storage.googleapis.com/materials-eleme...</td>\n",
       "      <td>NaN</td>\n",
       "      <td>NaN</td>\n",
       "      <td>2023-09-27 22:18:11</td>\n",
       "      <td>5.63</td>\n",
       "      <td>12.0</td>\n",
       "    </tr>\n",
       "    <tr>\n",
       "      <th>1</th>\n",
       "      <td>5850057</td>\n",
       "      <td>0</td>\n",
       "      <td>92302</td>\n",
       "      <td>224240</td>\n",
       "      <td>9</td>\n",
       "      <td>Yes. I like chatting with my friend a lot.</td>\n",
       "      <td>https://storage.googleapis.com/materials-eleme...</td>\n",
       "      <td>NaN</td>\n",
       "      <td>NaN</td>\n",
       "      <td>2023-09-27 22:18:11</td>\n",
       "      <td>3.86</td>\n",
       "      <td>9.0</td>\n",
       "    </tr>\n",
       "  </tbody>\n",
       "</table>\n",
       "</div>"
      ],
      "text/plain": [
       "        id  is_deleted  user_id  question_id  question_type  \\\n",
       "0  5850056           0    92302       224243              9   \n",
       "1  5850057           0    92302       224240              9   \n",
       "\n",
       "                                    question_content  \\\n",
       "0  I like, uh, prefer to communicate face to face...   \n",
       "1         Yes. I like chatting with my friend a lot.   \n",
       "\n",
       "                                                 url  score  fidelity_class  \\\n",
       "0  https://storage.googleapis.com/materials-eleme...    NaN             NaN   \n",
       "1  https://storage.googleapis.com/materials-eleme...    NaN             NaN   \n",
       "\n",
       "            created_at  total_time  word_count  \n",
       "0  2023-09-27 22:18:11        5.63        12.0  \n",
       "1  2023-09-27 22:18:11        3.86         9.0  "
      ]
     },
     "execution_count": 16,
     "metadata": {},
     "output_type": "execute_result"
    }
   ],
   "source": [
    "json_dir = \"/data/audio_data/pronunciation_scoring_result/marking_data/9\"\n",
    "audio_dir = \"/data/audio_data/prep_submission_audio/9\"\n",
    "\n",
    "in_csv_path = \"/data/audio_data/pronunciation_scoring_result/merged_info/info_question_type-9_19092023_21122023.csv\"\n",
    "out_jsonl_path = \"data/metadata/raw-jsonl/train-data-type-9.jsonl\"\n",
    "metadata = pd.read_csv(in_csv_path)\n",
    "metadata.head(2)"
   ]
  },
  {
   "cell_type": "code",
   "execution_count": 17,
   "metadata": {},
   "outputs": [
    {
     "data": {
      "application/vnd.jupyter.widget-view+json": {
       "model_id": "14e7a5e0562343c7a99b74c7f75bba25",
       "version_major": 2,
       "version_minor": 0
      },
      "text/plain": [
       "VBox(children=(HBox(children=(IntProgress(value=0, description='0.00%', max=12687), Label(value='0 / 12687')))…"
      ]
     },
     "metadata": {},
     "output_type": "display_data"
    },
    {
     "name": "stdout",
     "output_type": "stream",
     "text": [
      "(101494, 12)\n",
      "(101485, 12)\n"
     ]
    }
   ],
   "source": [
    "import torchaudio\n",
    "\n",
    "def is_valid_audio(audio_id):\n",
    "    abs_path = os.path.join(audio_dir, f'{audio_id}.wav')\n",
    "    if not os.path.exists(abs_path):\n",
    "        return False\n",
    "    try:\n",
    "        wav, sr = torchaudio.load(abs_path)\n",
    "        if sr != 16000:\n",
    "            return False\n",
    "    except:\n",
    "        return False\n",
    "    \n",
    "    return True\n",
    "\n",
    "is_exist =  metadata.id.parallel_apply(is_valid_audio)\n",
    "print(metadata.shape)\n",
    "metadata = metadata[is_exist]\n",
    "print(metadata.shape)"
   ]
  },
  {
   "cell_type": "code",
   "execution_count": 18,
   "metadata": {},
   "outputs": [],
   "source": [
    "def load_lexicon(path):\n",
    "    vocab = pd.read_csv(path, sep=\"\\t\", names=[\"word\", \"arpa\"])\n",
    "    lexicon = {}\n",
    "    for name, group in vocab.groupby(\"word\"):\n",
    "        lexicon[name] = set(group[\"arpa\"].tolist())\n",
    "\n",
    "    return lexicon\n",
    "\n",
    "lexicon_path = \"/data/codes/apa/train/exp/dicts/lexicon\"\n",
    "lexicon = load_lexicon(lexicon_path)"
   ]
  },
  {
   "cell_type": "code",
   "execution_count": 19,
   "metadata": {},
   "outputs": [
    {
     "data": {
      "application/vnd.jupyter.widget-view+json": {
       "model_id": "f49f0f8b75f042bba2a5307c06682055",
       "version_major": 2,
       "version_minor": 0
      },
      "text/plain": [
       "VBox(children=(HBox(children=(IntProgress(value=0, description='0.00%', max=12686), Label(value='0 / 12686')))…"
      ]
     },
     "metadata": {},
     "output_type": "display_data"
    }
   ],
   "source": [
    "decision2color = {\n",
    "    \"correct\": 2,\n",
    "    \"warning\":1,\n",
    "    \"incorrect\":0\n",
    "}\n",
    "\n",
    "def norm_text(text):\n",
    "    text = re.sub(r\"[\\,\\.\\!\\?\\:\\;]\", \" \", text)\n",
    "    text = re.sub(\"\\s+\", \" \", text).strip()\n",
    "    text = text.upper()\n",
    "\n",
    "    return text\n",
    "\n",
    "def is_valid_phoneme(phoneme):\n",
    "    # if phoneme[\"phoneme_error_arpabet\"] != \"normal\":\n",
    "    #     trans = phoneme[\"phoneme_error_arpabet\"].split(\" - \")[-1]\n",
    "    #     labels = phoneme[\"phoneme_error_arpabet\"].split(\" - \")[0]\n",
    "    #     if len(labels.split(\" \")) >= 2:\n",
    "    #         return False\n",
    "        \n",
    "    #     if len(trans.split(\" \")) >= 2:\n",
    "    #         return False\n",
    "        \n",
    "        # if labels in trans:\n",
    "        #     return False\n",
    "        \n",
    "    return True\n",
    "\n",
    "def is_valid_word(word):\n",
    "    if norm_text(word[\"text\"]) not in lexicon:\n",
    "        return False\n",
    "    \n",
    "    # if word[\"trans_arpabet\"] not in lexicon[norm_text(word[\"text\"])]:\n",
    "    #     return False\n",
    "\n",
    "    if len(word[\"phonemes\"]) != len(word[\"trans_arpabet\"].split()):\n",
    "        return False\n",
    "\n",
    "    return True\n",
    "            \n",
    "def parse_metadata_data(json_path):\n",
    "    with open(json_path, \"r\") as f:\n",
    "        content = json.load(f)\n",
    "    id = os.path.basename(json_path).split(\".\")[0]\n",
    "\n",
    "    utterances = []\n",
    "\n",
    "    for raw_utterance in content[\"utterances\"]:\n",
    "        id = id\n",
    "        utt_raw_text = raw_utterance[\"text\"]\n",
    "        utt_uid = raw_utterance[\"utterance_id\"]\n",
    "        start_time = raw_utterance[\"start_time\"]\n",
    "        end_time = raw_utterance[\"end_time\"]\n",
    "        \n",
    "        if raw_utterance[\"result\"] is None:\n",
    "            continue\n",
    "\n",
    "        raw_utterance = raw_utterance[\"result\"]\n",
    "        \n",
    "        utt_score = raw_utterance[\"nativeness_score\"]\n",
    "        intonation_score = raw_utterance[\"intonation_score\"]\n",
    "        fluency_score = raw_utterance[\"fluency_score\"]\n",
    "\n",
    "        if intonation_score is None or fluency_score is None:\n",
    "            continue\n",
    "\n",
    "        utt_text = []\n",
    "        utt_arpas = []\n",
    "        utt_trans = [] \n",
    "        utt_phone_scores = []\n",
    "        utt_decisions = []\n",
    "        utt_word_scores = []\n",
    "        utt_word_ids = []\n",
    "        \n",
    "        ignore = False\n",
    "        for word_id, word in enumerate(raw_utterance[\"words\"]):\n",
    "            word[\"trans_arpabet\"] = word[\"trans_arpabet\"].replace(\"AH0\", \"AX\")\n",
    "            \n",
    "            if is_valid_word(word) == False:\n",
    "                ignore = True\n",
    "                break\n",
    "\n",
    "            for phoneme in word[\"phonemes\"]:\n",
    "                if is_valid_phoneme(phoneme) == False:\n",
    "                    ignore = True\n",
    "                    break\n",
    "\n",
    "                arpa = phoneme[\"trans_arpabet\"]\n",
    "                decision = decision2color[phoneme[\"decision\"]]\n",
    "                score = phoneme[\"nativeness_score\"] if phoneme[\"nativeness_score\"] >= 0 else 0\n",
    "                tran = phoneme[\"trans_arpabet\"]\n",
    "\n",
    "                utt_phone_scores.append(score)\n",
    "                utt_word_ids.append(word_id)\n",
    "                utt_trans.append(tran)\n",
    "                utt_decisions.append(decision)\n",
    "\n",
    "            wrd_score = word[\"nativeness_score\"]\n",
    "            wrd_text = norm_text(word[\"text\"])\n",
    "            wrd_arpa = word[\"trans_arpabet\"].split()\n",
    "            \n",
    "            utt_text.append(wrd_text)                \n",
    "            utt_word_scores.append(wrd_score)\n",
    "            utt_arpas += wrd_arpa\n",
    "        \n",
    "\n",
    "        utterance = {\n",
    "            \"id\": id,\n",
    "            \"raw_text\": utt_raw_text,\n",
    "            \"text\": \" \".join(utt_text),\n",
    "            \"utt_id\": utt_uid,\n",
    "            \"start_time\": start_time,\n",
    "            \"end_time\": end_time,\n",
    "            \"arpas\": utt_arpas,\n",
    "            \"trans\": utt_trans,\n",
    "            \"phone_scores\": utt_phone_scores,\n",
    "            \"word_scores\": utt_word_scores,\n",
    "            \"decisions\": utt_decisions,\n",
    "            \"word_ids\": utt_word_ids,\n",
    "            \"utterance_score\": utt_score,\n",
    "            \"intonation_score\": intonation_score,\n",
    "            \"fluency_score\": fluency_score\n",
    "        }\n",
    "        \n",
    "        if ignore == False:\n",
    "            utterances.append(utterance)\n",
    "    \n",
    "    return utterances\n",
    "\n",
    "extracted_data = metadata.id.parallel_apply(lambda x: parse_metadata_data(os.path.join(json_dir, f'{x}.json')))\n",
    "# extracted_data.head()\n",
    "# metadata.id.head(100).apply(lambda x: parse_metadata_data(os.path.join(json_dir, f'{x}.json')))"
   ]
  },
  {
   "cell_type": "code",
   "execution_count": 20,
   "metadata": {},
   "outputs": [
    {
     "name": "stdout",
     "output_type": "stream",
     "text": [
      "(177140, 1)\n",
      "(141785, 1)\n"
     ]
    },
    {
     "data": {
      "text/html": [
       "<div>\n",
       "<style scoped>\n",
       "    .dataframe tbody tr th:only-of-type {\n",
       "        vertical-align: middle;\n",
       "    }\n",
       "\n",
       "    .dataframe tbody tr th {\n",
       "        vertical-align: top;\n",
       "    }\n",
       "\n",
       "    .dataframe thead th {\n",
       "        text-align: right;\n",
       "    }\n",
       "</style>\n",
       "<table border=\"1\" class=\"dataframe\">\n",
       "  <thead>\n",
       "    <tr style=\"text-align: right;\">\n",
       "      <th></th>\n",
       "      <th>data</th>\n",
       "    </tr>\n",
       "  </thead>\n",
       "  <tbody>\n",
       "    <tr>\n",
       "      <th>0</th>\n",
       "      <td>{'id': '5850057', 'raw_text': 'Yes. I like cha...</td>\n",
       "    </tr>\n",
       "    <tr>\n",
       "      <th>1</th>\n",
       "      <td>{'id': '5850059', 'raw_text': 'Of course I've ...</td>\n",
       "    </tr>\n",
       "    <tr>\n",
       "      <th>2</th>\n",
       "      <td>{'id': '5850059', 'raw_text': ' So, I sent som...</td>\n",
       "    </tr>\n",
       "    <tr>\n",
       "      <th>3</th>\n",
       "      <td>{'id': '5850059', 'raw_text': ' And I believe ...</td>\n",
       "    </tr>\n",
       "    <tr>\n",
       "      <th>4</th>\n",
       "      <td>{'id': '5850063', 'raw_text': 'Absolutely yes....</td>\n",
       "    </tr>\n",
       "  </tbody>\n",
       "</table>\n",
       "</div>"
      ],
      "text/plain": [
       "                                                data\n",
       "0  {'id': '5850057', 'raw_text': 'Yes. I like cha...\n",
       "1  {'id': '5850059', 'raw_text': 'Of course I've ...\n",
       "2  {'id': '5850059', 'raw_text': ' So, I sent som...\n",
       "3  {'id': '5850059', 'raw_text': ' And I believe ...\n",
       "4  {'id': '5850063', 'raw_text': 'Absolutely yes...."
      ]
     },
     "execution_count": 20,
     "metadata": {},
     "output_type": "execute_result"
    }
   ],
   "source": [
    "data = extracted_data.explode().reset_index()[\"id\"]\n",
    "data = pd.DataFrame({\"data\": data})\n",
    "print(data.shape)\n",
    "data.dropna(inplace=True)\n",
    "data[\"text\"] = data[\"data\"].apply(lambda x: x[\"text\"])\n",
    "data = data.reset_index()[[\"data\"]]\n",
    "print(data.shape)\n",
    "data.head()"
   ]
  },
  {
   "cell_type": "code",
   "execution_count": 21,
   "metadata": {},
   "outputs": [
    {
     "data": {
      "text/plain": [
       "<Axes: >"
      ]
     },
     "execution_count": 21,
     "metadata": {},
     "output_type": "execute_result"
    },
    {
     "data": {
      "image/png": "[encoded data removed]",
      "text/plain": [
       "<Figure size 640x480 with 1 Axes>"
      ]
     },
     "metadata": {},
     "output_type": "display_data"
    }
   ],
   "source": [
    "scores = data[\"data\"].apply(lambda x: x[\"utterance_score\"]).to_list()\n",
    "\n",
    "pd.DataFrame(scores, columns=[\"score\"]).score.hist(bins=100)"
   ]
  },
  {
   "cell_type": "code",
   "execution_count": 22,
   "metadata": {},
   "outputs": [
    {
     "data": {
      "text/plain": [
       "<Axes: >"
      ]
     },
     "execution_count": 22,
     "metadata": {},
     "output_type": "execute_result"
    },
    {
     "data": {
      "image/png": "[encoded data removed]",
      "text/plain": [
       "<Figure size 640x480 with 1 Axes>"
      ]
     },
     "metadata": {},
     "output_type": "display_data"
    }
   ],
   "source": [
    "scores = data[\"data\"].apply(lambda x: x[\"word_scores\"]).to_list()\n",
    "scores = [score for sample in scores for score in sample]\n",
    "\n",
    "pd.DataFrame(scores, columns=[\"score\"]).score.hist(bins=100)"
   ]
  },
  {
   "cell_type": "code",
   "execution_count": 23,
   "metadata": {},
   "outputs": [
    {
     "name": "stdout",
     "output_type": "stream",
     "text": [
      "(1590338, 1)\n"
     ]
    },
    {
     "data": {
      "text/plain": [
       "<Axes: >"
      ]
     },
     "execution_count": 23,
     "metadata": {},
     "output_type": "execute_result"
    },
    {
     "data": {
      "image/png": "[encoded data removed]",
      "text/plain": [
       "<Figure size 640x480 with 1 Axes>"
      ]
     },
     "metadata": {},
     "output_type": "display_data"
    }
   ],
   "source": [
    "scores = data[\"data\"].apply(lambda x: x[\"phone_scores\"]).to_list()\n",
    "scores = [score for sample in scores for score in sample]\n",
    "\n",
    "scores = pd.DataFrame(scores, columns=[\"score\"])\n",
    "print(scores[scores.score<80].shape)\n",
    "scores.score.hist(bins=100)"
   ]
  },
  {
   "cell_type": "code",
   "execution_count": 24,
   "metadata": {},
   "outputs": [
    {
     "name": "stdout",
     "output_type": "stream",
     "text": [
      "(79852, 1)\n",
      "(61933, 1)\n"
     ]
    }
   ],
   "source": [
    "def filter_text(text):\n",
    "    text = norm_text(text)\n",
    "    if \" AH \" in text:\n",
    "        return False\n",
    "    if \" UH \" in text:\n",
    "        return False\n",
    "    if \" UM \" in text:\n",
    "        return False\n",
    "    if \" UHM \" in text:\n",
    "        return False\n",
    "    \n",
    "    if text.startswith(\"AH \") or text.startswith(\"UH \") or text.startswith(\"UM \") or text.startswith(\"UHM \"):\n",
    "        return False\n",
    "    \n",
    "    if text.endswith(\" AH\") or text.endswith(\" UH\") or text.endswith(\" UM\") or text.endswith(\" UHM\"):\n",
    "        return False\n",
    "    \n",
    "    return True\n",
    "\n",
    "is_valid = data[\"data\"].apply(lambda x: filter_text(x[\"raw_text\"]))\n",
    "\n",
    "print(data[is_valid].shape)\n",
    "print(data[~is_valid].shape)\n",
    "\n",
    "data = data[is_valid]"
   ]
  },
  {
   "cell_type": "code",
   "execution_count": 25,
   "metadata": {},
   "outputs": [
    {
     "data": {
      "application/vnd.jupyter.widget-view+json": {
       "model_id": "7ca47956b5dc468bb891c07e75c5c583",
       "version_major": 2,
       "version_minor": 0
      },
      "text/plain": [
       "VBox(children=(HBox(children=(IntProgress(value=0, description='0.00%', max=9982), Label(value='0 / 9982'))), …"
      ]
     },
     "metadata": {},
     "output_type": "display_data"
    },
    {
     "name": "stdout",
     "output_type": "stream",
     "text": [
      "(75364, 1)\n",
      "(4488, 1)\n"
     ]
    }
   ],
   "source": [
    "import librosa\n",
    "import soundfile as sf\n",
    "\n",
    "def copy_audio(row):\n",
    "    min_duration = 3.0\n",
    "\n",
    "    in_audio_dir = \"/data/audio_data/prep_submission_audio/9\"\n",
    "    out_audio_dir = \"/data/codes/apa/train/data/wav/9\"\n",
    "\n",
    "    id = row[\"id\"]\n",
    "    utt_id = row[\"utt_id\"]\n",
    "\n",
    "    in_path = f'{in_audio_dir}/{id}.wav'\n",
    "    out_path = f'{out_audio_dir}/{id}-{utt_id}.wav'\n",
    "\n",
    "    start_time = int(row[\"start_time\"] * 16000)\n",
    "    end_time = int(row[\"end_time\"] * 16000)\n",
    "\n",
    "    wav, sr = librosa.load(in_path, sr=16000)\n",
    "\n",
    "    if end_time > wav.shape[0]:\n",
    "        return False\n",
    "    \n",
    "    if wav[start_time:end_time].shape[0] / sr < min_duration:\n",
    "        return False\n",
    "    \n",
    "    assert \"audio_data\" not in out_path\n",
    "\n",
    "    sf.write(out_path, data=wav[start_time:end_time], samplerate=sr)\n",
    "\n",
    "    return True\n",
    "\n",
    "is_valid = data[\"data\"].parallel_apply(copy_audio)\n",
    "\n",
    "print(data[is_valid].shape)\n",
    "print(data[~is_valid].shape)\n",
    "\n",
    "data = data[is_valid]"
   ]
  },
  {
   "cell_type": "code",
   "execution_count": 26,
   "metadata": {},
   "outputs": [
    {
     "data": {
      "application/vnd.jupyter.widget-view+json": {
       "model_id": "5e96aa60ad6644c487d2913568d9c3e5",
       "version_major": 2,
       "version_minor": 0
      },
      "text/plain": [
       "VBox(children=(HBox(children=(IntProgress(value=0, description='0.00%', max=9421), Label(value='0 / 9421'))), …"
      ]
     },
     "metadata": {},
     "output_type": "display_data"
    }
   ],
   "source": [
    "def update_id(row):\n",
    "    id = row[\"id\"]\n",
    "    utt_id = row[\"utt_id\"]\n",
    "\n",
    "    row[\"id\"] = f'{id}-{utt_id}'\n",
    "\n",
    "    return row\n",
    "\n",
    "data[\"data\"] = data[\"data\"].parallel_apply(update_id)"
   ]
  },
  {
   "cell_type": "code",
   "execution_count": 27,
   "metadata": {},
   "outputs": [
    {
     "name": "stdout",
     "output_type": "stream",
     "text": [
      "(75364, 1)\n",
      "(74472, 1)\n"
     ]
    }
   ],
   "source": [
    "length = data[\"data\"].apply(lambda x: len(x[\"arpas\"]))\n",
    "print(data.shape)\n",
    "data = data[length < 124]\n",
    "print(data.shape)"
   ]
  },
  {
   "cell_type": "code",
   "execution_count": 28,
   "metadata": {},
   "outputs": [
    {
     "name": "stderr",
     "output_type": "stream",
     "text": [
      "100%|██████████| 74472/74472 [00:01<00:00, 57700.94it/s]\n"
     ]
    }
   ],
   "source": [
    "extracted_data = data\n",
    "with open(out_jsonl_path, \"w\", encoding=\"utf-8\") as f:\n",
    "    for index in tqdm(extracted_data.index):\n",
    "        sample = extracted_data.loc[index, \"data\"]\n",
    "        json_obj = json.dumps(sample)\n",
    "\n",
    "        f.write(f'{json_obj}\\n')"
   ]
  }
 ],
 "metadata": {
  "kernelspec": {
   "display_name": "ps",
   "language": "python",
   "name": "python3"
  },
  "language_info": {
   "codemirror_mode": {
    "name": "ipython",
    "version": 3
   },
   "file_extension": ".py",
   "mimetype": "text/x-python",
   "name": "python",
   "nbconvert_exporter": "python",
   "pygments_lexer": "ipython3",
   "version": "3.8.17"
  }
 },
 "nbformat": 4,
 "nbformat_minor": 2
}
