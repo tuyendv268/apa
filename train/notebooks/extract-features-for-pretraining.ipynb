{
 "cells": [
  {
   "cell_type": "code",
   "execution_count": 1,
   "metadata": {},
   "outputs": [
    {
     "name": "stdout",
     "output_type": "stream",
     "text": [
      "/data/codes/apa/train\n"
     ]
    }
   ],
   "source": [
    "%cd /data/codes/apa/train\n",
    "\n",
    "from glob import glob\n",
    "from tqdm import tqdm\n",
    "import pandas as pd\n",
    "import numpy as np\n",
    "import pickle\n",
    "import torch\n",
    "import json\n",
    "import os\n",
    "import re\n",
    "\n",
    "from src.dataset import (\n",
    "    IndexedDataset,\n",
    "    IndexedDatasetBuilder\n",
    ")"
   ]
  },
  {
   "cell_type": "code",
   "execution_count": 2,
   "metadata": {},
   "outputs": [],
   "source": [
    "def map_phone(phones):\n",
    "    mapped_phone = []\n",
    "    for phone in phones:\n",
    "        if phone == \"SCHWA\" or phone == \"AH0\":\n",
    "            mapped_phone.append(\"AX\")\n",
    "        else:\n",
    "            mapped_phone.append(phone)\n",
    "    \n",
    "    return mapped_phone\n",
    "\n",
    "def get_phone_pure(phones):\n",
    "    pure_phones = [re.sub(r\"\\d\", \"\", phone) for phone in phones]\n",
    "\n",
    "    return pure_phones\n",
    "\n",
    "def preprocess_metadata(metadata):\n",
    "    metadata = metadata[\n",
    "        [\"id\", \"audio_path\", \"text\", \"arpas\", \"trans\", \"phone_scores\", \"word_scores\", \"word_ids\", \"utterance_score\", \"fluency_score\", \"intonation_score\"]\n",
    "    ]\n",
    "    metadata[\"id\"] = metadata.id.apply(str)\n",
    "    metadata = metadata.rename(columns={\"arpas\":\"elsa_phone\"})\n",
    "    metadata[\"elsa_phone\"] = metadata.elsa_phone.apply(map_phone)\n",
    "    metadata[\"elsa_phone\"] = metadata.elsa_phone.apply(get_phone_pure)\n",
    "    metadata[\"trans\"] = metadata.trans.apply(map_phone)\n",
    "\n",
    "    return metadata\n",
    "\n",
    "def load_jsonl(path):\n",
    "    with open(path, \"r\", encoding=\"utf-8\") as f:\n",
    "        lines = f.readlines()\n",
    "        lines = [json.loads(line.strip()) for line in lines]\n",
    "    \n",
    "    lines = pd.DataFrame(lines)\n",
    "    return lines\n",
    "\n",
    "def load_gops(gop_paths):\n",
    "    gops = {}\n",
    "    for path in gop_paths:\n",
    "        try:\n",
    "            gop = pickle.load(open(path, \"rb\"))\n",
    "        except:\n",
    "            continue\n",
    "        \n",
    "        for key in gop.keys():\n",
    "            assert key not in gops\n",
    "\n",
    "        gops.update(gop)\n",
    "\n",
    "    return gops"
   ]
  },
  {
   "cell_type": "code",
   "execution_count": 3,
   "metadata": {},
   "outputs": [
    {
     "name": "stderr",
     "output_type": "stream",
     "text": [
      "/tmp/ipykernel_2732687/4032995754.py:20: SettingWithCopyWarning: \n",
      "A value is trying to be set on a copy of a slice from a DataFrame.\n",
      "Try using .loc[row_indexer,col_indexer] = value instead\n",
      "\n",
      "See the caveats in the documentation: https://pandas.pydata.org/pandas-docs/stable/user_guide/indexing.html#returning-a-view-versus-a-copy\n",
      "  metadata[\"id\"] = metadata.id.apply(str)\n"
     ]
    },
    {
     "name": "stdout",
     "output_type": "stream",
     "text": [
      "(81731, 11)\n"
     ]
    },
    {
     "data": {
      "text/html": [
       "<div>\n",
       "<style scoped>\n",
       "    .dataframe tbody tr th:only-of-type {\n",
       "        vertical-align: middle;\n",
       "    }\n",
       "\n",
       "    .dataframe tbody tr th {\n",
       "        vertical-align: top;\n",
       "    }\n",
       "\n",
       "    .dataframe thead th {\n",
       "        text-align: right;\n",
       "    }\n",
       "</style>\n",
       "<table border=\"1\" class=\"dataframe\">\n",
       "  <thead>\n",
       "    <tr style=\"text-align: right;\">\n",
       "      <th></th>\n",
       "      <th>id</th>\n",
       "      <th>audio_path</th>\n",
       "      <th>text</th>\n",
       "      <th>elsa_phone</th>\n",
       "      <th>trans</th>\n",
       "      <th>phone_scores</th>\n",
       "      <th>word_scores</th>\n",
       "      <th>word_ids</th>\n",
       "      <th>utterance_score</th>\n",
       "      <th>fluency_score</th>\n",
       "      <th>intonation_score</th>\n",
       "    </tr>\n",
       "  </thead>\n",
       "  <tbody>\n",
       "    <tr>\n",
       "      <th>0</th>\n",
       "      <td>3487285</td>\n",
       "      <td>/data/audio_data/prep_submission_audio/12/3487...</td>\n",
       "      <td>A BUSY TONE</td>\n",
       "      <td>[AX, B, IH, Z, IY, T, OW, N]</td>\n",
       "      <td>[AX, B, IH, Z, IY, T, OW, N]</td>\n",
       "      <td>[100, 78, 28.999999999999996, 94, 82, 96, 38, 33]</td>\n",
       "      <td>[94, 63, 45]</td>\n",
       "      <td>[0, 1, 1, 1, 1, 2, 2, 2]</td>\n",
       "      <td>57.07</td>\n",
       "      <td>0</td>\n",
       "      <td>0</td>\n",
       "    </tr>\n",
       "  </tbody>\n",
       "</table>\n",
       "</div>"
      ],
      "text/plain": [
       "        id                                         audio_path         text  \\\n",
       "0  3487285  /data/audio_data/prep_submission_audio/12/3487...  A BUSY TONE   \n",
       "\n",
       "                     elsa_phone                         trans  \\\n",
       "0  [AX, B, IH, Z, IY, T, OW, N]  [AX, B, IH, Z, IY, T, OW, N]   \n",
       "\n",
       "                                        phone_scores   word_scores  \\\n",
       "0  [100, 78, 28.999999999999996, 94, 82, 96, 38, 33]  [94, 63, 45]   \n",
       "\n",
       "                   word_ids  utterance_score  fluency_score  intonation_score  \n",
       "0  [0, 1, 1, 1, 1, 2, 2, 2]            57.07              0                 0  "
      ]
     },
     "execution_count": 3,
     "metadata": {},
     "output_type": "execute_result"
    }
   ],
   "source": [
    "metadata_path = \"/data/codes/apa/train/data/metadata/jsonl/train-data-type-12.jsonl\"\n",
    "out_dir = \"/data/codes/apa/train/data/feats/train/train-data-type-12-filtered\"\n",
    "data_dir = \"/data/codes/apa/train/data/train/train-data-type-12\"\n",
    "\n",
    "metadata = load_jsonl(metadata_path)\n",
    "metadata = preprocess_metadata(metadata)\n",
    "print(metadata.shape)\n",
    "metadata.head(1)"
   ]
  },
  {
   "cell_type": "code",
   "execution_count": 4,
   "metadata": {},
   "outputs": [
    {
     "data": {
      "text/plain": [
       "<Axes: >"
      ]
     },
     "execution_count": 4,
     "metadata": {},
     "output_type": "execute_result"
    },
    {
     "data": {
      "image/png": "[encoded data removed]",
      "text/plain": [
       "<Figure size 640x480 with 1 Axes>"
      ]
     },
     "metadata": {},
     "output_type": "display_data"
    }
   ],
   "source": [
    "lengths = metadata[\"elsa_phone\"].apply(len)\n",
    "lengths.hist(bins=100)"
   ]
  },
  {
   "cell_type": "code",
   "execution_count": 5,
   "metadata": {},
   "outputs": [
    {
     "name": "stdout",
     "output_type": "stream",
     "text": [
      "(81731, 11)\n",
      "(81731, 11)\n"
     ]
    }
   ],
   "source": [
    "MAX_LENGTH = 128\n",
    "\n",
    "print(metadata.shape)\n",
    "metadata = metadata[lengths<MAX_LENGTH-3]\n",
    "print(metadata.shape)"
   ]
  },
  {
   "cell_type": "code",
   "execution_count": 6,
   "metadata": {},
   "outputs": [
    {
     "name": "stdout",
     "output_type": "stream",
     "text": [
      "(81731, 11)\n",
      "(35200, 11)\n"
     ]
    }
   ],
   "source": [
    "if out_dir.endswith(\"-filtered\"):\n",
    "    id_path = f\"{out_dir}/id\"\n",
    "\n",
    "    id_df = pd.read_csv(id_path, names=[\"id\"], dtype={'id':str})\n",
    "    id_df = id_df.set_index(\"id\")\n",
    "\n",
    "    print(metadata.shape)\n",
    "    metadata = metadata[metadata.id.isin(id_df.index)]\n",
    "    print(metadata.shape)"
   ]
  },
  {
   "cell_type": "code",
   "execution_count": 7,
   "metadata": {},
   "outputs": [],
   "source": [
    "if not os.path.exists(out_dir):\n",
    "    os.makedirs(out_dir)\n",
    "    \n",
    "gop_path = f'{data_dir}/*/gop.pkl'\n",
    "align_path = f'{data_dir}/*/ali.out'\n",
    "\n",
    "alignment_paths = glob(align_path)\n",
    "gop_paths = glob(gop_path)"
   ]
  },
  {
   "cell_type": "code",
   "execution_count": 8,
   "metadata": {},
   "outputs": [],
   "source": [
    "def load_alignment(path):\n",
    "    alignment_df = pd.read_csv(\n",
    "        path, names=[\"id\", \"alignment\"], sep=\"\\t\", dtype={\"id\": str}\n",
    "    )\n",
    "    alignment_df[\"alignment\"] = alignment_df.alignment.apply(json.loads)\n",
    "\n",
    "    return alignment_df\n",
    "\n",
    "def load_alignments(paths):\n",
    "    alignments = []\n",
    "    for path in paths:\n",
    "        alignment = load_alignment(path)\n",
    "        alignments.append(alignment)\n",
    "    \n",
    "    alignments = pd.concat(alignments)\n",
    "    alignments.reset_index(inplace=True)\n",
    "\n",
    "    return alignments[[\"id\", \"alignment\"]]\n",
    "\n",
    "alignments = load_alignments(alignment_paths)\n",
    "gops = load_gops(gop_paths)"
   ]
  },
  {
   "cell_type": "code",
   "execution_count": 9,
   "metadata": {},
   "outputs": [
    {
     "name": "stdout",
     "output_type": "stream",
     "text": [
      "(81720, 2)\n",
      "(81720, 2)\n"
     ]
    }
   ],
   "source": [
    "is_valid = alignments.id.apply(lambda x: x in gops)\n",
    "print(alignments.shape)\n",
    "alignments = alignments[is_valid]\n",
    "print(alignments.shape)"
   ]
  },
  {
   "cell_type": "code",
   "execution_count": 10,
   "metadata": {},
   "outputs": [],
   "source": [
    "def extract_phonemes(alignments):\n",
    "    phonemes = [\n",
    "        re.sub(\"\\d\", \"\",phoneme[0].split(\"_\")[0]) for phoneme in alignments\n",
    "        if phoneme[0] != \"SIL\"\n",
    "    ]\n",
    "    return phonemes\n",
    "\n",
    "def extract_durations(alignments):\n",
    "    durations = [\n",
    "        round(phoneme[2] * 0.02, 4) for phoneme in alignments\n",
    "        if phoneme[0] != \"SIL\"\n",
    "    ]\n",
    "    return durations\n",
    "\n",
    "def extract_relative_positions(alignments):\n",
    "    relative_positions = [\n",
    "        phoneme[0].split(\"_\")[-1] for phoneme in alignments\n",
    "        if phoneme[0] != \"SIL\"\n",
    "    ]\n",
    "    return relative_positions\n",
    "\n",
    "\n",
    "alignments[\"relative_positions\"] = alignments.alignment.apply(lambda x: extract_relative_positions(x))\n",
    "alignments[\"prep_phone\"] = alignments.alignment.apply(lambda x: extract_phonemes(x))\n",
    "alignments[\"duration\"] = alignments.alignment.apply(lambda x: extract_durations(x))"
   ]
  },
  {
   "cell_type": "code",
   "execution_count": 11,
   "metadata": {},
   "outputs": [
    {
     "data": {
      "text/html": [
       "<div>\n",
       "<style scoped>\n",
       "    .dataframe tbody tr th:only-of-type {\n",
       "        vertical-align: middle;\n",
       "    }\n",
       "\n",
       "    .dataframe tbody tr th {\n",
       "        vertical-align: top;\n",
       "    }\n",
       "\n",
       "    .dataframe thead th {\n",
       "        text-align: right;\n",
       "    }\n",
       "</style>\n",
       "<table border=\"1\" class=\"dataframe\">\n",
       "  <thead>\n",
       "    <tr style=\"text-align: right;\">\n",
       "      <th></th>\n",
       "      <th>id</th>\n",
       "      <th>audio_path</th>\n",
       "      <th>text</th>\n",
       "      <th>elsa_phone</th>\n",
       "      <th>trans</th>\n",
       "      <th>phone_scores</th>\n",
       "      <th>word_scores</th>\n",
       "      <th>word_ids</th>\n",
       "      <th>utterance_score</th>\n",
       "      <th>fluency_score</th>\n",
       "      <th>intonation_score</th>\n",
       "      <th>alignment</th>\n",
       "      <th>prep_phone</th>\n",
       "      <th>relative_positions</th>\n",
       "      <th>duration</th>\n",
       "    </tr>\n",
       "  </thead>\n",
       "  <tbody>\n",
       "    <tr>\n",
       "      <th>0</th>\n",
       "      <td>5431111</td>\n",
       "      <td>/data/audio_data/prep_submission_audio/12/5431...</td>\n",
       "      <td>A BUSY TONE</td>\n",
       "      <td>[AX, B, IH, Z, IY, T, OW, N]</td>\n",
       "      <td>[AX, B, IH, Z, IY, T, OW, N]</td>\n",
       "      <td>[100, 82, 84, 99, 89, 96, 84, 95]</td>\n",
       "      <td>[100, 89, 92]</td>\n",
       "      <td>[0, 1, 1, 1, 1, 2, 2, 2]</td>\n",
       "      <td>91.56</td>\n",
       "      <td>0</td>\n",
       "      <td>0</td>\n",
       "      <td>[[SIL, 0, 61], [AX_S, 61, 7], [B_B, 68, 12], [...</td>\n",
       "      <td>[AX, B, IH, Z, IY, T, OW, N]</td>\n",
       "      <td>[S, B, I, I, E, B, I, E]</td>\n",
       "      <td>[0.14, 0.24, 0.3, 0.18, 0.18, 0.22, 0.28, 0.3]</td>\n",
       "    </tr>\n",
       "  </tbody>\n",
       "</table>\n",
       "</div>"
      ],
      "text/plain": [
       "        id                                         audio_path         text  \\\n",
       "0  5431111  /data/audio_data/prep_submission_audio/12/5431...  A BUSY TONE   \n",
       "\n",
       "                     elsa_phone                         trans  \\\n",
       "0  [AX, B, IH, Z, IY, T, OW, N]  [AX, B, IH, Z, IY, T, OW, N]   \n",
       "\n",
       "                        phone_scores    word_scores                  word_ids  \\\n",
       "0  [100, 82, 84, 99, 89, 96, 84, 95]  [100, 89, 92]  [0, 1, 1, 1, 1, 2, 2, 2]   \n",
       "\n",
       "   utterance_score  fluency_score  intonation_score  \\\n",
       "0            91.56              0                 0   \n",
       "\n",
       "                                           alignment  \\\n",
       "0  [[SIL, 0, 61], [AX_S, 61, 7], [B_B, 68, 12], [...   \n",
       "\n",
       "                     prep_phone        relative_positions  \\\n",
       "0  [AX, B, IH, Z, IY, T, OW, N]  [S, B, I, I, E, B, I, E]   \n",
       "\n",
       "                                         duration  \n",
       "0  [0.14, 0.24, 0.3, 0.18, 0.18, 0.22, 0.28, 0.3]  "
      ]
     },
     "execution_count": 11,
     "metadata": {},
     "output_type": "execute_result"
    }
   ],
   "source": [
    "metadata = pd.merge(\n",
    "    left=metadata, \n",
    "    right=alignments[[\"id\", \"alignment\", \"prep_phone\", \"relative_positions\", \"duration\"]], \n",
    "    how=\"inner\", on=\"id\"\n",
    ")\n",
    "\n",
    "metadata.head(1)"
   ]
  },
  {
   "cell_type": "code",
   "execution_count": 12,
   "metadata": {},
   "outputs": [
    {
     "name": "stdout",
     "output_type": "stream",
     "text": [
      "35200\n",
      "(35200,)\n"
     ]
    }
   ],
   "source": [
    "def count_match(elsa, prep, scores):\n",
    "    for index, (phone_1, phone_2) in enumerate(zip(elsa, prep)):\n",
    "        if phone_1 != phone_2:\n",
    "            if scores[index] < 40:\n",
    "                continue\n",
    "            return 0\n",
    "        \n",
    "    return 1\n",
    "\n",
    "is_matched = metadata.apply(lambda x: count_match(elsa=x[\"elsa_phone\"], prep=x[\"prep_phone\"], scores=x[\"phone_scores\"]), axis=1)\n",
    "metadata = metadata[is_matched==True]\n",
    "print(is_matched.sum())\n",
    "print(is_matched.shape)"
   ]
  },
  {
   "cell_type": "markdown",
   "metadata": {},
   "source": [
    "### Extract alignment"
   ]
  },
  {
   "cell_type": "code",
   "execution_count": 13,
   "metadata": {},
   "outputs": [],
   "source": [
    "def preprocess_alignments(alignment):\n",
    "    processed_alignment = []\n",
    "    for phone, start, duration in alignment:\n",
    "        if phone == \"SIL\":\n",
    "            continue\n",
    "        phone = phone.split(\"_\")[0]\n",
    "        processed_alignment.append([phone, start, duration])\n",
    "    \n",
    "    return processed_alignment"
   ]
  },
  {
   "cell_type": "code",
   "execution_count": 14,
   "metadata": {},
   "outputs": [
    {
     "name": "stderr",
     "output_type": "stream",
     "text": [
      " 35%|███▌      | 12320/35200 [00:00<00:00, 123194.54it/s]"
     ]
    },
    {
     "name": "stderr",
     "output_type": "stream",
     "text": [
      "100%|██████████| 35200/35200 [00:00<00:00, 128520.87it/s]\n"
     ]
    }
   ],
   "source": [
    "with open(f'{out_dir}/alignment', \"w\", encoding=\"utf-8\") as f:\n",
    "    for index in tqdm(metadata.index):\n",
    "        _id = metadata[\"id\"][index]\n",
    "        _alignment = metadata[\"alignment\"][index]\n",
    "\n",
    "        _alignment = preprocess_alignments(_alignment)\n",
    "\n",
    "        _alignment= json.dumps(_alignment, ensure_ascii=False)\n",
    "        \n",
    "        f.write(f'{_alignment}\\n')"
   ]
  },
  {
   "cell_type": "markdown",
   "metadata": {},
   "source": [
    "#### Extract audio_path"
   ]
  },
  {
   "cell_type": "code",
   "execution_count": 15,
   "metadata": {},
   "outputs": [
    {
     "name": "stderr",
     "output_type": "stream",
     "text": [
      "100%|██████████| 35200/35200 [00:00<00:00, 527883.46it/s]\n"
     ]
    }
   ],
   "source": [
    "with open(f'{out_dir}/wav_path', \"w\", encoding=\"utf-8\") as f:\n",
    "    for index in tqdm(metadata.index):\n",
    "        audio_path = metadata[\"audio_path\"][index]\n",
    "        \n",
    "        f.write(f'{audio_path}\\n')"
   ]
  },
  {
   "cell_type": "markdown",
   "metadata": {},
   "source": [
    "### Extract id"
   ]
  },
  {
   "cell_type": "code",
   "execution_count": 16,
   "metadata": {},
   "outputs": [
    {
     "name": "stderr",
     "output_type": "stream",
     "text": [
      "100%|██████████| 35200/35200 [00:00<00:00, 513818.22it/s]\n"
     ]
    }
   ],
   "source": [
    "with open(f'{out_dir}/id', \"w\", encoding=\"utf-8\") as f:\n",
    "    for index in tqdm(metadata.index):\n",
    "        _id = metadata[\"id\"][index]\n",
    "        \n",
    "        f.write(f'{_id}\\n')"
   ]
  },
  {
   "cell_type": "markdown",
   "metadata": {},
   "source": [
    "### Extract gop feature"
   ]
  },
  {
   "cell_type": "code",
   "execution_count": 17,
   "metadata": {},
   "outputs": [
    {
     "name": "stderr",
     "output_type": "stream",
     "text": [
      "100%|██████████| 35200/35200 [00:00<00:00, 125548.49it/s]\n"
     ]
    }
   ],
   "source": [
    "indexed_path = f'{out_dir}/gop'\n",
    "\n",
    "builder = IndexedDatasetBuilder(indexed_path)\n",
    "for index in tqdm(metadata.index):\n",
    "    _id = metadata[\"id\"][index]\n",
    "    gop = gops[_id]\n",
    "\n",
    "    gop = np.array(gop)\n",
    "    builder.add_item(item=gop)\n",
    "    \n",
    "builder.finalize()"
   ]
  },
  {
   "cell_type": "code",
   "execution_count": 18,
   "metadata": {},
   "outputs": [
    {
     "data": {
      "text/plain": [
       "array([[-7.116742  , -6.182339  , -2.982992  , -3.1070542 , -3.192233  ,\n",
       "        -3.6303632 , -4.1627593 , -2.3699126 , -3.388797  , -3.4089441 ,\n",
       "        -5.0715685 , -3.6801481 , -4.675005  , -5.0659685 , -3.2166438 ,\n",
       "        -2.9722505 , -3.4740481 , -4.3336525 , -4.440655  , -5.123091  ,\n",
       "        -3.1438622 , -3.7903104 , -4.922741  , -4.0164466 , -3.590558  ,\n",
       "        -3.463054  , -3.8957615 , -5.8194265 , -3.1367693 , -5.106355  ,\n",
       "        -3.4862204 , -3.3716698 , -3.7946825 , -5.033477  , -3.7969842 ,\n",
       "        -4.9770555 , -4.637282  , -4.0123873 , -3.9149091 , -4.714989  ,\n",
       "        -4.772168  , -4.440412  , -6.6323647 , -4.7468295 , -3.8124266 ,\n",
       "        -0.6130793 , -0.7371416 , -0.82232046, -1.2604506 , -1.7928467 ,\n",
       "         0.        , -1.0188844 , -1.0390315 , -2.7016559 , -1.3102355 ,\n",
       "        -2.3050923 , -2.696056  , -0.8467312 , -0.60233784, -1.1041355 ,\n",
       "        -1.9637399 , -2.0707426 , -2.7531786 , -0.7739496 , -1.4203978 ,\n",
       "        -2.5528283 , -1.646534  , -1.2206454 , -1.0931413 , -1.5258489 ,\n",
       "        -3.449514  , -0.7668567 , -2.7364426 , -1.1163077 , -1.0017571 ,\n",
       "        -1.4247699 , -2.6635642 , -1.4270716 , -2.607143  , -2.2673693 ,\n",
       "        -1.6424747 , -1.5449965 , -2.3450766 , -2.4022555 , -2.0704994 ,\n",
       "        -4.262452  ],\n",
       "       [-7.0696926 , -6.5788727 , -4.0345173 , -4.174817  , -4.355295  ,\n",
       "        -4.4638495 , -4.3488407 , -3.8510695 , -3.9601753 , -1.9893769 ,\n",
       "        -4.9048758 , -3.4033394 , -4.477072  , -5.210627  , -4.2517233 ,\n",
       "        -3.863778  , -4.1149387 , -3.8286424 , -4.2644753 , -4.6598372 ,\n",
       "        -3.5179849 , -3.749977  , -4.55865   , -4.177599  , -3.7960382 ,\n",
       "        -2.0437844 , -3.404407  , -5.620004  , -3.9359312 , -5.334307  ,\n",
       "        -2.7957716 , -3.6408343 , -3.9839358 , -4.7863836 , -3.7220306 ,\n",
       "        -4.8151035 , -5.2809653 , -3.9777582 , -3.2646441 , -4.280051  ,\n",
       "        -3.995481  , -4.6016107 , -6.450611  , -5.0803156 , -4.5894957 ,\n",
       "        -2.0451403 , -2.18544   , -2.3659182 , -2.4744725 , -2.3594637 ,\n",
       "        -1.8616925 , -1.9707984 ,  0.        , -2.9154987 , -1.4139625 ,\n",
       "        -2.4876947 , -3.22125   , -2.2623463 , -1.8744012 , -2.1255617 ,\n",
       "        -1.8392655 , -2.2750983 , -2.6704602 , -1.528608  , -1.7606002 ,\n",
       "        -2.569273  , -2.188222  , -1.8066612 , -0.05440748, -1.4150301 ,\n",
       "        -3.6306272 , -1.9465543 , -3.3449302 , -0.8063947 , -1.6514574 ,\n",
       "        -1.9945589 , -2.7970066 , -1.7326537 , -2.8257265 , -3.2915883 ,\n",
       "        -1.9883813 , -1.2752672 , -2.2906742 , -2.006104  , -2.6122336 ,\n",
       "        -4.461234  ],\n",
       "       [-7.308024  , -6.8477416 , -3.3595815 , -3.4472737 , -3.6344159 ,\n",
       "        -3.728598  , -3.9856582 , -3.0884285 , -3.5862    , -4.175597  ,\n",
       "        -4.819995  , -4.192442  , -4.624646  , -5.066728  , -3.4264226 ,\n",
       "        -3.1474261 , -3.5754743 , -4.5641    , -4.4206038 , -4.664898  ,\n",
       "        -2.6476936 , -2.9830422 , -4.577917  , -4.153516  , -3.2181482 ,\n",
       "        -3.5994    , -3.6686287 , -5.384945  , -3.1643505 , -4.7982583 ,\n",
       "        -4.218384  , -3.6793745 , -4.0791516 , -4.820855  , -3.8682504 ,\n",
       "        -5.0797567 , -4.566466  , -2.740843  , -4.0695524 , -4.185977  ,\n",
       "        -3.6905854 , -4.308525  , -6.0966835 , -4.6603303 , -4.200048  ,\n",
       "        -0.71188784, -0.7995801 , -0.98672223, -1.0809045 , -1.3379645 ,\n",
       "        -0.44073486, -0.93850636, -1.5279036 , -2.1723013 , -1.5447483 ,\n",
       "        -1.9769526 , -2.4190345 , -0.77872896, -0.4997325 , -0.9277806 ,\n",
       "        -1.9164062 , -1.7729101 , -2.0172043 ,  0.        , -0.3353486 ,\n",
       "        -1.9302235 , -1.5058222 , -0.5704546 , -0.9517064 , -1.020935  ,\n",
       "        -2.7372513 , -0.5166569 , -2.1505647 , -1.5706902 , -1.0316808 ,\n",
       "        -1.431458  , -2.1731615 , -1.2205567 , -2.432063  , -1.9187722 ,\n",
       "        -0.09314942, -1.4218588 , -1.5382833 , -1.0428917 , -1.6608315 ,\n",
       "        -3.4489899 ],\n",
       "       [-6.6569796 , -6.9735904 , -4.0119925 , -3.984227  , -4.0905476 ,\n",
       "        -4.2417545 , -4.71201   , -3.6148307 , -3.6993327 , -4.3515635 ,\n",
       "        -3.8535833 , -3.229361  , -3.666857  , -4.2906294 , -3.8067567 ,\n",
       "        -3.7038803 , -3.8683248 , -4.186568  , -3.7610657 , -4.548098  ,\n",
       "        -3.11743   , -3.3862958 , -3.260841  , -3.9152768 , -3.415632  ,\n",
       "        -4.042376  , -3.627791  , -5.6984334 , -3.97619   , -4.9090524 ,\n",
       "        -4.4650235 , -3.718775  , -2.6961122 , -3.630561  , -2.9387994 ,\n",
       "        -4.267881  , -5.337071  , -3.8959644 , -3.7074962 , -4.1443176 ,\n",
       "        -3.6593618 , -2.5682585 , -4.781491  , -4.0887213 , -4.4053316 ,\n",
       "        -1.4437339 , -1.4159684 , -1.522289  , -1.673496  , -2.1437514 ,\n",
       "        -1.0465722 , -1.1310742 , -1.7833049 , -1.2853248 , -0.66110253,\n",
       "        -1.0985985 , -1.7223709 , -1.2384982 , -1.1356218 , -1.3000662 ,\n",
       "        -1.6183093 , -1.1928072 , -1.9798396 , -0.54917145, -0.8180373 ,\n",
       "        -0.69258237, -1.3470182 , -0.8473735 , -1.4741175 , -1.0595324 ,\n",
       "        -3.1301749 , -1.4079316 , -2.3407938 , -1.896765  , -1.1505165 ,\n",
       "        -0.12785363, -1.0623026 , -0.37054086, -1.6996224 , -2.7688124 ,\n",
       "        -1.3277059 , -1.1392376 , -1.5760591 , -1.0911033 ,  0.        ,\n",
       "        -2.2132323 ],\n",
       "       [-6.6520424 , -7.021923  , -4.0603414 , -3.7335553 , -4.205951  ,\n",
       "        -4.359034  , -4.6505175 , -3.0015173 , -3.1304512 , -4.690643  ,\n",
       "        -4.4695773 , -3.7974186 , -4.7020664 , -4.72639   , -3.4939423 ,\n",
       "        -3.5078127 , -3.5233939 , -4.2758703 , -4.517161  , -5.198519  ,\n",
       "        -1.979316  , -2.0582626 , -4.3794556 , -3.9685256 , -3.6309032 ,\n",
       "        -4.1921544 , -3.8258328 , -5.6646285 , -3.9985406 , -5.3874435 ,\n",
       "        -4.5942593 , -4.129542  , -3.834376  , -4.785366  , -3.6504674 ,\n",
       "        -4.856109  , -5.000318  , -3.295961  , -4.4258823 , -4.640902  ,\n",
       "        -3.8607607 , -4.153964  , -6.252569  , -4.5937796 , -4.9636602 ,\n",
       "        -2.0020788 , -1.6752927 , -2.1476886 , -2.3007715 , -2.5922549 ,\n",
       "        -0.9432547 , -1.0721886 , -2.6323802 , -2.4113147 , -1.739156  ,\n",
       "        -2.6438038 , -2.6681273 , -1.4356797 , -1.4495502 , -1.4651313 ,\n",
       "        -2.2176077 , -2.4588983 , -3.1402566 ,  0.07894659,  0.        ,\n",
       "        -2.321193  , -1.9102631 , -1.5726407 , -2.1338918 , -1.7675703 ,\n",
       "        -3.606366  , -1.940278  , -3.329181  , -2.5359967 , -2.0712793 ,\n",
       "        -1.7761135 , -2.7271035 , -1.5922048 , -2.7978466 , -2.9420555 ,\n",
       "        -1.2376983 , -2.3676198 , -2.5826395 , -1.8024981 , -2.0957015 ,\n",
       "        -4.1943064 ],\n",
       "       [-6.648282  , -6.557684  , -3.9867423 , -4.1105576 , -4.1821413 ,\n",
       "        -4.3509445 , -4.4474483 , -3.8546786 , -4.1321554 , -4.129303  ,\n",
       "        -3.4665914 , -2.4549792 , -3.784273  , -3.7102723 , -4.0678363 ,\n",
       "        -3.9736416 , -4.4454994 , -3.8409534 , -3.9848964 , -4.7990527 ,\n",
       "        -3.6319585 , -4.0375843 , -3.4621248 , -3.4520454 , -3.8417146 ,\n",
       "        -4.486041  , -3.7951732 , -6.3757186 , -3.7284794 , -5.63491   ,\n",
       "        -4.1351967 , -4.138371  , -3.2170215 , -4.082121  , -1.9466188 ,\n",
       "        -3.3970418 , -5.5163093 , -4.167865  , -4.419497  , -4.7177534 ,\n",
       "        -4.237089  , -3.4640365 , -5.3166137 , -4.701663  , -4.611065  ,\n",
       "        -2.0401235 , -2.1639388 , -2.2355225 , -2.4043257 , -2.5008295 ,\n",
       "        -1.9080598 , -2.1855366 , -2.1826842 , -1.5199726 , -0.5083604 ,\n",
       "        -1.8376541 , -1.7636535 , -2.1212175 , -2.0270228 , -2.4988806 ,\n",
       "        -1.8943346 , -2.0382776 , -2.852434  , -1.6853397 , -2.0909655 ,\n",
       "        -1.515506  , -1.5054266 , -1.8950958 , -2.5394223 , -1.8485544 ,\n",
       "        -4.4291    , -1.7818606 , -3.6882913 , -2.188578  , -2.1917522 ,\n",
       "        -1.2704027 , -2.135502  ,  0.        , -1.450423  , -3.5696905 ,\n",
       "        -2.221246  , -2.4728782 , -2.7711346 , -2.2904704 , -1.5174177 ,\n",
       "        -3.3699949 ],\n",
       "       [-7.3159122 , -6.9670086 , -2.849741  , -3.3956108 , -3.2489777 ,\n",
       "        -3.1030912 , -3.7928648 , -2.932644  , -3.5954316 , -4.45792   ,\n",
       "        -4.9979    , -4.0418963 , -4.8140907 , -5.0627685 , -3.5204828 ,\n",
       "        -2.929099  , -3.8844872 , -4.434716  , -4.5939674 , -4.5771217 ,\n",
       "        -3.0613527 , -3.5000806 , -4.982465  , -4.282984  , -2.9965475 ,\n",
       "        -3.65831   , -3.6324089 , -5.598421  , -2.5590982 , -4.3709965 ,\n",
       "        -4.464313  , -3.6526613 , -4.1280117 , -4.845804  , -3.863614  ,\n",
       "        -4.9423513 , -4.175213  , -2.9356503 , -4.443053  , -3.6946049 ,\n",
       "        -4.506859  , -4.510515  , -6.5860453 , -4.756814  , -4.4079103 ,\n",
       "        -0.29064274, -0.83651257, -0.6898794 , -0.543993  , -1.2337666 ,\n",
       "        -0.37354565, -1.0363333 , -1.8988218 , -2.4388018 , -1.4827981 ,\n",
       "        -2.2549925 , -2.5036702 , -0.96138453, -0.37000084, -1.3253889 ,\n",
       "        -1.875618  , -2.0348692 , -2.0180235 , -0.5022545 , -0.94098234,\n",
       "        -2.4233665 , -1.7238855 , -0.43744922, -1.0992117 , -1.0733106 ,\n",
       "        -3.0393229 ,  0.        , -1.8118982 , -1.9052148 , -1.0935631 ,\n",
       "        -1.5689135 , -2.286706  , -1.3045158 , -2.383253  , -1.6161146 ,\n",
       "        -0.3765521 , -1.8839545 , -1.1355066 , -1.9477606 , -1.951417  ,\n",
       "        -4.026947  ],\n",
       "       [-6.5228977 , -6.8156986 , -3.6500363 , -3.4881606 , -3.7062201 ,\n",
       "        -3.963223  , -4.212013  , -3.157336  , -3.6906562 , -4.304576  ,\n",
       "        -4.7350197 , -3.386481  , -4.5150046 , -4.87582   , -3.4883423 ,\n",
       "        -3.1541471 , -3.6258223 , -4.6480875 , -4.433695  , -4.3548255 ,\n",
       "        -3.0559707 , -3.3095918 , -4.6028914 , -4.0437775 , -3.0532956 ,\n",
       "        -3.1115832 , -2.0834138 , -4.7910733 , -3.3609982 , -4.6257334 ,\n",
       "        -4.147849  , -3.6165452 , -3.9408464 , -4.739481  , -3.2391262 ,\n",
       "        -4.618272  , -4.91197   , -3.6514323 , -4.475904  , -4.5724034 ,\n",
       "        -4.5582075 , -4.3108015 , -6.6487985 , -4.4394836 , -4.7322845 ,\n",
       "        -1.5666225 , -1.4047468 , -1.6228063 , -1.8798091 , -2.128599  ,\n",
       "        -1.0739222 , -1.6072423 , -2.221162  , -2.6516058 , -1.3030672 ,\n",
       "        -2.4315908 , -2.7924063 , -1.4049284 , -1.0707333 , -1.5424085 ,\n",
       "        -2.5646737 , -2.350281  , -2.2714117 , -0.9725568 , -1.2261779 ,\n",
       "        -2.5194776 , -1.9603636 , -0.9698818 , -1.0281694 ,  0.        ,\n",
       "        -2.7076595 , -1.2775843 , -2.5423195 , -2.0644352 , -1.5331314 ,\n",
       "        -1.8574326 , -2.6560671 , -1.1557124 , -2.534858  , -2.8285563 ,\n",
       "        -1.5680184 , -2.3924901 , -2.4889896 , -2.4747937 , -2.2273877 ,\n",
       "        -4.565385  ]], dtype=float32)"
      ]
     },
     "execution_count": 18,
     "metadata": {},
     "output_type": "execute_result"
    }
   ],
   "source": [
    "temp = IndexedDataset(indexed_path)\n",
    "temp[0]"
   ]
  },
  {
   "cell_type": "markdown",
   "metadata": {},
   "source": [
    "### Extract Relative Position"
   ]
  },
  {
   "cell_type": "code",
   "execution_count": 19,
   "metadata": {},
   "outputs": [],
   "source": [
    "path = \"/data/codes/apa/train/exp/dicts/relative2id.json\"\n",
    "relative2id = json.load(open(path, \"r\", encoding=\"utf-8\"))"
   ]
  },
  {
   "cell_type": "code",
   "execution_count": 20,
   "metadata": {},
   "outputs": [],
   "source": [
    "def convert_relative_position_to_id(relative_positions):\n",
    "    ids = []\n",
    "    for rel_pos in relative_positions:\n",
    "        _id = relative2id[rel_pos]\n",
    "        ids.append(_id)\n",
    "\n",
    "    return ids\n",
    "metadata[\"relative_positions\"] = metadata[\"relative_positions\"].apply(convert_relative_position_to_id)"
   ]
  },
  {
   "cell_type": "code",
   "execution_count": 21,
   "metadata": {},
   "outputs": [],
   "source": [
    "indexed_path = f'{out_dir}/relative_positions'\n",
    "\n",
    "builder = IndexedDatasetBuilder(indexed_path)\n",
    "\n",
    "for index in metadata.index:\n",
    "    relative_position = metadata[\"relative_positions\"][index].copy()\n",
    "\n",
    "    relative_position = np.array(relative_position)\n",
    "\n",
    "    builder.add_item(item=relative_position)\n",
    "builder.finalize()"
   ]
  },
  {
   "cell_type": "code",
   "execution_count": 22,
   "metadata": {},
   "outputs": [
    {
     "data": {
      "text/plain": [
       "array([4, 1, 2, 2, 3, 1, 2, 3])"
      ]
     },
     "execution_count": 22,
     "metadata": {},
     "output_type": "execute_result"
    }
   ],
   "source": [
    "indexed_path = f'{out_dir}/relative_positions'\n",
    "temp = IndexedDataset(indexed_path)\n",
    "temp[0]"
   ]
  },
  {
   "cell_type": "markdown",
   "metadata": {},
   "source": [
    "### Extract sentence scores"
   ]
  },
  {
   "cell_type": "code",
   "execution_count": 23,
   "metadata": {},
   "outputs": [],
   "source": [
    "indexed_path = f'{out_dir}/sentence_scores'\n",
    "\n",
    "builder = IndexedDatasetBuilder(indexed_path)\n",
    "for index in metadata.index:\n",
    "    sentence_score = metadata[\"utterance_score\"][index].copy()\n",
    "\n",
    "    builder.add_item(item=sentence_score)\n",
    "\n",
    "builder.finalize()"
   ]
  },
  {
   "cell_type": "code",
   "execution_count": 24,
   "metadata": {},
   "outputs": [
    {
     "data": {
      "text/plain": [
       "91.56"
      ]
     },
     "execution_count": 24,
     "metadata": {},
     "output_type": "execute_result"
    }
   ],
   "source": [
    "indexed_path = f'{out_dir}/sentence_scores'\n",
    "temp = IndexedDataset(indexed_path)\n",
    "temp[0]"
   ]
  },
  {
   "cell_type": "markdown",
   "metadata": {},
   "source": [
    "### Extract fluency scores"
   ]
  },
  {
   "cell_type": "code",
   "execution_count": 25,
   "metadata": {},
   "outputs": [],
   "source": [
    "indexed_path = f'{out_dir}/fluency_score'\n",
    "\n",
    "builder = IndexedDatasetBuilder(indexed_path)\n",
    "for index in metadata.index:\n",
    "    sentence_score = metadata[\"utterance_score\"][index].copy()\n",
    "\n",
    "    builder.add_item(item=sentence_score)\n",
    "\n",
    "builder.finalize()"
   ]
  },
  {
   "cell_type": "code",
   "execution_count": 26,
   "metadata": {},
   "outputs": [
    {
     "data": {
      "text/plain": [
       "91.56"
      ]
     },
     "execution_count": 26,
     "metadata": {},
     "output_type": "execute_result"
    }
   ],
   "source": [
    "indexed_path = f'{out_dir}/fluency_score'\n",
    "temp = IndexedDataset(indexed_path)\n",
    "temp[0]"
   ]
  },
  {
   "cell_type": "markdown",
   "metadata": {},
   "source": [
    "#### Extract intonation score "
   ]
  },
  {
   "cell_type": "code",
   "execution_count": 27,
   "metadata": {},
   "outputs": [],
   "source": [
    "indexed_path = f'{out_dir}/intonation_score'\n",
    "\n",
    "builder = IndexedDatasetBuilder(indexed_path)\n",
    "for index in metadata.index:\n",
    "    sentence_score = metadata[\"utterance_score\"][index].copy()\n",
    "\n",
    "    builder.add_item(item=sentence_score)\n",
    "\n",
    "builder.finalize()"
   ]
  },
  {
   "cell_type": "code",
   "execution_count": 28,
   "metadata": {},
   "outputs": [
    {
     "data": {
      "text/plain": [
       "91.56"
      ]
     },
     "execution_count": 28,
     "metadata": {},
     "output_type": "execute_result"
    }
   ],
   "source": [
    "indexed_path = f'{out_dir}/intonation_score'\n",
    "temp = IndexedDataset(indexed_path)\n",
    "temp[0]"
   ]
  },
  {
   "cell_type": "markdown",
   "metadata": {},
   "source": [
    "### Extract word scores"
   ]
  },
  {
   "cell_type": "code",
   "execution_count": 29,
   "metadata": {},
   "outputs": [],
   "source": [
    "indexed_path = f'{out_dir}/word_scores'\n",
    "\n",
    "builder = IndexedDatasetBuilder(indexed_path)\n",
    "for index in metadata.index:\n",
    "    word_score = metadata[\"word_scores\"][index].copy()\n",
    "    word_id = metadata[\"word_ids\"][index].copy()\n",
    "\n",
    "    word_score_in_phone_levels = []\n",
    "    for wid in word_id:\n",
    "        word_score_in_phone_levels.append(word_score[wid])\n",
    "\n",
    "    word_score_in_phone_levels = np.array(word_score_in_phone_levels)\n",
    "    builder.add_item(item=word_score_in_phone_levels)\n",
    "\n",
    "builder.finalize()"
   ]
  },
  {
   "cell_type": "code",
   "execution_count": 30,
   "metadata": {},
   "outputs": [
    {
     "data": {
      "text/plain": [
       "array([100,  89,  89,  89,  89,  92,  92,  92])"
      ]
     },
     "execution_count": 30,
     "metadata": {},
     "output_type": "execute_result"
    }
   ],
   "source": [
    "indexed_path = f'{out_dir}/word_scores'\n",
    "temp = IndexedDataset(indexed_path)\n",
    "temp[0]"
   ]
  },
  {
   "cell_type": "markdown",
   "metadata": {},
   "source": [
    "### Extract word ids"
   ]
  },
  {
   "cell_type": "code",
   "execution_count": 31,
   "metadata": {},
   "outputs": [],
   "source": [
    "indexed_path = f'{out_dir}/word_ids'\n",
    "\n",
    "builder = IndexedDatasetBuilder(indexed_path)\n",
    "for index in metadata.index:\n",
    "    word_id = metadata[\"word_ids\"][index].copy()\n",
    "\n",
    "    word_id = np.array(word_id)\n",
    "    builder.add_item(item=word_id)\n",
    "\n",
    "builder.finalize()"
   ]
  },
  {
   "cell_type": "code",
   "execution_count": 32,
   "metadata": {},
   "outputs": [
    {
     "data": {
      "text/plain": [
       "array([0, 1, 1, 1, 1, 2, 2, 2])"
      ]
     },
     "execution_count": 32,
     "metadata": {},
     "output_type": "execute_result"
    }
   ],
   "source": [
    "indexed_path = f'{out_dir}/word_ids'\n",
    "temp = IndexedDataset(indexed_path)\n",
    "temp[0]"
   ]
  },
  {
   "cell_type": "markdown",
   "metadata": {},
   "source": [
    "### Extract duration feature"
   ]
  },
  {
   "cell_type": "code",
   "execution_count": 33,
   "metadata": {},
   "outputs": [],
   "source": [
    "indexed_path = f'{out_dir}/duration'\n",
    "\n",
    "builder = IndexedDatasetBuilder(indexed_path)\n",
    "for index in metadata.index:\n",
    "    duration = metadata[\"duration\"][index].copy()\n",
    "\n",
    "    duration = np.array(duration)\n",
    "    builder.add_item(item=duration)\n",
    "\n",
    "builder.finalize()"
   ]
  },
  {
   "cell_type": "code",
   "execution_count": 34,
   "metadata": {},
   "outputs": [
    {
     "data": {
      "text/plain": [
       "array([0.14, 0.24, 0.3 , 0.18, 0.18, 0.22, 0.28, 0.3 ])"
      ]
     },
     "execution_count": 34,
     "metadata": {},
     "output_type": "execute_result"
    }
   ],
   "source": [
    "indexed_path = f'{out_dir}/duration'\n",
    "temp = IndexedDataset(indexed_path)\n",
    "temp[0]"
   ]
  },
  {
   "cell_type": "markdown",
   "metadata": {},
   "source": [
    "### Extract phone scores"
   ]
  },
  {
   "cell_type": "code",
   "execution_count": 35,
   "metadata": {},
   "outputs": [],
   "source": [
    "indexed_path = f'{out_dir}/phone_scores'\n",
    "\n",
    "builder = IndexedDatasetBuilder(indexed_path)\n",
    "for index in metadata.index:\n",
    "    phone_score = metadata[\"phone_scores\"][index].copy()\n",
    "\n",
    "    phone_score = np.array(phone_score)\n",
    "    builder.add_item(item=phone_score)\n",
    "\n",
    "builder.finalize()"
   ]
  },
  {
   "cell_type": "code",
   "execution_count": 36,
   "metadata": {},
   "outputs": [
    {
     "data": {
      "text/plain": [
       "array([100,  82,  84,  99,  89,  96,  84,  95])"
      ]
     },
     "execution_count": 36,
     "metadata": {},
     "output_type": "execute_result"
    }
   ],
   "source": [
    "indexed_path = f'{out_dir}/phone_scores'\n",
    "temp = IndexedDataset(indexed_path)\n",
    "temp[0]"
   ]
  },
  {
   "cell_type": "markdown",
   "metadata": {},
   "source": [
    "### Extract phone ids"
   ]
  },
  {
   "cell_type": "code",
   "execution_count": 37,
   "metadata": {},
   "outputs": [],
   "source": [
    "phone_dict_path =  \"/data/codes/apa/train/exp/dicts/phone_dict.json\"\n",
    "with open(phone_dict_path, \"r\", encoding=\"utf-8\") as f:\n",
    "    phone_dict = json.load(f)"
   ]
  },
  {
   "cell_type": "code",
   "execution_count": 38,
   "metadata": {},
   "outputs": [],
   "source": [
    "indexed_path = f'{out_dir}/phone_ids'\n",
    "\n",
    "builder = IndexedDatasetBuilder(indexed_path)\n",
    "for index in metadata.index:\n",
    "    phoneme = metadata[\"elsa_phone\"][index].copy()\n",
    "\n",
    "    phoneme = [re.sub(\"\\d\", \"\", phn) for phn in phoneme]\n",
    "    phoneme = [phone_dict[phn] for phn in phoneme]\n",
    "\n",
    "    phoneme = np.array(phoneme)\n",
    "    builder.add_item(item=phoneme)\n",
    "\n",
    "builder.finalize()"
   ]
  },
  {
   "cell_type": "code",
   "execution_count": 39,
   "metadata": {},
   "outputs": [
    {
     "data": {
      "text/plain": [
       "array([ 3,  8, 18, 38, 19, 31, 26, 24])"
      ]
     },
     "execution_count": 39,
     "metadata": {},
     "output_type": "execute_result"
    }
   ],
   "source": [
    "indexed_path = f'{out_dir}/phone_ids'\n",
    "temp = IndexedDataset(indexed_path)\n",
    "temp[0]"
   ]
  },
  {
   "cell_type": "markdown",
   "metadata": {},
   "source": [
    "### Extract WavLM Feature"
   ]
  },
  {
   "cell_type": "code",
   "execution_count": 40,
   "metadata": {},
   "outputs": [],
   "source": [
    "import torch\n",
    "from src.models.wavlm_model import WavLM, WavLMConfig\n",
    "from tqdm import tqdm\n",
    "import librosa\n",
    "import pandas as pd\n",
    "import json"
   ]
  },
  {
   "cell_type": "code",
   "execution_count": 41,
   "metadata": {},
   "outputs": [
    {
     "data": {
      "text/plain": [
       "<All keys matched successfully>"
      ]
     },
     "execution_count": 41,
     "metadata": {},
     "output_type": "execute_result"
    }
   ],
   "source": [
    "pretrained_path = \"/data/codes/apa/train/exp/torch/wavlm-base+.pt\"\n",
    "checkpoint = torch.load(pretrained_path)\n",
    "\n",
    "config = WavLMConfig(checkpoint['cfg'])\n",
    "model = WavLM(config).eval().cuda()\n",
    "model.load_state_dict(checkpoint['model'])"
   ]
  },
  {
   "cell_type": "code",
   "execution_count": 42,
   "metadata": {},
   "outputs": [],
   "source": [
    "def extract_feature(alignment, features):\n",
    "    index = 0\n",
    "    phonemes = []\n",
    "    indices = -1 * torch.ones(alignment[-1][1] + alignment[-1][2])\n",
    "    for phoneme, start_frame, duration in alignment:\n",
    "        if phoneme == \"SIL\":\n",
    "            continue\n",
    "        end_frame = start_frame + duration\n",
    "        indices[start_frame:end_frame] = index\n",
    "        phonemes.append(phoneme)\n",
    "        index += 1\n",
    "\n",
    "    if -1 in indices:\n",
    "        indices[indices==-1] = indices.max() + 1\n",
    "\n",
    "        indices = torch.nn.functional.one_hot(indices.long(), num_classes=int(indices.max().item())+1).cuda()\n",
    "        indices = indices / indices.sum(0, keepdim=True)\n",
    "    \n",
    "        if features.shape[0] != indices.shape[0]:\n",
    "            features = features[0:indices.shape[0]]\n",
    "        features = torch.matmul(indices.transpose(0, 1), features)\n",
    "\n",
    "        return features[:-1].cpu(), phonemes\n",
    "    \n",
    "    else:\n",
    "        indices[indices==-1] = indices.max() + 1\n",
    "\n",
    "        indices = torch.nn.functional.one_hot(indices.long(), num_classes=int(indices.max().item())+1).cuda()\n",
    "        indices = indices / indices.sum(0, keepdim=True)\n",
    "    \n",
    "        if features.shape[0] != indices.shape[0]:\n",
    "            features = features[0:indices.shape[0]]\n",
    "        features = torch.matmul(indices.transpose(0, 1), features)\n",
    "\n",
    "        return features.cpu(), phonemes"
   ]
  },
  {
   "cell_type": "code",
   "execution_count": 43,
   "metadata": {},
   "outputs": [
    {
     "name": "stderr",
     "output_type": "stream",
     "text": [
      "100%|██████████| 35200/35200 [04:10<00:00, 140.36it/s]\n"
     ]
    }
   ],
   "source": [
    "indexed_path = f'{out_dir}/wavlm_features'\n",
    "builder = IndexedDatasetBuilder(indexed_path)\n",
    "\n",
    "wavlm_features = []\n",
    "for index in tqdm(metadata.index):\n",
    "    audio_path = metadata[\"audio_path\"][index]\n",
    "    alignment = metadata[\"alignment\"][index]\n",
    "\n",
    "    wav, sr = librosa.load(audio_path, sr=16000)\n",
    "\n",
    "    input_values = torch.from_numpy(wav).unsqueeze(0).cuda()\n",
    "    with torch.no_grad():\n",
    "        features = model.extract_features(input_values)[0]\n",
    "        if index % 1000:\n",
    "            torch.cuda.empty_cache()\n",
    "\n",
    "    index = torch.arange(features.shape[1]).unsqueeze(-1)\n",
    "    expanded_index = index.expand((-1, 2)).flatten()\n",
    "    features = features[0][expanded_index]\n",
    "\n",
    "    features, phonemes = extract_feature(alignment, features)\n",
    "    if len(features) != len(phonemes):\n",
    "        print(metadata[\"id\"][index])\n",
    "\n",
    "    builder.add_item(item=features.numpy())\n",
    "\n",
    "builder.finalize()"
   ]
  },
  {
   "cell_type": "code",
   "execution_count": 44,
   "metadata": {},
   "outputs": [
    {
     "data": {
      "text/plain": [
       "array([[ 0.08130476,  0.07263201, -0.07608949, ..., -0.00783878,\n",
       "        -0.03720406,  1.4098275 ],\n",
       "       [-0.13576174,  0.04174832, -0.02789874, ..., -0.09399985,\n",
       "        -0.05584437, -0.02282273],\n",
       "       [-0.07156481,  0.00598408,  0.06466427, ...,  0.04812061,\n",
       "        -0.01696148, -0.06876357],\n",
       "       ...,\n",
       "       [-0.02474039,  0.06198201,  0.04122187, ..., -0.08150275,\n",
       "         0.08054809,  0.33946952],\n",
       "       [ 0.04388144, -0.07911746,  0.03561262, ...,  0.03619873,\n",
       "         0.03484895,  1.4967892 ],\n",
       "       [ 0.01328066, -0.04392435, -0.14953792, ...,  0.05542174,\n",
       "        -0.05408154,  0.83228636]], dtype=float32)"
      ]
     },
     "execution_count": 44,
     "metadata": {},
     "output_type": "execute_result"
    }
   ],
   "source": [
    "indexed_path = f'{out_dir}/wavlm_features'\n",
    "temp = IndexedDataset(indexed_path)\n",
    "temp[0]"
   ]
  }
 ],
 "metadata": {
  "kernelspec": {
   "display_name": "ps",
   "language": "python",
   "name": "python3"
  },
  "language_info": {
   "codemirror_mode": {
    "name": "ipython",
    "version": 3
   },
   "file_extension": ".py",
   "mimetype": "text/x-python",
   "name": "python",
   "nbconvert_exporter": "python",
   "pygments_lexer": "ipython3",
   "version": "3.8.17"
  }
 },
 "nbformat": 4,
 "nbformat_minor": 2
}
