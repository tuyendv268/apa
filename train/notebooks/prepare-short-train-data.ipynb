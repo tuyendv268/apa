{
 "cells": [
  {
   "cell_type": "code",
   "execution_count": 1,
   "metadata": {},
   "outputs": [
    {
     "name": "stdout",
     "output_type": "stream",
     "text": [
      "INFO: Pandarallel will run on 8 workers.\n",
      "INFO: Pandarallel will use Memory file system to transfer data between the main process and workers.\n"
     ]
    }
   ],
   "source": [
    "from tqdm import tqdm\n",
    "import pandas as pd\n",
    "import torchaudio\n",
    "import librosa\n",
    "import shutil\n",
    "import json\n",
    "import os\n",
    "\n",
    "from pandarallel import pandarallel\n",
    "pandarallel.initialize(nb_workers=8, progress_bar=True)"
   ]
  },
  {
   "cell_type": "code",
   "execution_count": 2,
   "metadata": {},
   "outputs": [
    {
     "name": "stdout",
     "output_type": "stream",
     "text": [
      "(133407, 13)\n"
     ]
    },
    {
     "data": {
      "text/html": [
       "<div>\n",
       "<style scoped>\n",
       "    .dataframe tbody tr th:only-of-type {\n",
       "        vertical-align: middle;\n",
       "    }\n",
       "\n",
       "    .dataframe tbody tr th {\n",
       "        vertical-align: top;\n",
       "    }\n",
       "\n",
       "    .dataframe thead th {\n",
       "        text-align: right;\n",
       "    }\n",
       "</style>\n",
       "<table border=\"1\" class=\"dataframe\">\n",
       "  <thead>\n",
       "    <tr style=\"text-align: right;\">\n",
       "      <th></th>\n",
       "      <th>id</th>\n",
       "      <th>raw</th>\n",
       "      <th>text</th>\n",
       "      <th>utt_id</th>\n",
       "      <th>start_time</th>\n",
       "      <th>end_time</th>\n",
       "      <th>arpas</th>\n",
       "      <th>trans</th>\n",
       "      <th>phone_scores</th>\n",
       "      <th>word_scores</th>\n",
       "      <th>decisions</th>\n",
       "      <th>word_ids</th>\n",
       "      <th>utterance_scores</th>\n",
       "    </tr>\n",
       "  </thead>\n",
       "  <tbody>\n",
       "    <tr>\n",
       "      <th>0</th>\n",
       "      <td>5107058</td>\n",
       "      <td>Depressed</td>\n",
       "      <td>DEPRESSED</td>\n",
       "      <td>None</td>\n",
       "      <td>None</td>\n",
       "      <td>None</td>\n",
       "      <td>[D, IH0, P, R, EH1, S, T]</td>\n",
       "      <td>[D, IH, P, R, EH, S, T]</td>\n",
       "      <td>[94, 0, 0, 100, 99, 94, 68]</td>\n",
       "      <td>[59]</td>\n",
       "      <td>[2, 0, 0, 2, 2, 2, 1]</td>\n",
       "      <td>[0, 0, 0, 0, 0, 0, 0]</td>\n",
       "      <td>59.0</td>\n",
       "    </tr>\n",
       "    <tr>\n",
       "      <th>1</th>\n",
       "      <td>1590011</td>\n",
       "      <td>Depressed</td>\n",
       "      <td>DEPRESSED</td>\n",
       "      <td>None</td>\n",
       "      <td>None</td>\n",
       "      <td>None</td>\n",
       "      <td>[D, IH0, P, R, EH1, S, T]</td>\n",
       "      <td>[D, IH, P, R, EH, S, T]</td>\n",
       "      <td>[98, 23, 92, 100, 99, 95, 93]</td>\n",
       "      <td>[87]</td>\n",
       "      <td>[2, 0, 2, 2, 2, 2, 2]</td>\n",
       "      <td>[0, 0, 0, 0, 0, 0, 0]</td>\n",
       "      <td>87.0</td>\n",
       "    </tr>\n",
       "  </tbody>\n",
       "</table>\n",
       "</div>"
      ],
      "text/plain": [
       "        id        raw       text utt_id start_time end_time  \\\n",
       "0  5107058  Depressed  DEPRESSED   None       None     None   \n",
       "1  1590011  Depressed  DEPRESSED   None       None     None   \n",
       "\n",
       "                       arpas                    trans  \\\n",
       "0  [D, IH0, P, R, EH1, S, T]  [D, IH, P, R, EH, S, T]   \n",
       "1  [D, IH0, P, R, EH1, S, T]  [D, IH, P, R, EH, S, T]   \n",
       "\n",
       "                    phone_scores word_scores              decisions  \\\n",
       "0    [94, 0, 0, 100, 99, 94, 68]        [59]  [2, 0, 0, 2, 2, 2, 1]   \n",
       "1  [98, 23, 92, 100, 99, 95, 93]        [87]  [2, 0, 2, 2, 2, 2, 2]   \n",
       "\n",
       "                word_ids  utterance_scores  \n",
       "0  [0, 0, 0, 0, 0, 0, 0]              59.0  \n",
       "1  [0, 0, 0, 0, 0, 0, 0]              87.0  "
      ]
     },
     "execution_count": 2,
     "metadata": {},
     "output_type": "execute_result"
    }
   ],
   "source": [
    "audio_dir = \"/data/audio_data/prep_submission_audio/12/\"\n",
    "metadata_path = \"../prep_data/raw_jsonl/train-data-type-12-v2.jsonl\"\n",
    "\n",
    "# audio_dir = \"/data/audio_data/prep_submission_audio/12/\"\n",
    "# metadata_path = \"../prep_data/raw_jsonl/train_data_type_12.jsonl\"\n",
    "\n",
    "with open(metadata_path, \"r\", encoding=\"utf-8\") as f:\n",
    "    content = f.readlines()\n",
    "    lines = [json.loads(line.strip()) for line in content]\n",
    "    data = pd.DataFrame(lines)\n",
    "print(data.shape)\n",
    "data.head(2)"
   ]
  },
  {
   "cell_type": "code",
   "execution_count": 3,
   "metadata": {},
   "outputs": [],
   "source": [
    "data[\"audio_path\"] = data.id.apply(lambda x: os.path.join(audio_dir, f'{x}.wav'))"
   ]
  },
  {
   "cell_type": "code",
   "execution_count": 4,
   "metadata": {},
   "outputs": [
    {
     "data": {
      "application/vnd.jupyter.widget-view+json": {
       "model_id": "58e696e39fcd47b8a60cf6b863ec43c4",
       "version_major": 2,
       "version_minor": 0
      },
      "text/plain": [
       "VBox(children=(HBox(children=(IntProgress(value=0, description='0.00%', max=16676), Label(value='0 / 16676')))…"
      ]
     },
     "metadata": {},
     "output_type": "display_data"
    },
    {
     "name": "stdout",
     "output_type": "stream",
     "text": [
      "(0,)\n",
      "(133407,)\n"
     ]
    }
   ],
   "source": [
    "import torchaudio\n",
    "\n",
    "def check_audio(path, min_duration=1.0):    \n",
    "    try:\n",
    "        wav, sr = librosa.load(path, sr=16000)   \n",
    "\n",
    "        if wav.shape[0] / sr < min_duration:\n",
    "            return False \n",
    "    except:\n",
    "        return False\n",
    "    \n",
    "    return True\n",
    "    \n",
    "is_success = data.parallel_apply(lambda x: check_audio(x[\"audio_path\"]), axis=1)\n",
    "print(is_success[is_success==False].shape)\n",
    "print(is_success[is_success==True].shape)"
   ]
  },
  {
   "cell_type": "code",
   "execution_count": 5,
   "metadata": {},
   "outputs": [],
   "source": [
    "data = data[is_success==True]"
   ]
  },
  {
   "cell_type": "code",
   "execution_count": 6,
   "metadata": {},
   "outputs": [
    {
     "data": {
      "text/plain": [
       "<Axes: >"
      ]
     },
     "execution_count": 6,
     "metadata": {},
     "output_type": "execute_result"
    },
    {
     "data": {
      "image/png": "[encoded data removed]",
      "text/plain": [
       "<Figure size 640x480 with 1 Axes>"
      ]
     },
     "metadata": {},
     "output_type": "display_data"
    }
   ],
   "source": [
    "data.utterance_scores.hist(bins=100)"
   ]
  },
  {
   "cell_type": "code",
   "execution_count": 7,
   "metadata": {},
   "outputs": [],
   "source": [
    "data[[\"id\", \"text\"]].to_csv(\"../prep_data/csv/train-data-type-12-v2.csv\", sep=\"|\", index=None, header=None)"
   ]
  },
  {
   "cell_type": "code",
   "execution_count": 8,
   "metadata": {},
   "outputs": [
    {
     "name": "stderr",
     "output_type": "stream",
     "text": [
      "  9%|▊         | 11457/133407 [00:00<00:04, 28611.21it/s]"
     ]
    },
    {
     "name": "stderr",
     "output_type": "stream",
     "text": [
      "100%|██████████| 133407/133407 [00:04<00:00, 28900.23it/s]\n"
     ]
    }
   ],
   "source": [
    "extracted_data = data[is_success == True]\n",
    "path = \"../prep_data/jsonl/train-data-type-12-v2.jsonl\"\n",
    "with open(path, \"w\", encoding=\"utf-8\") as f:\n",
    "    for index in tqdm(extracted_data.index):\n",
    "        sample = extracted_data.loc[index].to_dict()\n",
    "        json_obj = json.dumps(sample)\n",
    "\n",
    "        f.write(f'{json_obj}\\n')"
   ]
  }
 ],
 "metadata": {
  "kernelspec": {
   "display_name": "ps",
   "language": "python",
   "name": "python3"
  },
  "language_info": {
   "codemirror_mode": {
    "name": "ipython",
    "version": 3
   },
   "file_extension": ".py",
   "mimetype": "text/x-python",
   "name": "python",
   "nbconvert_exporter": "python",
   "pygments_lexer": "ipython3",
   "version": "3.8.17"
  }
 },
 "nbformat": 4,
 "nbformat_minor": 2
}
