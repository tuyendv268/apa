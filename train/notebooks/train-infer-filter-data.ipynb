{
 "cells": [
  {
   "cell_type": "markdown",
   "metadata": {},
   "source": [
    "#### train"
   ]
  },
  {
   "cell_type": "code",
   "execution_count": 3,
   "metadata": {},
   "outputs": [
    {
     "name": "stdout",
     "output_type": "stream",
     "text": [
      "/data/codes/apa/train\n"
     ]
    }
   ],
   "source": [
    "!export CUDA_VISIBLE_DEVICES=0\n",
    "\n",
    "%cd /data/codes/apa/train/\n",
    "import matplotlib.pyplot as plt\n",
    "from tqdm import tqdm\n",
    "import pandas as pd\n",
    "import numpy as np\n",
    "import pickle\n",
    "import json\n",
    "import re\n",
    "import os\n",
    "\n",
    "from torch.utils.data import Dataset, DataLoader\n",
    "from torch.optim import Adam\n",
    "from torch import nn\n",
    "import torch\n",
    "\n",
    "from sklearn.metrics import (\n",
    "    classification_report, \n",
    "    confusion_matrix, \n",
    "    ConfusionMatrixDisplay\n",
    ")\n",
    "\n",
    "from src.dataset import PrepDataset\n",
    "from src.model import PrepModel\n",
    "from src.utils.train import (\n",
    "    load_data,\n",
    "    convert_score_to_color,\n",
    "    to_device,\n",
    "    valid_phn,\n",
    "    valid_utt,\n",
    "    valid_wrd,\n",
    "    to_cpu,\n",
    "    load_pred_and_label,\n",
    "    save_confusion_matrix_figure,\n",
    "    validate,\n",
    "    save\n",
    ")\n"
   ]
  },
  {
   "cell_type": "code",
   "execution_count": 4,
   "metadata": {},
   "outputs": [],
   "source": [
    "ckpt_dir = '/data/codes/apa/train/exp/ckpts/dev'\n",
    "in_dir = \"/data/codes/apa/train/data/feats/train/train-data-type-12\"\n",
    "out_dir = f'{in_dir}-filtered'\n",
    "\n",
    "if not os.path.exists(out_dir):\n",
    "    os.mkdir(out_dir)"
   ]
  },
  {
   "cell_type": "code",
   "execution_count": 5,
   "metadata": {},
   "outputs": [
    {
     "name": "stderr",
     "output_type": "stream",
     "text": [
      "100%|██████████| 81277/81277 [00:09<00:00, 8426.49it/s]\n"
     ]
    }
   ],
   "source": [
    "ids, phone_ids, word_ids, phone_scores, word_scores, sentence_scores, durations, \\\n",
    "    gops, relative_positions, wavlm_features_path = load_data(in_dir)\n",
    "\n",
    "dataset = PrepDataset(\n",
    "    ids=ids, \n",
    "    phone_ids=phone_ids, \n",
    "    word_ids=word_ids, \n",
    "    phone_scores=phone_scores, \n",
    "    word_scores=word_scores,\n",
    "    sentence_scores=sentence_scores, \n",
    "    durations=durations, \n",
    "    gops=gops, \n",
    "    relative_positions=relative_positions, \n",
    "    wavlm_features_path=wavlm_features_path)\n",
    "\n",
    "dataloader = DataLoader(\n",
    "    dataset, \n",
    "    batch_size=8, \n",
    "    num_workers=1,\n",
    "    shuffle=True, \n",
    "    drop_last=True, \n",
    "    pin_memory=True, \n",
    ")\n",
    "\n",
    "for i in tqdm(range(len(dataset))):\n",
    "    batch = dataset[i]\n",
    "    pass"
   ]
  },
  {
   "cell_type": "code",
   "execution_count": 4,
   "metadata": {},
   "outputs": [],
   "source": [
    "embed_dim=32\n",
    "num_heads=1\n",
    "depth=3\n",
    "input_dim=855\n",
    "num_phone=44\n",
    "max_length=128\n",
    "\n",
    "lr=1e-3\n",
    "weight_decay=5e-7\n",
    "betas=(0.95, 0.999)\n",
    "\n",
    "device = torch.device(\"cuda:0\" if torch.cuda.is_available() else \"cpu\")\n",
    "\n",
    "gopt_model = PrepModel(\n",
    "    embed_dim=embed_dim, num_heads=num_heads, \n",
    "    depth=depth, input_dim=input_dim, \n",
    "    max_length=max_length, num_phone=num_phone, dropout=0.1).to(device)\n",
    "\n",
    "trainables = [p for p in gopt_model.parameters() if p.requires_grad]\n",
    "\n",
    "optimizer = torch.optim.Adam(\n",
    "    trainables, lr, \n",
    "    weight_decay=weight_decay, \n",
    "    betas=betas\n",
    ")\n",
    "\n",
    "loss_fn = nn.MSELoss()"
   ]
  },
  {
   "cell_type": "code",
   "execution_count": 5,
   "metadata": {},
   "outputs": [],
   "source": [
    "def calculate_losses(phone_preds, phone_labels, word_preds, word_labels, utterance_preds, utterance_labels):\n",
    "    # phone level\n",
    "    mask = phone_labels >=0\n",
    "    phone_preds = phone_preds.squeeze(2) * mask\n",
    "    phone_labels = phone_labels * mask\n",
    "    \n",
    "    loss_phn = loss_fn(phone_preds, phone_labels)\n",
    "    loss_phn = loss_phn * (mask.shape[0] * mask.shape[1]) / torch.sum(mask)\n",
    "\n",
    "    # word level\n",
    "    mask = word_labels >= 0      \n",
    "    word_preds = word_preds.squeeze(2) * mask\n",
    "    word_labels = word_labels * mask\n",
    "    \n",
    "    loss_word = loss_fn(word_preds, word_labels)\n",
    "    loss_word = loss_word * (mask.shape[0] * mask.shape[1]) / torch.sum(mask)\n",
    "\n",
    "    # utterance level\n",
    "    loss_utt = loss_fn(utterance_preds.squeeze(1) ,utterance_labels)\n",
    "\n",
    "    return loss_phn, loss_utt, loss_word"
   ]
  },
  {
   "cell_type": "code",
   "execution_count": 6,
   "metadata": {},
   "outputs": [
    {
     "name": "stderr",
     "output_type": "stream",
     "text": [
      "Training: 100%|██████████| 10159/10159 [00:48<00:00, 207.76it/s, loss=0.299, loss_phn=0.201, loss_utt=0.0616, loss_word=0.0356, lr=0.001]  \n"
     ]
    },
    {
     "name": "stdout",
     "output_type": "stream",
     "text": [
      "### F1 Score: \n",
      "               precision    recall  f1-score   support\n",
      "\n",
      "         0.0       0.92      0.83      0.87    462840\n",
      "         1.0       0.18      0.54      0.27     51045\n",
      "         2.0       0.79      0.36      0.49    100203\n",
      "\n",
      "    accuracy                           0.72    614088\n",
      "   macro avg       0.63      0.57      0.54    614088\n",
      "weighted avg       0.84      0.72      0.76    614088\n",
      "\n",
      "Save state dict and result to /data/codes/apa/train/exp/ckpts/dev/ckpts-eph=0-mse=0.23569999635219574\n",
      "### Validation result (epoch=0)\n",
      "  Phone level:  MSE=0.236  MAE=0.297  PCC=0.700 \n",
      "   Word level:  MSE=0.097  MAE=0.238  PCC=0.708 \n",
      "    Utt level:  MSE=0.066  MAE=0.199  PCC=0.739 \n"
     ]
    },
    {
     "name": "stderr",
     "output_type": "stream",
     "text": [
      "Training: 100%|██████████| 10159/10159 [00:48<00:00, 208.99it/s, loss=0.344, loss_phn=0.221, loss_utt=0.0512, loss_word=0.071, lr=0.001]   \n"
     ]
    },
    {
     "name": "stdout",
     "output_type": "stream",
     "text": [
      "### F1 Score: \n",
      "               precision    recall  f1-score   support\n",
      "\n",
      "         0.0       0.93      0.82      0.87    462837\n",
      "         1.0       0.18      0.60      0.28     51044\n",
      "         2.0       0.85      0.31      0.45    100198\n",
      "\n",
      "    accuracy                           0.72    614079\n",
      "   macro avg       0.65      0.58      0.54    614079\n",
      "weighted avg       0.85      0.72      0.76    614079\n",
      "\n",
      "Save state dict and result to /data/codes/apa/train/exp/ckpts/dev/ckpts-eph=1-mse=0.21780000627040863\n",
      "### Validation result (epoch=1)\n",
      "  Phone level:  MSE=0.218  MAE=0.294  PCC=0.731 \n",
      "   Word level:  MSE=0.090  MAE=0.226  PCC=0.737 \n",
      "    Utt level:  MSE=0.058  MAE=0.185  PCC=0.769 \n"
     ]
    },
    {
     "name": "stderr",
     "output_type": "stream",
     "text": [
      "Training: 100%|██████████| 10159/10159 [00:44<00:00, 227.07it/s, loss=0.416, loss_phn=0.173, loss_utt=0.114, loss_word=0.129, lr=0.001]     \n"
     ]
    },
    {
     "name": "stdout",
     "output_type": "stream",
     "text": [
      "### F1 Score: \n",
      "               precision    recall  f1-score   support\n",
      "\n",
      "         0.0       0.95      0.75      0.84    462842\n",
      "         1.0       0.18      0.67      0.28     51045\n",
      "         2.0       0.80      0.46      0.58    100199\n",
      "\n",
      "    accuracy                           0.69    614086\n",
      "   macro avg       0.64      0.62      0.56    614086\n",
      "weighted avg       0.86      0.69      0.75    614086\n",
      "\n",
      "Save state dict and result to /data/codes/apa/train/exp/ckpts/dev/ckpts-eph=2-mse=0.20270000398159027\n",
      "### Validation result (epoch=2)\n",
      "  Phone level:  MSE=0.203  MAE=0.301  PCC=0.748 \n",
      "   Word level:  MSE=0.088  MAE=0.236  PCC=0.757 \n",
      "    Utt level:  MSE=0.057  MAE=0.193  PCC=0.784 \n"
     ]
    },
    {
     "name": "stderr",
     "output_type": "stream",
     "text": [
      "Training: 100%|██████████| 10159/10159 [00:44<00:00, 226.73it/s, loss=0.221, loss_phn=0.132, loss_utt=0.0414, loss_word=0.0476, lr=0.001]   \n"
     ]
    },
    {
     "name": "stdout",
     "output_type": "stream",
     "text": [
      "### F1 Score: \n",
      "               precision    recall  f1-score   support\n",
      "\n",
      "         0.0       0.93      0.83      0.88    462839\n",
      "         1.0       0.20      0.52      0.28     51048\n",
      "         2.0       0.77      0.52      0.62    100198\n",
      "\n",
      "    accuracy                           0.75    614085\n",
      "   macro avg       0.63      0.62      0.59    614085\n",
      "weighted avg       0.85      0.75      0.79    614085\n",
      "\n",
      "Save state dict and result to /data/codes/apa/train/exp/ckpts/dev/ckpts-eph=3-mse=0.19939999282360077\n",
      "### Validation result (epoch=3)\n",
      "  Phone level:  MSE=0.199  MAE=0.266  PCC=0.754 \n",
      "   Word level:  MSE=0.080  MAE=0.205  PCC=0.760 \n",
      "    Utt level:  MSE=0.051  MAE=0.172  PCC=0.789 \n"
     ]
    },
    {
     "name": "stderr",
     "output_type": "stream",
     "text": [
      "Training: 100%|██████████| 10159/10159 [00:51<00:00, 197.52it/s, loss=0.221, loss_phn=0.192, loss_utt=0.0141, loss_word=0.0157, lr=0.001]   \n"
     ]
    },
    {
     "name": "stdout",
     "output_type": "stream",
     "text": [
      "### F1 Score: \n",
      "               precision    recall  f1-score   support\n",
      "\n",
      "         0.0       0.94      0.81      0.87    462846\n",
      "         1.0       0.20      0.62      0.30     51047\n",
      "         2.0       0.83      0.45      0.58    100199\n",
      "\n",
      "    accuracy                           0.74    614092\n",
      "   macro avg       0.66      0.63      0.58    614092\n",
      "weighted avg       0.86      0.74      0.78    614092\n",
      "\n",
      "Save state dict and result to /data/codes/apa/train/exp/ckpts/dev/ckpts-eph=4-mse=0.18729999661445618\n",
      "### Validation result (epoch=4)\n",
      "  Phone level:  MSE=0.187  MAE=0.276  PCC=0.769 \n",
      "   Word level:  MSE=0.077  MAE=0.212  PCC=0.775 \n",
      "    Utt level:  MSE=0.049  MAE=0.174  PCC=0.801 \n"
     ]
    },
    {
     "name": "stderr",
     "output_type": "stream",
     "text": [
      "Training: 100%|██████████| 10159/10159 [00:45<00:00, 223.04it/s, loss=0.348, loss_phn=0.238, loss_utt=0.0502, loss_word=0.0603, lr=0.001]   \n"
     ]
    },
    {
     "name": "stdout",
     "output_type": "stream",
     "text": [
      "### F1 Score: \n",
      "               precision    recall  f1-score   support\n",
      "\n",
      "         0.0       0.94      0.81      0.87    462841\n",
      "         1.0       0.20      0.61      0.30     51046\n",
      "         2.0       0.83      0.46      0.59    100199\n",
      "\n",
      "    accuracy                           0.74    614086\n",
      "   macro avg       0.66      0.63      0.59    614086\n",
      "weighted avg       0.86      0.74      0.78    614086\n",
      "\n",
      "Save state dict and result to /data/codes/apa/train/exp/ckpts/dev/ckpts-eph=5-mse=0.186599999666214\n",
      "### Validation result (epoch=5)\n",
      "  Phone level:  MSE=0.187  MAE=0.273  PCC=0.769 \n",
      "   Word level:  MSE=0.077  MAE=0.206  PCC=0.777 \n",
      "    Utt level:  MSE=0.051  MAE=0.171  PCC=0.798 \n"
     ]
    },
    {
     "name": "stderr",
     "output_type": "stream",
     "text": [
      "Training: 100%|██████████| 10159/10159 [00:45<00:00, 224.02it/s, loss=0.241, loss_phn=0.161, loss_utt=0.0377, loss_word=0.0423, lr=0.001]   \n"
     ]
    },
    {
     "name": "stdout",
     "output_type": "stream",
     "text": [
      "### F1 Score: \n",
      "               precision    recall  f1-score   support\n",
      "\n",
      "         0.0       0.95      0.81      0.87    462818\n",
      "         1.0       0.20      0.62      0.30     51042\n",
      "         2.0       0.82      0.48      0.61    100199\n",
      "\n",
      "    accuracy                           0.74    614059\n",
      "   macro avg       0.66      0.64      0.59    614059\n",
      "weighted avg       0.86      0.74      0.78    614059\n",
      "\n",
      "Save state dict and result to /data/codes/apa/train/exp/ckpts/dev/ckpts-eph=6-mse=0.18240000307559967\n",
      "### Validation result (epoch=6)\n",
      "  Phone level:  MSE=0.182  MAE=0.269  PCC=0.775 \n",
      "   Word level:  MSE=0.075  MAE=0.199  PCC=0.776 \n",
      "    Utt level:  MSE=0.049  MAE=0.165  PCC=0.807 \n"
     ]
    },
    {
     "name": "stderr",
     "output_type": "stream",
     "text": [
      "Training: 100%|██████████| 10159/10159 [00:44<00:00, 226.08it/s, loss=0.335, loss_phn=0.18, loss_utt=0.0722, loss_word=0.0836, lr=0.001]    \n"
     ]
    },
    {
     "name": "stdout",
     "output_type": "stream",
     "text": [
      "### F1 Score: \n",
      "               precision    recall  f1-score   support\n",
      "\n",
      "         0.0       0.95      0.78      0.86    462837\n",
      "         1.0       0.19      0.66      0.30     51045\n",
      "         2.0       0.84      0.47      0.60    100196\n",
      "\n",
      "    accuracy                           0.72    614078\n",
      "   macro avg       0.66      0.64      0.59    614078\n",
      "weighted avg       0.87      0.72      0.77    614078\n",
      "\n",
      "Save state dict and result to /data/codes/apa/train/exp/ckpts/dev/ckpts-eph=7-mse=0.18129999935626984\n",
      "### Validation result (epoch=7)\n",
      "  Phone level:  MSE=0.181  MAE=0.281  PCC=0.778 \n",
      "   Word level:  MSE=0.073  MAE=0.208  PCC=0.787 \n",
      "    Utt level:  MSE=0.047  MAE=0.170  PCC=0.807 \n"
     ]
    },
    {
     "name": "stderr",
     "output_type": "stream",
     "text": [
      "Training: 100%|██████████| 10159/10159 [00:45<00:00, 223.26it/s, loss=0.261, loss_phn=0.141, loss_utt=0.0493, loss_word=0.0704, lr=0.001]   \n"
     ]
    },
    {
     "name": "stdout",
     "output_type": "stream",
     "text": [
      "### F1 Score: \n",
      "               precision    recall  f1-score   support\n",
      "\n",
      "         0.0       0.95      0.79      0.86    462842\n",
      "         1.0       0.20      0.65      0.30     51048\n",
      "         2.0       0.83      0.50      0.62    100198\n",
      "\n",
      "    accuracy                           0.73    614088\n",
      "   macro avg       0.66      0.65      0.59    614088\n",
      "weighted avg       0.87      0.73      0.78    614088\n",
      "\n",
      "Save state dict and result to /data/codes/apa/train/exp/ckpts/dev/ckpts-eph=8-mse=0.17820000648498535\n",
      "### Validation result (epoch=8)\n",
      "  Phone level:  MSE=0.178  MAE=0.276  PCC=0.782 \n",
      "   Word level:  MSE=0.080  MAE=0.224  PCC=0.791 \n",
      "    Utt level:  MSE=0.053  MAE=0.186  PCC=0.812 \n"
     ]
    },
    {
     "name": "stderr",
     "output_type": "stream",
     "text": [
      "Training: 100%|██████████| 10159/10159 [00:50<00:00, 201.58it/s, loss=0.437, loss_phn=0.179, loss_utt=0.122, loss_word=0.135, lr=0.001]     \n"
     ]
    },
    {
     "name": "stdout",
     "output_type": "stream",
     "text": [
      "### F1 Score: \n",
      "               precision    recall  f1-score   support\n",
      "\n",
      "         0.0       0.95      0.79      0.87    462822\n",
      "         1.0       0.20      0.60      0.30     51049\n",
      "         2.0       0.79      0.58      0.67    100198\n",
      "\n",
      "    accuracy                           0.74    614069\n",
      "   macro avg       0.65      0.66      0.61    614069\n",
      "weighted avg       0.86      0.74      0.79    614069\n",
      "\n",
      "Save state dict and result to /data/codes/apa/train/exp/ckpts/dev/ckpts-eph=9-mse=0.17730000615119934\n",
      "### Validation result (epoch=9)\n",
      "  Phone level:  MSE=0.177  MAE=0.265  PCC=0.785 \n",
      "   Word level:  MSE=0.071  MAE=0.198  PCC=0.794 \n",
      "    Utt level:  MSE=0.049  MAE=0.171  PCC=0.816 \n"
     ]
    },
    {
     "name": "stderr",
     "output_type": "stream",
     "text": [
      "Training: 100%|██████████| 10159/10159 [01:10<00:00, 143.81it/s, loss=0.277, loss_phn=0.154, loss_utt=0.0434, loss_word=0.0796, lr=0.001]   \n"
     ]
    },
    {
     "name": "stdout",
     "output_type": "stream",
     "text": [
      "### F1 Score: \n",
      "               precision    recall  f1-score   support\n",
      "\n",
      "         0.0       0.94      0.86      0.90    462841\n",
      "         1.0       0.22      0.54      0.31     51043\n",
      "         2.0       0.83      0.51      0.63    100197\n",
      "\n",
      "    accuracy                           0.78    614081\n",
      "   macro avg       0.66      0.64      0.61    614081\n",
      "weighted avg       0.86      0.78      0.80    614081\n",
      "\n",
      "Save state dict and result to /data/codes/apa/train/exp/ckpts/dev/ckpts-eph=10-mse=0.17499999701976776\n",
      "### Validation result (epoch=10)\n",
      "  Phone level:  MSE=0.175  MAE=0.244  PCC=0.787 \n",
      "   Word level:  MSE=0.070  MAE=0.191  PCC=0.797 \n",
      "    Utt level:  MSE=0.046  MAE=0.161  PCC=0.820 \n"
     ]
    },
    {
     "name": "stderr",
     "output_type": "stream",
     "text": [
      "Training: 100%|██████████| 10159/10159 [00:46<00:00, 219.51it/s, loss=0.431, loss_phn=0.241, loss_utt=0.0896, loss_word=0.101, lr=0.001]    \n"
     ]
    },
    {
     "name": "stdout",
     "output_type": "stream",
     "text": [
      "### F1 Score: \n",
      "               precision    recall  f1-score   support\n",
      "\n",
      "         0.0       0.94      0.83      0.89    462838\n",
      "         1.0       0.21      0.56      0.31     51048\n",
      "         2.0       0.81      0.56      0.66    100194\n",
      "\n",
      "    accuracy                           0.77    614080\n",
      "   macro avg       0.65      0.65      0.62    614080\n",
      "weighted avg       0.86      0.77      0.80    614080\n",
      "\n",
      "Save state dict and result to /data/codes/apa/train/exp/ckpts/dev/ckpts-eph=11-mse=0.17080000042915344\n",
      "### Validation result (epoch=11)\n",
      "  Phone level:  MSE=0.171  MAE=0.251  PCC=0.792 \n",
      "   Word level:  MSE=0.066  MAE=0.186  PCC=0.804 \n",
      "    Utt level:  MSE=0.044  MAE=0.159  PCC=0.826 \n"
     ]
    },
    {
     "name": "stderr",
     "output_type": "stream",
     "text": [
      "Training: 100%|██████████| 10159/10159 [00:46<00:00, 220.36it/s, loss=0.342, loss_phn=0.168, loss_utt=0.0828, loss_word=0.091, lr=0.0008]     \n"
     ]
    },
    {
     "name": "stdout",
     "output_type": "stream",
     "text": [
      "### F1 Score: \n",
      "               precision    recall  f1-score   support\n",
      "\n",
      "         0.0       0.95      0.83      0.89    462823\n",
      "         1.0       0.21      0.60      0.32     51046\n",
      "         2.0       0.84      0.51      0.64    100199\n",
      "\n",
      "    accuracy                           0.76    614068\n",
      "   macro avg       0.67      0.65      0.61    614068\n",
      "weighted avg       0.87      0.76      0.80    614068\n",
      "\n",
      "Save state dict and result to /data/codes/apa/train/exp/ckpts/dev/ckpts-eph=12-mse=0.16590000689029694\n",
      "### Validation result (epoch=12)\n",
      "  Phone level:  MSE=0.166  MAE=0.246  PCC=0.798 \n",
      "   Word level:  MSE=0.066  MAE=0.186  PCC=0.809 \n",
      "    Utt level:  MSE=0.043  MAE=0.157  PCC=0.828 \n"
     ]
    },
    {
     "name": "stderr",
     "output_type": "stream",
     "text": [
      "Training: 100%|██████████| 10159/10159 [00:45<00:00, 222.13it/s, loss=0.132, loss_phn=0.0816, loss_utt=0.0205, loss_word=0.0296, lr=0.0008]  \n"
     ]
    },
    {
     "name": "stdout",
     "output_type": "stream",
     "text": [
      "### F1 Score: \n",
      "               precision    recall  f1-score   support\n",
      "\n",
      "         0.0       0.95      0.82      0.88    462842\n",
      "         1.0       0.21      0.62      0.31     51043\n",
      "         2.0       0.83      0.55      0.66    100196\n",
      "\n",
      "    accuracy                           0.76    614081\n",
      "   macro avg       0.66      0.66      0.62    614081\n",
      "weighted avg       0.87      0.76      0.80    614081\n",
      "\n",
      "Save state dict and result to /data/codes/apa/train/exp/ckpts/dev/ckpts-eph=13-mse=0.163100004196167\n",
      "### Validation result (epoch=13)\n",
      "  Phone level:  MSE=0.163  MAE=0.253  PCC=0.802 \n",
      "   Word level:  MSE=0.064  MAE=0.185  PCC=0.814 \n",
      "    Utt level:  MSE=0.041  MAE=0.156  PCC=0.835 \n"
     ]
    },
    {
     "name": "stderr",
     "output_type": "stream",
     "text": [
      "Training: 100%|██████████| 10159/10159 [00:46<00:00, 220.01it/s, loss=0.162, loss_phn=0.132, loss_utt=0.014, loss_word=0.0164, lr=0.0008]    \n"
     ]
    },
    {
     "name": "stdout",
     "output_type": "stream",
     "text": [
      "### F1 Score: \n",
      "               precision    recall  f1-score   support\n",
      "\n",
      "         0.0       0.95      0.83      0.88    462834\n",
      "         1.0       0.21      0.61      0.32     51041\n",
      "         2.0       0.83      0.56      0.67    100190\n",
      "\n",
      "    accuracy                           0.76    614065\n",
      "   macro avg       0.66      0.66      0.62    614065\n",
      "weighted avg       0.87      0.76      0.80    614065\n",
      "\n",
      "Save state dict and result to /data/codes/apa/train/exp/ckpts/dev/ckpts-eph=14-mse=0.16060000658035278\n",
      "### Validation result (epoch=14)\n",
      "  Phone level:  MSE=0.161  MAE=0.242  PCC=0.805 \n",
      "   Word level:  MSE=0.062  MAE=0.177  PCC=0.820 \n",
      "    Utt level:  MSE=0.040  MAE=0.151  PCC=0.841 \n"
     ]
    },
    {
     "name": "stderr",
     "output_type": "stream",
     "text": [
      "Training: 100%|██████████| 10159/10159 [00:45<00:00, 223.80it/s, loss=0.332, loss_phn=0.232, loss_utt=0.0491, loss_word=0.0513, lr=0.00064]   \n"
     ]
    },
    {
     "name": "stdout",
     "output_type": "stream",
     "text": [
      "### F1 Score: \n",
      "               precision    recall  f1-score   support\n",
      "\n",
      "         0.0       0.95      0.85      0.89    462825\n",
      "         1.0       0.22      0.60      0.32     51046\n",
      "         2.0       0.85      0.51      0.64    100196\n",
      "\n",
      "    accuracy                           0.77    614067\n",
      "   macro avg       0.67      0.65      0.62    614067\n",
      "weighted avg       0.87      0.77      0.80    614067\n",
      "\n",
      "Save state dict and result to /data/codes/apa/train/exp/ckpts/dev/ckpts-eph=15-mse=0.1606999933719635\n",
      "### Validation result (epoch=15)\n",
      "  Phone level:  MSE=0.161  MAE=0.239  PCC=0.806 \n",
      "   Word level:  MSE=0.062  MAE=0.175  PCC=0.822 \n",
      "    Utt level:  MSE=0.040  MAE=0.147  PCC=0.845 \n"
     ]
    },
    {
     "name": "stderr",
     "output_type": "stream",
     "text": [
      "Training: 100%|██████████| 10159/10159 [00:45<00:00, 221.20it/s, loss=0.208, loss_phn=0.0922, loss_utt=0.047, loss_word=0.0692, lr=0.00064]   \n"
     ]
    },
    {
     "name": "stdout",
     "output_type": "stream",
     "text": [
      "### F1 Score: \n",
      "               precision    recall  f1-score   support\n",
      "\n",
      "         0.0       0.95      0.85      0.90    462834\n",
      "         1.0       0.22      0.59      0.32     51044\n",
      "         2.0       0.85      0.53      0.65    100195\n",
      "\n",
      "    accuracy                           0.78    614073\n",
      "   macro avg       0.67      0.66      0.62    614073\n",
      "weighted avg       0.87      0.78      0.81    614073\n",
      "\n",
      "Save state dict and result to /data/codes/apa/train/exp/ckpts/dev/ckpts-eph=16-mse=0.15850000083446503\n",
      "### Validation result (epoch=16)\n",
      "  Phone level:  MSE=0.159  MAE=0.238  PCC=0.809 \n",
      "   Word level:  MSE=0.060  MAE=0.179  PCC=0.826 \n",
      "    Utt level:  MSE=0.039  MAE=0.147  PCC=0.844 \n"
     ]
    },
    {
     "name": "stderr",
     "output_type": "stream",
     "text": [
      "Training: 100%|██████████| 10159/10159 [01:00<00:00, 167.26it/s, loss=0.204, loss_phn=0.148, loss_utt=0.0223, loss_word=0.0341, lr=0.00064]   \n"
     ]
    },
    {
     "name": "stdout",
     "output_type": "stream",
     "text": [
      "### F1 Score: \n",
      "               precision    recall  f1-score   support\n",
      "\n",
      "         0.0       0.95      0.84      0.89    462827\n",
      "         1.0       0.22      0.60      0.32     51045\n",
      "         2.0       0.84      0.54      0.66    100196\n",
      "\n",
      "    accuracy                           0.77    614068\n",
      "   macro avg       0.67      0.66      0.62    614068\n",
      "weighted avg       0.87      0.77      0.80    614068\n",
      "\n",
      "Save state dict and result to /data/codes/apa/train/exp/ckpts/dev/ckpts-eph=17-mse=0.15940000116825104\n",
      "### Validation result (epoch=17)\n",
      "  Phone level:  MSE=0.159  MAE=0.241  PCC=0.807 \n",
      "   Word level:  MSE=0.063  MAE=0.179  PCC=0.822 \n",
      "    Utt level:  MSE=0.039  MAE=0.148  PCC=0.848 \n"
     ]
    },
    {
     "name": "stderr",
     "output_type": "stream",
     "text": [
      "Training: 100%|██████████| 10159/10159 [01:06<00:00, 151.71it/s, loss=0.252, loss_phn=0.165, loss_utt=0.045, loss_word=0.0419, lr=0.000512]    \n"
     ]
    },
    {
     "name": "stdout",
     "output_type": "stream",
     "text": [
      "### F1 Score: \n",
      "               precision    recall  f1-score   support\n",
      "\n",
      "         0.0       0.95      0.84      0.89    462840\n",
      "         1.0       0.22      0.61      0.32     51048\n",
      "         2.0       0.85      0.53      0.65    100202\n",
      "\n",
      "    accuracy                           0.77    614090\n",
      "   macro avg       0.67      0.66      0.62    614090\n",
      "weighted avg       0.87      0.77      0.80    614090\n",
      "\n",
      "Save state dict and result to /data/codes/apa/train/exp/ckpts/dev/ckpts-eph=18-mse=0.15680000185966492\n",
      "### Validation result (epoch=18)\n",
      "  Phone level:  MSE=0.157  MAE=0.242  PCC=0.811 \n",
      "   Word level:  MSE=0.060  MAE=0.177  PCC=0.828 \n",
      "    Utt level:  MSE=0.038  MAE=0.147  PCC=0.852 \n"
     ]
    },
    {
     "name": "stderr",
     "output_type": "stream",
     "text": [
      "Training: 100%|██████████| 10159/10159 [00:46<00:00, 217.08it/s, loss=0.2, loss_phn=0.114, loss_utt=0.0312, loss_word=0.055, lr=0.000512]       \n"
     ]
    },
    {
     "name": "stdout",
     "output_type": "stream",
     "text": [
      "### F1 Score: \n",
      "               precision    recall  f1-score   support\n",
      "\n",
      "         0.0       0.96      0.81      0.88    462837\n",
      "         1.0       0.21      0.60      0.31     51048\n",
      "         2.0       0.82      0.60      0.69    100200\n",
      "\n",
      "    accuracy                           0.76    614085\n",
      "   macro avg       0.66      0.67      0.63    614085\n",
      "weighted avg       0.87      0.76      0.80    614085\n",
      "\n",
      "Save state dict and result to /data/codes/apa/train/exp/ckpts/dev/ckpts-eph=19-mse=0.15629999339580536\n",
      "### Validation result (epoch=19)\n",
      "  Phone level:  MSE=0.156  MAE=0.243  PCC=0.812 \n",
      "   Word level:  MSE=0.058  MAE=0.175  PCC=0.833 \n",
      "    Utt level:  MSE=0.037  MAE=0.146  PCC=0.857 \n"
     ]
    },
    {
     "name": "stderr",
     "output_type": "stream",
     "text": [
      "Training: 100%|██████████| 10159/10159 [00:46<00:00, 219.72it/s, loss=0.0664, loss_phn=0.0426, loss_utt=0.012, loss_word=0.0119, lr=0.000512]   \n"
     ]
    },
    {
     "name": "stdout",
     "output_type": "stream",
     "text": [
      "### F1 Score: \n",
      "               precision    recall  f1-score   support\n",
      "\n",
      "         0.0       0.95      0.85      0.90    462833\n",
      "         1.0       0.22      0.60      0.33     51047\n",
      "         2.0       0.86      0.54      0.66    100195\n",
      "\n",
      "    accuracy                           0.78    614075\n",
      "   macro avg       0.68      0.66      0.63    614075\n",
      "weighted avg       0.87      0.78      0.81    614075\n",
      "\n",
      "Save state dict and result to /data/codes/apa/train/exp/ckpts/dev/ckpts-eph=20-mse=0.15369999408721924\n",
      "### Validation result (epoch=20)\n",
      "  Phone level:  MSE=0.154  MAE=0.241  PCC=0.815 \n",
      "   Word level:  MSE=0.057  MAE=0.172  PCC=0.835 \n",
      "    Utt level:  MSE=0.036  MAE=0.141  PCC=0.856 \n"
     ]
    },
    {
     "name": "stderr",
     "output_type": "stream",
     "text": [
      "Training: 100%|██████████| 10159/10159 [00:46<00:00, 220.52it/s, loss=0.285, loss_phn=0.132, loss_utt=0.0797, loss_word=0.0729, lr=0.00041]   \n"
     ]
    },
    {
     "name": "stdout",
     "output_type": "stream",
     "text": [
      "### F1 Score: \n",
      "               precision    recall  f1-score   support\n",
      "\n",
      "         0.0       0.96      0.80      0.87    462832\n",
      "         1.0       0.21      0.64      0.32     51049\n",
      "         2.0       0.83      0.59      0.69    100200\n",
      "\n",
      "    accuracy                           0.76    614081\n",
      "   macro avg       0.67      0.68      0.63    614081\n",
      "weighted avg       0.88      0.76      0.80    614081\n",
      "\n",
      "Save state dict and result to /data/codes/apa/train/exp/ckpts/dev/ckpts-eph=21-mse=0.15189999341964722\n",
      "### Validation result (epoch=21)\n",
      "  Phone level:  MSE=0.152  MAE=0.247  PCC=0.819 \n",
      "   Word level:  MSE=0.059  MAE=0.186  PCC=0.842 \n",
      "    Utt level:  MSE=0.038  MAE=0.153  PCC=0.865 \n"
     ]
    },
    {
     "name": "stderr",
     "output_type": "stream",
     "text": [
      "Training: 100%|██████████| 10159/10159 [00:46<00:00, 220.56it/s, loss=0.212, loss_phn=0.161, loss_utt=0.0197, loss_word=0.0316, lr=0.00041]   \n"
     ]
    },
    {
     "name": "stdout",
     "output_type": "stream",
     "text": [
      "### F1 Score: \n",
      "               precision    recall  f1-score   support\n",
      "\n",
      "         0.0       0.95      0.84      0.89    462842\n",
      "         1.0       0.22      0.62      0.33     51045\n",
      "         2.0       0.85      0.56      0.67    100199\n",
      "\n",
      "    accuracy                           0.77    614086\n",
      "   macro avg       0.68      0.67      0.63    614086\n",
      "weighted avg       0.87      0.77      0.81    614086\n",
      "\n",
      "Save state dict and result to /data/codes/apa/train/exp/ckpts/dev/ckpts-eph=22-mse=0.15000000596046448\n",
      "### Validation result (epoch=22)\n",
      "  Phone level:  MSE=0.150  MAE=0.240  PCC=0.820 \n",
      "   Word level:  MSE=0.055  MAE=0.168  PCC=0.842 \n",
      "    Utt level:  MSE=0.036  MAE=0.145  PCC=0.861 \n"
     ]
    },
    {
     "name": "stderr",
     "output_type": "stream",
     "text": [
      "Training: 100%|██████████| 10159/10159 [00:46<00:00, 218.31it/s, loss=0.185, loss_phn=0.149, loss_utt=0.0151, loss_word=0.0208, lr=0.00041]    \n"
     ]
    },
    {
     "name": "stdout",
     "output_type": "stream",
     "text": [
      "### F1 Score: \n",
      "               precision    recall  f1-score   support\n",
      "\n",
      "         0.0       0.95      0.84      0.89    462840\n",
      "         1.0       0.22      0.60      0.33     51045\n",
      "         2.0       0.84      0.57      0.68    100198\n",
      "\n",
      "    accuracy                           0.78    614083\n",
      "   macro avg       0.67      0.67      0.63    614083\n",
      "weighted avg       0.87      0.78      0.81    614083\n",
      "\n",
      "Save state dict and result to /data/codes/apa/train/exp/ckpts/dev/ckpts-eph=23-mse=0.14869999885559082\n",
      "### Validation result (epoch=23)\n",
      "  Phone level:  MSE=0.149  MAE=0.232  PCC=0.821 \n",
      "   Word level:  MSE=0.054  MAE=0.168  PCC=0.844 \n",
      "    Utt level:  MSE=0.035  MAE=0.140  PCC=0.865 \n"
     ]
    },
    {
     "name": "stderr",
     "output_type": "stream",
     "text": [
      "Training: 100%|██████████| 10159/10159 [00:45<00:00, 221.58it/s, loss=0.215, loss_phn=0.166, loss_utt=0.0215, loss_word=0.0279, lr=0.000328]    \n"
     ]
    },
    {
     "name": "stdout",
     "output_type": "stream",
     "text": [
      "### F1 Score: \n",
      "               precision    recall  f1-score   support\n",
      "\n",
      "         0.0       0.95      0.84      0.89    462837\n",
      "         1.0       0.22      0.61      0.33     51046\n",
      "         2.0       0.85      0.57      0.68    100195\n",
      "\n",
      "    accuracy                           0.78    614078\n",
      "   macro avg       0.68      0.67      0.63    614078\n",
      "weighted avg       0.88      0.78      0.81    614078\n",
      "\n",
      "Save state dict and result to /data/codes/apa/train/exp/ckpts/dev/ckpts-eph=24-mse=0.14720000326633453\n",
      "### Validation result (epoch=24)\n",
      "  Phone level:  MSE=0.147  MAE=0.234  PCC=0.823 \n",
      "   Word level:  MSE=0.053  MAE=0.169  PCC=0.850 \n",
      "    Utt level:  MSE=0.033  MAE=0.139  PCC=0.872 \n"
     ]
    },
    {
     "data": {
      "image/png": "[encoded data removed]",
      "text/plain": [
       "<Figure size 640x480 with 1 Axes>"
      ]
     },
     "metadata": {},
     "output_type": "display_data"
    }
   ],
   "source": [
    "global_step = 0\n",
    "best_mse = 1e5\n",
    "num_epoch = 25 \n",
    "phone_weight = 1.0\n",
    "word_weight = 1.0\n",
    "utterance_weight = 1.0\n",
    "\n",
    "cur_lr = lr\n",
    "for epoch in range(num_epoch):\n",
    "    if epoch >= 10 and epoch % 3 == 0:\n",
    "        cur_lr = (4 / 5) * cur_lr \n",
    "        for param_group in optimizer.param_groups:\n",
    "            param_group['lr'] = cur_lr\n",
    "\n",
    "    gopt_model.train()\n",
    "    train_tqdm = tqdm(dataloader, \"Training\")\n",
    "    for batch in train_tqdm:\n",
    "        optimizer.zero_grad()\n",
    "\n",
    "        ids, features, phone_ids, word_ids, relative_positions,\\\n",
    "            phone_labels, word_labels, utterance_labels = to_device(batch, device)\n",
    "        \n",
    "        utterance_preds, phone_preds, word_preds = gopt_model(\n",
    "            x=features.float(), phn=phone_ids.long(), rel_pos=relative_positions.long())\n",
    "                \n",
    "        loss_phn, loss_utt, loss_word = calculate_losses(\n",
    "            phone_preds=phone_preds, \n",
    "            phone_labels=phone_labels, \n",
    "            word_preds=word_preds, \n",
    "            word_labels=word_labels, \n",
    "            utterance_preds=utterance_preds, \n",
    "            utterance_labels=utterance_labels)\n",
    "\n",
    "        loss = phone_weight*loss_phn + word_weight*loss_word + utterance_weight*loss_utt\n",
    "        \n",
    "        loss.backward()\n",
    "        torch.nn.utils.clip_grad_norm_(gopt_model.parameters(), 1.0)\n",
    "        \n",
    "        optimizer.step()\n",
    "        \n",
    "        global_step += 1\n",
    "        train_tqdm.set_postfix(\n",
    "            lr=cur_lr,\n",
    "            loss=loss.item(), \n",
    "            loss_phn=loss_phn.item(), \n",
    "            loss_word=loss_word.item(), \n",
    "            loss_utt=loss_utt.item())\n",
    "    \n",
    "    valid_result = validate(\n",
    "        epoch=epoch, \n",
    "        device=device,\n",
    "        optimizer=optimizer,\n",
    "        gopt_model=gopt_model, \n",
    "        testloader=dataloader, \n",
    "        best_mse=best_mse, \n",
    "        ckpt_dir=ckpt_dir)\n",
    "    \n",
    "    best_mse = valid_result[\"best_mse\"]\n",
    "    global_step += 1"
   ]
  },
  {
   "cell_type": "markdown",
   "metadata": {},
   "source": [
    "#### infer"
   ]
  },
  {
   "cell_type": "code",
   "execution_count": 7,
   "metadata": {},
   "outputs": [],
   "source": [
    "!export CUDA_VISIBLE_DEVICES=0\n",
    "\n",
    "import matplotlib.pyplot as plt\n",
    "from tqdm import tqdm\n",
    "import pandas as pd\n",
    "import numpy as np\n",
    "import pickle\n",
    "import torch\n",
    "import json\n",
    "import re\n",
    "import os\n",
    "\n",
    "from torch.utils.data import Dataset, DataLoader\n",
    "from torch import nn\n",
    "\n",
    "from src.utils.train import (\n",
    "    to_device,\n",
    "    load_data,\n",
    "    load_id\n",
    ")"
   ]
  },
  {
   "cell_type": "code",
   "execution_count": 8,
   "metadata": {},
   "outputs": [],
   "source": [
    "ckpt_dir = '/data/codes/apa/train/exp/dev'\n",
    "\n",
    "ids, phone_ids, word_ids, phone_scores, word_scores, sentence_scores, durations, \\\n",
    "    gops, relative_positions, wavlm_features_path = load_data(in_dir)\n",
    "\n",
    "dataset = PrepDataset(\n",
    "    ids, phone_ids, word_ids, \n",
    "    phone_scores, word_scores, sentence_scores, \n",
    "    durations, gops, relative_positions, wavlm_features_path)\n",
    "\n",
    "dataloader = DataLoader(\n",
    "    dataset, \n",
    "    batch_size=1, \n",
    "    num_workers=1,\n",
    "    shuffle=True, \n",
    "    drop_last=False, \n",
    "    pin_memory=True, \n",
    ")"
   ]
  },
  {
   "cell_type": "code",
   "execution_count": 9,
   "metadata": {},
   "outputs": [],
   "source": [
    "# embed_dim=32\n",
    "# num_heads=1\n",
    "# depth=3\n",
    "# input_dim=855\n",
    "# num_phone=44\n",
    "# max_length=128\n",
    "\n",
    "# lr=1e-3\n",
    "# weight_decay=5e-7\n",
    "# betas=(0.95, 0.999)\n",
    "\n",
    "# device = torch.device(\"cuda:0\" if torch.cuda.is_available() else \"cpu\")\n",
    "\n",
    "# gopt_model = PrepModel(\n",
    "#     embed_dim=embed_dim, num_heads=num_heads, \n",
    "#     depth=depth, input_dim=input_dim, \n",
    "#     max_length=max_length, num_phone=num_phone, dropout=0.1).to(device)"
   ]
  },
  {
   "cell_type": "code",
   "execution_count": 10,
   "metadata": {},
   "outputs": [],
   "source": [
    "# ckpt_path = \"/data/codes/apa/train/exp/dev/ckpts-eph=25-mse=0.147599995136261/model.pt\"\n",
    "# state_dict = torch.load(ckpt_path, map_location=\"cpu\")\n",
    "# gopt_model.eval()\n",
    "# gopt_model.load_state_dict(state_dict)"
   ]
  },
  {
   "cell_type": "code",
   "execution_count": 11,
   "metadata": {},
   "outputs": [
    {
     "name": "stderr",
     "output_type": "stream",
     "text": [
      "100%|██████████| 81277/81277 [01:44<00:00, 780.60it/s] \n"
     ]
    }
   ],
   "source": [
    "sample_ids = []\n",
    "prep_scores = []\n",
    "elsa_scores = []\n",
    "\n",
    "gopt_model.eval()\n",
    "for batch in tqdm(dataloader):\n",
    "    batch_ids, features, phone_ids, word_ids, relative_positions,\\\n",
    "        phone_labels, word_labels, utterance_labels = to_device(batch, device)\n",
    "    \n",
    "    with torch.no_grad():\n",
    "        phone_score = gopt_model.forwar_phn(\n",
    "            x=features.float(), phn=phone_ids.long())\n",
    "        \n",
    "        phone_score = phone_score.squeeze(-1)\n",
    "        \n",
    "    assert phone_score.shape[0] == 1\n",
    "    \n",
    "    phone_ids = [f'{batch_ids[0]}_{index}' for index in range((phone_labels!=-1).sum())]\n",
    "    sample_ids += phone_ids\n",
    "\n",
    "    elsa_scores.append(phone_labels[phone_labels!=-1])\n",
    "    prep_scores.append(phone_score[phone_labels!=-1])\n",
    "\n",
    "elsa_scores = torch.concat(elsa_scores).cpu()\n",
    "prep_scores = torch.concat(prep_scores).cpu()"
   ]
  },
  {
   "cell_type": "code",
   "execution_count": 12,
   "metadata": {},
   "outputs": [],
   "source": [
    "with open(f'{in_dir}/id', \"w\") as f:\n",
    "    content = \"\\n\".join(sample_ids)\n",
    "    f.write(content)\n",
    "\n",
    "np.save(f'{in_dir}/infer-prep_scores.npy', prep_scores.numpy() * 50)\n",
    "np.save(f'{in_dir}/infer-elsa_scores.npy', elsa_scores.numpy() * 50)\n",
    "np.save(f'{in_dir}/infer-phone_ids.npy', sample_ids)"
   ]
  },
  {
   "cell_type": "markdown",
   "metadata": {},
   "source": [
    "#### filter"
   ]
  },
  {
   "cell_type": "code",
   "execution_count": 27,
   "metadata": {},
   "outputs": [
    {
     "name": "stdout",
     "output_type": "stream",
     "text": [
      "/data/codes/apa/train\n"
     ]
    }
   ],
   "source": [
    "%cd /data/codes/apa/train\n",
    "\n",
    "from sklearn.metrics import classification_report\n",
    "from sklearn.cluster import KMeans\n",
    "from sklearn.decomposition import PCA\n",
    "\n",
    "import matplotlib.pyplot as plt\n",
    "import pandas as pd\n",
    "import numpy as np\n",
    "import torch\n",
    "\n",
    "from src.utils.train import (\n",
    "    convert_score_to_color\n",
    ")"
   ]
  },
  {
   "cell_type": "code",
   "execution_count": 28,
   "metadata": {},
   "outputs": [],
   "source": [
    "prep_scores = np.load(f'{in_dir}/infer-prep_scores.npy')\n",
    "elsa_scores = np.load(f'{in_dir}/infer-elsa_scores.npy')\n",
    "ids = np.load(f'{in_dir}/infer-phone_ids.npy')"
   ]
  },
  {
   "cell_type": "code",
   "execution_count": 29,
   "metadata": {},
   "outputs": [
    {
     "name": "stdout",
     "output_type": "stream",
     "text": [
      "              precision    recall  f1-score   support\n",
      "\n",
      "           0       0.93      1.00      0.96    566712\n",
      "           1       0.01      0.01      0.01      1196\n",
      "           2       0.93      0.05      0.10     46208\n",
      "\n",
      "    accuracy                           0.93    614116\n",
      "   macro avg       0.62      0.35      0.36    614116\n",
      "weighted avg       0.93      0.93      0.90    614116\n",
      "\n"
     ]
    }
   ],
   "source": [
    "prep_decisions = convert_score_to_color(torch.from_numpy(prep_scores).clone())\n",
    "prep_decisions = prep_decisions.int().numpy()\n",
    "\n",
    "elsa_decisions = convert_score_to_color(torch.from_numpy(elsa_scores).clone())\n",
    "elsa_decisions = elsa_decisions.int().numpy()\n",
    "\n",
    "print(classification_report(y_true=elsa_decisions, y_pred=prep_decisions))"
   ]
  },
  {
   "cell_type": "code",
   "execution_count": 30,
   "metadata": {},
   "outputs": [
    {
     "data": {
      "text/html": [
       "<div>\n",
       "<style scoped>\n",
       "    .dataframe tbody tr th:only-of-type {\n",
       "        vertical-align: middle;\n",
       "    }\n",
       "\n",
       "    .dataframe tbody tr th {\n",
       "        vertical-align: top;\n",
       "    }\n",
       "\n",
       "    .dataframe thead th {\n",
       "        text-align: right;\n",
       "    }\n",
       "</style>\n",
       "<table border=\"1\" class=\"dataframe\">\n",
       "  <thead>\n",
       "    <tr style=\"text-align: right;\">\n",
       "      <th></th>\n",
       "      <th>id</th>\n",
       "      <th>prep</th>\n",
       "      <th>elsa</th>\n",
       "      <th>prep_score</th>\n",
       "      <th>elsa_score</th>\n",
       "      <th>uid</th>\n",
       "      <th>diff</th>\n",
       "    </tr>\n",
       "  </thead>\n",
       "  <tbody>\n",
       "    <tr>\n",
       "      <th>0</th>\n",
       "      <td>4638476_2_0</td>\n",
       "      <td>GREEN</td>\n",
       "      <td>GREEN</td>\n",
       "      <td>93.619156</td>\n",
       "      <td>84.0</td>\n",
       "      <td>4638476</td>\n",
       "      <td>9.619156</td>\n",
       "    </tr>\n",
       "    <tr>\n",
       "      <th>1</th>\n",
       "      <td>4638476_2_1</td>\n",
       "      <td>GREEN</td>\n",
       "      <td>GREEN</td>\n",
       "      <td>96.730301</td>\n",
       "      <td>99.0</td>\n",
       "      <td>4638476</td>\n",
       "      <td>2.269699</td>\n",
       "    </tr>\n",
       "  </tbody>\n",
       "</table>\n",
       "</div>"
      ],
      "text/plain": [
       "            id   prep   elsa  prep_score  elsa_score      uid      diff\n",
       "0  4638476_2_0  GREEN  GREEN   93.619156        84.0  4638476  9.619156\n",
       "1  4638476_2_1  GREEN  GREEN   96.730301        99.0  4638476  2.269699"
      ]
     },
     "execution_count": 30,
     "metadata": {},
     "output_type": "execute_result"
    }
   ],
   "source": [
    "id2label = {0:\"GREEN\", 1:\"YELLOW\", 2:\"RED\"}\n",
    "\n",
    "df = pd.DataFrame(\n",
    "    {\n",
    "        \"id\": ids.tolist(),\n",
    "        \"prep\": prep_decisions.tolist(),\n",
    "        \"elsa\": elsa_decisions.tolist(),\n",
    "        \"prep_score\": prep_scores.tolist(),\n",
    "        \"elsa_score\": elsa_scores.tolist(),\n",
    "    }\n",
    ")\n",
    "\n",
    "df[\"prep\"] = df.prep.apply(lambda x: id2label[x])\n",
    "df[\"elsa\"] = df.elsa.apply(lambda x: id2label[x])\n",
    "df[\"uid\"] = df.id.apply(lambda x: x.split(\"_\")[0])\n",
    "df[\"diff\"] = np.abs(df[\"prep_score\"] - df[\"elsa_score\"])\n",
    "df.head(2)"
   ]
  },
  {
   "cell_type": "code",
   "execution_count": 36,
   "metadata": {},
   "outputs": [
    {
     "name": "stdout",
     "output_type": "stream",
     "text": [
      "10733\n",
      "8198\n"
     ]
    }
   ],
   "source": [
    "print(df.uid.nunique())\n",
    "print((df[df[\"diff\"] > 40].uid.value_counts() > 1).sum())"
   ]
  },
  {
   "cell_type": "code",
   "execution_count": 32,
   "metadata": {},
   "outputs": [
    {
     "name": "stdout",
     "output_type": "stream",
     "text": [
      "(614116, 7)\n",
      "(31273, 7)\n"
     ]
    }
   ],
   "source": [
    "ignore_samples = df[df[\"diff\"] > 30].uid.value_counts() > 1\n",
    "ignore_samples = ignore_samples[ignore_samples==True]\n",
    "\n",
    "filtered_samples = df[~df.uid.isin(ignore_samples.index)]\n",
    "print(df.shape)\n",
    "print(filtered_samples.shape)"
   ]
  },
  {
   "cell_type": "code",
   "execution_count": 22,
   "metadata": {},
   "outputs": [],
   "source": [
    "id_path = f\"{out_dir}/id\"\n",
    "with open(id_path, \"w\", encoding=\"utf-8\") as f:\n",
    "    f.write(\"\\n\".join(filtered_samples.uid.unique().tolist()))"
   ]
  },
  {
   "cell_type": "code",
   "execution_count": 23,
   "metadata": {},
   "outputs": [
    {
     "data": {
      "text/plain": [
       "'/data/codes/apa/train/data/feats/train/train-data-type-12-filtered/id'"
      ]
     },
     "execution_count": 23,
     "metadata": {},
     "output_type": "execute_result"
    }
   ],
   "source": [
    "id_path"
   ]
  }
 ],
 "metadata": {
  "kernelspec": {
   "display_name": "ps",
   "language": "python",
   "name": "python3"
  },
  "language_info": {
   "codemirror_mode": {
    "name": "ipython",
    "version": 3
   },
   "file_extension": ".py",
   "mimetype": "text/x-python",
   "name": "python",
   "nbconvert_exporter": "python",
   "pygments_lexer": "ipython3",
   "version": "3.8.17"
  },
  "orig_nbformat": 4
 },
 "nbformat": 4,
 "nbformat_minor": 2
}
