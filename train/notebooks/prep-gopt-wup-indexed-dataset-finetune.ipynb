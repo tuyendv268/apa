{
 "cells": [
  {
   "cell_type": "code",
   "execution_count": 8,
   "metadata": {},
   "outputs": [
    {
     "name": "stdout",
     "output_type": "stream",
     "text": [
      "/data/codes/apa/train\n"
     ]
    }
   ],
   "source": [
    "!export CUDA_VISIBLE_DEVICES=0\n",
    "\n",
    "%cd /data/codes/apa/train/\n",
    "import matplotlib.pyplot as plt\n",
    "from tqdm import tqdm\n",
    "import pandas as pd\n",
    "import numpy as np\n",
    "\n",
    "import pickle\n",
    "import json\n",
    "import re\n",
    "import os\n",
    "\n",
    "from torch.utils.data import Dataset, DataLoader\n",
    "from torch import nn\n",
    "import torch\n",
    "\n",
    "from src.utils.train import (\n",
    "    load_data,\n",
    "    to_device,\n",
    "    validate\n",
    ")\n",
    "\n",
    "from src.dataset import PrepDataset\n",
    "from src.model import PrepModel"
   ]
  },
  {
   "cell_type": "code",
   "execution_count": 9,
   "metadata": {},
   "outputs": [],
   "source": [
    "ckpt_dir = '/data/codes/apa/train/exp/dev'\n",
    "train_dir = \"/data/codes/apa/train/data/feats/train/train-data-type-9-filtered/\"\n",
    "test_dir = \"/data/codes/apa/train/data/feats/test/test-data-type-9-filtered/\"\n",
    "\n",
    "max_length=128\n",
    "relative2id_path=\"/data/codes/apa/train/exp/dicts/relative2id.json\"\n",
    "phone2id_path=\"/data/codes/apa/train/exp/dicts/phone_dict.json\"\n",
    "\n",
    "ids, phone_ids_path, word_ids_path, \\\n",
    "    phone_scores_path, word_scores_path, sentence_scores_path, fluency_score_path, intonation_score_path, \\\n",
    "    durations_path, gops_path, relative_positions_path, wavlm_features_path = load_data(train_dir)\n",
    "\n",
    "trainset = PrepDataset(\n",
    "    ids=ids, \n",
    "    phone_ids_path=phone_ids_path, \n",
    "    word_ids_path=word_ids_path, \n",
    "    phone_scores_path=phone_scores_path, \n",
    "    word_scores_path=word_scores_path, \n",
    "    sentence_scores_path=sentence_scores_path, \n",
    "    fluency_score_path=fluency_score_path,\n",
    "    intonation_scores_path=intonation_score_path,\n",
    "    durations_path=durations_path, \n",
    "    gops_path=gops_path, \n",
    "    relative_positions_path=relative_positions_path, \n",
    "    wavlm_features_path=wavlm_features_path,\n",
    "    relative2id_path=relative2id_path, \n",
    "    phone2id_path=phone2id_path,\n",
    "    max_length=max_length,\n",
    "\n",
    ")\n",
    "\n",
    "trainloader = DataLoader(\n",
    "    trainset, \n",
    "    batch_size=8, \n",
    "    num_workers=1,\n",
    "    shuffle=True, \n",
    "    drop_last=False, \n",
    "    pin_memory=True\n",
    ")\n",
    "\n",
    "ids, phone_ids_path, word_ids_path, \\\n",
    "    phone_scores_path, word_scores_path, sentence_scores_path, fluency_score_path, intonation_score_path, \\\n",
    "    durations_path, gops_path, relative_positions_path, wavlm_features_path = load_data(test_dir)\n",
    "\n",
    "testset = PrepDataset(\n",
    "    ids=ids, \n",
    "    phone_ids_path=phone_ids_path, \n",
    "    word_ids_path=word_ids_path, \n",
    "    phone_scores_path=phone_scores_path, \n",
    "    word_scores_path=word_scores_path, \n",
    "    sentence_scores_path=sentence_scores_path, \n",
    "    fluency_score_path=fluency_score_path,\n",
    "    intonation_scores_path=intonation_score_path,\n",
    "    durations_path=durations_path, \n",
    "    gops_path=gops_path, \n",
    "    relative_positions_path=relative_positions_path, \n",
    "    wavlm_features_path=wavlm_features_path,\n",
    "    relative2id_path=relative2id_path, \n",
    "    phone2id_path=phone2id_path,\n",
    "    max_length=max_length,\n",
    "\n",
    ")\n",
    "\n",
    "testloader = DataLoader(\n",
    "    testset, \n",
    "    num_workers=1,\n",
    "    batch_size=64, \n",
    "    shuffle=False, \n",
    "    drop_last=True, \n",
    ")"
   ]
  },
  {
   "cell_type": "code",
   "execution_count": 10,
   "metadata": {},
   "outputs": [],
   "source": [
    "embed_dim=32\n",
    "num_heads=1\n",
    "depth=3\n",
    "input_dim=855\n",
    "num_phone=44\n",
    "max_length=256\n",
    "dropout=0.1\n",
    "\n",
    "lr=5e-4\n",
    "weight_decay=5e-7\n",
    "betas=(0.95, 0.999)\n",
    "\n",
    "device = torch.device(\n",
    "    \"cuda:0\" if torch.cuda.is_available() else \"cpu\")\n",
    "\n",
    "gopt_model = PrepModel(\n",
    "    embed_dim=embed_dim, \n",
    "    num_heads=num_heads, \n",
    "    depth=depth, \n",
    "    input_dim=input_dim, \n",
    "    max_length=max_length, \n",
    "    num_phone=num_phone, \n",
    "    dropout=dropout).to(device)\n",
    "\n",
    "trainables = [p for p in gopt_model.parameters() if p.requires_grad]\n",
    "\n",
    "optimizer = torch.optim.Adam(\n",
    "    trainables, lr, \n",
    "    weight_decay=weight_decay, \n",
    "    betas=betas\n",
    ")\n",
    "\n",
    "loss_fn = nn.MSELoss()"
   ]
  },
  {
   "cell_type": "code",
   "execution_count": 11,
   "metadata": {},
   "outputs": [
    {
     "data": {
      "text/plain": [
       "<All keys matched successfully>"
      ]
     },
     "execution_count": 11,
     "metadata": {},
     "output_type": "execute_result"
    }
   ],
   "source": [
    "ckpt_path = '/data/codes/apa/train/exp/pre-training/ckpts-eph=25-mse=0.08839999884366989/model.pt'\n",
    "state_dict = torch.load(ckpt_path, map_location=\"cpu\")\n",
    "\n",
    "gopt_model.load_state_dict(state_dict)"
   ]
  },
  {
   "cell_type": "code",
   "execution_count": 12,
   "metadata": {},
   "outputs": [],
   "source": [
    "# params_to_train = [\n",
    "#     \"utt_encoders\",\n",
    "#     \"utt_addi\",\n",
    "#     \"utt_acc_head\",\n",
    "#     \"utt_int_head\",\n",
    "#     \"utt_flu_head\"\n",
    "# ]\n",
    "\n",
    "# params_to_train = set(params_to_train)\n",
    "# for name, param in gopt_model.named_parameters():\n",
    "#     name = name.split(\".\")[0]\n",
    "#     param.requires_grad = True  if name in params_to_train  else False"
   ]
  },
  {
   "cell_type": "code",
   "execution_count": 13,
   "metadata": {},
   "outputs": [],
   "source": [
    "def calculate_losses(\n",
    "        phone_preds, phone_labels, word_preds, word_labels, \n",
    "        utterance_preds, utterance_labels, fluency_preds, fluency_labels,\n",
    "        intonation_preds, intonation_labels):\n",
    "    \n",
    "    # phone level\n",
    "    mask = phone_labels >=0\n",
    "    phone_preds = phone_preds.squeeze(2) * mask\n",
    "    phone_labels = phone_labels * mask\n",
    "    \n",
    "    loss_phn = loss_fn(phone_preds, phone_labels)\n",
    "    loss_phn = loss_phn * (mask.shape[0] * mask.shape[1]) / torch.sum(mask)\n",
    "\n",
    "    # utterance level\n",
    "    loss_utt = loss_fn(utterance_preds.squeeze(1) ,utterance_labels)\n",
    "\n",
    "    loss_utt_flu = loss_fn(fluency_preds.squeeze(1) ,fluency_labels)\n",
    "    loss_utt_int = loss_fn(intonation_preds.squeeze(1) ,intonation_labels)\n",
    "\n",
    "    # word level\n",
    "    mask = word_labels >= 0      \n",
    "    word_preds = word_preds.squeeze(2) * mask\n",
    "    word_labels = word_labels * mask\n",
    "    \n",
    "    loss_word = loss_fn(word_preds, word_labels)\n",
    "    loss_word = loss_word * (mask.shape[0] * mask.shape[1]) / torch.sum(mask)\n",
    "\n",
    "    return loss_phn, loss_utt, loss_word, loss_utt_flu, loss_utt_int"
   ]
  },
  {
   "cell_type": "code",
   "execution_count": 14,
   "metadata": {},
   "outputs": [
    {
     "name": "stderr",
     "output_type": "stream",
     "text": [
      "Training: 100%|██████████| 2057/2057 [00:11<00:00, 179.11it/s, loss=0.293, loss_phn=0.169, loss_utt=0.0144, loss_word=0.092, lr=0.0005]   \n"
     ]
    },
    {
     "name": "stdout",
     "output_type": "stream",
     "text": [
      "### F1 Score: \n",
      "               precision    recall  f1-score   support\n",
      "\n",
      "         0.0       0.95      0.89      0.92    137433\n",
      "         1.0       0.20      0.50      0.29     11034\n",
      "         2.0       0.80      0.41      0.54     16688\n",
      "\n",
      "    accuracy                           0.81    165155\n",
      "   macro avg       0.65      0.60      0.58    165155\n",
      "weighted avg       0.88      0.81      0.84    165155\n",
      "\n",
      "Save state dict and result to /data/codes/apa/train/exp/dev/ckpts-eph=0-mse=0.14790000021457672\n",
      "### Validation result (epoch=0)\n",
      "  Phone level (ACC): MSE=0.148  MAE=0.222  PCC=0.737 \n",
      "   Word level (ACC): MSE=0.103  MAE=0.238  PCC=0.745 \n",
      "    Utt level (ACC): MSE=0.020  MAE=0.119  PCC=0.836 \n",
      "    Utt level (Intonation):  MSE=0.053  MAE=0.194  PCC=0.558\n",
      "    Utt level (Fluency):  MSE=0.055  MAE=0.188  PCC=0.265\n",
      "\n"
     ]
    },
    {
     "name": "stderr",
     "output_type": "stream",
     "text": [
      "Training: 100%|██████████| 2057/2057 [00:11<00:00, 174.55it/s, loss=0.254, loss_phn=0.123, loss_utt=0.0135, loss_word=0.0995, lr=0.0005]  \n"
     ]
    },
    {
     "name": "stdout",
     "output_type": "stream",
     "text": [
      "### F1 Score: \n",
      "               precision    recall  f1-score   support\n",
      "\n",
      "         0.0       0.95      0.90      0.92    137433\n",
      "         1.0       0.21      0.50      0.29     11034\n",
      "         2.0       0.83      0.40      0.54     16688\n",
      "\n",
      "    accuracy                           0.82    165155\n",
      "   macro avg       0.66      0.60      0.58    165155\n",
      "weighted avg       0.88      0.82      0.84    165155\n",
      "\n",
      "Save state dict and result to /data/codes/apa/train/exp/dev/ckpts-eph=1-mse=0.14079999923706055\n",
      "### Validation result (epoch=1)\n",
      "  Phone level (ACC): MSE=0.141  MAE=0.214  PCC=0.752 \n",
      "   Word level (ACC): MSE=0.098  MAE=0.221  PCC=0.757 \n",
      "    Utt level (ACC): MSE=0.020  MAE=0.117  PCC=0.848 \n",
      "    Utt level (Intonation):  MSE=0.045  MAE=0.165  PCC=0.662\n",
      "    Utt level (Fluency):  MSE=0.048  MAE=0.166  PCC=0.411\n",
      "\n"
     ]
    },
    {
     "name": "stderr",
     "output_type": "stream",
     "text": [
      "Training: 100%|██████████| 2057/2057 [00:11<00:00, 176.91it/s, loss=0.223, loss_phn=0.113, loss_utt=0.0297, loss_word=0.0877, lr=0.0005]  \n"
     ]
    },
    {
     "name": "stdout",
     "output_type": "stream",
     "text": [
      "### F1 Score: \n",
      "               precision    recall  f1-score   support\n",
      "\n",
      "         0.0       0.95      0.89      0.92    137433\n",
      "         1.0       0.21      0.50      0.30     11034\n",
      "         2.0       0.81      0.45      0.58     16688\n",
      "\n",
      "    accuracy                           0.82    165155\n",
      "   macro avg       0.65      0.62      0.60    165155\n",
      "weighted avg       0.88      0.82      0.84    165155\n",
      "\n",
      "Save state dict and result to /data/codes/apa/train/exp/dev/ckpts-eph=2-mse=0.13760000467300415\n",
      "### Validation result (epoch=2)\n",
      "  Phone level (ACC): MSE=0.138  MAE=0.212  PCC=0.758 \n",
      "   Word level (ACC): MSE=0.096  MAE=0.222  PCC=0.762 \n",
      "    Utt level (ACC): MSE=0.018  MAE=0.112  PCC=0.857 \n",
      "    Utt level (Intonation):  MSE=0.042  MAE=0.160  PCC=0.723\n",
      "    Utt level (Fluency):  MSE=0.049  MAE=0.160  PCC=0.487\n",
      "\n"
     ]
    },
    {
     "name": "stderr",
     "output_type": "stream",
     "text": [
      "Training: 100%|██████████| 2057/2057 [00:11<00:00, 179.62it/s, loss=0.238, loss_phn=0.136, loss_utt=0.00505, loss_word=0.0627, lr=0.0005] \n"
     ]
    },
    {
     "name": "stdout",
     "output_type": "stream",
     "text": [
      "### F1 Score: \n",
      "               precision    recall  f1-score   support\n",
      "\n",
      "         0.0       0.95      0.88      0.92    137433\n",
      "         1.0       0.21      0.52      0.30     11034\n",
      "         2.0       0.80      0.48      0.60     16688\n",
      "\n",
      "    accuracy                           0.82    165155\n",
      "   macro avg       0.65      0.63      0.60    165155\n",
      "weighted avg       0.89      0.82      0.84    165155\n",
      "\n",
      "Save state dict and result to /data/codes/apa/train/exp/dev/ckpts-eph=3-mse=0.13539999723434448\n",
      "### Validation result (epoch=3)\n",
      "  Phone level (ACC): MSE=0.135  MAE=0.215  PCC=0.763 \n",
      "   Word level (ACC): MSE=0.094  MAE=0.224  PCC=0.770 \n",
      "    Utt level (ACC): MSE=0.020  MAE=0.116  PCC=0.846 \n",
      "    Utt level (Intonation):  MSE=0.044  MAE=0.168  PCC=0.758\n",
      "    Utt level (Fluency):  MSE=0.042  MAE=0.155  PCC=0.548\n",
      "\n"
     ]
    },
    {
     "name": "stderr",
     "output_type": "stream",
     "text": [
      "Training: 100%|██████████| 2057/2057 [00:11<00:00, 178.80it/s, loss=0.293, loss_phn=0.164, loss_utt=0.00571, loss_word=0.0925, lr=0.0005] \n"
     ]
    },
    {
     "name": "stdout",
     "output_type": "stream",
     "text": [
      "### F1 Score: \n",
      "               precision    recall  f1-score   support\n",
      "\n",
      "         0.0       0.95      0.90      0.92    137433\n",
      "         1.0       0.22      0.49      0.30     11034\n",
      "         2.0       0.80      0.48      0.60     16688\n",
      "\n",
      "    accuracy                           0.83    165155\n",
      "   macro avg       0.66      0.63      0.61    165155\n",
      "weighted avg       0.89      0.83      0.85    165155\n",
      "\n",
      "Save state dict and result to /data/codes/apa/train/exp/dev/ckpts-eph=4-mse=0.13339999318122864\n",
      "### Validation result (epoch=4)\n",
      "  Phone level (ACC): MSE=0.133  MAE=0.202  PCC=0.767 \n",
      "   Word level (ACC): MSE=0.092  MAE=0.212  PCC=0.773 \n",
      "    Utt level (ACC): MSE=0.017  MAE=0.107  PCC=0.870 \n",
      "    Utt level (Intonation):  MSE=0.035  MAE=0.137  PCC=0.734\n",
      "    Utt level (Fluency):  MSE=0.041  MAE=0.155  PCC=0.558\n",
      "\n"
     ]
    },
    {
     "name": "stderr",
     "output_type": "stream",
     "text": [
      "Training: 100%|██████████| 2057/2057 [00:11<00:00, 176.93it/s, loss=0.293, loss_phn=0.156, loss_utt=0.0132, loss_word=0.104, lr=0.0005]   \n"
     ]
    },
    {
     "name": "stdout",
     "output_type": "stream",
     "text": [
      "### F1 Score: \n",
      "               precision    recall  f1-score   support\n",
      "\n",
      "         0.0       0.95      0.89      0.92    137433\n",
      "         1.0       0.21      0.52      0.30     11034\n",
      "         2.0       0.80      0.50      0.61     16688\n",
      "\n",
      "    accuracy                           0.82    165155\n",
      "   macro avg       0.65      0.63      0.61    165155\n",
      "weighted avg       0.89      0.82      0.85    165155\n",
      "\n",
      "Save state dict and result to /data/codes/apa/train/exp/dev/ckpts-eph=5-mse=0.13179999589920044\n",
      "### Validation result (epoch=5)\n",
      "  Phone level (ACC): MSE=0.132  MAE=0.208  PCC=0.771 \n",
      "   Word level (ACC): MSE=0.092  MAE=0.217  PCC=0.774 \n",
      "    Utt level (ACC): MSE=0.019  MAE=0.112  PCC=0.866 \n",
      "    Utt level (Intonation):  MSE=0.034  MAE=0.142  PCC=0.743\n",
      "    Utt level (Fluency):  MSE=0.042  MAE=0.160  PCC=0.536\n",
      "\n"
     ]
    },
    {
     "name": "stderr",
     "output_type": "stream",
     "text": [
      "Training: 100%|██████████| 2057/2057 [00:11<00:00, 174.82it/s, loss=0.285, loss_phn=0.121, loss_utt=0.0252, loss_word=0.0833, lr=0.0004]  \n"
     ]
    },
    {
     "name": "stdout",
     "output_type": "stream",
     "text": [
      "### F1 Score: \n",
      "               precision    recall  f1-score   support\n",
      "\n",
      "         0.0       0.95      0.90      0.92    137433\n",
      "         1.0       0.22      0.50      0.30     11034\n",
      "         2.0       0.80      0.50      0.61     16688\n",
      "\n",
      "    accuracy                           0.83    165155\n",
      "   macro avg       0.66      0.63      0.61    165155\n",
      "weighted avg       0.89      0.83      0.85    165155\n",
      "\n",
      "Save state dict and result to /data/codes/apa/train/exp/dev/ckpts-eph=6-mse=0.13050000369548798\n",
      "### Validation result (epoch=6)\n",
      "  Phone level (ACC): MSE=0.130  MAE=0.201  PCC=0.773 \n",
      "   Word level (ACC): MSE=0.090  MAE=0.211  PCC=0.778 \n",
      "    Utt level (ACC): MSE=0.017  MAE=0.107  PCC=0.868 \n",
      "    Utt level (Intonation):  MSE=0.038  MAE=0.149  PCC=0.749\n",
      "    Utt level (Fluency):  MSE=0.041  MAE=0.152  PCC=0.558\n",
      "\n"
     ]
    },
    {
     "name": "stderr",
     "output_type": "stream",
     "text": [
      "Training: 100%|██████████| 2057/2057 [00:11<00:00, 176.85it/s, loss=0.287, loss_phn=0.134, loss_utt=0.00272, loss_word=0.123, lr=0.0004]  \n"
     ]
    },
    {
     "name": "stdout",
     "output_type": "stream",
     "text": [
      "### F1 Score: \n",
      "               precision    recall  f1-score   support\n",
      "\n",
      "         0.0       0.95      0.90      0.92    137433\n",
      "         1.0       0.22      0.51      0.31     11034\n",
      "         2.0       0.81      0.48      0.60     16688\n",
      "\n",
      "    accuracy                           0.83    165155\n",
      "   macro avg       0.66      0.63      0.61    165155\n",
      "weighted avg       0.89      0.83      0.85    165155\n",
      "\n",
      "Save state dict and result to /data/codes/apa/train/exp/dev/ckpts-eph=7-mse=0.12970000505447388\n",
      "### Validation result (epoch=7)\n",
      "  Phone level (ACC): MSE=0.130  MAE=0.200  PCC=0.774 \n",
      "   Word level (ACC): MSE=0.090  MAE=0.214  PCC=0.777 \n",
      "    Utt level (ACC): MSE=0.017  MAE=0.109  PCC=0.876 \n",
      "    Utt level (Intonation):  MSE=0.035  MAE=0.138  PCC=0.741\n",
      "    Utt level (Fluency):  MSE=0.039  MAE=0.150  PCC=0.578\n",
      "\n"
     ]
    },
    {
     "name": "stderr",
     "output_type": "stream",
     "text": [
      "Training: 100%|██████████| 2057/2057 [00:11<00:00, 175.80it/s, loss=0.194, loss_phn=0.0959, loss_utt=0.00245, loss_word=0.0654, lr=0.0004]\n"
     ]
    },
    {
     "name": "stdout",
     "output_type": "stream",
     "text": [
      "### F1 Score: \n",
      "               precision    recall  f1-score   support\n",
      "\n",
      "         0.0       0.95      0.90      0.92    137433\n",
      "         1.0       0.22      0.51      0.31     11034\n",
      "         2.0       0.80      0.49      0.61     16688\n",
      "\n",
      "    accuracy                           0.83    165155\n",
      "   macro avg       0.66      0.63      0.62    165155\n",
      "weighted avg       0.89      0.83      0.85    165155\n",
      "\n",
      "Save state dict and result to /data/codes/apa/train/exp/dev/ckpts-eph=8-mse=0.12880000472068787\n",
      "### Validation result (epoch=8)\n",
      "  Phone level (ACC): MSE=0.129  MAE=0.202  PCC=0.776 \n",
      "   Word level (ACC): MSE=0.089  MAE=0.212  PCC=0.779 \n",
      "    Utt level (ACC): MSE=0.018  MAE=0.110  PCC=0.856 \n",
      "    Utt level (Intonation):  MSE=0.040  MAE=0.154  PCC=0.762\n",
      "    Utt level (Fluency):  MSE=0.043  MAE=0.151  PCC=0.575\n",
      "\n"
     ]
    },
    {
     "name": "stderr",
     "output_type": "stream",
     "text": [
      "Training: 100%|██████████| 2057/2057 [00:11<00:00, 177.56it/s, loss=0.297, loss_phn=0.134, loss_utt=0.0311, loss_word=0.104, lr=0.00032]   \n"
     ]
    },
    {
     "name": "stdout",
     "output_type": "stream",
     "text": [
      "### F1 Score: \n",
      "               precision    recall  f1-score   support\n",
      "\n",
      "         0.0       0.95      0.91      0.93    137433\n",
      "         1.0       0.23      0.48      0.31     11034\n",
      "         2.0       0.80      0.50      0.62     16688\n",
      "\n",
      "    accuracy                           0.84    165155\n",
      "   macro avg       0.66      0.63      0.62    165155\n",
      "weighted avg       0.89      0.84      0.86    165155\n",
      "\n",
      "Save state dict and result to /data/codes/apa/train/exp/dev/ckpts-eph=9-mse=0.12860000133514404\n",
      "### Validation result (epoch=9)\n",
      "  Phone level (ACC): MSE=0.129  MAE=0.196  PCC=0.776 \n",
      "   Word level (ACC): MSE=0.089  MAE=0.206  PCC=0.781 \n",
      "    Utt level (ACC): MSE=0.017  MAE=0.105  PCC=0.864 \n",
      "    Utt level (Intonation):  MSE=0.034  MAE=0.133  PCC=0.745\n",
      "    Utt level (Fluency):  MSE=0.041  MAE=0.155  PCC=0.569\n",
      "\n"
     ]
    },
    {
     "name": "stderr",
     "output_type": "stream",
     "text": [
      "Training: 100%|██████████| 2057/2057 [00:11<00:00, 175.73it/s, loss=0.251, loss_phn=0.149, loss_utt=0.0105, loss_word=0.0912, lr=0.00032]  \n"
     ]
    },
    {
     "name": "stdout",
     "output_type": "stream",
     "text": [
      "### F1 Score: \n",
      "               precision    recall  f1-score   support\n",
      "\n",
      "         0.0       0.95      0.90      0.93    137433\n",
      "         1.0       0.22      0.49      0.31     11034\n",
      "         2.0       0.80      0.50      0.62     16688\n",
      "\n",
      "    accuracy                           0.83    165155\n",
      "   macro avg       0.66      0.63      0.62    165155\n",
      "weighted avg       0.89      0.83      0.85    165155\n",
      "\n",
      "Save state dict and result to /data/codes/apa/train/exp/dev/ckpts-eph=10-mse=0.12839999794960022\n",
      "### Validation result (epoch=10)\n",
      "  Phone level (ACC): MSE=0.128  MAE=0.199  PCC=0.777 \n",
      "   Word level (ACC): MSE=0.089  MAE=0.206  PCC=0.779 \n",
      "    Utt level (ACC): MSE=0.020  MAE=0.111  PCC=0.841 \n",
      "    Utt level (Intonation):  MSE=0.036  MAE=0.142  PCC=0.745\n",
      "    Utt level (Fluency):  MSE=0.039  MAE=0.150  PCC=0.592\n",
      "\n"
     ]
    },
    {
     "name": "stderr",
     "output_type": "stream",
     "text": [
      "Training: 100%|██████████| 2057/2057 [00:11<00:00, 178.82it/s, loss=0.237, loss_phn=0.129, loss_utt=0.00469, loss_word=0.0931, lr=0.00032] \n"
     ]
    },
    {
     "name": "stdout",
     "output_type": "stream",
     "text": [
      "### F1 Score: \n",
      "               precision    recall  f1-score   support\n",
      "\n",
      "         0.0       0.95      0.90      0.92    137433\n",
      "         1.0       0.22      0.50      0.31     11034\n",
      "         2.0       0.79      0.52      0.63     16688\n",
      "\n",
      "    accuracy                           0.83    165155\n",
      "   macro avg       0.66      0.64      0.62    165155\n",
      "weighted avg       0.89      0.83      0.85    165155\n",
      "\n",
      "Save state dict and result to /data/codes/apa/train/exp/dev/ckpts-eph=11-mse=0.1289999932050705\n",
      "### Validation result (epoch=11)\n",
      "  Phone level (ACC): MSE=0.129  MAE=0.199  PCC=0.776 \n",
      "   Word level (ACC): MSE=0.090  MAE=0.211  PCC=0.778 \n",
      "    Utt level (ACC): MSE=0.019  MAE=0.110  PCC=0.858 \n",
      "    Utt level (Intonation):  MSE=0.041  MAE=0.162  PCC=0.757\n",
      "    Utt level (Fluency):  MSE=0.046  MAE=0.159  PCC=0.596\n",
      "\n"
     ]
    },
    {
     "name": "stderr",
     "output_type": "stream",
     "text": [
      "Training: 100%|██████████| 2057/2057 [00:11<00:00, 175.36it/s, loss=0.222, loss_phn=0.114, loss_utt=0.0213, loss_word=0.0607, lr=0.000256]  \n"
     ]
    },
    {
     "name": "stdout",
     "output_type": "stream",
     "text": [
      "### F1 Score: \n",
      "               precision    recall  f1-score   support\n",
      "\n",
      "         0.0       0.95      0.90      0.93    137433\n",
      "         1.0       0.22      0.50      0.31     11034\n",
      "         2.0       0.80      0.50      0.62     16688\n",
      "\n",
      "    accuracy                           0.83    165155\n",
      "   macro avg       0.66      0.63      0.62    165155\n",
      "weighted avg       0.89      0.83      0.85    165155\n",
      "\n",
      "Save state dict and result to /data/codes/apa/train/exp/dev/ckpts-eph=12-mse=0.12770000100135803\n",
      "### Validation result (epoch=12)\n",
      "  Phone level (ACC): MSE=0.128  MAE=0.197  PCC=0.778 \n",
      "   Word level (ACC): MSE=0.088  MAE=0.208  PCC=0.781 \n",
      "    Utt level (ACC): MSE=0.020  MAE=0.113  PCC=0.852 \n",
      "    Utt level (Intonation):  MSE=0.033  MAE=0.136  PCC=0.764\n",
      "    Utt level (Fluency):  MSE=0.037  MAE=0.147  PCC=0.609\n",
      "\n"
     ]
    },
    {
     "name": "stderr",
     "output_type": "stream",
     "text": [
      "Training: 100%|██████████| 2057/2057 [00:11<00:00, 174.92it/s, loss=0.231, loss_phn=0.141, loss_utt=0.0192, loss_word=0.0719, lr=0.000256]  \n"
     ]
    },
    {
     "name": "stdout",
     "output_type": "stream",
     "text": [
      "### F1 Score: \n",
      "               precision    recall  f1-score   support\n",
      "\n",
      "         0.0       0.95      0.90      0.93    137433\n",
      "         1.0       0.22      0.48      0.31     11034\n",
      "         2.0       0.79      0.52      0.63     16688\n",
      "\n",
      "    accuracy                           0.84    165155\n",
      "   macro avg       0.66      0.63      0.62    165155\n",
      "weighted avg       0.89      0.84      0.85    165155\n",
      "\n",
      "Save state dict and result to /data/codes/apa/train/exp/dev/ckpts-eph=13-mse=0.12849999964237213\n",
      "### Validation result (epoch=13)\n",
      "  Phone level (ACC): MSE=0.128  MAE=0.195  PCC=0.777 \n",
      "   Word level (ACC): MSE=0.089  MAE=0.209  PCC=0.780 \n",
      "    Utt level (ACC): MSE=0.018  MAE=0.106  PCC=0.860 \n",
      "    Utt level (Intonation):  MSE=0.033  MAE=0.135  PCC=0.758\n",
      "    Utt level (Fluency):  MSE=0.038  MAE=0.152  PCC=0.621\n",
      "\n"
     ]
    },
    {
     "name": "stderr",
     "output_type": "stream",
     "text": [
      "Training: 100%|██████████| 2057/2057 [00:11<00:00, 177.12it/s, loss=0.2, loss_phn=0.0968, loss_utt=0.0286, loss_word=0.0681, lr=0.000256]   \n"
     ]
    },
    {
     "name": "stdout",
     "output_type": "stream",
     "text": [
      "### F1 Score: \n",
      "               precision    recall  f1-score   support\n",
      "\n",
      "         0.0       0.95      0.92      0.93    137433\n",
      "         1.0       0.24      0.46      0.31     11034\n",
      "         2.0       0.81      0.49      0.61     16688\n",
      "\n",
      "    accuracy                           0.85    165155\n",
      "   macro avg       0.67      0.62      0.62    165155\n",
      "weighted avg       0.89      0.85      0.86    165155\n",
      "\n",
      "Save state dict and result to /data/codes/apa/train/exp/dev/ckpts-eph=14-mse=0.12870000302791595\n",
      "### Validation result (epoch=14)\n",
      "  Phone level (ACC): MSE=0.129  MAE=0.187  PCC=0.778 \n",
      "   Word level (ACC): MSE=0.090  MAE=0.198  PCC=0.781 \n",
      "    Utt level (ACC): MSE=0.020  MAE=0.118  PCC=0.862 \n",
      "    Utt level (Intonation):  MSE=0.035  MAE=0.140  PCC=0.743\n",
      "    Utt level (Fluency):  MSE=0.037  MAE=0.145  PCC=0.611\n",
      "\n"
     ]
    },
    {
     "name": "stderr",
     "output_type": "stream",
     "text": [
      "Training: 100%|██████████| 2057/2057 [00:11<00:00, 177.62it/s, loss=0.241, loss_phn=0.133, loss_utt=0.0035, loss_word=0.0728, lr=0.000205]  \n"
     ]
    },
    {
     "name": "stdout",
     "output_type": "stream",
     "text": [
      "### F1 Score: \n",
      "               precision    recall  f1-score   support\n",
      "\n",
      "         0.0       0.95      0.90      0.93    137433\n",
      "         1.0       0.23      0.49      0.31     11034\n",
      "         2.0       0.80      0.51      0.62     16688\n",
      "\n",
      "    accuracy                           0.84    165155\n",
      "   macro avg       0.66      0.64      0.62    165155\n",
      "weighted avg       0.89      0.84      0.86    165155\n",
      "\n",
      "Save state dict and result to /data/codes/apa/train/exp/dev/ckpts-eph=15-mse=0.12729999423027039\n",
      "### Validation result (epoch=15)\n",
      "  Phone level (ACC): MSE=0.127  MAE=0.194  PCC=0.779 \n",
      "   Word level (ACC): MSE=0.088  MAE=0.204  PCC=0.782 \n",
      "    Utt level (ACC): MSE=0.018  MAE=0.109  PCC=0.858 \n",
      "    Utt level (Intonation):  MSE=0.038  MAE=0.150  PCC=0.746\n",
      "    Utt level (Fluency):  MSE=0.039  MAE=0.155  PCC=0.599\n",
      "\n"
     ]
    },
    {
     "name": "stderr",
     "output_type": "stream",
     "text": [
      "Training: 100%|██████████| 2057/2057 [00:13<00:00, 155.14it/s, loss=0.185, loss_phn=0.0748, loss_utt=0.015, loss_word=0.068, lr=0.000205]   \n"
     ]
    },
    {
     "name": "stdout",
     "output_type": "stream",
     "text": [
      "### F1 Score: \n",
      "               precision    recall  f1-score   support\n",
      "\n",
      "         0.0       0.95      0.90      0.93    137433\n",
      "         1.0       0.23      0.49      0.31     11034\n",
      "         2.0       0.80      0.52      0.63     16688\n",
      "\n",
      "    accuracy                           0.84    165155\n",
      "   macro avg       0.66      0.64      0.62    165155\n",
      "weighted avg       0.89      0.84      0.86    165155\n",
      "\n",
      "Save state dict and result to /data/codes/apa/train/exp/dev/ckpts-eph=16-mse=0.12710000574588776\n",
      "### Validation result (epoch=16)\n",
      "  Phone level (ACC): MSE=0.127  MAE=0.195  PCC=0.779 \n",
      "   Word level (ACC): MSE=0.088  MAE=0.207  PCC=0.783 \n",
      "    Utt level (ACC): MSE=0.018  MAE=0.110  PCC=0.854 \n",
      "    Utt level (Intonation):  MSE=0.033  MAE=0.129  PCC=0.745\n",
      "    Utt level (Fluency):  MSE=0.040  MAE=0.162  PCC=0.612\n",
      "\n"
     ]
    },
    {
     "name": "stderr",
     "output_type": "stream",
     "text": [
      "Training: 100%|██████████| 2057/2057 [00:11<00:00, 171.52it/s, loss=0.254, loss_phn=0.0958, loss_utt=0.00688, loss_word=0.0567, lr=0.000205]\n"
     ]
    },
    {
     "name": "stdout",
     "output_type": "stream",
     "text": [
      "### F1 Score: \n",
      "               precision    recall  f1-score   support\n",
      "\n",
      "         0.0       0.95      0.90      0.93    137433\n",
      "         1.0       0.22      0.49      0.31     11034\n",
      "         2.0       0.79      0.53      0.63     16688\n",
      "\n",
      "    accuracy                           0.84    165155\n",
      "   macro avg       0.66      0.64      0.62    165155\n",
      "weighted avg       0.89      0.84      0.85    165155\n",
      "\n",
      "Save state dict and result to /data/codes/apa/train/exp/dev/ckpts-eph=17-mse=0.1274999976158142\n",
      "### Validation result (epoch=17)\n",
      "  Phone level (ACC): MSE=0.127  MAE=0.197  PCC=0.779 \n",
      "   Word level (ACC): MSE=0.088  MAE=0.209  PCC=0.782 \n",
      "    Utt level (ACC): MSE=0.018  MAE=0.107  PCC=0.865 \n",
      "    Utt level (Intonation):  MSE=0.039  MAE=0.151  PCC=0.730\n",
      "    Utt level (Fluency):  MSE=0.040  MAE=0.154  PCC=0.596\n",
      "\n"
     ]
    },
    {
     "name": "stderr",
     "output_type": "stream",
     "text": [
      "Training: 100%|██████████| 2057/2057 [00:11<00:00, 176.96it/s, loss=0.209, loss_phn=0.101, loss_utt=0.0065, loss_word=0.0792, lr=0.000164]  \n"
     ]
    },
    {
     "name": "stdout",
     "output_type": "stream",
     "text": [
      "### F1 Score: \n",
      "               precision    recall  f1-score   support\n",
      "\n",
      "         0.0       0.95      0.91      0.93    137433\n",
      "         1.0       0.23      0.48      0.31     11034\n",
      "         2.0       0.80      0.52      0.63     16688\n",
      "\n",
      "    accuracy                           0.84    165155\n",
      "   macro avg       0.66      0.64      0.62    165155\n",
      "weighted avg       0.89      0.84      0.86    165155\n",
      "\n",
      "Save state dict and result to /data/codes/apa/train/exp/dev/ckpts-eph=18-mse=0.12710000574588776\n",
      "### Validation result (epoch=18)\n",
      "  Phone level (ACC): MSE=0.127  MAE=0.192  PCC=0.780 \n",
      "   Word level (ACC): MSE=0.088  MAE=0.203  PCC=0.782 \n",
      "    Utt level (ACC): MSE=0.018  MAE=0.109  PCC=0.863 \n",
      "    Utt level (Intonation):  MSE=0.037  MAE=0.146  PCC=0.744\n",
      "    Utt level (Fluency):  MSE=0.039  MAE=0.150  PCC=0.609\n",
      "\n"
     ]
    },
    {
     "name": "stderr",
     "output_type": "stream",
     "text": [
      "Training: 100%|██████████| 2057/2057 [00:11<00:00, 178.96it/s, loss=0.159, loss_phn=0.0782, loss_utt=0.00479, loss_word=0.0615, lr=0.000164]\n"
     ]
    },
    {
     "name": "stdout",
     "output_type": "stream",
     "text": [
      "### F1 Score: \n",
      "               precision    recall  f1-score   support\n",
      "\n",
      "         0.0       0.95      0.91      0.93    137433\n",
      "         1.0       0.23      0.47      0.31     11034\n",
      "         2.0       0.80      0.52      0.63     16688\n",
      "\n",
      "    accuracy                           0.84    165155\n",
      "   macro avg       0.66      0.63      0.62    165155\n",
      "weighted avg       0.89      0.84      0.86    165155\n",
      "\n",
      "Save state dict and result to /data/codes/apa/train/exp/dev/ckpts-eph=19-mse=0.12710000574588776\n",
      "### Validation result (epoch=19)\n",
      "  Phone level (ACC): MSE=0.127  MAE=0.191  PCC=0.780 \n",
      "   Word level (ACC): MSE=0.088  MAE=0.203  PCC=0.781 \n",
      "    Utt level (ACC): MSE=0.018  MAE=0.109  PCC=0.858 \n",
      "    Utt level (Intonation):  MSE=0.037  MAE=0.142  PCC=0.740\n",
      "    Utt level (Fluency):  MSE=0.041  MAE=0.154  PCC=0.603\n",
      "\n"
     ]
    },
    {
     "data": {
      "image/png": "[encoded data removed]",
      "text/plain": [
       "<Figure size 640x480 with 1 Axes>"
      ]
     },
     "metadata": {},
     "output_type": "display_data"
    }
   ],
   "source": [
    "global_step = 0\n",
    "best_mse = 1e5\n",
    "num_epoch = 20\n",
    "phone_weight = 1.0\n",
    "word_weight = 1.0\n",
    "utterance_weight = 1.0\n",
    "\n",
    "cur_lr = lr\n",
    "for epoch in range(num_epoch):\n",
    "    if epoch >= 5 and epoch % 3 == 0:\n",
    "        cur_lr = (4 / 5) * cur_lr \n",
    "        for param_group in optimizer.param_groups:\n",
    "            param_group['lr'] = cur_lr\n",
    "\n",
    "    gopt_model.train()\n",
    "    train_tqdm = tqdm(trainloader, \"Training\")\n",
    "    for batch in train_tqdm:\n",
    "        optimizer.zero_grad()\n",
    "\n",
    "        ids, features, phone_ids, word_ids, relative_positions, \\\n",
    "            phone_labels, word_labels, utterance_labels, \\\n",
    "            fluency_labels, intonation_labels = to_device(batch, device)\n",
    "        \n",
    "        utterance_preds, phone_preds, word_preds, flu_preds, int_preds = gopt_model(\n",
    "            x=features.float(), phn=phone_ids.long(), rel_pos=relative_positions.long())\n",
    "                \n",
    "        loss_phn, loss_utt, loss_word, loss_utt_flu, loss_utt_int = calculate_losses(\n",
    "            phone_preds=phone_preds, \n",
    "            phone_labels=phone_labels, \n",
    "            word_preds=word_preds, \n",
    "            word_labels=word_labels, \n",
    "            utterance_preds=utterance_preds, \n",
    "            utterance_labels=utterance_labels,\n",
    "            fluency_preds=flu_preds, \n",
    "            fluency_labels=fluency_labels,\n",
    "            intonation_preds=int_preds,\n",
    "            intonation_labels=intonation_labels\n",
    "        )\n",
    "\n",
    "        loss = phone_weight*loss_phn + word_weight*loss_word + utterance_weight*(loss_utt + loss_utt_flu + loss_utt_int)/3\n",
    "        \n",
    "        loss.backward()\n",
    "        torch.nn.utils.clip_grad_norm_(gopt_model.parameters(), 1.0)\n",
    "        \n",
    "        optimizer.step()\n",
    "        \n",
    "        global_step += 1\n",
    "        train_tqdm.set_postfix(\n",
    "            lr=cur_lr,\n",
    "            loss=loss.item(), \n",
    "            loss_phn=loss_phn.item(), \n",
    "            loss_word=loss_word.item(), \n",
    "            loss_utt=loss_utt.item())\n",
    "    \n",
    "    valid_result = validate(\n",
    "        epoch=epoch, \n",
    "        optimizer=optimizer,\n",
    "        gopt_model=gopt_model, \n",
    "        testloader=testloader, \n",
    "        best_mse=best_mse, \n",
    "        ckpt_dir=ckpt_dir,\n",
    "        device=device)\n",
    "    \n",
    "    best_mse = valid_result[\"best_mse\"]\n",
    "    global_step += 1"
   ]
  }
 ],
 "metadata": {
  "kernelspec": {
   "display_name": "ps",
   "language": "python",
   "name": "python3"
  },
  "language_info": {
   "codemirror_mode": {
    "name": "ipython",
    "version": 3
   },
   "file_extension": ".py",
   "mimetype": "text/x-python",
   "name": "python",
   "nbconvert_exporter": "python",
   "pygments_lexer": "ipython3",
   "version": "3.8.17"
  },
  "orig_nbformat": 4
 },
 "nbformat": 4,
 "nbformat_minor": 2
}
