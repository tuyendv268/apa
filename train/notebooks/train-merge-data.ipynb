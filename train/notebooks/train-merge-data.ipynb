{
 "cells": [
  {
   "cell_type": "code",
   "execution_count": 1,
   "metadata": {},
   "outputs": [],
   "source": [
    "import os\n",
    "import numpy as np\n",
    "from tqdm import tqdm"
   ]
  },
  {
   "cell_type": "code",
   "execution_count": 2,
   "metadata": {},
   "outputs": [],
   "source": [
    "in_path_1 = \"/data/codes/apa/train/exps/features/train/incompl-train-data-type-10\"\n",
    "in_path_2 = \"/data/codes/apa/train/exps/features/train/train-type-10\"\n",
    "\n",
    "merge_path = \"/data/codes/apa/train/exps/features/train/merge\"\n",
    "\n",
    "if not os.path.exists(merge_path):\n",
    "    os.mkdir(merge_path)"
   ]
  },
  {
   "cell_type": "code",
   "execution_count": 3,
   "metadata": {},
   "outputs": [
    {
     "name": "stderr",
     "output_type": "stream",
     "text": [
      "  0%|          | 0/13 [00:00<?, ?it/s]"
     ]
    },
    {
     "name": "stdout",
     "output_type": "stream",
     "text": [
      "saved: /data/codes/apa/train/exps/features/train/merge/word_scores.npy\n"
     ]
    },
    {
     "name": "stderr",
     "output_type": "stream",
     "text": [
      " 38%|███▊      | 5/13 [00:00<00:00, 37.17it/s]"
     ]
    },
    {
     "name": "stdout",
     "output_type": "stream",
     "text": [
      "saved: /data/codes/apa/train/exps/features/train/merge/duration.npy\n",
      "saved: /data/codes/apa/train/exps/features/train/merge/phone_ids.npy\n",
      "saved: /data/codes/apa/train/exps/features/train/merge/sentence_scores.npy\n",
      "saved: /data/codes/apa/train/exps/features/train/merge/relative_positions.npy\n"
     ]
    },
    {
     "name": "stderr",
     "output_type": "stream",
     "text": [
      " 69%|██████▉   | 9/13 [00:01<00:00,  5.92it/s]"
     ]
    },
    {
     "name": "stdout",
     "output_type": "stream",
     "text": [
      "saved: /data/codes/apa/train/exps/features/train/merge/gop.npy\n",
      "saved: /data/codes/apa/train/exps/features/train/merge/word_ids.npy\n"
     ]
    },
    {
     "name": "stderr",
     "output_type": "stream",
     "text": [
      " 85%|████████▍ | 11/13 [00:36<00:10,  5.04s/it]"
     ]
    },
    {
     "name": "stdout",
     "output_type": "stream",
     "text": [
      "saved: /data/codes/apa/train/exps/features/train/merge/wavlm_features.npy\n"
     ]
    },
    {
     "name": "stderr",
     "output_type": "stream",
     "text": [
      "100%|██████████| 13/13 [00:37<00:00,  2.87s/it]"
     ]
    },
    {
     "name": "stdout",
     "output_type": "stream",
     "text": [
      "saved: /data/codes/apa/train/exps/features/train/merge/phone_scores.npy\n"
     ]
    },
    {
     "name": "stderr",
     "output_type": "stream",
     "text": [
      "\n"
     ]
    }
   ],
   "source": [
    "for file in tqdm(os.listdir(in_path_1)):\n",
    "    if not file.endswith(\".npy\"):\n",
    "        continue\n",
    "\n",
    "    npy_1 = f'{in_path_1}/{file}'\n",
    "    npy_2 = f'{in_path_2}/{file}'\n",
    "\n",
    "    data_1 = np.load(npy_1)\n",
    "    data_2 = np.load(npy_2)\n",
    "\n",
    "    data = np.concatenate([data_1, data_2], axis=0)\n",
    "    \n",
    "    out_path = f'{merge_path}/{file}'\n",
    "    np.save(out_path, data)\n",
    "    print(f'saved: {out_path}')\n"
   ]
  },
  {
   "cell_type": "code",
   "execution_count": 4,
   "metadata": {},
   "outputs": [
    {
     "name": "stdout",
     "output_type": "stream",
     "text": [
      "/data/codes/apa/train\n"
     ]
    }
   ],
   "source": [
    "%cd /data/codes/apa/train/\n",
    "from tqdm import tqdm\n",
    "import numpy as np\n",
    "import pickle\n",
    "import os\n",
    "\n",
    "from src.indexed_dataset import (\n",
    "    IndexedDataset,\n",
    "    IndexedDatasetBuilder\n",
    ")"
   ]
  },
  {
   "cell_type": "code",
   "execution_count": 5,
   "metadata": {},
   "outputs": [
    {
     "name": "stderr",
     "output_type": "stream",
     "text": [
      "100%|██████████| 151948/151948 [00:12<00:00, 12637.29it/s]\n"
     ]
    }
   ],
   "source": [
    "npy_path = f\"{merge_path}/wavlm_features.npy\"\n",
    "indexed_path = f'{merge_path}/wavlm_features'\n",
    "\n",
    "data = np.load(npy_path)\n",
    "builder = IndexedDatasetBuilder(indexed_path)\n",
    "\n",
    "for index in tqdm(range(data.shape[0])):\n",
    "    builder.add_item(item=data[index])\n",
    "\n",
    "builder.finalize()"
   ]
  }
 ],
 "metadata": {
  "kernelspec": {
   "display_name": "ps",
   "language": "python",
   "name": "python3"
  },
  "language_info": {
   "codemirror_mode": {
    "name": "ipython",
    "version": 3
   },
   "file_extension": ".py",
   "mimetype": "text/x-python",
   "name": "python",
   "nbconvert_exporter": "python",
   "pygments_lexer": "ipython3",
   "version": "3.8.17"
  }
 },
 "nbformat": 4,
 "nbformat_minor": 2
}
