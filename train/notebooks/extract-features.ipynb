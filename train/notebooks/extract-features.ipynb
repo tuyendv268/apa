{
 "cells": [
  {
   "cell_type": "code",
   "execution_count": null,
   "metadata": {},
   "outputs": [],
   "source": [
    "from glob import glob\n",
    "from tqdm import tqdm\n",
    "import pandas as pd\n",
    "import numpy as np\n",
    "import pickle\n",
    "import torch\n",
    "import json\n",
    "import re"
   ]
  },
  {
   "cell_type": "code",
   "execution_count": null,
   "metadata": {},
   "outputs": [],
   "source": [
    "def map_phone(phones):\n",
    "    mapped_phone = []\n",
    "    for phone in phones:\n",
    "        if phone == \"SCHWA\" or phone == \"AH0\":\n",
    "            mapped_phone.append(\"AX\")\n",
    "        else:\n",
    "            mapped_phone.append(phone)\n",
    "    \n",
    "    return mapped_phone\n",
    "\n",
    "def get_phone_pure(phones):\n",
    "    pure_phones = [re.sub(r\"\\d\", \"\", phone) for phone in phones]\n",
    "\n",
    "    return pure_phones\n",
    "\n",
    "def preprocess_metadata(metadata):\n",
    "    metadata = metadata[\n",
    "        [\"id\", \"audio_path\", \"text\", \"arpas\", \"trans\", \"phone_scores\", \"word_scores\", \"word_ids\", \"utterance_scores\"]\n",
    "    ]\n",
    "    metadata[\"id\"] = metadata.id.apply(str)\n",
    "    metadata = metadata.rename(columns={\"arpas\":\"elsa_phone\"})\n",
    "    metadata[\"elsa_phone\"] = metadata.elsa_phone.apply(map_phone)\n",
    "    metadata[\"elsa_phone\"] = metadata.elsa_phone.apply(get_phone_pure)\n",
    "    metadata[\"trans\"] = metadata.trans.apply(map_phone)\n",
    "\n",
    "    return metadata\n",
    "\n",
    "def load_jsonl(path):\n",
    "    with open(path, \"r\", encoding=\"utf-8\") as f:\n",
    "        lines = f.readlines()\n",
    "        lines = [json.loads(line.strip()) for line in lines]\n",
    "    \n",
    "    lines = pd.DataFrame(lines)\n",
    "    return lines\n",
    "\n",
    "import pickle\n",
    "\n",
    "\n",
    "def load_gops(gop_paths):\n",
    "    gops = {}\n",
    "    for path in gop_paths:\n",
    "        try:\n",
    "            gop = pickle.load(open(path, \"rb\"))\n",
    "        except:\n",
    "            continue\n",
    "        \n",
    "        for key in gop.keys():\n",
    "            assert key not in gops\n",
    "\n",
    "        gops.update(gop)\n",
    "\n",
    "    return gops"
   ]
  },
  {
   "cell_type": "code",
   "execution_count": null,
   "metadata": {},
   "outputs": [],
   "source": [
    "metadata_path = \"/data/codes/apa/train/prep_data/jsonl/train-data-type-12-v2.jsonl\"\n",
    "out_dir = \"/data/codes/apa/train/exps/features/train/train-12-v2\"\n",
    "data_dir = \"/data/codes/apa/train/data/train/train-12-v2\"\n",
    "\n",
    "# metadata_path = \"/data/codes/apa/train/prep_data/jsonl/info_in_domain_short_sentence_testset.jsonl\"\n",
    "# out_dir = \"/data/codes/apa/train/exps/features/test/in-short\"\n",
    "# data_dir = \"/data/codes/apa/train/data/test/in-short\"\n",
    "\n",
    "# metadata_path = \"/data/codes/apa/train/prep_data/jsonl/info_out_domain_short_sentence_testset.jsonl\"\n",
    "# out_dir = \"/data/codes/apa/train/exps/features/test/out-short\"\n",
    "# data_dir = \"/data/codes/apa/train/data/test/out-short\"\n",
    "\n",
    "# metadata_path = \"/data/codes/apa/train/prep_data/jsonl/info_qt_10_trainset.jsonl\"\n",
    "# out_dir = \"/data/codes/apa/train/exps/features/train/train-10\"\n",
    "# data_dir = \"/data/codes/apa/train/data/train/train-type-10\"\n",
    "\n",
    "metadata = load_jsonl(metadata_path)\n",
    "metadata = preprocess_metadata(metadata)\n",
    "print(metadata.shape)\n",
    "metadata.head(1)"
   ]
  },
  {
   "cell_type": "code",
   "execution_count": null,
   "metadata": {},
   "outputs": [],
   "source": [
    "import os\n",
    "\n",
    "if not os.path.exists(out_dir):\n",
    "    os.makedirs(out_dir)"
   ]
  },
  {
   "cell_type": "code",
   "execution_count": null,
   "metadata": {},
   "outputs": [],
   "source": [
    "gop_path = f'{data_dir}/*/gop.pkl'\n",
    "align_path = f'{data_dir}/*/ali.out'\n",
    "\n",
    "alignment_paths = glob(align_path)\n",
    "gop_paths = glob(gop_path)"
   ]
  },
  {
   "cell_type": "code",
   "execution_count": null,
   "metadata": {},
   "outputs": [],
   "source": [
    "def load_alignment(path):\n",
    "    alignment_df = pd.read_csv(\n",
    "        path, names=[\"id\", \"alignment\"], sep=\"\\t\", dtype={\"id\": str}\n",
    "    )\n",
    "    alignment_df[\"alignment\"] = alignment_df.alignment.apply(json.loads)\n",
    "\n",
    "    return alignment_df\n",
    "\n",
    "def load_alignments(paths):\n",
    "    alignments = []\n",
    "    for path in paths:\n",
    "        alignment = load_alignment(path)\n",
    "        alignments.append(alignment)\n",
    "    \n",
    "    alignments = pd.concat(alignments)\n",
    "    alignments.reset_index(inplace=True)\n",
    "\n",
    "    return alignments[[\"id\", \"alignment\"]]\n",
    "\n",
    "alignments = load_alignments(alignment_paths)\n",
    "gops = load_gops(gop_paths)"
   ]
  },
  {
   "cell_type": "code",
   "execution_count": null,
   "metadata": {},
   "outputs": [],
   "source": [
    "is_valid = alignments.id.apply(lambda x: x in gops)\n",
    "print(alignments.shape)\n",
    "alignments = alignments[is_valid]\n",
    "print(alignments.shape)"
   ]
  },
  {
   "cell_type": "code",
   "execution_count": null,
   "metadata": {},
   "outputs": [],
   "source": [
    "def extract_phonemes(alignments):\n",
    "    phonemes = [\n",
    "        re.sub(\"\\d\", \"\",phoneme[0].split(\"_\")[0]) for phoneme in alignments\n",
    "        if phoneme[0] != \"SIL\"\n",
    "    ]\n",
    "    return phonemes\n",
    "\n",
    "def extract_durations(alignments):\n",
    "    durations = [\n",
    "        round(phoneme[2] * 0.02, 4) for phoneme in alignments\n",
    "        if phoneme[0] != \"SIL\"\n",
    "    ]\n",
    "    return durations\n",
    "\n",
    "def extract_relative_positions(alignments):\n",
    "    relative_positions = [\n",
    "        phoneme[0].split(\"_\")[-1] for phoneme in alignments\n",
    "        if phoneme[0] != \"SIL\"\n",
    "    ]\n",
    "    return relative_positions\n",
    "\n",
    "\n",
    "alignments[\"relative_positions\"] = alignments.alignment.apply(lambda x: extract_relative_positions(x))\n",
    "alignments[\"prep_phone\"] = alignments.alignment.apply(lambda x: extract_phonemes(x))\n",
    "alignments[\"duration\"] = alignments.alignment.apply(lambda x: extract_durations(x))"
   ]
  },
  {
   "cell_type": "code",
   "execution_count": null,
   "metadata": {},
   "outputs": [],
   "source": [
    "metadata = pd.merge(\n",
    "    left=metadata, \n",
    "    right=alignments[[\"id\", \"alignment\", \"prep_phone\", \"relative_positions\", \"duration\"]], \n",
    "    how=\"inner\", on=\"id\"\n",
    ")\n",
    "\n",
    "metadata.head(1)"
   ]
  },
  {
   "cell_type": "code",
   "execution_count": null,
   "metadata": {},
   "outputs": [],
   "source": [
    "def count_match(elsa, prep, scores):\n",
    "    for index, (phone_1, phone_2) in enumerate(zip(elsa, prep)):\n",
    "        if phone_1 != phone_2:\n",
    "            if scores[index] < 30:\n",
    "                continue\n",
    "            return 0\n",
    "        \n",
    "    return 1\n",
    "\n",
    "is_matched = metadata.apply(lambda x: count_match(elsa=x[\"elsa_phone\"], prep=x[\"prep_phone\"], scores=x[\"phone_scores\"]), axis=1)\n",
    "print(is_matched.sum())\n",
    "print(is_matched.shape)"
   ]
  },
  {
   "cell_type": "code",
   "execution_count": null,
   "metadata": {},
   "outputs": [],
   "source": [
    "metadata = metadata[is_matched==True]"
   ]
  },
  {
   "cell_type": "code",
   "execution_count": null,
   "metadata": {},
   "outputs": [],
   "source": [
    "lengths = metadata[\"elsa_phone\"].apply(len)\n",
    "lengths.hist(bins=100)"
   ]
  },
  {
   "cell_type": "code",
   "execution_count": null,
   "metadata": {},
   "outputs": [],
   "source": [
    "MAX_LENGTH = 32\n",
    "\n",
    "print(metadata.shape)\n",
    "metadata = metadata[lengths<MAX_LENGTH]\n",
    "print(metadata.shape)"
   ]
  },
  {
   "cell_type": "code",
   "execution_count": null,
   "metadata": {},
   "outputs": [],
   "source": [
    "# print(metadata[\"id\"][0])\n",
    "# for gop in gops[metadata[\"id\"][0]]:\n",
    "#     print(gop[0:5])"
   ]
  },
  {
   "cell_type": "markdown",
   "metadata": {},
   "source": [
    "### Extract gop feature"
   ]
  },
  {
   "cell_type": "code",
   "execution_count": null,
   "metadata": {},
   "outputs": [],
   "source": [
    "gop_features = []\n",
    "\n",
    "for index in tqdm(metadata.index):\n",
    "    _id = metadata[\"id\"][index]\n",
    "    gop = gops[_id]\n",
    "\n",
    "    padding = [[0,]*len(gop[0]),]*(MAX_LENGTH-len(gop))\n",
    "    gop = gop.tolist() + padding\n",
    "    gop = torch.tensor(gop)\n",
    "    gop_features.append(gop)\n",
    "\n",
    "gop_features = torch.stack(gop_features, dim=0)\n",
    "gop_features = gop_features.numpy()\n",
    "np.save(f'{out_dir}/gop.npy', gop_features)\n",
    "gop_features = None"
   ]
  },
  {
   "cell_type": "markdown",
   "metadata": {},
   "source": [
    "### Extract Relative Position"
   ]
  },
  {
   "cell_type": "code",
   "execution_count": null,
   "metadata": {},
   "outputs": [],
   "source": [
    "path = \"/data/codes/apa/train/resources/relative2id.json\"\n",
    "relative2id = json.load(open(path, \"r\", encoding=\"utf-8\"))"
   ]
  },
  {
   "cell_type": "code",
   "execution_count": null,
   "metadata": {},
   "outputs": [],
   "source": [
    "def convert_relative_position_to_id(relative_positions):\n",
    "    ids = []\n",
    "    for rel_pos in relative_positions:\n",
    "        _id = relative2id[rel_pos]\n",
    "        ids.append(_id)\n",
    "\n",
    "    return ids\n",
    "metadata[\"relative_positions\"] = metadata[\"relative_positions\"].apply(convert_relative_position_to_id)"
   ]
  },
  {
   "cell_type": "code",
   "execution_count": null,
   "metadata": {},
   "outputs": [],
   "source": [
    "relative_positions = []\n",
    "\n",
    "for index in metadata.index:\n",
    "    relative_position = metadata[\"relative_positions\"][index].copy()\n",
    "\n",
    "    padding = [relative2id[\"PAD\"],]*(MAX_LENGTH-len(relative_position))\n",
    "    relative_position = relative_position + padding\n",
    "    relative_position = torch.tensor(relative_position)\n",
    "    relative_positions.append(relative_position)\n",
    "\n",
    "relative_positions = torch.stack(relative_positions, dim=0)\n",
    "relative_positions = relative_positions.numpy()\n",
    "np.save(f'{out_dir}/relative_positions.npy', relative_positions)\n",
    "relative_positions = None"
   ]
  },
  {
   "cell_type": "markdown",
   "metadata": {},
   "source": [
    "### Extract sentence scores"
   ]
  },
  {
   "cell_type": "code",
   "execution_count": null,
   "metadata": {},
   "outputs": [],
   "source": [
    "sentence_scores = []\n",
    "\n",
    "for index in metadata.index:\n",
    "    sentence_score = metadata[\"utterance_scores\"][index].copy()\n",
    "\n",
    "    sentence_scores.append(sentence_score)\n",
    "\n",
    "sentence_scores = torch.tensor(sentence_scores)\n",
    "sentence_scores = sentence_scores.numpy()\n",
    "print(sentence_scores.shape)\n",
    "np.save(f'{out_dir}/sentence_scores.npy', sentence_scores)\n",
    "sentence_scores = None"
   ]
  },
  {
   "cell_type": "markdown",
   "metadata": {},
   "source": [
    "### Extract word scores"
   ]
  },
  {
   "cell_type": "code",
   "execution_count": null,
   "metadata": {},
   "outputs": [],
   "source": [
    "word_scores = []\n",
    "\n",
    "for index in metadata.index:\n",
    "    word_score = metadata[\"word_scores\"][index].copy()\n",
    "    word_id = metadata[\"word_ids\"][index].copy()\n",
    "\n",
    "    word_score_in_phone_levels = []\n",
    "    for wid in word_id:\n",
    "        word_score_in_phone_levels.append(word_score[wid])\n",
    "\n",
    "    padding = [-1,]*(MAX_LENGTH-len(word_score_in_phone_levels))\n",
    "    word_score_in_phone_levels = word_score_in_phone_levels + padding\n",
    "    word_score_in_phone_levels = torch.tensor(word_score_in_phone_levels)\n",
    "    word_scores.append(word_score_in_phone_levels)\n",
    "\n",
    "word_scores = torch.stack(word_scores, dim=0)\n",
    "word_scores = word_scores.numpy()\n",
    "print(word_scores.shape)\n",
    "np.save(f'{out_dir}/word_scores.npy', word_scores)\n",
    "word_scores = None"
   ]
  },
  {
   "cell_type": "markdown",
   "metadata": {},
   "source": [
    "### Extract word ids"
   ]
  },
  {
   "cell_type": "code",
   "execution_count": null,
   "metadata": {},
   "outputs": [],
   "source": [
    "word_ids = []\n",
    "\n",
    "for index in metadata.index:\n",
    "    word_id = metadata[\"word_ids\"][index].copy()\n",
    "\n",
    "    padding = [-1,]*(MAX_LENGTH-len(word_id))\n",
    "    word_id = word_id + padding\n",
    "    word_id = torch.tensor(word_id)\n",
    "    word_ids.append(word_id)\n",
    "\n",
    "word_ids = torch.stack(word_ids, dim=0)\n",
    "word_ids = word_ids.numpy()\n",
    "print(word_ids.shape)\n",
    "np.save(f'{out_dir}/word_ids.npy', word_ids)\n",
    "word_ids = None"
   ]
  },
  {
   "cell_type": "markdown",
   "metadata": {},
   "source": [
    "### Extract duration feature"
   ]
  },
  {
   "cell_type": "code",
   "execution_count": null,
   "metadata": {},
   "outputs": [],
   "source": [
    "durations = []\n",
    "\n",
    "for index in metadata.index:\n",
    "    duration = metadata[\"duration\"][index].copy()\n",
    "\n",
    "    padding = [0, ]*(MAX_LENGTH-len(duration))\n",
    "\n",
    "    duration += padding\n",
    "    duration = torch.tensor(duration)\n",
    "    durations.append(duration)\n",
    "\n",
    "durations = torch.stack(durations, dim=0)\n",
    "durations = durations.numpy()\n",
    "np.save(f'{out_dir}/duration.npy', durations)\n",
    "durations = None"
   ]
  },
  {
   "cell_type": "markdown",
   "metadata": {},
   "source": [
    "### Extract phone scores"
   ]
  },
  {
   "cell_type": "code",
   "execution_count": null,
   "metadata": {},
   "outputs": [],
   "source": [
    "phone_scores = []\n",
    "\n",
    "for index in metadata.index:\n",
    "    phone_score = metadata[\"phone_scores\"][index].copy()\n",
    "\n",
    "    padding = [-1, ]*(MAX_LENGTH-len(phone_score))\n",
    "\n",
    "    phone_score += padding\n",
    "    phone_score = torch.tensor(phone_score)\n",
    "    phone_scores.append(phone_score)\n",
    "\n",
    "phone_scores = torch.stack(phone_scores, dim=0)\n",
    "phone_scores = phone_scores.numpy()\n",
    "np.save(f'{out_dir}/phone_scores.npy', phone_scores)\n",
    "phone_scores = None"
   ]
  },
  {
   "cell_type": "markdown",
   "metadata": {},
   "source": [
    "### Extract phone ids"
   ]
  },
  {
   "cell_type": "code",
   "execution_count": null,
   "metadata": {},
   "outputs": [],
   "source": [
    "phone_dict_path =  \"/data/codes/apa/train/resources/phone_dict.json\"\n",
    "with open(phone_dict_path, \"r\", encoding=\"utf-8\") as f:\n",
    "    phone_dict = json.load(f)"
   ]
  },
  {
   "cell_type": "code",
   "execution_count": null,
   "metadata": {},
   "outputs": [],
   "source": [
    "phone_ids = []\n",
    "\n",
    "pad_token_id = phone_dict[\"PAD\"]\n",
    "for index in metadata.index:\n",
    "    phoneme = metadata[\"elsa_phone\"][index].copy()\n",
    "\n",
    "    phoneme = [re.sub(\"\\d\", \"\", phn) for phn in phoneme]\n",
    "    phoneme = [phone_dict[phn] for phn in phoneme]\n",
    "    padding = [pad_token_id, ]*(MAX_LENGTH-len(phoneme))\n",
    "\n",
    "    phoneme += padding\n",
    "    phone_ids.append(torch.tensor(phoneme))\n",
    "\n",
    "phone_ids = torch.stack(phone_ids, dim=0)\n",
    "phone_ids = phone_ids.numpy()\n",
    "np.save(f'{out_dir}/phone_ids.npy', phone_ids)\n",
    "phone_ids = None"
   ]
  },
  {
   "cell_type": "markdown",
   "metadata": {},
   "source": [
    "### Extract WavLM Feature"
   ]
  },
  {
   "cell_type": "code",
   "execution_count": null,
   "metadata": {},
   "outputs": [],
   "source": [
    "%cd /data/codes/apa/train\n",
    "import torch\n",
    "from src.models.wavlm_model import WavLM, WavLMConfig\n",
    "from tqdm import tqdm\n",
    "import librosa\n",
    "import pandas as pd\n",
    "import json"
   ]
  },
  {
   "cell_type": "code",
   "execution_count": null,
   "metadata": {},
   "outputs": [],
   "source": [
    "pretrained_path = \"/data/codes/apa/train/exps/ckpts/wavlm-base+.pt\"\n",
    "checkpoint = torch.load(pretrained_path)\n",
    "\n",
    "config = WavLMConfig(checkpoint['cfg'])\n",
    "model = WavLM(config).eval().cuda()\n",
    "model.load_state_dict(checkpoint['model'])"
   ]
  },
  {
   "cell_type": "code",
   "execution_count": null,
   "metadata": {},
   "outputs": [],
   "source": [
    "def extract_feature(alignment, features):\n",
    "    index = 0\n",
    "    phonemes = []\n",
    "    indices = -1 * torch.ones(alignment[-1][1] + alignment[-1][2])\n",
    "    for phoneme, start_frame, duration in alignment:\n",
    "        if phoneme == \"SIL\":\n",
    "            continue\n",
    "        end_frame = start_frame + duration\n",
    "        indices[start_frame:end_frame] = index\n",
    "        phonemes.append(phoneme)\n",
    "        index += 1\n",
    "\n",
    "    indices[indices==-1] = indices.max() + 1\n",
    "\n",
    "    indices = torch.nn.functional.one_hot(indices.long(), num_classes=int(indices.max().item())+1).cuda()\n",
    "    indices = indices / indices.sum(0, keepdim=True)\n",
    "    \n",
    "    if features.shape[0] != indices.shape[0]:\n",
    "        features = features[0:indices.shape[0]]\n",
    "    features = torch.matmul(indices.transpose(0, 1), features)\n",
    "\n",
    "    return features[:-1].cpu(), phonemes"
   ]
  },
  {
   "cell_type": "code",
   "execution_count": null,
   "metadata": {},
   "outputs": [],
   "source": [
    "wavlm_features = []\n",
    "for index in tqdm(metadata.index):\n",
    "    audio_path = metadata[\"audio_path\"][index]\n",
    "    alignment = metadata[\"alignment\"][index]\n",
    "\n",
    "    wav, sr = librosa.load(audio_path, sr=16000)\n",
    "\n",
    "    input_values = torch.from_numpy(wav).unsqueeze(0).cuda()\n",
    "    with torch.no_grad():\n",
    "        features = model.extract_features(input_values)[0]\n",
    "\n",
    "    index = torch.arange(features.shape[1]).unsqueeze(-1)\n",
    "    expanded_index = index.expand((-1, 2)).flatten()\n",
    "    features = features[0][expanded_index]\n",
    "\n",
    "    features, phonemes = extract_feature(alignment, features)\n",
    "    if len(features) != len(phonemes):\n",
    "        print(metadata[\"id\"][index])\n",
    "\n",
    "    features = torch.concat([features, torch.zeros(MAX_LENGTH-len(features), 768)], axis=0)\n",
    "    wavlm_features.append(features.unsqueeze(0).numpy())\n",
    "\n",
    "wavlm_features = np.row_stack(wavlm_features)\n",
    "np.save(f'{out_dir}/wavlm_features.npy', wavlm_features)\n",
    "wavlm_features = None"
   ]
  }
 ],
 "metadata": {
  "kernelspec": {
   "display_name": "ps",
   "language": "python",
   "name": "python3"
  },
  "language_info": {
   "codemirror_mode": {
    "name": "ipython",
    "version": 3
   },
   "file_extension": ".py",
   "mimetype": "text/x-python",
   "name": "python",
   "nbconvert_exporter": "python",
   "pygments_lexer": "ipython3",
   "version": "3.8.17"
  }
 },
 "nbformat": 4,
 "nbformat_minor": 2
}
