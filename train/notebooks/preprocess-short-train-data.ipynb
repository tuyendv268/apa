{
 "cells": [
  {
   "cell_type": "code",
   "execution_count": 1,
   "metadata": {},
   "outputs": [
    {
     "name": "stdout",
     "output_type": "stream",
     "text": [
      "/data/codes/apa/train\n",
      "INFO: Pandarallel will run on 10 workers.\n",
      "INFO: Pandarallel will use Memory file system to transfer data between the main process and workers.\n"
     ]
    }
   ],
   "source": [
    "%cd /data/codes/apa/train/\n",
    "\n",
    "import pandas as pd\n",
    "import os\n",
    "from glob import glob\n",
    "import json\n",
    "from pandarallel import pandarallel\n",
    "import random\n",
    "import re\n",
    "\n",
    "pandarallel.initialize(nb_workers=10, progress_bar=True)"
   ]
  },
  {
   "cell_type": "code",
   "execution_count": 2,
   "metadata": {},
   "outputs": [
    {
     "name": "stdout",
     "output_type": "stream",
     "text": [
      "(148959, 13)\n",
      "(148959, 13)\n"
     ]
    },
    {
     "data": {
      "text/html": [
       "<div>\n",
       "<style scoped>\n",
       "    .dataframe tbody tr th:only-of-type {\n",
       "        vertical-align: middle;\n",
       "    }\n",
       "\n",
       "    .dataframe tbody tr th {\n",
       "        vertical-align: top;\n",
       "    }\n",
       "\n",
       "    .dataframe thead th {\n",
       "        text-align: right;\n",
       "    }\n",
       "</style>\n",
       "<table border=\"1\" class=\"dataframe\">\n",
       "  <thead>\n",
       "    <tr style=\"text-align: right;\">\n",
       "      <th></th>\n",
       "      <th>Unnamed: 0</th>\n",
       "      <th>id</th>\n",
       "      <th>is_deleted</th>\n",
       "      <th>user_id</th>\n",
       "      <th>question_id</th>\n",
       "      <th>question_type</th>\n",
       "      <th>question_content</th>\n",
       "      <th>url</th>\n",
       "      <th>score</th>\n",
       "      <th>fidelity_class</th>\n",
       "      <th>created_at</th>\n",
       "      <th>total_time</th>\n",
       "      <th>word_count</th>\n",
       "    </tr>\n",
       "  </thead>\n",
       "  <tbody>\n",
       "    <tr>\n",
       "      <th>0</th>\n",
       "      <td>530923</td>\n",
       "      <td>5107058</td>\n",
       "      <td>0</td>\n",
       "      <td>187868.0</td>\n",
       "      <td>16681</td>\n",
       "      <td>12</td>\n",
       "      <td>Depressed</td>\n",
       "      <td>https://storage.googleapis.com/materials-eleme...</td>\n",
       "      <td>59.0</td>\n",
       "      <td>RELEVANT</td>\n",
       "      <td>2023-08-31 16:27:58</td>\n",
       "      <td>2.71</td>\n",
       "      <td>1.0</td>\n",
       "    </tr>\n",
       "    <tr>\n",
       "      <th>1</th>\n",
       "      <td>705508</td>\n",
       "      <td>1590011</td>\n",
       "      <td>0</td>\n",
       "      <td>59129.0</td>\n",
       "      <td>16681</td>\n",
       "      <td>12</td>\n",
       "      <td>Depressed</td>\n",
       "      <td>https://storage.googleapis.com/materials-eleme...</td>\n",
       "      <td>87.0</td>\n",
       "      <td>RELEVANT</td>\n",
       "      <td>2022-10-05 16:06:55</td>\n",
       "      <td>1.69</td>\n",
       "      <td>1.0</td>\n",
       "    </tr>\n",
       "  </tbody>\n",
       "</table>\n",
       "</div>"
      ],
      "text/plain": [
       "   Unnamed: 0       id  is_deleted   user_id  question_id  question_type  \\\n",
       "0      530923  5107058           0  187868.0        16681             12   \n",
       "1      705508  1590011           0   59129.0        16681             12   \n",
       "\n",
       "  question_content                                                url  score  \\\n",
       "0        Depressed  https://storage.googleapis.com/materials-eleme...   59.0   \n",
       "1        Depressed  https://storage.googleapis.com/materials-eleme...   87.0   \n",
       "\n",
       "  fidelity_class           created_at  total_time  word_count  \n",
       "0       RELEVANT  2023-08-31 16:27:58        2.71         1.0  \n",
       "1       RELEVANT  2022-10-05 16:06:55        1.69         1.0  "
      ]
     },
     "execution_count": 2,
     "metadata": {},
     "output_type": "execute_result"
    }
   ],
   "source": [
    "# json_dir = \"/data/audio_data/pronunciation_scoring_result/marking_data/10\"\n",
    "# audio_dir = \"/data/audio_data/prep_submission_audio/10\"\n",
    "# metadata_path=\"/data/audio_data/pronunciation_scoring_result/dataset/info_qt_10_trainset.csv\"\n",
    "\n",
    "json_dir = \"/data/audio_data/pronunciation_scoring_result/marking_data/12\"\n",
    "audio_dir = \"/data/audio_data/prep_submission_audio/12\"\n",
    "metadata_path=\"/data/codes/pronunciation-scoring-evaluate/data/raw/train-data-type-12-v2.csv\"\n",
    "\n",
    "metadata = pd.read_csv(metadata_path)\n",
    "print(metadata.shape)\n",
    "metadata = metadata[metadata.total_time > 1.0]\n",
    "print(metadata.shape)\n",
    "metadata.head(2)"
   ]
  },
  {
   "cell_type": "code",
   "execution_count": 3,
   "metadata": {},
   "outputs": [
    {
     "data": {
      "text/plain": [
       "<Axes: >"
      ]
     },
     "execution_count": 3,
     "metadata": {},
     "output_type": "execute_result"
    },
    {
     "data": {
      "image/png": "[encoded data removed]",
      "text/plain": [
       "<Figure size 640x480 with 1 Axes>"
      ]
     },
     "metadata": {},
     "output_type": "display_data"
    }
   ],
   "source": [
    "metadata.total_time.hist(bins=100)"
   ]
  },
  {
   "cell_type": "code",
   "execution_count": 4,
   "metadata": {},
   "outputs": [
    {
     "data": {
      "application/vnd.jupyter.widget-view+json": {
       "model_id": "7218a944a6ff47d7a8b87b0307f244ed",
       "version_major": 2,
       "version_minor": 0
      },
      "text/plain": [
       "VBox(children=(HBox(children=(IntProgress(value=0, description='0.00%', max=14896), Label(value='0 / 14896')))…"
      ]
     },
     "metadata": {},
     "output_type": "display_data"
    },
    {
     "name": "stdout",
     "output_type": "stream",
     "text": [
      "(148959, 13)\n",
      "(148917, 13)\n"
     ]
    }
   ],
   "source": [
    "import torchaudio\n",
    "\n",
    "def is_valid(audio_id):\n",
    "    abs_path = os.path.join(audio_dir, f'{audio_id}.wav')\n",
    "    if not os.path.exists(abs_path):\n",
    "        return False\n",
    "    try:\n",
    "        wav, sr = torchaudio.load(abs_path)\n",
    "        if sr != 16000:\n",
    "            return False\n",
    "    except:\n",
    "        return False\n",
    "    \n",
    "    return True\n",
    "\n",
    "is_exist =  metadata.id.parallel_apply(is_valid)\n",
    "print(metadata.shape)\n",
    "metadata = metadata[is_exist]\n",
    "print(metadata.shape)"
   ]
  },
  {
   "cell_type": "code",
   "execution_count": 5,
   "metadata": {},
   "outputs": [],
   "source": [
    "lexicon_path = \"/data/codes/prep_ps_pykaldi_dev/resources/lexicon_libri.txt\"\n",
    "vocab = pd.read_csv(lexicon_path, sep=\"\\t\", names=[\"word\", \"arpa\"])\n",
    "lexicon = {}\n",
    "for name, group in vocab.groupby(\"word\"):\n",
    "    lexicon[name] = group[\"arpa\"].tolist()"
   ]
  },
  {
   "cell_type": "code",
   "execution_count": 6,
   "metadata": {},
   "outputs": [],
   "source": [
    "decision2color = {\n",
    "    \"correct\": 2,\n",
    "    \"warning\":1,\n",
    "    \"error\":0\n",
    "}"
   ]
  },
  {
   "cell_type": "code",
   "execution_count": 7,
   "metadata": {},
   "outputs": [
    {
     "data": {
      "application/vnd.jupyter.widget-view+json": {
       "model_id": "1c951c50eddc458594d3e05414690ac7",
       "version_major": 2,
       "version_minor": 0
      },
      "text/plain": [
       "VBox(children=(HBox(children=(IntProgress(value=0, description='0.00%', max=14892), Label(value='0 / 14892')))…"
      ]
     },
     "metadata": {},
     "output_type": "display_data"
    },
    {
     "data": {
      "text/plain": [
       "0    [{'id': '5107058', 'raw': 'Depressed', 'text':...\n",
       "1    [{'id': '1590011', 'raw': 'Depressed', 'text':...\n",
       "2    [{'id': '1951102', 'raw': 'Depressed', 'text':...\n",
       "3    [{'id': '5130816', 'raw': 'Depressed', 'text':...\n",
       "4    [{'id': '1689656', 'raw': 'Depressed', 'text':...\n",
       "Name: id, dtype: object"
      ]
     },
     "execution_count": 7,
     "metadata": {},
     "output_type": "execute_result"
    }
   ],
   "source": [
    "def norm_text(text):\n",
    "    text = re.sub(r\"[\\,\\.\\!\\?\\:\\;]\", \" \", text)\n",
    "    text = re.sub(\"\\s+\", \" \", text).strip()\n",
    "    text = text.upper()\n",
    "\n",
    "    return text\n",
    "\n",
    "def is_valid_phoneme(phoneme):\n",
    "    if phoneme[\"phoneme_error_arpabet\"] != \"normal\":\n",
    "        trans = phoneme[\"phoneme_error_arpabet\"].split(\" - \")[-1]\n",
    "        labels = phoneme[\"phoneme_error_arpabet\"].split(\" - \")[0]\n",
    "        if len(labels.split(\" \")) >= 2:\n",
    "            return False\n",
    "        \n",
    "        if len(trans.split(\" \")) >= 2:\n",
    "            return False\n",
    "        \n",
    "        # if labels in trans:\n",
    "        #     return False\n",
    "        \n",
    "    return True\n",
    "            \n",
    "def parse_metadata_data(json_path):\n",
    "    try: \n",
    "        with open(json_path, \"r\") as f:\n",
    "            content = json.load(f)\n",
    "        id = os.path.basename(json_path).split(\".\")[0]\n",
    "\n",
    "        utterances = []\n",
    "        for raw_utterance in content[\"utterance\"]:\n",
    "            utterance = {\n",
    "                \"id\": id,\n",
    "                \"raw\": raw_utterance[\"sentence\"],\n",
    "                \"text\": None,\n",
    "                \"utt_id\": None,\n",
    "                \"start_time\": None,\n",
    "                \"end_time\": None,\n",
    "                \"arpas\": [],\n",
    "                \"trans\": [],\n",
    "                \"phone_scores\": [],\n",
    "                \"word_scores\": [],\n",
    "                \"decisions\": [],\n",
    "                \"word_ids\": [],\n",
    "                \"utterance_scores\": raw_utterance[\"nativeness_score\"],\n",
    "            }\n",
    "            ignore = False\n",
    "            words = []\n",
    "            for word_id, word in enumerate(raw_utterance[\"words\"]):\n",
    "                if norm_text(word[\"text\"]) not in lexicon:\n",
    "                    ignore = True\n",
    "                    break\n",
    "\n",
    "                if word[\"trans_arpabet\"] not in lexicon[norm_text(word[\"text\"])]:\n",
    "                    ignore = True\n",
    "                    break\n",
    "\n",
    "                if len(word[\"phonemes\"]) != len(word[\"trans_arpabet\"].split()):\n",
    "                    ignore = True\n",
    "                    break\n",
    "                \n",
    "                utterance[\"arpas\"] += word[\"trans_arpabet\"].split()\n",
    "                \n",
    "                for phoneme in word[\"phonemes\"]:\n",
    "                    if not is_valid_phoneme(phoneme):\n",
    "                        ignore = True\n",
    "                        break\n",
    "                    arpa = phoneme[\"trans_arpabet\"]\n",
    "                    decision = decision2color[phoneme[\"decision\"]]\n",
    "                    score = phoneme[\"nativeness_score\"] if phoneme[\"nativeness_score\"] >= 0 else 0\n",
    "                    tran = phoneme[\"trans_arpabet\"]\n",
    "\n",
    "                    # utterance[\"arpas\"].append(arpa)\n",
    "                    utterance[\"phone_scores\"].append(score)\n",
    "                    utterance[\"word_ids\"].append(word_id)\n",
    "                    utterance[\"trans\"].append(tran)\n",
    "                    utterance[\"decisions\"].append(decision)\n",
    "\n",
    "                word_score = word[\"nativeness_score\"]\n",
    "                words.append(norm_text(word[\"text\"]))\n",
    "                utterance[\"word_scores\"].append(word_score)\n",
    "            \n",
    "            utterance[\"text\"] = \" \".join(words)\n",
    "\n",
    "            if ignore == False:\n",
    "                utterances.append(utterance)\n",
    "        \n",
    "        return utterances\n",
    "    except:\n",
    "        return []\n",
    "\n",
    "extracted_data = metadata.id.parallel_apply(lambda x: parse_metadata_data(os.path.join(json_dir, f'{x}.json')))\n",
    "extracted_data.head()\n",
    "# metadata.id.head(100).apply(lambda x: parse_metadata_data(os.path.join(json_dir, f'{x}.json')))"
   ]
  },
  {
   "cell_type": "code",
   "execution_count": 8,
   "metadata": {},
   "outputs": [
    {
     "name": "stdout",
     "output_type": "stream",
     "text": [
      "(148917, 1)\n",
      "(133407, 1)\n"
     ]
    },
    {
     "data": {
      "text/html": [
       "<div>\n",
       "<style scoped>\n",
       "    .dataframe tbody tr th:only-of-type {\n",
       "        vertical-align: middle;\n",
       "    }\n",
       "\n",
       "    .dataframe tbody tr th {\n",
       "        vertical-align: top;\n",
       "    }\n",
       "\n",
       "    .dataframe thead th {\n",
       "        text-align: right;\n",
       "    }\n",
       "</style>\n",
       "<table border=\"1\" class=\"dataframe\">\n",
       "  <thead>\n",
       "    <tr style=\"text-align: right;\">\n",
       "      <th></th>\n",
       "      <th>data</th>\n",
       "    </tr>\n",
       "  </thead>\n",
       "  <tbody>\n",
       "    <tr>\n",
       "      <th>0</th>\n",
       "      <td>{'id': '5107058', 'raw': 'Depressed', 'text': ...</td>\n",
       "    </tr>\n",
       "    <tr>\n",
       "      <th>1</th>\n",
       "      <td>{'id': '1590011', 'raw': 'Depressed', 'text': ...</td>\n",
       "    </tr>\n",
       "    <tr>\n",
       "      <th>2</th>\n",
       "      <td>{'id': '1951102', 'raw': 'Depressed', 'text': ...</td>\n",
       "    </tr>\n",
       "    <tr>\n",
       "      <th>3</th>\n",
       "      <td>{'id': '5130816', 'raw': 'Depressed', 'text': ...</td>\n",
       "    </tr>\n",
       "    <tr>\n",
       "      <th>4</th>\n",
       "      <td>{'id': '1689656', 'raw': 'Depressed', 'text': ...</td>\n",
       "    </tr>\n",
       "  </tbody>\n",
       "</table>\n",
       "</div>"
      ],
      "text/plain": [
       "                                                data\n",
       "0  {'id': '5107058', 'raw': 'Depressed', 'text': ...\n",
       "1  {'id': '1590011', 'raw': 'Depressed', 'text': ...\n",
       "2  {'id': '1951102', 'raw': 'Depressed', 'text': ...\n",
       "3  {'id': '5130816', 'raw': 'Depressed', 'text': ...\n",
       "4  {'id': '1689656', 'raw': 'Depressed', 'text': ..."
      ]
     },
     "execution_count": 8,
     "metadata": {},
     "output_type": "execute_result"
    }
   ],
   "source": [
    "data = extracted_data.explode().reset_index()[\"id\"]\n",
    "data = pd.DataFrame({\"data\": data})\n",
    "print(data.shape)\n",
    "data.dropna(inplace=True)\n",
    "data[\"text\"] = data[\"data\"].apply(lambda x: x[\"text\"])\n",
    "# data.drop_duplicates(\"text\", inplace=True)\n",
    "data = data.reset_index()[[\"data\"]]\n",
    "print(data.shape)\n",
    "data.head()"
   ]
  },
  {
   "cell_type": "code",
   "execution_count": 9,
   "metadata": {},
   "outputs": [
    {
     "data": {
      "text/plain": [
       "<Axes: >"
      ]
     },
     "execution_count": 9,
     "metadata": {},
     "output_type": "execute_result"
    },
    {
     "data": {
      "image/png": "[encoded data removed]",
      "text/plain": [
       "<Figure size 640x480 with 1 Axes>"
      ]
     },
     "metadata": {},
     "output_type": "display_data"
    }
   ],
   "source": [
    "scores = data[\"data\"].apply(lambda x: x[\"word_scores\"]).to_list()\n",
    "scores = [score for sample in scores for score in sample]\n",
    "\n",
    "pd.DataFrame(scores, columns=[\"score\"]).score.hist(bins=100)"
   ]
  },
  {
   "cell_type": "code",
   "execution_count": 10,
   "metadata": {},
   "outputs": [
    {
     "name": "stdout",
     "output_type": "stream",
     "text": [
      "(239244, 1)\n"
     ]
    },
    {
     "data": {
      "text/plain": [
       "<Axes: >"
      ]
     },
     "execution_count": 10,
     "metadata": {},
     "output_type": "execute_result"
    },
    {
     "data": {
      "image/png": "[encoded data removed]",
      "text/plain": [
       "<Figure size 640x480 with 1 Axes>"
      ]
     },
     "metadata": {},
     "output_type": "display_data"
    }
   ],
   "source": [
    "scores = data[\"data\"].apply(lambda x: x[\"phone_scores\"]).to_list()\n",
    "scores = [score for sample in scores for score in sample]\n",
    "\n",
    "scores = pd.DataFrame(scores, columns=[\"score\"])\n",
    "print(scores[scores.score<80].shape)\n",
    "scores.score.hist(bins=100)"
   ]
  },
  {
   "cell_type": "code",
   "execution_count": 11,
   "metadata": {},
   "outputs": [
    {
     "name": "stdout",
     "output_type": "stream",
     "text": [
      "(133407, 1)\n",
      "(0, 1)\n"
     ]
    }
   ],
   "source": [
    "import numpy as np\n",
    "\n",
    "def check_valid(score, threshold=0.35, score_threshold=80):\n",
    "    score = np.array(score)\n",
    "\n",
    "    is_low_score = score < score_threshold\n",
    "\n",
    "    rate = score[is_low_score].shape[0] / (score[is_low_score].shape[0] + score[~is_low_score].shape[0])\n",
    "    if rate > threshold:\n",
    "        return True\n",
    "    \n",
    "    if random.randint(0, 100) >= 0:\n",
    "        return True\n",
    "    \n",
    "    return False\n",
    "\n",
    "is_valid = data[\"data\"].apply(lambda x: check_valid(x[\"phone_scores\"]))\n",
    "print(data[is_valid].shape)\n",
    "print(data[~is_valid].shape)"
   ]
  },
  {
   "cell_type": "code",
   "execution_count": 12,
   "metadata": {},
   "outputs": [
    {
     "data": {
      "text/plain": [
       "<Axes: >"
      ]
     },
     "execution_count": 12,
     "metadata": {},
     "output_type": "execute_result"
    },
    {
     "data": {
      "image/png": "[encoded data removed]",
      "text/plain": [
       "<Figure size 640x480 with 1 Axes>"
      ]
     },
     "metadata": {},
     "output_type": "display_data"
    }
   ],
   "source": [
    "scores = data[is_valid][\"data\"].apply(lambda x: x[\"phone_scores\"]).to_list()\n",
    "scores = [score for sample in scores for score in sample]\n",
    "\n",
    "pd.DataFrame(scores, columns=[\"score\"]).score.hist(bins=100)"
   ]
  },
  {
   "cell_type": "code",
   "execution_count": 13,
   "metadata": {},
   "outputs": [
    {
     "name": "stderr",
     "output_type": "stream",
     "text": [
      "100%|██████████| 133407/133407 [00:00<00:00, 141462.46it/s]\n"
     ]
    }
   ],
   "source": [
    "from tqdm import tqdm\n",
    " \n",
    "extracted_data = data[is_valid]\n",
    "path = \"prep_data/raw_jsonl/train-data-type-12-v2.jsonl\"\n",
    "with open(path, \"w\", encoding=\"utf-8\") as f:\n",
    "    for index in tqdm(extracted_data.index):\n",
    "        sample = extracted_data.loc[index, \"data\"]\n",
    "        json_obj = json.dumps(sample)\n",
    "\n",
    "        f.write(f'{json_obj}\\n')"
   ]
  }
 ],
 "metadata": {
  "kernelspec": {
   "display_name": "ps",
   "language": "python",
   "name": "python3"
  },
  "language_info": {
   "codemirror_mode": {
    "name": "ipython",
    "version": 3
   },
   "file_extension": ".py",
   "mimetype": "text/x-python",
   "name": "python",
   "nbconvert_exporter": "python",
   "pygments_lexer": "ipython3",
   "version": "3.8.17"
  }
 },
 "nbformat": 4,
 "nbformat_minor": 2
}
