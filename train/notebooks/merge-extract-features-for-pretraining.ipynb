{
 "cells": [
  {
   "cell_type": "code",
   "execution_count": null,
   "metadata": {},
   "outputs": [],
   "source": [
    "%cd /data/codes/apa/train\n",
    "\n",
    "from glob import glob\n",
    "from tqdm import tqdm\n",
    "import pandas as pd\n",
    "import numpy as np\n",
    "import pickle\n",
    "import torch\n",
    "import json\n",
    "import os\n",
    "import re\n",
    "\n",
    "from src.dataset import (\n",
    "    IndexedDataset,\n",
    "    IndexedDatasetBuilder\n",
    ")"
   ]
  },
  {
   "cell_type": "code",
   "execution_count": null,
   "metadata": {},
   "outputs": [],
   "source": [
    "def map_phone(phones):\n",
    "    mapped_phone = []\n",
    "    for phone in phones:\n",
    "        if phone == \"SCHWA\" or phone == \"AH0\":\n",
    "            mapped_phone.append(\"AX\")\n",
    "        else:\n",
    "            mapped_phone.append(phone)\n",
    "    \n",
    "    return mapped_phone\n",
    "\n",
    "def get_phone_pure(phones):\n",
    "    pure_phones = [re.sub(r\"\\d\", \"\", phone) for phone in phones]\n",
    "\n",
    "    return pure_phones\n",
    "\n",
    "def preprocess_metadata(metadata):\n",
    "    metadata = metadata[\n",
    "        [\"id\", \"audio_path\", \"text\", \"arpas\", \"trans\", \"phone_scores\", \"word_scores\", \"word_ids\", \"utterance_score\", \"fluency_score\", \"intonation_score\"]\n",
    "    ]\n",
    "    metadata[\"id\"] = metadata.id.apply(str)\n",
    "    metadata = metadata.rename(columns={\"arpas\":\"elsa_phone\"})\n",
    "    metadata[\"elsa_phone\"] = metadata.elsa_phone.apply(map_phone)\n",
    "    metadata[\"elsa_phone\"] = metadata.elsa_phone.apply(get_phone_pure)\n",
    "    metadata[\"trans\"] = metadata.trans.apply(map_phone)\n",
    "\n",
    "    return metadata\n",
    "\n",
    "def load_jsonl(path):\n",
    "    with open(path, \"r\", encoding=\"utf-8\") as f:\n",
    "        lines = f.readlines()\n",
    "        lines = [json.loads(line.strip()) for line in lines]\n",
    "    \n",
    "    lines = pd.DataFrame(lines)\n",
    "    return lines\n",
    "\n",
    "def load_gops(gop_paths):\n",
    "    gops = {}\n",
    "    for path in gop_paths:\n",
    "        try:\n",
    "            gop = pickle.load(open(path, \"rb\"))\n",
    "        except:\n",
    "            continue\n",
    "        \n",
    "        for key in gop.keys():\n",
    "            assert key not in gops\n",
    "\n",
    "        gops.update(gop)\n",
    "\n",
    "    return gops"
   ]
  },
  {
   "cell_type": "code",
   "execution_count": null,
   "metadata": {},
   "outputs": [],
   "source": [
    "out_dir = \"/data/codes/apa/train/data/feats/train/merge\"\n",
    "\n",
    "metadata_path = [\n",
    "    \"/data/codes/apa/train/data/metadata/jsonl/train-data-type-10.jsonl\",\n",
    "    \"/data/codes/apa/train/data/metadata/jsonl/train-data-type-12.jsonl\"\n",
    "]\n",
    "\n",
    "feat_dir = [\n",
    "    \"/data/codes/apa/train/data/feats/train/train-data-type-10-filtered/\",\n",
    "    \"/data/codes/apa/train/data/feats/train/train-data-type-12-filtered/\",\n",
    "]\n",
    "\n",
    "data_dir = [\n",
    "    \"/data/codes/apa/train/data/train/train-data-type-10\",\n",
    "    \"/data/codes/apa/train/data/train/train-data-type-12\"\n",
    "]\n",
    "\n",
    "metadata = []\n",
    "\n",
    "for path in metadata_path:\n",
    "    tmp = load_jsonl(path)\n",
    "    metadata.append(tmp)\n",
    "\n",
    "metadata = pd.concat(metadata)\n",
    "metadata = preprocess_metadata(metadata)\n",
    "metadata.head(1)"
   ]
  },
  {
   "cell_type": "code",
   "execution_count": null,
   "metadata": {},
   "outputs": [],
   "source": [
    "if not os.path.exists(out_dir):\n",
    "    os.makedirs(out_dir)"
   ]
  },
  {
   "cell_type": "code",
   "execution_count": null,
   "metadata": {},
   "outputs": [],
   "source": [
    "lengths = metadata[\"elsa_phone\"].apply(len)\n",
    "lengths.hist(bins=100)"
   ]
  },
  {
   "cell_type": "code",
   "execution_count": null,
   "metadata": {},
   "outputs": [],
   "source": [
    "MAX_LENGTH = 128\n",
    "\n",
    "print(metadata.shape)\n",
    "metadata = metadata[lengths<MAX_LENGTH-3]\n",
    "print(metadata.shape)"
   ]
  },
  {
   "cell_type": "code",
   "execution_count": null,
   "metadata": {},
   "outputs": [],
   "source": [
    "id_df = []\n",
    "for dir in feat_dir:\n",
    "    id_path = f\"{dir}/id\"\n",
    "\n",
    "    tmp = pd.read_csv(id_path, names=[\"id\"], dtype={'id':str})\n",
    "    tmp = tmp.set_index(\"id\")\n",
    "\n",
    "    id_df.append(tmp)\n",
    "\n",
    "id_df = pd.concat(id_df)\n",
    "print(metadata.shape)\n",
    "metadata = metadata[metadata.id.isin(id_df.index)]\n",
    "print(metadata.shape)"
   ]
  },
  {
   "cell_type": "code",
   "execution_count": null,
   "metadata": {},
   "outputs": [],
   "source": [
    "alignment_paths, gop_paths = [], []\n",
    "for dir in data_dir:\n",
    "    gop_path = f'{dir}/*/gop.pkl'\n",
    "    align_path = f'{dir}/*/ali.out'\n",
    "\n",
    "    alignment_paths += glob(align_path)\n",
    "    gop_paths += glob(gop_path)"
   ]
  },
  {
   "cell_type": "code",
   "execution_count": null,
   "metadata": {},
   "outputs": [],
   "source": [
    "def load_alignment(path):\n",
    "    alignment_df = pd.read_csv(\n",
    "        path, names=[\"id\", \"alignment\"], sep=\"\\t\", dtype={\"id\": str}\n",
    "    )\n",
    "    alignment_df[\"alignment\"] = alignment_df.alignment.apply(json.loads)\n",
    "\n",
    "    return alignment_df\n",
    "\n",
    "def load_alignments(paths):\n",
    "    alignments = []\n",
    "    for path in paths:\n",
    "        alignment = load_alignment(path)\n",
    "        alignments.append(alignment)\n",
    "    \n",
    "    alignments = pd.concat(alignments)\n",
    "    alignments.reset_index(inplace=True)\n",
    "\n",
    "    return alignments[[\"id\", \"alignment\"]]\n",
    "\n",
    "alignments = load_alignments(alignment_paths)\n",
    "gops = load_gops(gop_paths)"
   ]
  },
  {
   "cell_type": "code",
   "execution_count": null,
   "metadata": {},
   "outputs": [],
   "source": [
    "is_valid = alignments.id.apply(lambda x: x in gops)\n",
    "print(alignments.shape)\n",
    "alignments = alignments[is_valid]\n",
    "print(alignments.shape)"
   ]
  },
  {
   "cell_type": "code",
   "execution_count": null,
   "metadata": {},
   "outputs": [],
   "source": [
    "def extract_phonemes(alignments):\n",
    "    phonemes = [\n",
    "        re.sub(\"\\d\", \"\",phoneme[0].split(\"_\")[0]) for phoneme in alignments\n",
    "        if phoneme[0] != \"SIL\"\n",
    "    ]\n",
    "    return phonemes\n",
    "\n",
    "def extract_durations(alignments):\n",
    "    durations = [\n",
    "        round(phoneme[2] * 0.02, 4) for phoneme in alignments\n",
    "        if phoneme[0] != \"SIL\"\n",
    "    ]\n",
    "    return durations\n",
    "\n",
    "def extract_relative_positions(alignments):\n",
    "    relative_positions = [\n",
    "        phoneme[0].split(\"_\")[-1] for phoneme in alignments\n",
    "        if phoneme[0] != \"SIL\"\n",
    "    ]\n",
    "    return relative_positions\n",
    "\n",
    "\n",
    "alignments[\"relative_positions\"] = alignments.alignment.apply(lambda x: extract_relative_positions(x))\n",
    "alignments[\"prep_phone\"] = alignments.alignment.apply(lambda x: extract_phonemes(x))\n",
    "alignments[\"duration\"] = alignments.alignment.apply(lambda x: extract_durations(x))"
   ]
  },
  {
   "cell_type": "code",
   "execution_count": null,
   "metadata": {},
   "outputs": [],
   "source": [
    "metadata = pd.merge(\n",
    "    left=metadata, \n",
    "    right=alignments[[\"id\", \"alignment\", \"prep_phone\", \"relative_positions\", \"duration\"]], \n",
    "    how=\"inner\", on=\"id\"\n",
    ")\n",
    "\n",
    "metadata.head(1)"
   ]
  },
  {
   "cell_type": "code",
   "execution_count": null,
   "metadata": {},
   "outputs": [],
   "source": [
    "def count_match(elsa, prep, scores):\n",
    "    for index, (phone_1, phone_2) in enumerate(zip(elsa, prep)):\n",
    "        if phone_1 != phone_2:\n",
    "            if scores[index] < 40:\n",
    "                continue\n",
    "            return 0\n",
    "        \n",
    "    return 1\n",
    "\n",
    "is_matched = metadata.apply(lambda x: count_match(elsa=x[\"elsa_phone\"], prep=x[\"prep_phone\"], scores=x[\"phone_scores\"]), axis=1)\n",
    "metadata = metadata[is_matched==True]\n",
    "print(is_matched.sum())\n",
    "print(is_matched.shape)"
   ]
  },
  {
   "cell_type": "markdown",
   "metadata": {},
   "source": [
    "### Extract alignment"
   ]
  },
  {
   "cell_type": "code",
   "execution_count": null,
   "metadata": {},
   "outputs": [],
   "source": [
    "def preprocess_alignments(alignment):\n",
    "    processed_alignment = []\n",
    "    for phone, start, duration in alignment:\n",
    "        if phone == \"SIL\":\n",
    "            continue\n",
    "        phone = phone.split(\"_\")[0]\n",
    "        processed_alignment.append([phone, start, duration])\n",
    "    \n",
    "    return processed_alignment"
   ]
  },
  {
   "cell_type": "code",
   "execution_count": null,
   "metadata": {},
   "outputs": [],
   "source": [
    "with open(f'{out_dir}/alignment', \"w\", encoding=\"utf-8\") as f:\n",
    "    for index in tqdm(metadata.index):\n",
    "        _id = metadata[\"id\"][index]\n",
    "        _alignment = metadata[\"alignment\"][index]\n",
    "\n",
    "        _alignment = preprocess_alignments(_alignment)\n",
    "\n",
    "        _alignment= json.dumps(_alignment, ensure_ascii=False)\n",
    "        \n",
    "        f.write(f'{_alignment}\\n')"
   ]
  },
  {
   "cell_type": "markdown",
   "metadata": {},
   "source": [
    "#### Extract audio_path"
   ]
  },
  {
   "cell_type": "code",
   "execution_count": null,
   "metadata": {},
   "outputs": [],
   "source": [
    "with open(f'{out_dir}/wav_path', \"w\", encoding=\"utf-8\") as f:\n",
    "    for index in tqdm(metadata.index):\n",
    "        audio_path = metadata[\"audio_path\"][index]\n",
    "        \n",
    "        f.write(f'{audio_path}\\n')"
   ]
  },
  {
   "cell_type": "markdown",
   "metadata": {},
   "source": [
    "### Extract id"
   ]
  },
  {
   "cell_type": "code",
   "execution_count": null,
   "metadata": {},
   "outputs": [],
   "source": [
    "with open(f'{out_dir}/id', \"w\", encoding=\"utf-8\") as f:\n",
    "    for index in tqdm(metadata.index):\n",
    "        _id = metadata[\"id\"][index]\n",
    "        \n",
    "        f.write(f'{_id}\\n')"
   ]
  },
  {
   "cell_type": "markdown",
   "metadata": {},
   "source": [
    "### Extract gop feature"
   ]
  },
  {
   "cell_type": "code",
   "execution_count": null,
   "metadata": {},
   "outputs": [],
   "source": [
    "indexed_path = f'{out_dir}/gop'\n",
    "\n",
    "builder = IndexedDatasetBuilder(indexed_path)\n",
    "for index in tqdm(metadata.index):\n",
    "    _id = metadata[\"id\"][index]\n",
    "    gop = gops[_id]\n",
    "\n",
    "    gop = np.array(gop)\n",
    "    builder.add_item(item=gop)\n",
    "    \n",
    "builder.finalize()"
   ]
  },
  {
   "cell_type": "code",
   "execution_count": null,
   "metadata": {},
   "outputs": [],
   "source": [
    "temp = IndexedDataset(indexed_path)\n",
    "temp[0]"
   ]
  },
  {
   "cell_type": "markdown",
   "metadata": {},
   "source": [
    "### Extract Relative Position"
   ]
  },
  {
   "cell_type": "code",
   "execution_count": null,
   "metadata": {},
   "outputs": [],
   "source": [
    "path = \"/data/codes/apa/train/exp/dicts/relative2id.json\"\n",
    "relative2id = json.load(open(path, \"r\", encoding=\"utf-8\"))"
   ]
  },
  {
   "cell_type": "code",
   "execution_count": null,
   "metadata": {},
   "outputs": [],
   "source": [
    "def convert_relative_position_to_id(relative_positions):\n",
    "    ids = []\n",
    "    for rel_pos in relative_positions:\n",
    "        _id = relative2id[rel_pos]\n",
    "        ids.append(_id)\n",
    "\n",
    "    return ids\n",
    "metadata[\"relative_positions\"] = metadata[\"relative_positions\"].apply(convert_relative_position_to_id)"
   ]
  },
  {
   "cell_type": "code",
   "execution_count": null,
   "metadata": {},
   "outputs": [],
   "source": [
    "indexed_path = f'{out_dir}/relative_positions'\n",
    "\n",
    "builder = IndexedDatasetBuilder(indexed_path)\n",
    "\n",
    "for index in metadata.index:\n",
    "    relative_position = metadata[\"relative_positions\"][index].copy()\n",
    "\n",
    "    relative_position = np.array(relative_position)\n",
    "\n",
    "    builder.add_item(item=relative_position)\n",
    "builder.finalize()"
   ]
  },
  {
   "cell_type": "code",
   "execution_count": null,
   "metadata": {},
   "outputs": [],
   "source": [
    "indexed_path = f'{out_dir}/relative_positions'\n",
    "temp = IndexedDataset(indexed_path)\n",
    "temp[0]"
   ]
  },
  {
   "cell_type": "markdown",
   "metadata": {},
   "source": [
    "### Extract sentence scores"
   ]
  },
  {
   "cell_type": "code",
   "execution_count": null,
   "metadata": {},
   "outputs": [],
   "source": [
    "indexed_path = f'{out_dir}/sentence_scores'\n",
    "\n",
    "builder = IndexedDatasetBuilder(indexed_path)\n",
    "for index in metadata.index:\n",
    "    sentence_score = metadata[\"utterance_score\"][index].copy()\n",
    "\n",
    "    builder.add_item(item=sentence_score)\n",
    "\n",
    "builder.finalize()"
   ]
  },
  {
   "cell_type": "code",
   "execution_count": null,
   "metadata": {},
   "outputs": [],
   "source": [
    "indexed_path = f'{out_dir}/sentence_scores'\n",
    "temp = IndexedDataset(indexed_path)\n",
    "temp[0]"
   ]
  },
  {
   "cell_type": "markdown",
   "metadata": {},
   "source": [
    "### Extract fluency scores"
   ]
  },
  {
   "cell_type": "code",
   "execution_count": null,
   "metadata": {},
   "outputs": [],
   "source": [
    "indexed_path = f'{out_dir}/fluency_score'\n",
    "\n",
    "builder = IndexedDatasetBuilder(indexed_path)\n",
    "for index in metadata.index:\n",
    "    sentence_score = metadata[\"utterance_score\"][index].copy()\n",
    "\n",
    "    builder.add_item(item=sentence_score)\n",
    "\n",
    "builder.finalize()"
   ]
  },
  {
   "cell_type": "code",
   "execution_count": null,
   "metadata": {},
   "outputs": [],
   "source": [
    "indexed_path = f'{out_dir}/fluency_score'\n",
    "temp = IndexedDataset(indexed_path)\n",
    "temp[0]"
   ]
  },
  {
   "cell_type": "markdown",
   "metadata": {},
   "source": [
    "#### Extract intonation score "
   ]
  },
  {
   "cell_type": "code",
   "execution_count": null,
   "metadata": {},
   "outputs": [],
   "source": [
    "indexed_path = f'{out_dir}/intonation_score'\n",
    "\n",
    "builder = IndexedDatasetBuilder(indexed_path)\n",
    "for index in metadata.index:\n",
    "    sentence_score = metadata[\"utterance_score\"][index].copy()\n",
    "\n",
    "    builder.add_item(item=sentence_score)\n",
    "\n",
    "builder.finalize()"
   ]
  },
  {
   "cell_type": "code",
   "execution_count": null,
   "metadata": {},
   "outputs": [],
   "source": [
    "indexed_path = f'{out_dir}/intonation_score'\n",
    "temp = IndexedDataset(indexed_path)\n",
    "temp[0]"
   ]
  },
  {
   "cell_type": "markdown",
   "metadata": {},
   "source": [
    "### Extract word scores"
   ]
  },
  {
   "cell_type": "code",
   "execution_count": null,
   "metadata": {},
   "outputs": [],
   "source": [
    "indexed_path = f'{out_dir}/word_scores'\n",
    "\n",
    "builder = IndexedDatasetBuilder(indexed_path)\n",
    "for index in metadata.index:\n",
    "    word_score = metadata[\"word_scores\"][index].copy()\n",
    "    word_id = metadata[\"word_ids\"][index].copy()\n",
    "\n",
    "    word_score_in_phone_levels = []\n",
    "    for wid in word_id:\n",
    "        word_score_in_phone_levels.append(word_score[wid])\n",
    "\n",
    "    word_score_in_phone_levels = np.array(word_score_in_phone_levels)\n",
    "    builder.add_item(item=word_score_in_phone_levels)\n",
    "\n",
    "builder.finalize()"
   ]
  },
  {
   "cell_type": "code",
   "execution_count": null,
   "metadata": {},
   "outputs": [],
   "source": [
    "indexed_path = f'{out_dir}/word_scores'\n",
    "temp = IndexedDataset(indexed_path)\n",
    "temp[0]"
   ]
  },
  {
   "cell_type": "markdown",
   "metadata": {},
   "source": [
    "### Extract word ids"
   ]
  },
  {
   "cell_type": "code",
   "execution_count": null,
   "metadata": {},
   "outputs": [],
   "source": [
    "indexed_path = f'{out_dir}/word_ids'\n",
    "\n",
    "builder = IndexedDatasetBuilder(indexed_path)\n",
    "for index in metadata.index:\n",
    "    word_id = metadata[\"word_ids\"][index].copy()\n",
    "\n",
    "    word_id = np.array(word_id)\n",
    "    builder.add_item(item=word_id)\n",
    "\n",
    "builder.finalize()"
   ]
  },
  {
   "cell_type": "code",
   "execution_count": null,
   "metadata": {},
   "outputs": [],
   "source": [
    "indexed_path = f'{out_dir}/word_ids'\n",
    "temp = IndexedDataset(indexed_path)\n",
    "temp[0]"
   ]
  },
  {
   "cell_type": "markdown",
   "metadata": {},
   "source": [
    "### Extract duration feature"
   ]
  },
  {
   "cell_type": "code",
   "execution_count": null,
   "metadata": {},
   "outputs": [],
   "source": [
    "indexed_path = f'{out_dir}/duration'\n",
    "\n",
    "builder = IndexedDatasetBuilder(indexed_path)\n",
    "for index in metadata.index:\n",
    "    duration = metadata[\"duration\"][index].copy()\n",
    "\n",
    "    duration = np.array(duration)\n",
    "    builder.add_item(item=duration)\n",
    "\n",
    "builder.finalize()"
   ]
  },
  {
   "cell_type": "code",
   "execution_count": null,
   "metadata": {},
   "outputs": [],
   "source": [
    "indexed_path = f'{out_dir}/duration'\n",
    "temp = IndexedDataset(indexed_path)\n",
    "temp[0]"
   ]
  },
  {
   "cell_type": "markdown",
   "metadata": {},
   "source": [
    "### Extract phone scores"
   ]
  },
  {
   "cell_type": "code",
   "execution_count": null,
   "metadata": {},
   "outputs": [],
   "source": [
    "indexed_path = f'{out_dir}/phone_scores'\n",
    "\n",
    "builder = IndexedDatasetBuilder(indexed_path)\n",
    "for index in metadata.index:\n",
    "    phone_score = metadata[\"phone_scores\"][index].copy()\n",
    "\n",
    "    phone_score = np.array(phone_score)\n",
    "    builder.add_item(item=phone_score)\n",
    "\n",
    "builder.finalize()"
   ]
  },
  {
   "cell_type": "code",
   "execution_count": null,
   "metadata": {},
   "outputs": [],
   "source": [
    "indexed_path = f'{out_dir}/phone_scores'\n",
    "temp = IndexedDataset(indexed_path)\n",
    "temp[0]"
   ]
  },
  {
   "cell_type": "markdown",
   "metadata": {},
   "source": [
    "### Extract phone ids"
   ]
  },
  {
   "cell_type": "code",
   "execution_count": null,
   "metadata": {},
   "outputs": [],
   "source": [
    "phone_dict_path =  \"/data/codes/apa/train/exp/dicts/phone_dict.json\"\n",
    "with open(phone_dict_path, \"r\", encoding=\"utf-8\") as f:\n",
    "    phone_dict = json.load(f)"
   ]
  },
  {
   "cell_type": "code",
   "execution_count": null,
   "metadata": {},
   "outputs": [],
   "source": [
    "indexed_path = f'{out_dir}/phone_ids'\n",
    "\n",
    "builder = IndexedDatasetBuilder(indexed_path)\n",
    "for index in metadata.index:\n",
    "    phoneme = metadata[\"elsa_phone\"][index].copy()\n",
    "\n",
    "    phoneme = [re.sub(\"\\d\", \"\", phn) for phn in phoneme]\n",
    "    phoneme = [phone_dict[phn] for phn in phoneme]\n",
    "\n",
    "    phoneme = np.array(phoneme)\n",
    "    builder.add_item(item=phoneme)\n",
    "\n",
    "builder.finalize()"
   ]
  },
  {
   "cell_type": "code",
   "execution_count": null,
   "metadata": {},
   "outputs": [],
   "source": [
    "indexed_path = f'{out_dir}/phone_ids'\n",
    "temp = IndexedDataset(indexed_path)\n",
    "temp[0]"
   ]
  },
  {
   "cell_type": "markdown",
   "metadata": {},
   "source": [
    "### Extract WavLM Feature"
   ]
  },
  {
   "cell_type": "code",
   "execution_count": null,
   "metadata": {},
   "outputs": [],
   "source": [
    "import torch\n",
    "from src.models.wavlm_model import WavLM, WavLMConfig\n",
    "from tqdm import tqdm\n",
    "import librosa\n",
    "import pandas as pd\n",
    "import json"
   ]
  },
  {
   "cell_type": "code",
   "execution_count": null,
   "metadata": {},
   "outputs": [],
   "source": [
    "pretrained_path = \"/data/codes/apa/train/exp/torch/wavlm-base+.pt\"\n",
    "checkpoint = torch.load(pretrained_path)\n",
    "\n",
    "config = WavLMConfig(checkpoint['cfg'])\n",
    "model = WavLM(config).eval().cuda()\n",
    "model.load_state_dict(checkpoint['model'])"
   ]
  },
  {
   "cell_type": "code",
   "execution_count": null,
   "metadata": {},
   "outputs": [],
   "source": [
    "def extract_feature(alignment, features):\n",
    "    index = 0\n",
    "    phonemes = []\n",
    "    indices = -1 * torch.ones(alignment[-1][1] + alignment[-1][2])\n",
    "    for phoneme, start_frame, duration in alignment:\n",
    "        if phoneme == \"SIL\":\n",
    "            continue\n",
    "        end_frame = start_frame + duration\n",
    "        indices[start_frame:end_frame] = index\n",
    "        phonemes.append(phoneme)\n",
    "        index += 1\n",
    "\n",
    "    if -1 in indices:\n",
    "        indices[indices==-1] = indices.max() + 1\n",
    "\n",
    "        indices = torch.nn.functional.one_hot(indices.long(), num_classes=int(indices.max().item())+1).cuda()\n",
    "        indices = indices / indices.sum(0, keepdim=True)\n",
    "    \n",
    "        if features.shape[0] != indices.shape[0]:\n",
    "            features = features[0:indices.shape[0]]\n",
    "        features = torch.matmul(indices.transpose(0, 1), features)\n",
    "\n",
    "        return features[:-1].cpu(), phonemes\n",
    "    \n",
    "    else:\n",
    "        indices[indices==-1] = indices.max() + 1\n",
    "\n",
    "        indices = torch.nn.functional.one_hot(indices.long(), num_classes=int(indices.max().item())+1).cuda()\n",
    "        indices = indices / indices.sum(0, keepdim=True)\n",
    "    \n",
    "        if features.shape[0] != indices.shape[0]:\n",
    "            features = features[0:indices.shape[0]]\n",
    "        features = torch.matmul(indices.transpose(0, 1), features)\n",
    "\n",
    "        return features.cpu(), phonemes"
   ]
  },
  {
   "cell_type": "code",
   "execution_count": null,
   "metadata": {},
   "outputs": [],
   "source": [
    "indexed_path = f'{out_dir}/wavlm_features'\n",
    "builder = IndexedDatasetBuilder(indexed_path)\n",
    "\n",
    "wavlm_features = []\n",
    "for index in tqdm(metadata.index):\n",
    "    audio_path = metadata[\"audio_path\"][index]\n",
    "    alignment = metadata[\"alignment\"][index]\n",
    "\n",
    "    wav, sr = librosa.load(audio_path, sr=16000)\n",
    "\n",
    "    input_values = torch.from_numpy(wav).unsqueeze(0).cuda()\n",
    "    with torch.no_grad():\n",
    "        features = model.extract_features(input_values)[0]\n",
    "        if index % 1000:\n",
    "            torch.cuda.empty_cache()\n",
    "\n",
    "    index = torch.arange(features.shape[1]).unsqueeze(-1)\n",
    "    expanded_index = index.expand((-1, 2)).flatten()\n",
    "    features = features[0][expanded_index]\n",
    "\n",
    "    features, phonemes = extract_feature(alignment, features)\n",
    "    if len(features) != len(phonemes):\n",
    "        print(metadata[\"id\"][index])\n",
    "\n",
    "    builder.add_item(item=features.numpy())\n",
    "\n",
    "builder.finalize()"
   ]
  },
  {
   "cell_type": "code",
   "execution_count": null,
   "metadata": {},
   "outputs": [],
   "source": [
    "indexed_path = f'{out_dir}/wavlm_features'\n",
    "temp = IndexedDataset(indexed_path)\n",
    "temp[0]"
   ]
  }
 ],
 "metadata": {
  "kernelspec": {
   "display_name": "ps",
   "language": "python",
   "name": "python3"
  },
  "language_info": {
   "codemirror_mode": {
    "name": "ipython",
    "version": 3
   },
   "file_extension": ".py",
   "mimetype": "text/x-python",
   "name": "python",
   "nbconvert_exporter": "python",
   "pygments_lexer": "ipython3",
   "version": "3.8.17"
  }
 },
 "nbformat": 4,
 "nbformat_minor": 2
}
