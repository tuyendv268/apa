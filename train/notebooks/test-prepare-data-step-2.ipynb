{
 "cells": [
  {
   "cell_type": "code",
   "execution_count": null,
   "metadata": {},
   "outputs": [],
   "source": [
    "from tqdm import tqdm\n",
    "import pandas as pd\n",
    "import torchaudio\n",
    "import librosa\n",
    "import shutil\n",
    "import json\n",
    "import os\n",
    "\n",
    "from pandarallel import pandarallel\n",
    "pandarallel.initialize(nb_workers=8, progress_bar=True)"
   ]
  },
  {
   "cell_type": "code",
   "execution_count": null,
   "metadata": {},
   "outputs": [],
   "source": [
    "audio_dir = \"/data/audio_data/prep_submission_audio/12/\"\n",
    "\n",
    "metadata_path = \"../data/metadata/raw-jsonl/testset-short-sentence-type-12.jsonl\"\n",
    "with open(metadata_path, \"r\", encoding=\"utf-8\") as f:\n",
    "    content = f.readlines()\n",
    "    lines = [json.loads(line.strip()) for line in content]\n",
    "    data = pd.DataFrame(lines)\n",
    "    \n",
    "data[\"audio_path\"] = data.id.apply(lambda x: os.path.join(audio_dir, f'{x}.wav'))\n",
    "print(data.shape)\n",
    "data.head(2)"
   ]
  },
  {
   "cell_type": "code",
   "execution_count": null,
   "metadata": {},
   "outputs": [],
   "source": [
    "def check_audio(path, min_duration=1.0):    \n",
    "    try:\n",
    "        wav, sr = librosa.load(path, sr=16000)   \n",
    "\n",
    "        if wav.shape[0] / sr < min_duration:\n",
    "            return False \n",
    "    except:\n",
    "        return False\n",
    "    \n",
    "    return True\n",
    "    \n",
    "is_success = data.parallel_apply(lambda x: check_audio(x[\"audio_path\"]), axis=1)\n",
    "print(is_success[is_success==False].shape)\n",
    "print(is_success[is_success==True].shape)"
   ]
  },
  {
   "cell_type": "code",
   "execution_count": null,
   "metadata": {},
   "outputs": [],
   "source": [
    "data = data[is_success==True]"
   ]
  },
  {
   "cell_type": "code",
   "execution_count": null,
   "metadata": {},
   "outputs": [],
   "source": [
    "data.utterance_score.hist(bins=100)"
   ]
  },
  {
   "cell_type": "code",
   "execution_count": null,
   "metadata": {},
   "outputs": [],
   "source": [
    "data[[\"id\", \"text\"]].to_csv(\"../data/metadata/csv/testset-short-sentence-type-12.csv\", sep=\"|\", index=None, header=None)"
   ]
  },
  {
   "cell_type": "code",
   "execution_count": null,
   "metadata": {},
   "outputs": [],
   "source": [
    "extracted_data = data[is_success == True]\n",
    "path = \"../data/metadata/jsonl/testset-short-sentence-type-12.jsonl\"\n",
    "with open(path, \"w\", encoding=\"utf-8\") as f:\n",
    "    for index in tqdm(extracted_data.index):\n",
    "        sample = extracted_data.loc[index].to_dict()\n",
    "        json_obj = json.dumps(sample)\n",
    "\n",
    "        f.write(f'{json_obj}\\n')"
   ]
  },
  {
   "cell_type": "code",
   "execution_count": null,
   "metadata": {},
   "outputs": [],
   "source": []
  }
 ],
 "metadata": {
  "kernelspec": {
   "display_name": "ps",
   "language": "python",
   "name": "python3"
  },
  "language_info": {
   "codemirror_mode": {
    "name": "ipython",
    "version": 3
   },
   "file_extension": ".py",
   "mimetype": "text/x-python",
   "name": "python",
   "nbconvert_exporter": "python",
   "pygments_lexer": "ipython3",
   "version": "3.8.17"
  }
 },
 "nbformat": 4,
 "nbformat_minor": 2
}
