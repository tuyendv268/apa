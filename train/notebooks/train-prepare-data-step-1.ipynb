{
 "cells": [
  {
   "cell_type": "code",
   "execution_count": 1,
   "metadata": {},
   "outputs": [
    {
     "name": "stdout",
     "output_type": "stream",
     "text": [
      "/data/codes/apa/train\n",
      "INFO: Pandarallel will run on 8 workers.\n",
      "INFO: Pandarallel will use Memory file system to transfer data between the main process and workers.\n"
     ]
    }
   ],
   "source": [
    "%cd /data/codes/apa/train/\n",
    "\n",
    "import pandas as pd\n",
    "import os\n",
    "from glob import glob\n",
    "import json\n",
    "from pandarallel import pandarallel\n",
    "import random\n",
    "import re\n",
    "\n",
    "pandarallel.initialize(nb_workers=8, progress_bar=True)"
   ]
  },
  {
   "cell_type": "code",
   "execution_count": 2,
   "metadata": {},
   "outputs": [
    {
     "data": {
      "text/html": [
       "<div>\n",
       "<style scoped>\n",
       "    .dataframe tbody tr th:only-of-type {\n",
       "        vertical-align: middle;\n",
       "    }\n",
       "\n",
       "    .dataframe tbody tr th {\n",
       "        vertical-align: top;\n",
       "    }\n",
       "\n",
       "    .dataframe thead th {\n",
       "        text-align: right;\n",
       "    }\n",
       "</style>\n",
       "<table border=\"1\" class=\"dataframe\">\n",
       "  <thead>\n",
       "    <tr style=\"text-align: right;\">\n",
       "      <th></th>\n",
       "      <th>Unnamed: 0</th>\n",
       "      <th>id</th>\n",
       "      <th>is_deleted</th>\n",
       "      <th>user_id</th>\n",
       "      <th>question_id</th>\n",
       "      <th>question_type</th>\n",
       "      <th>question_content</th>\n",
       "      <th>url</th>\n",
       "      <th>score</th>\n",
       "      <th>fidelity_class</th>\n",
       "      <th>created_at</th>\n",
       "      <th>total_time</th>\n",
       "      <th>word_count</th>\n",
       "    </tr>\n",
       "  </thead>\n",
       "  <tbody>\n",
       "    <tr>\n",
       "      <th>0</th>\n",
       "      <td>113609</td>\n",
       "      <td>3598801</td>\n",
       "      <td>0</td>\n",
       "      <td>102850.0</td>\n",
       "      <td>16681</td>\n",
       "      <td>12</td>\n",
       "      <td>Depressed</td>\n",
       "      <td>https://storage.googleapis.com/materials-eleme...</td>\n",
       "      <td>33.0</td>\n",
       "      <td>RELEVANT</td>\n",
       "      <td>2023-06-29 12:41:33</td>\n",
       "      <td>2.28</td>\n",
       "      <td>1.0</td>\n",
       "    </tr>\n",
       "    <tr>\n",
       "      <th>1</th>\n",
       "      <td>310780</td>\n",
       "      <td>3182408</td>\n",
       "      <td>0</td>\n",
       "      <td>61193.0</td>\n",
       "      <td>16681</td>\n",
       "      <td>12</td>\n",
       "      <td>Depressed</td>\n",
       "      <td>https://storage.googleapis.com/materials-eleme...</td>\n",
       "      <td>30.0</td>\n",
       "      <td>RELEVANT</td>\n",
       "      <td>2023-06-05 17:28:06</td>\n",
       "      <td>2.71</td>\n",
       "      <td>1.0</td>\n",
       "    </tr>\n",
       "  </tbody>\n",
       "</table>\n",
       "</div>"
      ],
      "text/plain": [
       "   Unnamed: 0       id  is_deleted   user_id  question_id  question_type  \\\n",
       "0      113609  3598801           0  102850.0        16681             12   \n",
       "1      310780  3182408           0   61193.0        16681             12   \n",
       "\n",
       "  question_content                                                url  score  \\\n",
       "0        Depressed  https://storage.googleapis.com/materials-eleme...   33.0   \n",
       "1        Depressed  https://storage.googleapis.com/materials-eleme...   30.0   \n",
       "\n",
       "  fidelity_class           created_at  total_time  word_count  \n",
       "0       RELEVANT  2023-06-29 12:41:33        2.28         1.0  \n",
       "1       RELEVANT  2023-06-05 17:28:06        2.71         1.0  "
      ]
     },
     "execution_count": 2,
     "metadata": {},
     "output_type": "execute_result"
    }
   ],
   "source": [
    "# json_dir = \"/data/audio_data/pronunciation_scoring_result/marking_data/10\"\n",
    "# audio_dir = \"/data/audio_data/prep_submission_audio/10\"\n",
    "\n",
    "# in_csv_path = \"/data/audio_data/pronunciation_scoring_result/merged_info/info_question_type-10_01082022_18092023.csv\"\n",
    "# out_jsonl_path = \"data/metadata/raw-jsonl/train-data-type-10.jsonl\"\n",
    "\n",
    "# metadata_path=\"/data/audio_data/pronunciation_scoring_result/dataset/info_qt_10_trainset.csv\"\n",
    "\n",
    "json_dir = \"/data/audio_data/pronunciation_scoring_result/marking_data/12\"\n",
    "audio_dir = \"/data/audio_data/prep_submission_audio/12\"\n",
    "\n",
    "in_csv_path = \"/data/codes/pronunciation-scoring-evaluate/data/raw/train-data-type-12.csv\"\n",
    "out_jsonl_path = \"data/metadata/raw-jsonl/train-data-type-12.jsonl\"\n",
    "metadata = pd.read_csv(in_csv_path)\n",
    "metadata.head(2)"
   ]
  },
  {
   "cell_type": "code",
   "execution_count": 3,
   "metadata": {},
   "outputs": [
    {
     "name": "stdout",
     "output_type": "stream",
     "text": [
      "(81748, 13)\n",
      "(81647, 13)\n"
     ]
    }
   ],
   "source": [
    "print(metadata.shape)\n",
    "metadata = metadata[metadata.total_time > 1.0]\n",
    "metadata = metadata[metadata.total_time < 10.0]\n",
    "print(metadata.shape)\n",
    "\n",
    "# metadata = metadata[0:500000]"
   ]
  },
  {
   "cell_type": "code",
   "execution_count": 4,
   "metadata": {},
   "outputs": [
    {
     "data": {
      "text/plain": [
       "<Axes: >"
      ]
     },
     "execution_count": 4,
     "metadata": {},
     "output_type": "execute_result"
    },
    {
     "data": {
      "image/png": "[encoded data removed]",
      "text/plain": [
       "<Figure size 640x480 with 1 Axes>"
      ]
     },
     "metadata": {},
     "output_type": "display_data"
    }
   ],
   "source": [
    "metadata.score.hist(bins=100)"
   ]
  },
  {
   "cell_type": "code",
   "execution_count": 5,
   "metadata": {},
   "outputs": [
    {
     "data": {
      "application/vnd.jupyter.widget-view+json": {
       "model_id": "26da0971bd3745499771eb26da657f5d",
       "version_major": 2,
       "version_minor": 0
      },
      "text/plain": [
       "VBox(children=(HBox(children=(IntProgress(value=0, description='0.00%', max=10206), Label(value='0 / 10206')))…"
      ]
     },
     "metadata": {},
     "output_type": "display_data"
    },
    {
     "name": "stdout",
     "output_type": "stream",
     "text": [
      "(81647, 13)\n",
      "(81630, 13)\n"
     ]
    }
   ],
   "source": [
    "import torchaudio\n",
    "\n",
    "def is_valid_audio(audio_id):\n",
    "    abs_path = os.path.join(audio_dir, f'{audio_id}.wav')\n",
    "    if not os.path.exists(abs_path):\n",
    "        return False\n",
    "    try:\n",
    "        wav, sr = torchaudio.load(abs_path)\n",
    "        if sr != 16000:\n",
    "            return False\n",
    "    except:\n",
    "        return False\n",
    "    \n",
    "    return True\n",
    "\n",
    "is_exist =  metadata.id.parallel_apply(is_valid_audio)\n",
    "print(metadata.shape)\n",
    "metadata = metadata[is_exist]\n",
    "print(metadata.shape)"
   ]
  },
  {
   "cell_type": "code",
   "execution_count": 6,
   "metadata": {},
   "outputs": [],
   "source": [
    "def load_lexicon(path):\n",
    "    vocab = pd.read_csv(path, sep=\"\\t\", names=[\"word\", \"arpa\"])\n",
    "    lexicon = {}\n",
    "    for name, group in vocab.groupby(\"word\"):\n",
    "        lexicon[name] = set(group[\"arpa\"].tolist())\n",
    "\n",
    "    return lexicon\n",
    "\n",
    "lexicon_path = \"/data/codes/apa/train/exp/dicts/lexicon\"\n",
    "lexicon = load_lexicon(lexicon_path)"
   ]
  },
  {
   "cell_type": "code",
   "execution_count": 9,
   "metadata": {},
   "outputs": [
    {
     "data": {
      "application/vnd.jupyter.widget-view+json": {
       "model_id": "8e2c11d62fa3491584073aeb873b29f0",
       "version_major": 2,
       "version_minor": 0
      },
      "text/plain": [
       "VBox(children=(HBox(children=(IntProgress(value=0, description='0.00%', max=10204), Label(value='0 / 10204')))…"
      ]
     },
     "metadata": {},
     "output_type": "display_data"
    },
    {
     "data": {
      "text/plain": [
       "0    [{'id': '3598801', 'raw_text': 'Depressed', 't...\n",
       "1    [{'id': '3182408', 'raw_text': 'Depressed', 't...\n",
       "2    [{'id': '1205156', 'raw_text': 'Depressed', 't...\n",
       "3    [{'id': '3721019', 'raw_text': 'Depressed', 't...\n",
       "4    [{'id': '2231077', 'raw_text': 'Depressed', 't...\n",
       "Name: id, dtype: object"
      ]
     },
     "execution_count": 9,
     "metadata": {},
     "output_type": "execute_result"
    }
   ],
   "source": [
    "decision2color = {\n",
    "    \"correct\": 2,\n",
    "    \"warning\":1,\n",
    "    \"error\":0\n",
    "}\n",
    "\n",
    "def norm_text(text):\n",
    "    text = re.sub(r\"[\\,\\.\\!\\?\\:\\;]\", \" \", text)\n",
    "    text = re.sub(\"\\s+\", \" \", text).strip()\n",
    "    text = text.upper()\n",
    "\n",
    "    return text\n",
    "\n",
    "def is_valid_phoneme(phoneme):\n",
    "    if phoneme[\"phoneme_error_arpabet\"] != \"normal\":\n",
    "        trans = phoneme[\"phoneme_error_arpabet\"].split(\" - \")[-1]\n",
    "        labels = phoneme[\"phoneme_error_arpabet\"].split(\" - \")[0]\n",
    "        if len(labels.split(\" \")) >= 2:\n",
    "            return False\n",
    "        \n",
    "        if len(trans.split(\" \")) >= 2:\n",
    "            return False\n",
    "        \n",
    "        # if labels in trans:\n",
    "        #     return False\n",
    "        \n",
    "    return True\n",
    "\n",
    "def is_valid_word(word):\n",
    "    if norm_text(word[\"text\"]) not in lexicon:\n",
    "        return False\n",
    "\n",
    "    # if word[\"trans_arpabet\"] not in lexicon[norm_text(word[\"text\"])]:\n",
    "    #     return False\n",
    "\n",
    "    if len(word[\"phonemes\"]) != len(word[\"trans_arpabet\"].split()):\n",
    "        return False\n",
    "\n",
    "    return True\n",
    "            \n",
    "def parse_metadata_data(json_path):\n",
    "    try: \n",
    "        with open(json_path, \"r\") as f:\n",
    "            content = json.load(f)\n",
    "        id = os.path.basename(json_path).split(\".\")[0]\n",
    "\n",
    "        utterances = []\n",
    "        for raw_utterance in content[\"utterance\"]:\n",
    "            id = id\n",
    "            utt_raw_text = raw_utterance[\"sentence\"]\n",
    "            utt_score = raw_utterance[\"nativeness_score\"]\n",
    "            \n",
    "            start_time = None\n",
    "            end_time = None\n",
    "            utt_uid = None\n",
    "            \n",
    "            utt_text = []\n",
    "            utt_arpas = []\n",
    "            utt_trans = [] \n",
    "            utt_phone_scores = []\n",
    "            utt_decisions = []\n",
    "            utt_word_scores = []\n",
    "            utt_word_ids = []\n",
    "            \n",
    "            ignore = False\n",
    "            for word_id, word in enumerate(raw_utterance[\"words\"]):\n",
    "                word[\"trans_arpabet\"] = word[\"trans_arpabet\"].replace(\"AH0\", \"AX\")\n",
    "                \n",
    "                if is_valid_word(word) == False:\n",
    "                    ignore = True\n",
    "                    break\n",
    "\n",
    "                for phoneme in word[\"phonemes\"]:\n",
    "                    if is_valid_phoneme(phoneme) == False:\n",
    "                        ignore = True\n",
    "                        break\n",
    "\n",
    "                    arpa = phoneme[\"trans_arpabet\"]\n",
    "                    decision = decision2color[phoneme[\"decision\"]]\n",
    "                    score = phoneme[\"nativeness_score\"] if phoneme[\"nativeness_score\"] >= 0 else 0\n",
    "                    tran = phoneme[\"trans_arpabet\"]\n",
    "\n",
    "                    utt_phone_scores.append(score)\n",
    "                    utt_word_ids.append(word_id)\n",
    "                    utt_trans.append(tran)\n",
    "                    utt_decisions.append(decision)\n",
    "\n",
    "                wrd_score = word[\"nativeness_score\"]\n",
    "                wrd_text = norm_text(word[\"text\"])\n",
    "                wrd_arpa = word[\"trans_arpabet\"].split()\n",
    "                \n",
    "                utt_text.append(wrd_text)                \n",
    "                utt_word_scores.append(wrd_score)\n",
    "                utt_arpas += wrd_arpa\n",
    "            \n",
    "\n",
    "            utterance = {\n",
    "                \"id\": id,\n",
    "                \"raw_text\": utt_raw_text,\n",
    "                \"text\": \" \".join(utt_text),\n",
    "                \"utt_id\": utt_uid,\n",
    "                \"start_time\": start_time,\n",
    "                \"end_time\": end_time,\n",
    "                \"arpas\": utt_arpas,\n",
    "                \"trans\": utt_trans,\n",
    "                \"phone_scores\": utt_phone_scores,\n",
    "                \"word_scores\": utt_word_scores,\n",
    "                \"decisions\": utt_decisions,\n",
    "                \"word_ids\": utt_word_ids,\n",
    "                \"utterance_score\": utt_score,\n",
    "            }\n",
    "            \n",
    "            if ignore == False:\n",
    "                utterances.append(utterance)\n",
    "        \n",
    "        return utterances\n",
    "    except:\n",
    "        return []\n",
    "\n",
    "extracted_data = metadata.id.parallel_apply(lambda x: parse_metadata_data(os.path.join(json_dir, f'{x}.json')))\n",
    "extracted_data.head()\n",
    "# metadata.id.head(100).apply(lambda x: parse_metadata_data(os.path.join(json_dir, f'{x}.json')))"
   ]
  },
  {
   "cell_type": "code",
   "execution_count": 10,
   "metadata": {},
   "outputs": [
    {
     "name": "stdout",
     "output_type": "stream",
     "text": [
      "(81630, 1)\n",
      "(81630, 1)\n"
     ]
    },
    {
     "data": {
      "text/html": [
       "<div>\n",
       "<style scoped>\n",
       "    .dataframe tbody tr th:only-of-type {\n",
       "        vertical-align: middle;\n",
       "    }\n",
       "\n",
       "    .dataframe tbody tr th {\n",
       "        vertical-align: top;\n",
       "    }\n",
       "\n",
       "    .dataframe thead th {\n",
       "        text-align: right;\n",
       "    }\n",
       "</style>\n",
       "<table border=\"1\" class=\"dataframe\">\n",
       "  <thead>\n",
       "    <tr style=\"text-align: right;\">\n",
       "      <th></th>\n",
       "      <th>data</th>\n",
       "    </tr>\n",
       "  </thead>\n",
       "  <tbody>\n",
       "    <tr>\n",
       "      <th>0</th>\n",
       "      <td>{'id': '3598801', 'raw_text': 'Depressed', 'te...</td>\n",
       "    </tr>\n",
       "    <tr>\n",
       "      <th>1</th>\n",
       "      <td>{'id': '3182408', 'raw_text': 'Depressed', 'te...</td>\n",
       "    </tr>\n",
       "    <tr>\n",
       "      <th>2</th>\n",
       "      <td>{'id': '1205156', 'raw_text': 'Depressed', 'te...</td>\n",
       "    </tr>\n",
       "    <tr>\n",
       "      <th>3</th>\n",
       "      <td>{'id': '3721019', 'raw_text': 'Depressed', 'te...</td>\n",
       "    </tr>\n",
       "    <tr>\n",
       "      <th>4</th>\n",
       "      <td>{'id': '2231077', 'raw_text': 'Depressed', 'te...</td>\n",
       "    </tr>\n",
       "  </tbody>\n",
       "</table>\n",
       "</div>"
      ],
      "text/plain": [
       "                                                data\n",
       "0  {'id': '3598801', 'raw_text': 'Depressed', 'te...\n",
       "1  {'id': '3182408', 'raw_text': 'Depressed', 'te...\n",
       "2  {'id': '1205156', 'raw_text': 'Depressed', 'te...\n",
       "3  {'id': '3721019', 'raw_text': 'Depressed', 'te...\n",
       "4  {'id': '2231077', 'raw_text': 'Depressed', 'te..."
      ]
     },
     "execution_count": 10,
     "metadata": {},
     "output_type": "execute_result"
    }
   ],
   "source": [
    "data = extracted_data.explode().reset_index()[\"id\"]\n",
    "data = pd.DataFrame({\"data\": data})\n",
    "print(data.shape)\n",
    "data.dropna(inplace=True)\n",
    "data[\"text\"] = data[\"data\"].apply(lambda x: x[\"text\"])\n",
    "data = data.reset_index()[[\"data\"]]\n",
    "print(data.shape)\n",
    "data.head()"
   ]
  },
  {
   "cell_type": "code",
   "execution_count": 11,
   "metadata": {},
   "outputs": [
    {
     "data": {
      "text/plain": [
       "<Axes: >"
      ]
     },
     "execution_count": 11,
     "metadata": {},
     "output_type": "execute_result"
    },
    {
     "data": {
      "image/png": "[encoded data removed]",
      "text/plain": [
       "<Figure size 640x480 with 1 Axes>"
      ]
     },
     "metadata": {},
     "output_type": "display_data"
    }
   ],
   "source": [
    "scores = data[\"data\"].apply(lambda x: x[\"utterance_score\"]).to_list()\n",
    "\n",
    "pd.DataFrame(scores, columns=[\"score\"]).score.hist(bins=100)"
   ]
  },
  {
   "cell_type": "code",
   "execution_count": 12,
   "metadata": {},
   "outputs": [
    {
     "data": {
      "text/plain": [
       "<Axes: >"
      ]
     },
     "execution_count": 12,
     "metadata": {},
     "output_type": "execute_result"
    },
    {
     "data": {
      "image/png": "[encoded data removed]",
      "text/plain": [
       "<Figure size 640x480 with 1 Axes>"
      ]
     },
     "metadata": {},
     "output_type": "display_data"
    }
   ],
   "source": [
    "scores = data[\"data\"].apply(lambda x: x[\"word_scores\"]).to_list()\n",
    "scores = [score for sample in scores for score in sample]\n",
    "\n",
    "pd.DataFrame(scores, columns=[\"score\"]).score.hist(bins=100)"
   ]
  },
  {
   "cell_type": "code",
   "execution_count": 13,
   "metadata": {},
   "outputs": [
    {
     "name": "stdout",
     "output_type": "stream",
     "text": [
      "(154326, 1)\n"
     ]
    },
    {
     "data": {
      "text/plain": [
       "<Axes: >"
      ]
     },
     "execution_count": 13,
     "metadata": {},
     "output_type": "execute_result"
    },
    {
     "data": {
      "image/png": "[encoded data removed]",
      "text/plain": [
       "<Figure size 640x480 with 1 Axes>"
      ]
     },
     "metadata": {},
     "output_type": "display_data"
    }
   ],
   "source": [
    "scores = data[\"data\"].apply(lambda x: x[\"phone_scores\"]).to_list()\n",
    "scores = [score for sample in scores for score in sample]\n",
    "\n",
    "scores = pd.DataFrame(scores, columns=[\"score\"])\n",
    "print(scores[scores.score<80].shape)\n",
    "scores.score.hist(bins=100)"
   ]
  },
  {
   "cell_type": "code",
   "execution_count": 14,
   "metadata": {},
   "outputs": [
    {
     "data": {
      "text/plain": [
       "<Axes: >"
      ]
     },
     "execution_count": 14,
     "metadata": {},
     "output_type": "execute_result"
    },
    {
     "data": {
      "image/png": "[encoded data removed]",
      "text/plain": [
       "<Figure size 640x480 with 1 Axes>"
      ]
     },
     "metadata": {},
     "output_type": "display_data"
    }
   ],
   "source": [
    "scores = data[\"data\"].apply(lambda x: x[\"phone_scores\"]).to_list()\n",
    "scores = [score for sample in scores for score in sample]\n",
    "\n",
    "pd.DataFrame(scores, columns=[\"score\"]).score.hist(bins=100)"
   ]
  },
  {
   "cell_type": "code",
   "execution_count": 15,
   "metadata": {},
   "outputs": [
    {
     "name": "stderr",
     "output_type": "stream",
     "text": [
      "100%|██████████| 81630/81630 [00:00<00:00, 142655.91it/s]\n"
     ]
    }
   ],
   "source": [
    "from tqdm import tqdm\n",
    " \n",
    "extracted_data = data\n",
    "with open(out_jsonl_path, \"w\", encoding=\"utf-8\") as f:\n",
    "    for index in tqdm(extracted_data.index):\n",
    "        sample = extracted_data.loc[index, \"data\"]\n",
    "        json_obj = json.dumps(sample)\n",
    "\n",
    "        f.write(f'{json_obj}\\n')"
   ]
  }
 ],
 "metadata": {
  "kernelspec": {
   "display_name": "ps",
   "language": "python",
   "name": "python3"
  },
  "language_info": {
   "codemirror_mode": {
    "name": "ipython",
    "version": 3
   },
   "file_extension": ".py",
   "mimetype": "text/x-python",
   "name": "python",
   "nbconvert_exporter": "python",
   "pygments_lexer": "ipython3",
   "version": "3.8.17"
  }
 },
 "nbformat": 4,
 "nbformat_minor": 2
}
