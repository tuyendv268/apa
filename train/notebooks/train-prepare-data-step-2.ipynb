{
 "cells": [
  {
   "cell_type": "code",
   "execution_count": null,
   "metadata": {},
   "outputs": [],
   "source": [
    "from tqdm import tqdm\n",
    "import pandas as pd\n",
    "import torchaudio\n",
    "import librosa\n",
    "import shutil\n",
    "import json\n",
    "import os\n",
    "\n",
    "from pandarallel import pandarallel\n",
    "pandarallel.initialize(nb_workers=8, progress_bar=True)"
   ]
  },
  {
   "cell_type": "code",
   "execution_count": null,
   "metadata": {},
   "outputs": [],
   "source": [
    "def load_data(path):\n",
    "    with open(path, \"r\", encoding=\"utf-8\") as f:\n",
    "        content = f.readlines()\n",
    "        lines = [json.loads(line.strip()) for line in content]\n",
    "    data = pd.DataFrame(lines)\n",
    "\n",
    "    return data"
   ]
  },
  {
   "cell_type": "code",
   "execution_count": null,
   "metadata": {},
   "outputs": [],
   "source": [
    "in_jsonl_path = \"../data/metadata/raw-jsonl/train-data-type-9.jsonl\"\n",
    "out_jsonl_path = \"../data/metadata/filtered-jsonl/train-data-type-9.jsonl\"\n",
    "\n",
    "data = load_data(in_jsonl_path)\n",
    "print(data.shape)\n",
    "data.head(2)"
   ]
  },
  {
   "cell_type": "code",
   "execution_count": null,
   "metadata": {},
   "outputs": [],
   "source": [
    "scores = data.apply(lambda x: x[\"phone_scores\"], axis=1).to_list()\n",
    "scores = [score for sample in scores for score in sample]\n",
    "\n",
    "pd.DataFrame(scores, columns=[\"score\"]).score.hist(bins=100)"
   ]
  },
  {
   "cell_type": "code",
   "execution_count": null,
   "metadata": {},
   "outputs": [],
   "source": [
    "filtered_data = []\n",
    "for name, group in data.groupby(\"text\"):\n",
    "    if group.shape[0] >= 268:\n",
    "        samples = group.sample(268)\n",
    "        filtered_data.append(samples)\n",
    "    else:\n",
    "        filtered_data.append(group)\n",
    "\n",
    "filtered_data = pd.concat(filtered_data)\n",
    "filtered_data.shape"
   ]
  },
  {
   "cell_type": "code",
   "execution_count": null,
   "metadata": {},
   "outputs": [],
   "source": [
    "scores = filtered_data.apply(lambda x: x[\"phone_scores\"], axis=1).to_list()\n",
    "scores = [score for sample in scores for score in sample]\n",
    "\n",
    "pd.DataFrame(scores, columns=[\"score\"]).score.hist(bins=100)"
   ]
  },
  {
   "cell_type": "code",
   "execution_count": null,
   "metadata": {},
   "outputs": [],
   "source": [
    "filtered_data.utterance_score.hist(bins=100)"
   ]
  },
  {
   "cell_type": "code",
   "execution_count": null,
   "metadata": {},
   "outputs": [],
   "source": [
    "scores = filtered_data.apply(lambda x: x[\"word_scores\"], axis=1).to_list()\n",
    "scores = [score for sample in scores for score in sample]\n",
    "\n",
    "pd.DataFrame(scores, columns=[\"score\"]).score.hist(bins=100)"
   ]
  },
  {
   "cell_type": "code",
   "execution_count": null,
   "metadata": {},
   "outputs": [],
   "source": [
    "filtered_data.text.value_counts().hist()"
   ]
  },
  {
   "cell_type": "code",
   "execution_count": null,
   "metadata": {},
   "outputs": [],
   "source": [
    "from tqdm import tqdm\n",
    " \n",
    "with open(out_jsonl_path, \"w\", encoding=\"utf-8\") as f:\n",
    "    for index in tqdm(filtered_data.index):\n",
    "        sample = filtered_data.loc[index].to_dict()\n",
    "        json_obj = json.dumps(sample)\n",
    "\n",
    "        f.write(f'{json_obj}\\n')"
   ]
  }
 ],
 "metadata": {
  "kernelspec": {
   "display_name": "ps",
   "language": "python",
   "name": "python3"
  },
  "language_info": {
   "codemirror_mode": {
    "name": "ipython",
    "version": 3
   },
   "file_extension": ".py",
   "mimetype": "text/x-python",
   "name": "python",
   "nbconvert_exporter": "python",
   "pygments_lexer": "ipython3",
   "version": "3.8.17"
  }
 },
 "nbformat": 4,
 "nbformat_minor": 2
}
