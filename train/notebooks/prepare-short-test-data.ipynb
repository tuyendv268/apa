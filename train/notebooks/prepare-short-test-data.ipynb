{
 "cells": [
  {
   "cell_type": "code",
   "execution_count": 8,
   "metadata": {},
   "outputs": [
    {
     "name": "stdout",
     "output_type": "stream",
     "text": [
      "INFO: Pandarallel will run on 8 workers.\n",
      "INFO: Pandarallel will use Memory file system to transfer data between the main process and workers.\n"
     ]
    }
   ],
   "source": [
    "from tqdm import tqdm\n",
    "import pandas as pd\n",
    "import torchaudio\n",
    "import librosa\n",
    "import shutil\n",
    "import json\n",
    "import os\n",
    "\n",
    "from pandarallel import pandarallel\n",
    "pandarallel.initialize(nb_workers=8, progress_bar=True)"
   ]
  },
  {
   "cell_type": "code",
   "execution_count": 9,
   "metadata": {},
   "outputs": [
    {
     "name": "stdout",
     "output_type": "stream",
     "text": [
      "(73817, 13)\n"
     ]
    },
    {
     "data": {
      "text/html": [
       "<div>\n",
       "<style scoped>\n",
       "    .dataframe tbody tr th:only-of-type {\n",
       "        vertical-align: middle;\n",
       "    }\n",
       "\n",
       "    .dataframe tbody tr th {\n",
       "        vertical-align: top;\n",
       "    }\n",
       "\n",
       "    .dataframe thead th {\n",
       "        text-align: right;\n",
       "    }\n",
       "</style>\n",
       "<table border=\"1\" class=\"dataframe\">\n",
       "  <thead>\n",
       "    <tr style=\"text-align: right;\">\n",
       "      <th></th>\n",
       "      <th>id</th>\n",
       "      <th>raw</th>\n",
       "      <th>text</th>\n",
       "      <th>utt_id</th>\n",
       "      <th>start_time</th>\n",
       "      <th>end_time</th>\n",
       "      <th>arpas</th>\n",
       "      <th>trans</th>\n",
       "      <th>phone_scores</th>\n",
       "      <th>word_scores</th>\n",
       "      <th>word_ids</th>\n",
       "      <th>utterance_scores</th>\n",
       "      <th>audio_path</th>\n",
       "    </tr>\n",
       "  </thead>\n",
       "  <tbody>\n",
       "    <tr>\n",
       "      <th>0</th>\n",
       "      <td>5580017</td>\n",
       "      <td>waitress</td>\n",
       "      <td>WAITRESS</td>\n",
       "      <td>None</td>\n",
       "      <td>None</td>\n",
       "      <td>None</td>\n",
       "      <td>[W, EY1, T, R, AH0, S]</td>\n",
       "      <td>[W, EY, T, R, SCHWA, S]</td>\n",
       "      <td>[98, 99, 95, 98, 92, 91]</td>\n",
       "      <td>[96]</td>\n",
       "      <td>[0, 0, 0, 0, 0, 0]</td>\n",
       "      <td>96.0</td>\n",
       "      <td>/data/audio_data/prep_submission_audio/12/5580...</td>\n",
       "    </tr>\n",
       "    <tr>\n",
       "      <th>1</th>\n",
       "      <td>5580020</td>\n",
       "      <td>director</td>\n",
       "      <td>DIRECTOR</td>\n",
       "      <td>None</td>\n",
       "      <td>None</td>\n",
       "      <td>None</td>\n",
       "      <td>[D, IH0, R, EH1, K, T, ER0]</td>\n",
       "      <td>[D, IH, R, EH, K, T, ER]</td>\n",
       "      <td>[97, 98, 95, 84, 35, 71, 82]</td>\n",
       "      <td>[79]</td>\n",
       "      <td>[0, 0, 0, 0, 0, 0, 0]</td>\n",
       "      <td>79.0</td>\n",
       "      <td>/data/audio_data/prep_submission_audio/12/5580...</td>\n",
       "    </tr>\n",
       "  </tbody>\n",
       "</table>\n",
       "</div>"
      ],
      "text/plain": [
       "        id       raw      text utt_id start_time end_time  \\\n",
       "0  5580017  waitress  WAITRESS   None       None     None   \n",
       "1  5580020  director  DIRECTOR   None       None     None   \n",
       "\n",
       "                         arpas                     trans  \\\n",
       "0       [W, EY1, T, R, AH0, S]   [W, EY, T, R, SCHWA, S]   \n",
       "1  [D, IH0, R, EH1, K, T, ER0]  [D, IH, R, EH, K, T, ER]   \n",
       "\n",
       "                   phone_scores word_scores               word_ids  \\\n",
       "0      [98, 99, 95, 98, 92, 91]        [96]     [0, 0, 0, 0, 0, 0]   \n",
       "1  [97, 98, 95, 84, 35, 71, 82]        [79]  [0, 0, 0, 0, 0, 0, 0]   \n",
       "\n",
       "   utterance_scores                                         audio_path  \n",
       "0              96.0  /data/audio_data/prep_submission_audio/12/5580...  \n",
       "1              79.0  /data/audio_data/prep_submission_audio/12/5580...  "
      ]
     },
     "execution_count": 9,
     "metadata": {},
     "output_type": "execute_result"
    }
   ],
   "source": [
    "audio_dir = \"/data/audio_data/prep_submission_audio/12/\"\n",
    "\n",
    "metadata_path = \"../prep_data/raw_jsonl/info_out_domain_short_sentence_testset.jsonl\"\n",
    "with open(metadata_path, \"r\", encoding=\"utf-8\") as f:\n",
    "    content = f.readlines()\n",
    "    lines = [json.loads(line.strip()) for line in content]\n",
    "    data = pd.DataFrame(lines)\n",
    "    \n",
    "data[\"audio_path\"] = data.id.apply(lambda x: os.path.join(audio_dir, f'{x}.wav'))\n",
    "print(data.shape)\n",
    "data.head(2)"
   ]
  },
  {
   "cell_type": "code",
   "execution_count": 10,
   "metadata": {},
   "outputs": [
    {
     "data": {
      "application/vnd.jupyter.widget-view+json": {
       "model_id": "be613b7f17c244539ff1b153aaa10764",
       "version_major": 2,
       "version_minor": 0
      },
      "text/plain": [
       "VBox(children=(HBox(children=(IntProgress(value=0, description='0.00%', max=9228), Label(value='0 / 9228'))), …"
      ]
     },
     "metadata": {},
     "output_type": "display_data"
    },
    {
     "name": "stdout",
     "output_type": "stream",
     "text": [
      "(0,)\n",
      "(73817,)\n"
     ]
    }
   ],
   "source": [
    "def check_audio(path, min_duration=1.0):    \n",
    "    try:\n",
    "        wav, sr = librosa.load(path, sr=16000)   \n",
    "\n",
    "        if wav.shape[0] / sr < min_duration:\n",
    "            return False \n",
    "    except:\n",
    "        return False\n",
    "    \n",
    "    return True\n",
    "    \n",
    "is_success = data.parallel_apply(lambda x: check_audio(x[\"audio_path\"]), axis=1)\n",
    "print(is_success[is_success==False].shape)\n",
    "print(is_success[is_success==True].shape)"
   ]
  },
  {
   "cell_type": "code",
   "execution_count": 11,
   "metadata": {},
   "outputs": [],
   "source": [
    "data = data[is_success==True]"
   ]
  },
  {
   "cell_type": "code",
   "execution_count": 12,
   "metadata": {},
   "outputs": [
    {
     "data": {
      "text/plain": [
       "<Axes: >"
      ]
     },
     "execution_count": 12,
     "metadata": {},
     "output_type": "execute_result"
    },
    {
     "data": {
      "image/png": "[encoded data removed]",
      "text/plain": [
       "<Figure size 640x480 with 1 Axes>"
      ]
     },
     "metadata": {},
     "output_type": "display_data"
    }
   ],
   "source": [
    "data.utterance_scores.hist(bins=100)"
   ]
  },
  {
   "cell_type": "code",
   "execution_count": 13,
   "metadata": {},
   "outputs": [],
   "source": [
    "data[[\"id\", \"text\"]].to_csv(\"../prep_data/csv/info_out_domain_short_sentence_testset.csv\", sep=\"|\", index=None, header=None)"
   ]
  },
  {
   "cell_type": "code",
   "execution_count": 14,
   "metadata": {},
   "outputs": [
    {
     "name": "stderr",
     "output_type": "stream",
     "text": [
      "  4%|▍         | 2905/73817 [00:00<00:02, 29047.05it/s]"
     ]
    },
    {
     "name": "stderr",
     "output_type": "stream",
     "text": [
      "100%|██████████| 73817/73817 [00:02<00:00, 29241.57it/s]\n"
     ]
    }
   ],
   "source": [
    "extracted_data = data[is_success == True]\n",
    "path = \"../prep_data/jsonl/info_out_domain_short_sentence_testset.jsonl\"\n",
    "with open(path, \"w\", encoding=\"utf-8\") as f:\n",
    "    for index in tqdm(extracted_data.index):\n",
    "        sample = extracted_data.loc[index].to_dict()\n",
    "        json_obj = json.dumps(sample)\n",
    "\n",
    "        f.write(f'{json_obj}\\n')"
   ]
  },
  {
   "cell_type": "code",
   "execution_count": null,
   "metadata": {},
   "outputs": [],
   "source": []
  }
 ],
 "metadata": {
  "kernelspec": {
   "display_name": "ps",
   "language": "python",
   "name": "python3"
  },
  "language_info": {
   "codemirror_mode": {
    "name": "ipython",
    "version": 3
   },
   "file_extension": ".py",
   "mimetype": "text/x-python",
   "name": "python",
   "nbconvert_exporter": "python",
   "pygments_lexer": "ipython3",
   "version": "3.8.17"
  }
 },
 "nbformat": 4,
 "nbformat_minor": 2
}
