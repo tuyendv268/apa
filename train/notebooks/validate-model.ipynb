{
 "cells": [
  {
   "cell_type": "code",
   "execution_count": 1,
   "metadata": {},
   "outputs": [
    {
     "name": "stdout",
     "output_type": "stream",
     "text": [
      "/data/codes/apa/train\n"
     ]
    }
   ],
   "source": [
    "!export CUDA_VISIBLE_DEVICES=0\n",
    "\n",
    "%cd /data/codes/apa/train/\n",
    "import matplotlib.pyplot as plt\n",
    "from tqdm import tqdm\n",
    "import pandas as pd\n",
    "import numpy as np\n",
    "\n",
    "import pickle\n",
    "import json\n",
    "import re\n",
    "import os\n",
    "\n",
    "from torch.utils.data import Dataset, DataLoader\n",
    "from torch import nn\n",
    "import torch\n",
    "\n",
    "from src.utils.train import (\n",
    "    load_data,\n",
    "    to_device,\n",
    "    validate\n",
    ")\n",
    "\n",
    "from src.dataset import PrepDataset\n",
    "from src.model import PrepModel"
   ]
  },
  {
   "cell_type": "code",
   "execution_count": 2,
   "metadata": {},
   "outputs": [],
   "source": [
    "ckpt_dir = '/data/codes/apa/train/exp/fine-tuning'\n",
    "test_dir = \"//data/codes/apa/train/data/feats/train/train-data-type-12-filtered/\"\n",
    "ckpt_path = '/data/codes/apa/train/exp/dev/ckpts-eph=14-mse=0.12870000302791595/model.pt'\n",
    "\n",
    "max_length=128\n",
    "relative2id_path=\"/data/codes/apa/train/exp/dicts/relative2id.json\"\n",
    "phone2id_path=\"/data/codes/apa/train/exp/dicts/phone_dict.json\"\n",
    "\n",
    "ids, phone_ids_path, word_ids_path, \\\n",
    "    phone_scores_path, word_scores_path, sentence_scores_path, fluency_score_path, intonation_score_path, \\\n",
    "    durations_path, gops_path, relative_positions_path, wavlm_features_path = load_data(test_dir)\n",
    "\n",
    "testset = PrepDataset(\n",
    "    ids=ids, \n",
    "    phone_ids_path=phone_ids_path, \n",
    "    word_ids_path=word_ids_path, \n",
    "    phone_scores_path=phone_scores_path, \n",
    "    word_scores_path=word_scores_path, \n",
    "    sentence_scores_path=sentence_scores_path, \n",
    "    fluency_score_path=fluency_score_path,\n",
    "    intonation_scores_path=intonation_score_path,\n",
    "    durations_path=durations_path, \n",
    "    gops_path=gops_path, \n",
    "    relative_positions_path=relative_positions_path, \n",
    "    wavlm_features_path=wavlm_features_path,\n",
    "    relative2id_path=relative2id_path, \n",
    "    phone2id_path=phone2id_path,\n",
    "    max_length=max_length,\n",
    "\n",
    ")\n",
    "\n",
    "testloader = DataLoader(\n",
    "    testset, \n",
    "    num_workers=1,\n",
    "    batch_size=64, \n",
    "    shuffle=False, \n",
    "    drop_last=True, \n",
    ")"
   ]
  },
  {
   "cell_type": "code",
   "execution_count": 3,
   "metadata": {},
   "outputs": [],
   "source": [
    "embed_dim=32\n",
    "num_heads=1\n",
    "depth=3\n",
    "input_dim=855\n",
    "num_phone=44\n",
    "max_length=256\n",
    "dropout=0.1\n",
    "\n",
    "lr=5e-4\n",
    "weight_decay=5e-7\n",
    "betas=(0.95, 0.999)\n",
    "\n",
    "device = torch.device(\n",
    "    \"cuda:0\" if torch.cuda.is_available() else \"cpu\")\n",
    "\n",
    "gopt_model = PrepModel(\n",
    "    embed_dim=embed_dim, \n",
    "    num_heads=num_heads, \n",
    "    depth=depth, \n",
    "    input_dim=input_dim, \n",
    "    max_length=max_length, \n",
    "    num_phone=num_phone, \n",
    "    dropout=dropout).to(device)\n",
    "\n",
    "trainables = [p for p in gopt_model.parameters() if p.requires_grad]\n",
    "\n",
    "optimizer = torch.optim.Adam(\n",
    "    trainables, lr, \n",
    "    weight_decay=weight_decay, \n",
    "    betas=betas\n",
    ")\n",
    "\n",
    "loss_fn = nn.MSELoss()"
   ]
  },
  {
   "cell_type": "code",
   "execution_count": 4,
   "metadata": {},
   "outputs": [
    {
     "data": {
      "text/plain": [
       "<All keys matched successfully>"
      ]
     },
     "execution_count": 4,
     "metadata": {},
     "output_type": "execute_result"
    }
   ],
   "source": [
    "state_dict = torch.load(ckpt_path, map_location=\"cpu\")\n",
    "\n",
    "gopt_model.load_state_dict(state_dict)"
   ]
  },
  {
   "cell_type": "code",
   "execution_count": 5,
   "metadata": {},
   "outputs": [
    {
     "name": "stdout",
     "output_type": "stream",
     "text": [
      "### F1 Score: \n",
      "               precision    recall  f1-score   support\n",
      "\n",
      "         0.0       0.97      0.90      0.93    199927\n",
      "         1.0       0.21      0.54      0.31     14599\n",
      "         2.0       0.84      0.64      0.73     31139\n",
      "\n",
      "    accuracy                           0.84    245665\n",
      "   macro avg       0.67      0.69      0.66    245665\n",
      "weighted avg       0.91      0.84      0.87    245665\n",
      "\n",
      "### Validation result (epoch=-1)\n",
      "  Phone level (ACC): MSE=0.102  MAE=0.178  PCC=0.857 \n",
      "   Word level (ACC): MSE=0.054  MAE=0.167  PCC=0.835 \n",
      "    Utt level (ACC): MSE=0.047  MAE=0.160  PCC=0.837 \n",
      "    Utt level (Intonation):  MSE=0.145  MAE=0.328  PCC=0.674\n",
      "    Utt level (Fluency):  MSE=0.112  MAE=0.292  PCC=0.673\n",
      "\n"
     ]
    }
   ],
   "source": [
    "valid_result = validate(\n",
    "    epoch=-1, \n",
    "    optimizer=optimizer,\n",
    "    gopt_model=gopt_model, \n",
    "    testloader=testloader, \n",
    "    best_mse=-1, \n",
    "    is_save=False,\n",
    "    ckpt_dir=ckpt_dir,\n",
    "    device=device)"
   ]
  }
 ],
 "metadata": {
  "kernelspec": {
   "display_name": "ps",
   "language": "python",
   "name": "python3"
  },
  "language_info": {
   "codemirror_mode": {
    "name": "ipython",
    "version": 3
   },
   "file_extension": ".py",
   "mimetype": "text/x-python",
   "name": "python",
   "nbconvert_exporter": "python",
   "pygments_lexer": "ipython3",
   "version": "3.8.17"
  }
 },
 "nbformat": 4,
 "nbformat_minor": 2
}
