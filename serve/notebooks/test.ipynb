{
 "cells": [
  {
   "cell_type": "code",
   "execution_count": null,
   "metadata": {},
   "outputs": [],
   "source": [
    "from pydub import AudioSegment\n",
    "\n",
    "path = \"/data/codes/apa/water.mp3\"\n",
    "audio = AudioSegment.from_mp3(path)"
   ]
  },
  {
   "cell_type": "code",
   "execution_count": null,
   "metadata": {},
   "outputs": [],
   "source": [
    "audio = audio.set_frame_rate(16000)\n",
    "\n",
    "audio.export(\"/data/codes/apa/water.wav\", format=\"wav\")"
   ]
  },
  {
   "cell_type": "code",
   "execution_count": null,
   "metadata": {},
   "outputs": [],
   "source": [
    "%cd /data/codes/apa/serve/\n",
    "from src.utils.arpa import arpa_to_ipa\n",
    "from multiprocessing.pool import Pool\n",
    "import numpy as np\n",
    "import requests\n",
    "import librosa\n",
    "import json\n",
    "import ray"
   ]
  },
  {
   "cell_type": "code",
   "execution_count": null,
   "metadata": {},
   "outputs": [],
   "source": [
    "wav_path = \"/data/codes/apa/wav/She's paying for some jewelry at a checkout.wav\"\n",
    "transcript = \"She's paying for some jewelry at a check out\".upper()\n",
    "\n",
    "waveform, sr = librosa.load(wav_path, sr=16000)\n",
    "\n",
    "params = {\n",
    "    \"audio\": waveform.tolist(),\n",
    "    \"transcript\": transcript\n",
    "}"
   ]
  },
  {
   "cell_type": "code",
   "execution_count": null,
   "metadata": {},
   "outputs": [],
   "source": [
    "inputs = [params.copy() for i in range(1)]\n",
    "\n",
    "@ray.remote\n",
    "def send_query(params):\n",
    "    response = requests.post(\"http://14.162.145.55:9999/scoring\", json=params)\n",
    "    return response\n",
    "\n",
    "outputs = ray.get([send_query.remote(params) for params in inputs])\n",
    "outputs = [json.loads(output.content) for output in outputs]\n"
   ]
  },
  {
   "cell_type": "code",
   "execution_count": null,
   "metadata": {},
   "outputs": [],
   "source": [
    "import pandas as pd\n",
    "import json\n",
    "from glob import glob\n",
    "from tqdm import tqdm"
   ]
  },
  {
   "cell_type": "code",
   "execution_count": null,
   "metadata": {},
   "outputs": [],
   "source": [
    "path = \"/data/codes/apa/dictionary\"\n",
    "words = glob(f'{path}/*.json')"
   ]
  },
  {
   "cell_type": "code",
   "execution_count": null,
   "metadata": {},
   "outputs": [],
   "source": [
    "word2ipa = {}\n",
    "\n",
    "for path in tqdm(words):\n",
    "    with open(path, \"r\", encoding=\"utf-8\") as f:\n",
    "        content = json.load(f)\n",
    "        for meaning_cases in content[\"meaning_cases\"]:\n",
    "            for word_type_case in meaning_cases[\"word_type_cases\"]:\n",
    "                word = content[\"word\"]\n",
    "                ipa = word_type_case[\"head_content\"][\"ipa\"]\n",
    "\n",
    "                if word not in word2ipa:\n",
    "                    word2ipa[word] = {\n",
    "                        \"us\": ipa[\"us\"],\n",
    "                        \"uk\": ipa[\"uk\"]\n",
    "                    }\n",
    "                else:\n",
    "                    word2ipa[word][\"us\"] += ipa[\"us\"]\n",
    "                    word2ipa[word][\"uk\"] += ipa[\"uk\"]"
   ]
  },
  {
   "cell_type": "code",
   "execution_count": null,
   "metadata": {},
   "outputs": [],
   "source": [
    "with open(\"cambridge-dict.json\", 'w', encoding=\"utf-8\")as f:\n",
    "    json_obj = json.dumps(word2ipa, indent=4, ensure_ascii=False)\n",
    "    f.write(json_obj)"
   ]
  },
  {
   "cell_type": "code",
   "execution_count": null,
   "metadata": {},
   "outputs": [],
   "source": [
    "import librosa\n",
    "import soundfile as sf\n",
    "import os"
   ]
  },
  {
   "cell_type": "code",
   "execution_count": null,
   "metadata": {},
   "outputs": [],
   "source": [
    "in_path = \"/data2/data/asr_dataset/LibriSpeech/dev-clean/251/118436/251-118436-0021.flac\"\n",
    "out_path = os.path.basename(in_path).replace(\".flac\", \".wav\")"
   ]
  },
  {
   "cell_type": "code",
   "execution_count": null,
   "metadata": {},
   "outputs": [],
   "source": [
    "wav, sr = librosa.load(in_path, sr=16000)\n",
    "\n",
    "sf.write(out_path, data=wav, samplerate=sr)"
   ]
  }
 ],
 "metadata": {
  "kernelspec": {
   "display_name": "ps",
   "language": "python",
   "name": "python3"
  },
  "language_info": {
   "codemirror_mode": {
    "name": "ipython",
    "version": 3
   },
   "file_extension": ".py",
   "mimetype": "text/x-python",
   "name": "python",
   "nbconvert_exporter": "python",
   "pygments_lexer": "ipython3",
   "version": "3.8.17"
  }
 },
 "nbformat": 4,
 "nbformat_minor": 2
}
